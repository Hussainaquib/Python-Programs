{
  "nbformat": 4,
  "nbformat_minor": 0,
  "metadata": {
    "colab": {
      "provenance": [],
      "authorship_tag": "ABX9TyMyXX8SWQWTQM7ynW60oYUz",
      "include_colab_link": true
    },
    "kernelspec": {
      "name": "python3",
      "display_name": "Python 3"
    },
    "language_info": {
      "name": "python"
    }
  },
  "cells": [
    {
      "cell_type": "markdown",
      "metadata": {
        "id": "view-in-github",
        "colab_type": "text"
      },
      "source": [
        "<a href=\"https://colab.research.google.com/github/Hussainaquib/Python-Programs/blob/main/list.ipynb\" target=\"_parent\"><img src=\"https://colab.research.google.com/assets/colab-badge.svg\" alt=\"Open In Colab\"/></a>"
      ]
    },
    {
      "cell_type": "code",
      "execution_count": null,
      "metadata": {
        "colab": {
          "base_uri": "https://localhost:8080/"
        },
        "id": "73yFNryIy06T",
        "outputId": "ba90495b-e759-4a7d-a74c-7c50742afb52"
      },
      "outputs": [
        {
          "output_type": "stream",
          "name": "stdout",
          "text": [
            "5\n"
          ]
        }
      ],
      "source": [
        "# find length of string\n",
        "list = [1,2,3,4,5]\n",
        "print(len(list))"
      ]
    },
    {
      "cell_type": "code",
      "source": [
        "# find length of string\n",
        "n = len([1,2,3,4,5])\n",
        "print(n)"
      ],
      "metadata": {
        "colab": {
          "base_uri": "https://localhost:8080/"
        },
        "id": "vsRGQQgYzqYo",
        "outputId": "1f976908-b168-44f5-b03f-d1c17820d014"
      },
      "execution_count": null,
      "outputs": [
        {
          "output_type": "stream",
          "name": "stdout",
          "text": [
            "5\n"
          ]
        }
      ]
    },
    {
      "cell_type": "code",
      "source": [
        "# find length of string\n",
        "n = []\n",
        "n.append(1)\n",
        "n.append(2)\n",
        "n.append(3)\n",
        "n.append(4)\n",
        "n.append(5)\n",
        "print(len(n))"
      ],
      "metadata": {
        "colab": {
          "base_uri": "https://localhost:8080/"
        },
        "id": "kS8r1d13z1Gu",
        "outputId": "a3b62288-e7a6-4a18-d452-6b4a94f5fe5a"
      },
      "execution_count": null,
      "outputs": [
        {
          "output_type": "stream",
          "name": "stdout",
          "text": [
            "5\n"
          ]
        }
      ]
    },
    {
      "cell_type": "code",
      "source": [
        "# find length of string\n",
        "list = [1,2,3,4,5]\n",
        "count = 0\n",
        "for i in list:\n",
        "  count += 1\n",
        "print(str(count))"
      ],
      "metadata": {
        "colab": {
          "base_uri": "https://localhost:8080/"
        },
        "id": "qIZmkBH00JUc",
        "outputId": "8cbeb7c0-f8a1-49f1-8216-bfeac5e90fad"
      },
      "execution_count": null,
      "outputs": [
        {
          "output_type": "stream",
          "name": "stdout",
          "text": [
            "5\n"
          ]
        }
      ]
    },
    {
      "cell_type": "code",
      "source": [
        "#program exist in list or not\n",
        "list = [1,2,3,4,5,6]\n",
        "list.remove(7)\n",
        "print(list)"
      ],
      "metadata": {
        "colab": {
          "base_uri": "https://localhost:8080/",
          "height": 217
        },
        "id": "UOeXnL9f07O5",
        "outputId": "a46e7b83-7261-4e1d-fd2a-538558021031"
      },
      "execution_count": null,
      "outputs": [
        {
          "output_type": "error",
          "ename": "ValueError",
          "evalue": "ignored",
          "traceback": [
            "\u001b[0;31m---------------------------------------------------------------------------\u001b[0m",
            "\u001b[0;31mValueError\u001b[0m                                Traceback (most recent call last)",
            "\u001b[0;32m<ipython-input-6-65c9af9bc0cf>\u001b[0m in \u001b[0;36m<module>\u001b[0;34m()\u001b[0m\n\u001b[1;32m      1\u001b[0m \u001b[0;31m#program exist in list or not\u001b[0m\u001b[0;34m\u001b[0m\u001b[0;34m\u001b[0m\u001b[0;34m\u001b[0m\u001b[0m\n\u001b[1;32m      2\u001b[0m \u001b[0mlist\u001b[0m \u001b[0;34m=\u001b[0m \u001b[0;34m[\u001b[0m\u001b[0;36m1\u001b[0m\u001b[0;34m,\u001b[0m\u001b[0;36m2\u001b[0m\u001b[0;34m,\u001b[0m\u001b[0;36m3\u001b[0m\u001b[0;34m,\u001b[0m\u001b[0;36m4\u001b[0m\u001b[0;34m,\u001b[0m\u001b[0;36m5\u001b[0m\u001b[0;34m,\u001b[0m\u001b[0;36m6\u001b[0m\u001b[0;34m]\u001b[0m\u001b[0;34m\u001b[0m\u001b[0;34m\u001b[0m\u001b[0m\n\u001b[0;32m----> 3\u001b[0;31m \u001b[0mlist\u001b[0m\u001b[0;34m.\u001b[0m\u001b[0mremove\u001b[0m\u001b[0;34m(\u001b[0m\u001b[0;36m7\u001b[0m\u001b[0;34m)\u001b[0m\u001b[0;34m\u001b[0m\u001b[0;34m\u001b[0m\u001b[0m\n\u001b[0m\u001b[1;32m      4\u001b[0m \u001b[0mprint\u001b[0m\u001b[0;34m(\u001b[0m\u001b[0mlist\u001b[0m\u001b[0;34m)\u001b[0m\u001b[0;34m\u001b[0m\u001b[0;34m\u001b[0m\u001b[0m\n",
            "\u001b[0;31mValueError\u001b[0m: list.remove(x): x not in list"
          ]
        }
      ]
    },
    {
      "cell_type": "code",
      "source": [
        "# program to clear a list\n",
        "list = [1,2,3,4,5,6]\n",
        "list.clear()\n",
        "print(list)"
      ],
      "metadata": {
        "colab": {
          "base_uri": "https://localhost:8080/"
        },
        "id": "H8640P691Zlu",
        "outputId": "af799bd8-e456-4458-a445-86a2618b1e91"
      },
      "execution_count": null,
      "outputs": [
        {
          "output_type": "stream",
          "name": "stdout",
          "text": [
            "[]\n"
          ]
        }
      ]
    },
    {
      "cell_type": "code",
      "source": [
        "# program to reverse the string\n",
        "list = [1,2,3,4,5,6]\n",
        "list.reverse()\n",
        "print(list)"
      ],
      "metadata": {
        "colab": {
          "base_uri": "https://localhost:8080/"
        },
        "id": "S16uKJQj1zr1",
        "outputId": "1b4dff68-0f1c-465b-f344-f15adc8319de"
      },
      "execution_count": null,
      "outputs": [
        {
          "output_type": "stream",
          "name": "stdout",
          "text": [
            "[6, 5, 4, 3, 2, 1]\n"
          ]
        }
      ]
    },
    {
      "cell_type": "code",
      "source": [
        "# program to find sum of element in the list\n",
        "l1 = [1,2,3,4,5,6]\n",
        "sum = l1[0]+l1[1]+l1[2]+l1[3]+l1[4]+l1[5]\n",
        "print(sum)"
      ],
      "metadata": {
        "colab": {
          "base_uri": "https://localhost:8080/"
        },
        "id": "GO94evOr2Euo",
        "outputId": "ff234cf5-e204-4056-ce09-740655e516a4"
      },
      "execution_count": null,
      "outputs": [
        {
          "output_type": "stream",
          "name": "stdout",
          "text": [
            "21\n"
          ]
        }
      ]
    },
    {
      "cell_type": "code",
      "source": [
        "# program to multiply all elements in the list\n",
        "l1 = [1,2,3,4,5,6]\n",
        "multiply = l1[0]*l1[1]*l1[2]*l1[3]*l1[4]*l1[5]\n",
        "print(multiply)"
      ],
      "metadata": {
        "colab": {
          "base_uri": "https://localhost:8080/"
        },
        "id": "XZA4fUf42mYR",
        "outputId": "c190677f-982f-4f1d-9de7-8161bd8cae74"
      },
      "execution_count": null,
      "outputs": [
        {
          "output_type": "stream",
          "name": "stdout",
          "text": [
            "720\n"
          ]
        }
      ]
    },
    {
      "cell_type": "code",
      "source": [
        "# program to find smallest element in the list\n",
        "l1 = [2,4,6,7,3,4,9]\n",
        "l1.sort()\n",
        "print(l1.pop(0))"
      ],
      "metadata": {
        "colab": {
          "base_uri": "https://localhost:8080/"
        },
        "id": "-U7sp-3E4JsF",
        "outputId": "7a3079b8-86c6-4688-eb3d-6643f01af56f"
      },
      "execution_count": null,
      "outputs": [
        {
          "output_type": "stream",
          "name": "stdout",
          "text": [
            "2\n"
          ]
        }
      ]
    },
    {
      "cell_type": "code",
      "source": [
        "# program to find largest element in the list\n",
        "l1 = [2,4,6,7,3,4,9]\n",
        "l1.sort()\n",
        "print(l1.pop(len(l1)-1))"
      ],
      "metadata": {
        "colab": {
          "base_uri": "https://localhost:8080/"
        },
        "id": "S72ot5KI4xjo",
        "outputId": "553ad2e6-31c9-4bc4-905f-b67a0e700525"
      },
      "execution_count": null,
      "outputs": [
        {
          "output_type": "stream",
          "name": "stdout",
          "text": [
            "9\n"
          ]
        }
      ]
    },
    {
      "cell_type": "code",
      "source": [
        "# program to find 2nd largest element in the list\n",
        "l1 = [2,4,6,7,3,4,9]\n",
        "l1.sort()\n",
        "print(l1.pop(len(l1)-2))"
      ],
      "metadata": {
        "colab": {
          "base_uri": "https://localhost:8080/"
        },
        "id": "bO2Xk-Gj5QX2",
        "outputId": "bb5387c2-fba4-43bf-a145-fecaa29c1c47"
      },
      "execution_count": null,
      "outputs": [
        {
          "output_type": "stream",
          "name": "stdout",
          "text": [
            "7\n"
          ]
        }
      ]
    },
    {
      "cell_type": "code",
      "source": [
        "# program to print all even number in the list\n",
        "for i in range(4,15,2):\n",
        "  print(i)"
      ],
      "metadata": {
        "colab": {
          "base_uri": "https://localhost:8080/"
        },
        "id": "ggI4QrWU5gPy",
        "outputId": "54e90de1-9b88-4310-b55c-0dba346963e1"
      },
      "execution_count": null,
      "outputs": [
        {
          "output_type": "stream",
          "name": "stdout",
          "text": [
            "4\n",
            "6\n",
            "8\n",
            "10\n",
            "12\n",
            "14\n"
          ]
        }
      ]
    },
    {
      "cell_type": "code",
      "source": [
        "# program to print all even number in the list\n",
        "start = int(input(\"Enter a start value:\"))\n",
        "end = int(input(\"Enter a end value:\"))\n",
        "for i in range(start,end+1):\n",
        "  if(i%2==0):\n",
        "    print(i)"
      ],
      "metadata": {
        "colab": {
          "base_uri": "https://localhost:8080/"
        },
        "id": "IcXmx8LK52D0",
        "outputId": "cb4e9ad9-69b8-4f56-8516-3eae4b44e90d"
      },
      "execution_count": null,
      "outputs": [
        {
          "output_type": "stream",
          "name": "stdout",
          "text": [
            "Enter a start value:4\n",
            "Enter a end value:15\n",
            "4\n",
            "6\n",
            "8\n",
            "10\n",
            "12\n",
            "14\n"
          ]
        }
      ]
    },
    {
      "cell_type": "code",
      "source": [
        "#program to print all odd number in the range\n",
        "start = int(input(\"Enter a start value:\"))\n",
        "end = int(input(\"Enter a end value:\"))\n",
        "for i in range(start,end+1):\n",
        "  if(i%2!=0):\n",
        "    print(i)"
      ],
      "metadata": {
        "colab": {
          "base_uri": "https://localhost:8080/"
        },
        "id": "mOqcs44qCE8r",
        "outputId": "bf4a63a2-1420-480d-a637-740a3780aab5"
      },
      "execution_count": null,
      "outputs": [
        {
          "output_type": "stream",
          "name": "stdout",
          "text": [
            "Enter a start value:4\n",
            "Enter a end value:15\n",
            "5\n",
            "7\n",
            "9\n",
            "11\n",
            "13\n",
            "15\n"
          ]
        }
      ]
    },
    {
      "cell_type": "code",
      "source": [
        "# program to print all positive number in the list\n",
        "list = [3,-3,5,-9,6,5,-2]\n",
        "for num in list:\n",
        "  if num>0:\n",
        "    print(num)"
      ],
      "metadata": {
        "colab": {
          "base_uri": "https://localhost:8080/"
        },
        "id": "N0pJmFawCuqa",
        "outputId": "259ab7c9-0d58-4142-d2d5-41a87807c27c"
      },
      "execution_count": null,
      "outputs": [
        {
          "output_type": "stream",
          "name": "stdout",
          "text": [
            "3\n",
            "5\n",
            "6\n",
            "5\n"
          ]
        }
      ]
    },
    {
      "cell_type": "code",
      "source": [
        "# program to print negative number in the list\n",
        "list = [3,-3,5,-9,6,5,-2]\n",
        "for num in list:\n",
        "  if num<0:\n",
        "    print(num)"
      ],
      "metadata": {
        "colab": {
          "base_uri": "https://localhost:8080/"
        },
        "id": "39e1VM_ZDMVh",
        "outputId": "d6e9a0ee-af7c-4e43-d068-115abd1bbb58"
      },
      "execution_count": null,
      "outputs": [
        {
          "output_type": "stream",
          "name": "stdout",
          "text": [
            "-3\n",
            "-9\n",
            "-2\n"
          ]
        }
      ]
    },
    {
      "cell_type": "code",
      "source": [
        "# program to all posive number in the range\n",
        "start = int(input(\"Enter a start value\"))\n",
        "end = int(input(\"Enter a end value:\"))\n",
        "for i in range(start,end+1):\n",
        "  if(i>0):\n",
        "    print(i)"
      ],
      "metadata": {
        "colab": {
          "base_uri": "https://localhost:8080/"
        },
        "id": "nUVmPCiTDk46",
        "outputId": "1c493459-01e8-46da-be94-f40a9bf95aaa"
      },
      "execution_count": null,
      "outputs": [
        {
          "output_type": "stream",
          "name": "stdout",
          "text": [
            "Enter a start value-5\n",
            "Enter a end value:5\n",
            "1\n",
            "2\n",
            "3\n",
            "4\n",
            "5\n"
          ]
        }
      ]
    },
    {
      "cell_type": "code",
      "source": [
        "# program to all negative number in the range\n",
        "start = int(input(\"Enter a start value\"))\n",
        "end = int(input(\"Enter a end value:\"))\n",
        "for i in range(start,end+1):\n",
        "  if(i<0):\n",
        "    print(i)"
      ],
      "metadata": {
        "colab": {
          "base_uri": "https://localhost:8080/"
        },
        "id": "jqv5i5zzEiIv",
        "outputId": "044f4a46-6ee9-479f-b0cb-b588f7119c12"
      },
      "execution_count": null,
      "outputs": [
        {
          "output_type": "stream",
          "name": "stdout",
          "text": [
            "Enter a start value-5\n",
            "Enter a end value:5\n",
            "-5\n",
            "-4\n",
            "-3\n",
            "-2\n",
            "-1\n"
          ]
        }
      ]
    },
    {
      "cell_type": "code",
      "source": [
        "#remove multiple elements in the list\n",
        "l1 = [1,3,5,6,'two','two',6]\n",
        "del l1[3:5]\n",
        "print(l1)"
      ],
      "metadata": {
        "colab": {
          "base_uri": "https://localhost:8080/"
        },
        "id": "ElvPYVzpFDak",
        "outputId": "3063feb4-05ac-4b5d-af14-28aea2bdc796"
      },
      "execution_count": null,
      "outputs": [
        {
          "output_type": "stream",
          "name": "stdout",
          "text": [
            "[1, 3, 5, 'two', 6]\n"
          ]
        }
      ]
    },
    {
      "cell_type": "code",
      "source": [
        "# remove even number in list\n",
        "list = [11,5,17,18,23,50]\n",
        "list = [elen for elen in list if elen%2 != 0]\n",
        "print(*list)"
      ],
      "metadata": {
        "colab": {
          "base_uri": "https://localhost:8080/"
        },
        "id": "7PmY-l5wGRov",
        "outputId": "bd7196e0-c359-466d-c67f-992399e29160"
      },
      "execution_count": null,
      "outputs": [
        {
          "output_type": "stream",
          "name": "stdout",
          "text": [
            "11 5 17 23\n"
          ]
        }
      ]
    },
    {
      "cell_type": "code",
      "source": [
        "# remove empty list from the list\n",
        "test_list = [5,6,[],3,[],[],9]\n",
        "print(f\"The original list  is : {test_list}\")\n",
        "res = [ele for ele in test_list if ele != []]\n",
        "print(f\"List after empty list remove: {res}\")"
      ],
      "metadata": {
        "colab": {
          "base_uri": "https://localhost:8080/"
        },
        "id": "bpeb_21oG13-",
        "outputId": "aaddf404-561c-4a3d-84b6-99d46818d4c0"
      },
      "execution_count": null,
      "outputs": [
        {
          "output_type": "stream",
          "name": "stdout",
          "text": [
            "The original list  is : [5, 6, [], 3, [], [], 9]\n",
            "List after empty list remove: [5, 6, 3, 9]\n"
          ]
        }
      ]
    },
    {
      "cell_type": "code",
      "source": [
        "# print evevn number in the list\n",
        "a = int(input(\"Enter a end value:\"))\n",
        "n = [x for x in range(a) if x%2 == 0]\n",
        "print(n)"
      ],
      "metadata": {
        "colab": {
          "base_uri": "https://localhost:8080/"
        },
        "id": "zkAyQ_GUIL_n",
        "outputId": "8703d0ed-4eea-4566-cb83-f7820c202573"
      },
      "execution_count": null,
      "outputs": [
        {
          "output_type": "stream",
          "name": "stdout",
          "text": [
            "Enter a end value:10\n",
            "[0, 2, 4, 6, 8]\n"
          ]
        }
      ]
    },
    {
      "cell_type": "code",
      "source": [
        "# print odd number in the list\n",
        "a = int(input(\"Enter a end value:\"))\n",
        "n = [x for x in range(a) if x%2 == 1]\n",
        "print(n)"
      ],
      "metadata": {
        "colab": {
          "base_uri": "https://localhost:8080/"
        },
        "id": "Ub5EhFD9IzKR",
        "outputId": "04695d92-6ef0-4585-b186-163c8ee643fa"
      },
      "execution_count": null,
      "outputs": [
        {
          "output_type": "stream",
          "name": "stdout",
          "text": [
            "Enter a end value:10\n",
            "[1, 3, 5, 7, 9]\n"
          ]
        }
      ]
    },
    {
      "cell_type": "code",
      "source": [
        "#cloning or copying a list\n",
        "#by using slicing\n",
        "def cloning(li1):\n",
        "  li_copy = li1[:]\n",
        "  return li_copy\n",
        "li1 = [4,8,2,10,15,18]\n",
        "li2 = cloning(li1)\n",
        "print(f\"original list : {li1}\")\n",
        "print(f\"After cloning : {li2}\")"
      ],
      "metadata": {
        "colab": {
          "base_uri": "https://localhost:8080/"
        },
        "id": "Iwb4Zr010h1p",
        "outputId": "5f8373f5-dc34-4f55-f095-a4e08ca6c36b"
      },
      "execution_count": null,
      "outputs": [
        {
          "output_type": "stream",
          "name": "stdout",
          "text": [
            "original list : [4, 8, 2, 10, 15, 18]\n",
            "After cloning : [4, 8, 2, 10, 15, 18]\n"
          ]
        }
      ]
    },
    {
      "cell_type": "code",
      "source": [
        "# break a list into chunk of size N \n",
        "l = [1,2,3,4,5,6,7,8,9]\n",
        "n = 4\n",
        "x = [l[i:i+n] for i in range(0,len(l),n)]\n",
        "print(x)"
      ],
      "metadata": {
        "colab": {
          "base_uri": "https://localhost:8080/"
        },
        "id": "4wMm7HjI1k4t",
        "outputId": "533d5c24-a867-40aa-904c-abb56c972ca6"
      },
      "execution_count": null,
      "outputs": [
        {
          "output_type": "stream",
          "name": "stdout",
          "text": [
            "[[1, 2, 3, 4], [5, 6, 7, 8], [9]]\n"
          ]
        }
      ]
    },
    {
      "cell_type": "code",
      "source": [
        "# count the occurence of element in list\n",
        "n = int(input(\"Enter a number do you want to search:\"))\n",
        "l = [1,2,3,4,5,2,7,2,9]\n",
        "print(f\"The occurence of {n} in given list is {l.count(n)}\")"
      ],
      "metadata": {
        "colab": {
          "base_uri": "https://localhost:8080/"
        },
        "id": "pVTtcjfi3BI6",
        "outputId": "6e02c9e3-6669-40d3-ce72-d648fe017e30"
      },
      "execution_count": null,
      "outputs": [
        {
          "output_type": "stream",
          "name": "stdout",
          "text": [
            "Enter a number do you want to search:7\n",
            "The occurence of 7 in given list is 1\n"
          ]
        }
      ]
    },
    {
      "cell_type": "code",
      "source": [
        "# remove the empty tuple from a list\n",
        "l = [1,2,3,4,5,(),7,(),9,(),4,44,()]\n",
        "for i in l:\n",
        "  if(l == ()):\n",
        "    l.remove(())\n",
        "print(l)\n",
        "#I GET INCORRECT OUTPUT"
      ],
      "metadata": {
        "colab": {
          "base_uri": "https://localhost:8080/"
        },
        "id": "PAKGP_OC5gUb",
        "outputId": "029ac064-2737-4e9d-e3a3-9a8df9042910"
      },
      "execution_count": null,
      "outputs": [
        {
          "output_type": "stream",
          "name": "stdout",
          "text": [
            "[1, 2, 3, 4, 5, (), 7, (), 9, (), 4, 44, ()]\n"
          ]
        }
      ]
    },
    {
      "cell_type": "code",
      "source": [
        "# remove empty tuple from a list\n",
        "def remove(tuples):\n",
        "  tuples = filter(None,tuples)\n",
        "  return tuples\n",
        "tuples = [(),('ram','15','8'),(),('laxman','sita'),('krishna','akbar','45'),(\",\"),()]\n",
        "print(remove(tuples))\n",
        "#I GET OUTPUT"
      ],
      "metadata": {
        "colab": {
          "base_uri": "https://localhost:8080/"
        },
        "id": "Lbspq_yD61bV",
        "outputId": "b7590c30-8c9e-4b81-fe54-d458c2d79fa6"
      },
      "execution_count": null,
      "outputs": [
        {
          "output_type": "stream",
          "name": "stdout",
          "text": [
            "<filter object at 0x7fc0b26bdf90>\n"
          ]
        }
      ]
    },
    {
      "cell_type": "code",
      "source": [
        "# print duplicate from a list of integer\n",
        "l = [4,4,8,9,6,8,3,9,2,4,3,3,0]\n",
        "new = []\n",
        "for i in l:\n",
        "  n = l.count(i)\n",
        "  if n>1:\n",
        "    if new.count(i) == 0:\n",
        "      new.append(i)\n",
        "print(*new)"
      ],
      "metadata": {
        "colab": {
          "base_uri": "https://localhost:8080/"
        },
        "id": "t9kf9Th08itH",
        "outputId": "1fd7f691-7fb7-4ce4-830d-1d2abe30d8d3"
      },
      "execution_count": null,
      "outputs": [
        {
          "output_type": "stream",
          "name": "stdout",
          "text": [
            "4 8 9 3\n"
          ]
        }
      ]
    },
    {
      "cell_type": "code",
      "source": [
        "# program to find commutative sum of list\n",
        "l = [10,20,30,40,50]\n",
        "new = []\n",
        "n1 = l[0]\n",
        "n2 = l[0]+l[1]\n",
        "n3 = l[0]+l[1]+l[2]\n",
        "n4 = l[0]+l[1]+l[2]+l[3]\n",
        "n5 = l[0]+l[1]+l[2]+l[3]+l[4]\n",
        "new.append(n1)\n",
        "new.append(n2)\n",
        "new.append(n3)\n",
        "new.append(n4)\n",
        "new.append(n5)\n",
        "print(new)"
      ],
      "metadata": {
        "colab": {
          "base_uri": "https://localhost:8080/"
        },
        "id": "hapHjRni9bZa",
        "outputId": "e2677345-19f0-45e9-ce23-26c2bbd78f39"
      },
      "execution_count": null,
      "outputs": [
        {
          "output_type": "stream",
          "name": "stdout",
          "text": [
            "[10, 30, 60, 100, 150]\n"
          ]
        }
      ]
    },
    {
      "cell_type": "code",
      "source": [
        "# program to find commutative sum of list\n",
        "l = [10,20,30,40,50]\n",
        "new = []\n",
        "j=0\n",
        "for i in range(0,5):\n",
        "  j+=l[i]\n",
        "  new.append(j)\n",
        "print(new)"
      ],
      "metadata": {
        "colab": {
          "base_uri": "https://localhost:8080/"
        },
        "id": "5Wql8Ipt-dVB",
        "outputId": "63f4ef00-204a-4842-a3c8-c3ceb0f7342b"
      },
      "execution_count": null,
      "outputs": [
        {
          "output_type": "stream",
          "name": "stdout",
          "text": [
            "[10, 30, 60, 100, 150]\n"
          ]
        }
      ]
    }
  ]
}