{
  "nbformat": 4,
  "nbformat_minor": 0,
  "metadata": {
    "colab": {
      "provenance": [],
      "authorship_tag": "ABX9TyPwI7dQYavqsgf8ooZ/lzEl",
      "include_colab_link": true
    },
    "kernelspec": {
      "name": "python3",
      "display_name": "Python 3"
    },
    "language_info": {
      "name": "python"
    }
  },
  "cells": [
    {
      "cell_type": "markdown",
      "metadata": {
        "id": "view-in-github",
        "colab_type": "text"
      },
      "source": [
        "<a href=\"https://colab.research.google.com/github/Hussainaquib/Python-Programs/blob/main/MathsPrograms.ipynb\" target=\"_parent\"><img src=\"https://colab.research.google.com/assets/colab-badge.svg\" alt=\"Open In Colab\"/></a>"
      ]
    },
    {
      "cell_type": "markdown",
      "source": [
        "**Write a Python program to display the current date and time.**"
      ],
      "metadata": {
        "id": "9Get0LGmRWyC"
      }
    },
    {
      "cell_type": "code",
      "source": [
        "#method -1\n",
        "# Getting current date and time using now().\n",
        "# importing datetime module for now()\n",
        "import datetime\n",
        "# using now() to get current time\n",
        "current_time = datetime.datetime.now()\n",
        "# Printing value of now.\n",
        "print(\"Time now at greenwich meridian is:\", current_time)\n",
        "\n",
        "#method-2\n",
        "import time\n",
        "curr_time = time.strftime(\"%H:%M:%S\", time.localtime())\n",
        "print(\"Current Time is :\", curr_time)"
      ],
      "metadata": {
        "colab": {
          "base_uri": "https://localhost:8080/"
        },
        "id": "RRTyWWoTOUzC",
        "outputId": "65facb6a-e077-4e15-e78c-89c087fde812"
      },
      "execution_count": null,
      "outputs": [
        {
          "output_type": "stream",
          "name": "stdout",
          "text": [
            "Time now at greenwich meridian is: 2022-11-02 16:50:09.158393\n",
            "Current Time is : 16:50:09\n"
          ]
        }
      ]
    },
    {
      "cell_type": "markdown",
      "source": [
        "**Write a Python program which accepts the radius of a circle from the user and compute the area.**"
      ],
      "metadata": {
        "id": "e4-zHTnZQPnA"
      }
    },
    {
      "cell_type": "code",
      "source": [
        "r= int(input(\"enter a radius of circle:\"))\n",
        "area=3.14*r*r\n",
        "print(\"Area of circle is:\",area)"
      ],
      "metadata": {
        "colab": {
          "base_uri": "https://localhost:8080/"
        },
        "id": "Hx9dfr6BQbb1",
        "outputId": "9dd497cf-840b-4410-c6a9-f7563683dfdf"
      },
      "execution_count": null,
      "outputs": [
        {
          "output_type": "stream",
          "name": "stdout",
          "text": [
            "enter a radius of circle:2\n",
            "Area of circle is: 12.56\n"
          ]
        }
      ]
    },
    {
      "cell_type": "markdown",
      "source": [
        "**Write a Python program which accepts a sequence of comma-separated numbers from user and generate a list and a tuple with those numbers**"
      ],
      "metadata": {
        "id": "J8p2mkkZnvNo"
      }
    },
    {
      "cell_type": "code",
      "source": [
        "values = input(\"Input some comma seprated numbers : \")\n",
        "a = values.split(\",\")\n",
        "print('List : ',a)\n",
        "\n"
      ],
      "metadata": {
        "colab": {
          "base_uri": "https://localhost:8080/"
        },
        "id": "Jv-DnTdXn0IF",
        "outputId": "5e731c64-720d-4c7e-f8aa-c3a5d79fdca9"
      },
      "execution_count": null,
      "outputs": [
        {
          "output_type": "stream",
          "name": "stdout",
          "text": [
            "Input some comma seprated numbers : 3,4,5,6\n",
            "List :  ['3', '4', '5', '6']\n"
          ]
        }
      ]
    },
    {
      "cell_type": "markdown",
      "source": [
        "**Write a Python program that accepts an integer (n) and computes the value of n+nn+nnn.**"
      ],
      "metadata": {
        "id": "cWotxKZG5ZsW"
      }
    },
    {
      "cell_type": "code",
      "source": [
        "n=int(input(\"enter a number\"))\n",
        "a=n*10+n\n",
        "b=n*100+a\n",
        "print(n+a+b)"
      ],
      "metadata": {
        "colab": {
          "base_uri": "https://localhost:8080/"
        },
        "id": "GMAS5bOILy1l",
        "outputId": "fcc85351-f36b-403e-ddf9-02ac29abb090"
      },
      "execution_count": null,
      "outputs": [
        {
          "output_type": "stream",
          "name": "stdout",
          "text": [
            "enter a number5\n",
            "615\n"
          ]
        }
      ]
    },
    {
      "cell_type": "markdown",
      "source": [
        "**Write a Python program to display the examination schedule. (extract the date from exam_st_date).**"
      ],
      "metadata": {
        "id": "dCx7U85KMdim"
      }
    },
    {
      "cell_type": "code",
      "source": [
        "exam_st_date = (11,12,2014)\n",
        "print( \"The examination will start from : %i / %i / %i\"%exam_st_date)"
      ],
      "metadata": {
        "colab": {
          "base_uri": "https://localhost:8080/"
        },
        "id": "0O0QuXjtMcdS",
        "outputId": "7e3af2af-64c5-449c-f962-fa921e10c681"
      },
      "execution_count": null,
      "outputs": [
        {
          "output_type": "stream",
          "name": "stdout",
          "text": [
            "The examination will start from : 11 / 12 / 2014\n"
          ]
        }
      ]
    },
    {
      "cell_type": "markdown",
      "source": [
        "**Write a Python program to print the calendar of a given month and year.\n",
        "Note : Use 'calendar' module.**"
      ],
      "metadata": {
        "id": "vHChjC2Q1zbD"
      }
    },
    {
      "cell_type": "code",
      "source": [
        "import calendar\n",
        "y = int(input(\"Input the year : \"))\n",
        "m = int(input(\"Input the month : \"))\n",
        "print(calendar.month(y, m))"
      ],
      "metadata": {
        "colab": {
          "base_uri": "https://localhost:8080/"
        },
        "id": "FVESg2mI2OBQ",
        "outputId": "63bd6087-70a9-4c6d-9a20-6e0dfaca2343"
      },
      "execution_count": null,
      "outputs": [
        {
          "output_type": "stream",
          "name": "stdout",
          "text": [
            "Input the year : 2022\n",
            "Input the month : 11\n",
            "   November 2022\n",
            "Mo Tu We Th Fr Sa Su\n",
            "    1  2  3  4  5  6\n",
            " 7  8  9 10 11 12 13\n",
            "14 15 16 17 18 19 20\n",
            "21 22 23 24 25 26 27\n",
            "28 29 30\n",
            "\n"
          ]
        }
      ]
    },
    {
      "cell_type": "markdown",
      "source": [
        "**Write a Python program to calculate number of days between two dates.\n",
        "Sample dates : (2014, 7, 2), (2014, 7, 11)\n",
        "Expected output : 9 days**"
      ],
      "metadata": {
        "id": "oxexyQDaa2HC"
      }
    },
    {
      "cell_type": "code",
      "source": [
        "from datetime import date\n",
        "f_date = date(2014, 7, 2)\n",
        "l_date = date(2014, 7, 11)\n",
        "delta = l_date - f_date\n",
        "print(delta.days)"
      ],
      "metadata": {
        "colab": {
          "base_uri": "https://localhost:8080/"
        },
        "id": "nW-um7xHa0JW",
        "outputId": "d3e41dc2-4e33-4149-8b3b-384fb15f2239"
      },
      "execution_count": null,
      "outputs": [
        {
          "output_type": "stream",
          "name": "stdout",
          "text": [
            "9\n"
          ]
        }
      ]
    },
    {
      "cell_type": "markdown",
      "source": [
        "**Write a Python program to get the volume of a sphere with radius 6**"
      ],
      "metadata": {
        "id": "aPa4ScTlSmgA"
      }
    },
    {
      "cell_type": "code",
      "source": [
        "r = int(input(\"enter a radius of circle:\"))\n",
        "v = 4/3*3.14*r*r*r\n",
        "print(\"volume of sphere is\",v)"
      ],
      "metadata": {
        "colab": {
          "base_uri": "https://localhost:8080/"
        },
        "id": "Wck61ZPwSqnq",
        "outputId": "be0a9b7b-0e31-43c2-f5cd-daea092ad2c7"
      },
      "execution_count": null,
      "outputs": [
        {
          "output_type": "stream",
          "name": "stdout",
          "text": [
            "enter a radius of circle:6\n",
            "volume of sphere is 904.3199999999998\n"
          ]
        }
      ]
    },
    {
      "cell_type": "markdown",
      "source": [
        "**Write a Python program to get the difference between a given number and 17, if the number is greater than 17 return double the absolute difference**"
      ],
      "metadata": {
        "id": "1O1xigJcTcxA"
      }
    },
    {
      "cell_type": "code",
      "source": [
        "n=int(input(\"enter a number:\"))\n",
        "def difference(n):\n",
        "    if n <= 17:\n",
        "        return 17 - n\n",
        "    else:\n",
        "        return (n - 17) * 2 \n",
        "\n",
        "print(difference(n))"
      ],
      "metadata": {
        "colab": {
          "base_uri": "https://localhost:8080/"
        },
        "id": "zhHsy2JUTj59",
        "outputId": "83ceb548-46f3-4de2-85ff-7b5af76b6fc1"
      },
      "execution_count": null,
      "outputs": [
        {
          "output_type": "stream",
          "name": "stdout",
          "text": [
            "enter a number:22\n",
            "10\n"
          ]
        }
      ]
    },
    {
      "cell_type": "markdown",
      "source": [
        "**Write a Python program to calculate the sum of three given numbers, if the values are equal then return three times of their sum**"
      ],
      "metadata": {
        "id": "5IYVlIqaXUZD"
      }
    },
    {
      "cell_type": "code",
      "source": [
        "a=int(input(\"enter a first number:\"))\n",
        "b=int(input(\"enter a second number:\"))\n",
        "c=int(input(\"enter a third number:\"))\n",
        "if (a==b and b==c and c==a):\n",
        "  print(3*a)\n",
        "else:\n",
        "  print(a+b+c)"
      ],
      "metadata": {
        "colab": {
          "base_uri": "https://localhost:8080/"
        },
        "id": "fp2yRRxoXcii",
        "outputId": "5477a1e9-e4b8-4d91-c6c4-d02b4e96ecab"
      },
      "execution_count": null,
      "outputs": [
        {
          "output_type": "stream",
          "name": "stdout",
          "text": [
            "enter a first number:2\n",
            "enter a second number:3\n",
            "enter a third number:4\n",
            "9\n"
          ]
        }
      ]
    },
    {
      "cell_type": "markdown",
      "source": [
        "**Write a Python program to find whether a given number (accept from the user) is even or odd, print out an appropriate message to the user**"
      ],
      "metadata": {
        "id": "gjFxVDhmaBQk"
      }
    },
    {
      "cell_type": "code",
      "source": [
        "n = int(input(\"enter a number:\"))\n",
        "if n%2==0:\n",
        "  print(\"number is even\")\n",
        "else:\n",
        "  print(\"number is odd\")"
      ],
      "metadata": {
        "id": "qS8GzocDaJkB",
        "colab": {
          "base_uri": "https://localhost:8080/"
        },
        "outputId": "10285376-352a-467e-87c7-4084c8947813"
      },
      "execution_count": null,
      "outputs": [
        {
          "output_type": "stream",
          "name": "stdout",
          "text": [
            "enter a number:23\n",
            "number is odd\n"
          ]
        }
      ]
    },
    {
      "cell_type": "markdown",
      "source": [
        "**Write a Python program to count the number 4 in a given list.**"
      ],
      "metadata": {
        "id": "VSFPN4PfSQoc"
      }
    },
    {
      "cell_type": "code",
      "source": [
        "lst = []\n",
        "n = int(input(\"Enter number of elements : \"))\n",
        "  \n",
        "for i in range(0, n):\n",
        "    ele = int(input())\n",
        "  \n",
        "    lst.append(ele)\n",
        "b = lst.count(4)\n",
        "print(\"the frequency of given number is\",b)"
      ],
      "metadata": {
        "colab": {
          "base_uri": "https://localhost:8080/"
        },
        "id": "1al-aFOYSTLS",
        "outputId": "7af1fc6e-4c59-4a7e-9f98-81873a1d03a8"
      },
      "execution_count": null,
      "outputs": [
        {
          "output_type": "stream",
          "name": "stdout",
          "text": [
            "Enter number of elements : 5\n",
            "4\n",
            "3\n",
            "3\n",
            "4\n",
            "4\n",
            "the frequency of given number is 3\n"
          ]
        }
      ]
    },
    {
      "cell_type": "markdown",
      "source": [
        "**number guessing game**"
      ],
      "metadata": {
        "id": "STJVqeMpT26-"
      }
    },
    {
      "cell_type": "code",
      "source": [
        "winning_number = 43\n",
        "guess = 1\n",
        "number = int(input(\"guess a number between 1 and 100:\"))\n",
        "game_over = False\n",
        "while not game_over:\n",
        "  if number == winning_number:\n",
        "    print(f\"you win and you guessed this number in {guess} times\")\n",
        "    game_over = True\n",
        "  else:\n",
        "    if number < winning_number:\n",
        "      print(\"too low \")\n",
        "      guess +=1\n",
        "      number  = int(input(\"guess again:\"))\n",
        "    else:\n",
        "      print(\"too high\")\n",
        "      guess += 1\n",
        "      number  = int(input(\"guess again:\"))"
      ],
      "metadata": {
        "colab": {
          "base_uri": "https://localhost:8080/"
        },
        "id": "ulExfioS9YMN",
        "outputId": "7806fb3a-3a89-4e3f-d9d9-44389aae122f"
      },
      "execution_count": null,
      "outputs": [
        {
          "output_type": "stream",
          "name": "stdout",
          "text": [
            "guess a number between 1 and 100:34\n",
            "too low \n",
            "guess again:43\n",
            "you win and you guessed this number in 2 times\n"
          ]
        }
      ]
    },
    {
      "cell_type": "code",
      "source": [
        "import random\n",
        "winning_number = random.randint(1,101)\n",
        "guess = 1\n",
        "number = int(input(\"guess a number between 1 and 100:\"))\n",
        "print(f\"your {guess} guess is done\")\n",
        "game_over = False\n",
        "for guess in range(1,5):\n",
        "  if number == winning_number:\n",
        "    print(f\"you win and you guessed this number in {guess} times\")\n",
        "  else:\n",
        "    if number < winning_number:\n",
        "      print(\"too low \")\n",
        "      guess +=1\n",
        "      number = int(input(f\"guess a number between 1 and 100:\"))\n",
        "      print(f\"your {guess} guess is done\")\n",
        "    else:\n",
        "      print(\"too high\")\n",
        "      guess += 1\n",
        "      number = int(input(\"guess a number between 1 and 100:\"))\n",
        "      print(f\"your {guess} guess is done\")\n",
        "else:\n",
        "  print(\"YOU LOSS and your guess time is over\")"
      ],
      "metadata": {
        "colab": {
          "base_uri": "https://localhost:8080/"
        },
        "id": "rfc118RGAPTx",
        "outputId": "2288ab02-4a26-4966-d236-1b7342a421b2"
      },
      "execution_count": null,
      "outputs": [
        {
          "output_type": "stream",
          "name": "stdout",
          "text": [
            "guess a number between 1 and 100:50\n",
            "your 1 guess is done\n",
            "too high\n",
            "guess a number between 1 and 100:25\n",
            "your 2 guess is done\n",
            "too high\n",
            "guess a number between 1 and 100:12\n",
            "your 3 guess is done\n",
            "too low \n",
            "guess a number between 1 and 100:18\n",
            "your 4 guess is done\n",
            "too high\n",
            "guess a number between 1 and 100:15\n",
            "your 5 guess is done\n",
            "YOU LOSS and your guess time is over\n"
          ]
        }
      ]
    },
    {
      "cell_type": "markdown",
      "source": [
        "**GCD of two number by using function**"
      ],
      "metadata": {
        "id": "dMKas6f_6TCp"
      }
    },
    {
      "cell_type": "code",
      "source": [
        "a = int(input())\n",
        "b = int(input())\n",
        "def gcd(a,b):\n",
        "    result=min(a,b)\n",
        "    while result:\n",
        "        if a%result==0 and b%result==0:\n",
        "            break\n",
        "        result-=1\n",
        "    return result\n",
        "print(f\"gcd of {a} and {b} is {gcd(a,b)}\")"
      ],
      "metadata": {
        "colab": {
          "base_uri": "https://localhost:8080/"
        },
        "id": "tEyjsLcT6XHN",
        "outputId": "791244dd-1dc4-4954-efa7-59b07b611a95"
      },
      "execution_count": null,
      "outputs": [
        {
          "output_type": "stream",
          "name": "stdout",
          "text": [
            "56\n",
            "98\n",
            "gcd of 56 and 98 is 14\n"
          ]
        }
      ]
    },
    {
      "cell_type": "markdown",
      "source": [
        "**GCD of two number without function**"
      ],
      "metadata": {
        "id": "FSnV4Wll6pNv"
      }
    },
    {
      "cell_type": "code",
      "source": [
        "a = int(input())\n",
        "b = int(input())\n",
        "result=min(a,b)\n",
        "while result:\n",
        "    if a%result==0 and b%result==0:\n",
        "        break\n",
        "    result-=1\n",
        "print(f\"gcd of {a} and {b} is {result}\")"
      ],
      "metadata": {
        "colab": {
          "base_uri": "https://localhost:8080/"
        },
        "id": "kJcRSmlm6ylV",
        "outputId": "f383c8b1-4a88-4613-9054-e2b0d90172e6"
      },
      "execution_count": null,
      "outputs": [
        {
          "output_type": "stream",
          "name": "stdout",
          "text": [
            "56\n",
            "98\n",
            "gcd of 56 and 98 is 14\n"
          ]
        }
      ]
    },
    {
      "cell_type": "markdown",
      "source": [
        "**LCM of two number**"
      ],
      "metadata": {
        "id": "t3MWJmfT7uGQ"
      }
    },
    {
      "cell_type": "code",
      "source": [
        "a = int(input())\n",
        "b = int(input())\n",
        "result=min(a,b)\n",
        "while result:\n",
        "    if a%result==0 and b%result==0:\n",
        "        break\n",
        "    result-=1\n",
        "print(f\"LCM of {a} and {b} is {(a*b)//result}\")"
      ],
      "metadata": {
        "colab": {
          "base_uri": "https://localhost:8080/"
        },
        "id": "BjB_PcA67zki",
        "outputId": "0e3f23c8-b5da-4d74-bd59-13145f37a1c1"
      },
      "execution_count": null,
      "outputs": [
        {
          "output_type": "stream",
          "name": "stdout",
          "text": [
            "15\n",
            "20\n",
            "LCM of 15 and 20 is 60\n"
          ]
        }
      ]
    },
    {
      "cell_type": "markdown",
      "source": [
        "**A number is divisible by 2 or not**"
      ],
      "metadata": {
        "id": "6PX-soGjWPpA"
      }
    },
    {
      "cell_type": "code",
      "source": [
        "num = int(input())\n",
        "res = [int(x) for x in str(num)]\n",
        "if res[-1]%2==0:\n",
        "  print(f\"{num} is divisible by 2\")\n",
        "else:\n",
        "  print(f\"{num} is not divisible by 2\")"
      ],
      "metadata": {
        "colab": {
          "base_uri": "https://localhost:8080/"
        },
        "id": "1NyWcbHDWYVM",
        "outputId": "c845646e-aa70-4264-87e5-21e83156a897"
      },
      "execution_count": null,
      "outputs": [
        {
          "output_type": "stream",
          "name": "stdout",
          "text": [
            "3895\n",
            "3895 is not divisible by 2\n"
          ]
        }
      ]
    },
    {
      "cell_type": "markdown",
      "source": [
        "**A number is divisible by 3 or not**"
      ],
      "metadata": {
        "id": "8nT6oH7EZIgn"
      }
    },
    {
      "cell_type": "code",
      "source": [
        "num = int(input())\n",
        "res = [int(x) for x in str(num)]\n",
        "p = sum(res)\n",
        "if p%3==0:\n",
        "  print(f\"{num} is divisible by 3\")\n",
        "else:\n",
        "  print(f\"{num} is not divisible by 3\")"
      ],
      "metadata": {
        "colab": {
          "base_uri": "https://localhost:8080/"
        },
        "id": "MLHm-QctZPQp",
        "outputId": "0122fb0d-4ece-4d23-d1c9-6ae65ff020b1"
      },
      "execution_count": null,
      "outputs": [
        {
          "output_type": "stream",
          "name": "stdout",
          "text": [
            "34875\n",
            "34875 is divisible by 3\n"
          ]
        }
      ]
    },
    {
      "cell_type": "markdown",
      "source": [
        "**A number is divisible by 4 or not**"
      ],
      "metadata": {
        "id": "tZgAxNlOaVpJ"
      }
    },
    {
      "cell_type": "code",
      "source": [
        "num = int(input(\"enter number greater than 10 :\"))\n",
        "res = [int(x) for x in str(num)]\n",
        "if ((res[-1]+10*res[-2])%4==0):\n",
        "  print(f\"{num} is divisible by 4\")\n",
        "else:\n",
        "  print(f\"{num} is not divisible by 4\")"
      ],
      "metadata": {
        "colab": {
          "base_uri": "https://localhost:8080/"
        },
        "id": "ULsG573gajNk",
        "outputId": "d11868dc-8423-4dc0-92ee-3e4ad82e943f"
      },
      "execution_count": null,
      "outputs": [
        {
          "output_type": "stream",
          "name": "stdout",
          "text": [
            "enter number greater than 10 :34644\n",
            "34644 is divisible by 4\n"
          ]
        }
      ]
    },
    {
      "cell_type": "markdown",
      "source": [
        "**A number is divisible by 5 or not**"
      ],
      "metadata": {
        "id": "HuPYzxwueIdJ"
      }
    },
    {
      "cell_type": "code",
      "source": [
        "num = int(input())\n",
        "res = [int(x) for x in str(num)]\n",
        "if res[-1]==0 or res[-1]==5:\n",
        "  print(f\"{num} is divisible by 5\")\n",
        "else:\n",
        "  print(f\"{num} is not divisible by 5\")"
      ],
      "metadata": {
        "colab": {
          "base_uri": "https://localhost:8080/"
        },
        "id": "PseBdJ9reT43",
        "outputId": "1aeefb7f-9503-499f-8e3e-e225efa56144"
      },
      "execution_count": null,
      "outputs": [
        {
          "output_type": "stream",
          "name": "stdout",
          "text": [
            "56320\n",
            "56320 is divisible by 5\n"
          ]
        }
      ]
    },
    {
      "cell_type": "markdown",
      "source": [
        "**A number is divisible by 7 or not**"
      ],
      "metadata": {
        "id": "t0yva42Pf91p"
      }
    },
    {
      "cell_type": "code",
      "source": [
        "from operator import length_hint\n",
        "num = int(input(\"enter three or six digit number only:\"))\n",
        "res = [int(x) for x in str(num)]\n",
        "if length_hint(res)==3:\n",
        "  if (num)%7==0:\n",
        "    print(f\"{num} is divisible by 7\")\n",
        "  else:\n",
        "    print(f\"{num} is not divisible by 7\")\n",
        "elif length_hint(res)==6:\n",
        "  if (res[2]*100+res[1]*10+res[0] - res[5]*100+res[4]*10+res[3])%7==0:\n",
        "    print(f\"{num} is divisible by 7\")\n",
        "  else:\n",
        "    print(f\"{num} is not divisible by 7\")"
      ],
      "metadata": {
        "colab": {
          "base_uri": "https://localhost:8080/"
        },
        "id": "e-ZFv0vHgEPa",
        "outputId": "d4273411-d956-4189-ffae-c5dbb3804eac"
      },
      "execution_count": null,
      "outputs": [
        {
          "output_type": "stream",
          "name": "stdout",
          "text": [
            "enter three or six digit number only:120456\n",
            "120456 is divisible by 7\n"
          ]
        }
      ]
    },
    {
      "cell_type": "markdown",
      "source": [
        "**A number is divisible by 11 or not**"
      ],
      "metadata": {
        "id": "R304YbuKwfUk"
      }
    },
    {
      "cell_type": "code",
      "source": [
        "num = int(input())\n",
        "res = [int(x) for x in str(num)]\n",
        "a = sum(res[::2])\n",
        "b = sum(res[1::2])\n",
        "if abs(a-b)%11==0:\n",
        "  print(f\"{num} is divisible by 11\")\n",
        "else:\n",
        "  print(f\"{num} is not divisible by 11\")"
      ],
      "metadata": {
        "colab": {
          "base_uri": "https://localhost:8080/"
        },
        "id": "apIXAMDKwjdA",
        "outputId": "35c68eb0-43b1-4859-f45b-5a7af49a9bff"
      },
      "execution_count": null,
      "outputs": [
        {
          "output_type": "stream",
          "name": "stdout",
          "text": [
            "12865\n",
            "12865 is not divisible by 11\n"
          ]
        }
      ]
    },
    {
      "cell_type": "markdown",
      "source": [
        "**Diophantine Equation:- find ax+by+c=0 has solution or not**"
      ],
      "metadata": {
        "id": "p_f2UZ_0tszq"
      }
    },
    {
      "cell_type": "code",
      "source": [
        "import math\n",
        "for i in range(int(input(\"Enter the number of test cases:\"))):\n",
        "  a,b,c=map(int,input().split())\n",
        "  if a==0 or b==0:\n",
        "    print(\"Wrong input\")\n",
        "  else:\n",
        "    if c%(math.gcd(a,b))==0:\n",
        "      print(f\"{a}x+{b}y+{c}=0 has a solution\")\n",
        "    else:\n",
        "      print(f\"{a}x+{b}y+{c}=0 has a no solution\")"
      ],
      "metadata": {
        "colab": {
          "base_uri": "https://localhost:8080/"
        },
        "id": "mJaA1reCtsaq",
        "outputId": "c5ae3035-8d5b-44f4-a2f1-7deb49c51015"
      },
      "execution_count": null,
      "outputs": [
        {
          "output_type": "stream",
          "name": "stdout",
          "text": [
            "Enter the number of test cases:2\n",
            "3 2 7\n",
            "3x+2y+7=0 has a solution\n",
            "2 4 3\n",
            "2x+4y+3=0 has a no solution\n"
          ]
        }
      ]
    },
    {
      "cell_type": "markdown",
      "source": [
        "**Program for numbers are co-prime numbers or not**"
      ],
      "metadata": {
        "id": "Oj-Y-XYU2H6K"
      }
    },
    {
      "cell_type": "code",
      "source": [
        "import math\n",
        "for i in range(int(input(\"Enter the number of test cases:\"))):\n",
        "  a,b = map(int,input().split())\n",
        "  if math.gcd(a,b)==1:\n",
        "    print(f\"{a} and {b} are co-prime\")\n",
        "  else:\n",
        "    print(f\"{a} and {b} are not co-prime\")"
      ],
      "metadata": {
        "colab": {
          "base_uri": "https://localhost:8080/"
        },
        "id": "AaWdeiHo2Uky",
        "outputId": "8cdaa6d5-c033-4a14-ed9c-0b11dd4509c0"
      },
      "execution_count": null,
      "outputs": [
        {
          "output_type": "stream",
          "name": "stdout",
          "text": [
            "Enter the number of test cases:2\n",
            "5 15\n",
            "5 and 15 are not co-prime\n",
            "4 5\n",
            "4 and 5 are co-prime\n"
          ]
        }
      ]
    },
    {
      "cell_type": "markdown",
      "source": [
        "**Count the all co-prime numbers of number\n",
        "enter by user in the range**"
      ],
      "metadata": {
        "id": "e4q8cQbF3hn3"
      }
    },
    {
      "cell_type": "code",
      "source": [
        "import math\n",
        "x = int(input(\"Enter a number:\"))\n",
        "n = int(input(\"Enter a range:\"))\n",
        "c = 0\n",
        "for i in range(1,n):\n",
        "  if math.gcd(x,i)==1:\n",
        "    c+=1\n",
        "print(c)"
      ],
      "metadata": {
        "colab": {
          "base_uri": "https://localhost:8080/"
        },
        "id": "5apENawr34M5",
        "outputId": "0388a650-3090-4dd6-9e4d-ce7c8d318623"
      },
      "execution_count": null,
      "outputs": [
        {
          "output_type": "stream",
          "name": "stdout",
          "text": [
            "Enter a number:4\n",
            "Enter a range:10\n",
            "5\n"
          ]
        }
      ]
    },
    {
      "cell_type": "markdown",
      "source": [
        "**Euler's Function :-count all co-prime numbers of n from 1 to n**"
      ],
      "metadata": {
        "id": "NK5KGYuCCg3O"
      }
    },
    {
      "cell_type": "code",
      "source": [
        "import math\n",
        "n = int(input(\"Enter a number:\"))\n",
        "c = 0\n",
        "for i in range(1,n+1):\n",
        "  if math.gcd(n,i)==1:\n",
        "    c+=1\n",
        "print(c)"
      ],
      "metadata": {
        "colab": {
          "base_uri": "https://localhost:8080/"
        },
        "id": "QZ8vQegzDFuq",
        "outputId": "449cdac0-c83d-40f7-af2a-cec5f4b9caf5"
      },
      "execution_count": null,
      "outputs": [
        {
          "output_type": "stream",
          "name": "stdout",
          "text": [
            "Enter a number:10\n",
            "4\n"
          ]
        }
      ]
    },
    {
      "cell_type": "markdown",
      "source": [
        "**Total number of onto mapping from A to B**"
      ],
      "metadata": {
        "id": "LyfbHjXnmMuD"
      }
    },
    {
      "cell_type": "code",
      "source": [
        "from math import comb\n",
        "m,n = map(int,input(\"Enter the cardinality of A and B respectively:\").split())\n",
        "sum=0\n",
        "if m<n:\n",
        "  print(\"Onto mapping not exist\")\n",
        "else:\n",
        "  for r in range(1,n+1):\n",
        "    a = pow(-1,(n-r))*pow(r,m)*comb(n,r)\n",
        "    sum+=a\n",
        "  print(f\"Total number of onto mapping from A to B is {sum}\")"
      ],
      "metadata": {
        "colab": {
          "base_uri": "https://localhost:8080/"
        },
        "id": "TYY8eBZVmUNw",
        "outputId": "287d1641-bb06-4733-b10b-12c511db06c0"
      },
      "execution_count": null,
      "outputs": [
        {
          "output_type": "stream",
          "name": "stdout",
          "text": [
            "Enter the cardinality of A and B respectively:6 3\n",
            "Total number of onto mapping from A to B is 540\n"
          ]
        }
      ]
    },
    {
      "cell_type": "markdown",
      "source": [
        "**Total number of one-one function from A to B**"
      ],
      "metadata": {
        "id": "qDYRxTyJki27"
      }
    },
    {
      "cell_type": "code",
      "source": [
        "from math import comb\n",
        "f1=1\n",
        "f2=1\n",
        "m,n = map(int,input(\"Enter the cardinality of A and B respectively:\").split())\n",
        "if m>n:\n",
        "  print(\"one-one function not exist\")\n",
        "else:\n",
        "  for i in range(1,n+1):\n",
        "    f1 *= i\n",
        "  for j in range(1,(n-m)+1):\n",
        "    f2 *= j\n",
        "  print(f\"Total number of one one function from A to B is {f1//f2}\")  "
      ],
      "metadata": {
        "id": "IVrjPI-1ksZf",
        "colab": {
          "base_uri": "https://localhost:8080/"
        },
        "outputId": "76033fd6-43e0-4885-f590-181f6ffcefc7"
      },
      "execution_count": null,
      "outputs": [
        {
          "output_type": "stream",
          "name": "stdout",
          "text": [
            "Enter the cardinality of A and B respectively:4 5\n",
            "Total number of one one function from A to B is 120\n"
          ]
        }
      ]
    },
    {
      "cell_type": "markdown",
      "source": [
        "**Program of Hypothesis testing (z-test) on one sample**"
      ],
      "metadata": {
        "id": "rWA5_aeUCSBk"
      }
    },
    {
      "cell_type": "code",
      "source": [
        "#this program is only for right and left tailed Hypothesis Testing\n",
        "import math\n",
        "import pandas as pd\n",
        "w = [(2.326,2.054,1.650,1.282),\n",
        "     (-2.326,-2.054,-1.650,-1.282)]\n",
        "df = pd.DataFrame(w,columns=[0.01,0.02,0.05,0.10],\n",
        "                  index=['R','L'])\n",
        "a1 = int(input(\"Enter the level of significance : \"))\n",
        "a2 = a/100\n",
        "n = int(input(\"Enter the size of sample : \"))\n",
        "x,u = map(float,input(\"Enter the x and u : \").split())\n",
        "# sample_mean(x) and population_mean(u)\n",
        "e = input(\"Enter population_standard_deviation : \")\n",
        "psd = float(e)\n",
        "print()\n",
        "m = input(\"Is actually population mean more than given population mean : \")\n",
        "if m==\"yes\":\n",
        "  p=u+1\n",
        "  print(\"It is right tailed hypothesis testing\")\n",
        "elif m==\"no\":\n",
        "  p=u-1\n",
        "  print(\"It is left tailed hypothesis testing\")\n",
        "print()\n",
        "if n>=30:\n",
        "  print(f\"{n}>=30 hence here we peform z-test\")\n",
        "  z = ((x-u)*math.sqrt(n))/psd\n",
        "  print(f\"z = {z}\")\n",
        "else:\n",
        "  print(\"This sample size is not apply on z-test\")\n",
        "\n",
        "if a2==0.01 and p>u:\n",
        "  z_alpha=df.iloc[0,0]\n",
        "elif a2==0.02 and p>u:\n",
        "  z_alpha=df.iloc[0,1]\n",
        "elif a2==0.05 and p>u:\n",
        "  z_alpha=df.iloc[0,2]\n",
        "elif a2==0.10 and p>u:\n",
        "  z_alpha=df.iloc[0,3]\n",
        "elif a2==0.01 and p<u:\n",
        "  z_alpha=df.iloc[0,0]\n",
        "elif a2==0.02 and p<u:\n",
        "  z_alpha=df.iloc[0,1]\n",
        "elif a2==0.05 and p<u:\n",
        "  z_alpha=df.iloc[0,2]\n",
        "elif a2==0.10 and p<u:\n",
        "  z_alpha=df.iloc[0,3]\n",
        "\n",
        "  \n",
        "print(f\"z_alpha={z_alpha}\")\n",
        "if z_alpha < z:\n",
        "   print(\"z_alpha < z hence we are rejecting null hypothesis\")\n",
        "else:\n",
        "  print(\"z_alpha > z hence we are accept null hypothesis\")"
      ],
      "metadata": {
        "colab": {
          "base_uri": "https://localhost:8080/"
        },
        "id": "QCU58WH9CeUn",
        "outputId": "d065eb70-0d91-4cdd-c8b1-274e73f51481"
      },
      "execution_count": null,
      "outputs": [
        {
          "output_type": "stream",
          "name": "stdout",
          "text": [
            "Enter the level of significance : 5\n",
            "Enter the size of sample : 100\n",
            "Enter the x and u : 71.8 70\n",
            "Enter population_standard_deviation : 7.8\n",
            "\n",
            "Is actually population mean more than given population mean : yes\n",
            "It is right tailed hypothesis testing\n",
            "\n",
            "100>=30 hence here we peform z-test\n",
            "z = 2.307692307692304\n",
            "z_alpha=1.65\n",
            "z_alpha < z hence we are rejecting null hypothesis\n"
          ]
        }
      ]
    },
    {
      "cell_type": "code",
      "source": [
        "x = 71.8\n",
        "u = 70\n",
        "n = 100\n",
        "psd = 7.8\n",
        "z = ((x-u)*math.sqrt(n))/psd\n",
        "print(f\"z = {z}\")"
      ],
      "metadata": {
        "colab": {
          "base_uri": "https://localhost:8080/"
        },
        "id": "bmpwjk8HY9Q_",
        "outputId": "58be7d51-62c1-4181-b6cd-1e0b50d16695"
      },
      "execution_count": null,
      "outputs": [
        {
          "output_type": "stream",
          "name": "stdout",
          "text": [
            "z = 2.307692307692304\n"
          ]
        }
      ]
    },
    {
      "cell_type": "markdown",
      "source": [
        "**Fibonacci sequence**"
      ],
      "metadata": {
        "id": "7IB59Z64dKhG"
      }
    },
    {
      "cell_type": "code",
      "source": [
        "n = int(input())\n",
        "a = 0\n",
        "b= 0\n",
        "c = 1\n",
        "for i in range(0,n):\n",
        "  a = b+c\n",
        "  c = b\n",
        "  b = a\n",
        "  print(a,end=\" \")"
      ],
      "metadata": {
        "colab": {
          "base_uri": "https://localhost:8080/"
        },
        "id": "oMENwFZydkWL",
        "outputId": "00b00bcf-f57d-4883-d43d-bc4e6c820c1e"
      },
      "execution_count": null,
      "outputs": [
        {
          "output_type": "stream",
          "name": "stdout",
          "text": [
            "9\n",
            "1 1 2 3 5 8 13 21 34 "
          ]
        }
      ]
    },
    {
      "cell_type": "markdown",
      "source": [
        "**matrix multiplication**"
      ],
      "metadata": {
        "id": "JPXmAZlAoV4h"
      }
    },
    {
      "cell_type": "code",
      "source": [
        "A = [[2,2,2],[2,2,2],[2,2,2]]\n",
        "B = [[2,2,2],[2,2,2],[2,2,2]]\n",
        "result = [[0,0,0],[0,0,0],[0,0,0]]\n",
        "for i in range(len(A)):\n",
        "  for j in range(len(B)):\n",
        "    for k in range(len(B)):\n",
        "      result[i][j]+=A[i][k]*B[k][j]\n",
        "for r in result:\n",
        "  print(r)"
      ],
      "metadata": {
        "colab": {
          "base_uri": "https://localhost:8080/"
        },
        "id": "0XrTz2nHoaIn",
        "outputId": "7e88a10b-86ee-4c24-d2b6-8ec7ebb93fff"
      },
      "execution_count": null,
      "outputs": [
        {
          "output_type": "stream",
          "name": "stdout",
          "text": [
            "[12, 12, 12]\n",
            "[12, 12, 12]\n",
            "[12, 12, 12]\n"
          ]
        }
      ]
    },
    {
      "cell_type": "markdown",
      "source": [
        "**GCD of two number**"
      ],
      "metadata": {
        "id": "y2v5AEFSrcWH"
      }
    },
    {
      "cell_type": "code",
      "source": [
        "import math\n",
        "a,b = map(int,input().split())\n",
        "print(math.gcd(a,b))"
      ],
      "metadata": {
        "colab": {
          "base_uri": "https://localhost:8080/"
        },
        "id": "OXW2Y0QMrhMZ",
        "outputId": "2d4851e8-6d48-4f46-b862-c60168237114"
      },
      "execution_count": null,
      "outputs": [
        {
          "output_type": "stream",
          "name": "stdout",
          "text": [
            "48 60\n",
            "12\n"
          ]
        }
      ]
    },
    {
      "cell_type": "code",
      "source": [
        "def computeGCD(x,y):\n",
        "  if x>y:\n",
        "    small=y\n",
        "  else:\n",
        "    small=x\n",
        "  for i in range(1,small+1):\n",
        "    if ((x%i==0) and (y%i==0)):\n",
        "      gcd=i\n",
        "  return gcd\n",
        "x,y = map(int,input().split())\n",
        "print(\"The gcd of x and y is\",computeGCD(x,y))"
      ],
      "metadata": {
        "colab": {
          "base_uri": "https://localhost:8080/"
        },
        "id": "UaByeQ6WsgIL",
        "outputId": "52e4e0bd-8748-4f85-e5fc-09ec9cdc768b"
      },
      "execution_count": null,
      "outputs": [
        {
          "output_type": "stream",
          "name": "stdout",
          "text": [
            "60 48\n",
            "The gcd of x and y is 12\n"
          ]
        }
      ]
    },
    {
      "cell_type": "markdown",
      "source": [
        "**Calculating inverse of matrix of any order**"
      ],
      "metadata": {
        "id": "U69Qi1QDqScu"
      }
    },
    {
      "cell_type": "code",
      "source": [
        "import numpy as np\n",
        "import sys\n",
        "\n",
        "R = int(input(\"Enter the number of rows:\"))\n",
        "C = int(input(\"Enter the number of columns:\"))\n",
        "if R!=C:\n",
        "  sys.exit(\"wrong input value of row and column\")\n",
        "  \n",
        "print(\"Enter the entries in a single line (separated by space): \")\n",
        "\n",
        "entries = list(map(int, input().split()))\n",
        "\n",
        "matrix = np.array(entries).reshape(R, C)\n",
        "det = np.linalg.det(matrix)\n",
        "if det==0:\n",
        "  sys.exit(\"inverse is not defined\")\n",
        "print(np.linalg.inv(matrix))"
      ],
      "metadata": {
        "colab": {
          "base_uri": "https://localhost:8080/"
        },
        "id": "IAmvPucPqFLy",
        "outputId": "08dc3f61-19b5-4b4b-c3a5-d6ba14df1df0"
      },
      "execution_count": null,
      "outputs": [
        {
          "output_type": "stream",
          "name": "stdout",
          "text": [
            "Enter the number of rows:3\n",
            "Enter the number of columns:3\n",
            "Enter the entries in a single line (separated by space): \n",
            "3 4 6 1 8 7 3 9 4\n",
            "[[ 0.26956522 -0.33043478  0.17391304]\n",
            " [-0.14782609  0.05217391  0.13043478]\n",
            " [ 0.13043478  0.13043478 -0.17391304]]\n"
          ]
        }
      ]
    },
    {
      "cell_type": "markdown",
      "source": [
        "**Matrix multiplication**"
      ],
      "metadata": {
        "id": "N0t0T7JSrEIY"
      }
    },
    {
      "cell_type": "code",
      "source": [
        "import numpy as np\n",
        "import sys\n",
        "R1,R2 = map(int,input(\"Enter the number of rows for matrix A and B respectively:\").split())\n",
        "C1,C2 = map(int,input(\"Enter the number of column for matrix A and B respectively:\").split())\n",
        "if R2!=C1:\n",
        "\tsys.exit(\"wrong input value of R2 and C1\")\n",
        "print(\"Enter the elements for matrix A and B in a single line (separated by space): \")\n",
        "\n",
        "entries1 = list(map(int, input().split()))\n",
        "entries2 = list(map(int, input().split()))\n",
        "A = np.array(entries1).reshape(R1, C1)\n",
        "B = np.array(entries2).reshape(R2, C2)\n",
        "\n",
        "print(np.dot(A,B))\n",
        "\n"
      ],
      "metadata": {
        "colab": {
          "base_uri": "https://localhost:8080/"
        },
        "id": "PUgOSJwAq0YH",
        "outputId": "3ad2456e-fe41-4015-9a40-85d96d094378"
      },
      "execution_count": 5,
      "outputs": [
        {
          "output_type": "stream",
          "name": "stdout",
          "text": [
            "Enter the number of rows for matrix A and B respectively:3 4\n",
            "Enter the number of column for matrix A and B respectively:4 2\n",
            "Enter the elements for matrix A and B in a single line (separated by space): \n",
            "2 4 6 8 1 6 3 9 8 2 5 4\n",
            "3 2 7 8 5 4 6 1\n",
            "[[112  68]\n",
            " [114  71]\n",
            " [ 87  56]]\n"
          ]
        }
      ]
    }
  ]
}