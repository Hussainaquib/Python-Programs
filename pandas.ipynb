{
  "nbformat": 4,
  "nbformat_minor": 0,
  "metadata": {
    "colab": {
      "provenance": [],
      "mount_file_id": "1gkllZGTBt0XFz4xXIuAccLCY-N20KKgk",
      "authorship_tag": "ABX9TyO9SbdezJdw4fHAXFERfPRY",
      "include_colab_link": true
    },
    "kernelspec": {
      "name": "python3",
      "display_name": "Python 3"
    },
    "language_info": {
      "name": "python"
    }
  },
  "cells": [
    {
      "cell_type": "markdown",
      "metadata": {
        "id": "view-in-github",
        "colab_type": "text"
      },
      "source": [
        "<a href=\"https://colab.research.google.com/github/Hussainaquib/Python-Programs/blob/main/pandas.ipynb\" target=\"_parent\"><img src=\"https://colab.research.google.com/assets/colab-badge.svg\" alt=\"Open In Colab\"/></a>"
      ]
    },
    {
      "cell_type": "markdown",
      "source": [
        "#**PANDAS**"
      ],
      "metadata": {
        "id": "EtHtu8sIIvH_"
      }
    },
    {
      "cell_type": "markdown",
      "source": [
        "**Cearte a Series**"
      ],
      "metadata": {
        "id": "NPDr6BziJP-i"
      }
    },
    {
      "cell_type": "markdown",
      "source": [
        "To create a series using list or tuple or dictionary"
      ],
      "metadata": {
        "id": "Slx3-SeBJVGl"
      }
    },
    {
      "cell_type": "code",
      "source": [
        "# create series object from a list\n",
        "\n",
        "import pandas as pd\n",
        "a = pd.Series(['mark','Rita','Vicki','Justin','John','Michal'])\n",
        "print(a)"
      ],
      "metadata": {
        "colab": {
          "base_uri": "https://localhost:8080/"
        },
        "id": "JZj_w6saI2yJ",
        "outputId": "03a9bf4d-f4d2-4c33-e0fb-3abcc0dcee10"
      },
      "execution_count": null,
      "outputs": [
        {
          "output_type": "stream",
          "name": "stdout",
          "text": [
            "0      mark\n",
            "1      Rita\n",
            "2     Vicki\n",
            "3    Justin\n",
            "4      John\n",
            "5    Michal\n",
            "dtype: object\n"
          ]
        }
      ]
    },
    {
      "cell_type": "code",
      "source": [
        "# create a series object from a tuple\n",
        "\n",
        "a = pd.Series(('Mark','Rita','Vicki','Justin','John','Michal'))\n",
        "print(a)"
      ],
      "metadata": {
        "colab": {
          "base_uri": "https://localhost:8080/"
        },
        "id": "CkvtUqbmKQt0",
        "outputId": "f7697f49-844f-4782-e313-d6924de1a3c6"
      },
      "execution_count": null,
      "outputs": [
        {
          "output_type": "stream",
          "name": "stdout",
          "text": [
            "0      Mark\n",
            "1      Rita\n",
            "2     Vicki\n",
            "3    Justin\n",
            "4      John\n",
            "5    Michal\n",
            "dtype: object\n"
          ]
        }
      ]
    },
    {
      "cell_type": "code",
      "source": [
        "# create a series using dictionary\n",
        "\n",
        "D = {'a':'Mark','b':'Rita','c':'Vicki','d':'Justin','e':'John','f':'Michal',}\n",
        "a = pd.Series(D)\n",
        "print(a)"
      ],
      "metadata": {
        "colab": {
          "base_uri": "https://localhost:8080/"
        },
        "id": "dlsK5NkjKzan",
        "outputId": "26002f8c-c2fe-4517-b2e2-81205eaf6414"
      },
      "execution_count": null,
      "outputs": [
        {
          "output_type": "stream",
          "name": "stdout",
          "text": [
            "a      Mark\n",
            "b      Rita\n",
            "c     Vicki\n",
            "d    Justin\n",
            "e      John\n",
            "f    Michal\n",
            "dtype: object\n"
          ]
        }
      ]
    },
    {
      "cell_type": "markdown",
      "source": [
        "To create a series using nimpy ndarray"
      ],
      "metadata": {
        "id": "--hvltmmLe7g"
      }
    },
    {
      "cell_type": "code",
      "source": [
        "import pandas as pd\n",
        "import numpy as np\n",
        "\n",
        "a = np.array([100,200,300,400,500,600])\n",
        "b = pd.Series(a,index=['a','b','c','d','e','f'])\n",
        "print(b)"
      ],
      "metadata": {
        "colab": {
          "base_uri": "https://localhost:8080/"
        },
        "id": "EWopF0PgLnYh",
        "outputId": "dda7a604-89b7-42f9-c679-310c3cd7d240"
      },
      "execution_count": null,
      "outputs": [
        {
          "output_type": "stream",
          "name": "stdout",
          "text": [
            "a    100\n",
            "b    200\n",
            "c    300\n",
            "d    400\n",
            "e    500\n",
            "f    600\n",
            "dtype: int64\n"
          ]
        }
      ]
    },
    {
      "cell_type": "code",
      "source": [
        "s = pd.Series(np.random.randn(5),index=['a','b','c','d','e'])\n",
        "print(s)"
      ],
      "metadata": {
        "colab": {
          "base_uri": "https://localhost:8080/"
        },
        "id": "qFB-vEYSMT_5",
        "outputId": "8fd42111-c6cc-4873-d101-791beccfc556"
      },
      "execution_count": null,
      "outputs": [
        {
          "output_type": "stream",
          "name": "stdout",
          "text": [
            "a    0.404275\n",
            "b    1.073623\n",
            "c   -0.627213\n",
            "d   -0.992742\n",
            "e   -0.289297\n",
            "dtype: float64\n"
          ]
        }
      ]
    },
    {
      "cell_type": "markdown",
      "source": [
        "3 - Create series using Scalar Values"
      ],
      "metadata": {
        "id": "cZjavYruMvX7"
      }
    },
    {
      "cell_type": "code",
      "source": [
        "a = pd.Series(2)\n",
        "print(a)\n",
        "print(\"\\n\")\n",
        "b = pd.Series(5.0,index=['a','b','c','d','e'])\n",
        "print(b)"
      ],
      "metadata": {
        "colab": {
          "base_uri": "https://localhost:8080/"
        },
        "id": "Cdw33rRdM2jn",
        "outputId": "6f2d3801-ad10-4990-c7fb-1d2949471aae"
      },
      "execution_count": null,
      "outputs": [
        {
          "output_type": "stream",
          "name": "stdout",
          "text": [
            "0    2\n",
            "dtype: int64\n",
            "\n",
            "\n",
            "a    5.0\n",
            "b    5.0\n",
            "c    5.0\n",
            "d    5.0\n",
            "e    5.0\n",
            "dtype: float64\n"
          ]
        }
      ]
    },
    {
      "cell_type": "markdown",
      "source": [
        "**Set the custum index in Series**"
      ],
      "metadata": {
        "id": "bqIXC_xfNeBF"
      }
    },
    {
      "cell_type": "code",
      "source": [
        "import pandas as pd\n",
        "\n",
        "a = pd.Series(['Mark','Rita','Vicki','Justin','John','Michal'],index = ['a','b','c','d','e','f'])\n",
        "print(a)"
      ],
      "metadata": {
        "colab": {
          "base_uri": "https://localhost:8080/"
        },
        "id": "XLptpz6kNlT8",
        "outputId": "2adf54db-c62f-479c-cb85-6f36f2f6d033"
      },
      "execution_count": null,
      "outputs": [
        {
          "output_type": "stream",
          "name": "stdout",
          "text": [
            "a      Mark\n",
            "b      Rita\n",
            "c     Vicki\n",
            "d    Justin\n",
            "e      John\n",
            "f    Michal\n",
            "dtype: object\n"
          ]
        }
      ]
    },
    {
      "cell_type": "markdown",
      "source": [
        "**Set the custum data type of values**"
      ],
      "metadata": {
        "id": "olum6JyAOb41"
      }
    },
    {
      "cell_type": "code",
      "source": [
        "import pandas as pd\n",
        "import numpy as np\n",
        "\n",
        "a = np.array([100,200,300,400,500,600])\n",
        "b = pd.Series(a,index=['a','b','c','d','e','f'], dtype = float)\n",
        "print(b)"
      ],
      "metadata": {
        "colab": {
          "base_uri": "https://localhost:8080/"
        },
        "id": "U-icI6fEOnP1",
        "outputId": "b1ebcca6-cbeb-4e9b-d3ac-2f979c7b73b8"
      },
      "execution_count": null,
      "outputs": [
        {
          "output_type": "stream",
          "name": "stdout",
          "text": [
            "a    100.0\n",
            "b    200.0\n",
            "c    300.0\n",
            "d    400.0\n",
            "e    500.0\n",
            "f    600.0\n",
            "dtype: float64\n"
          ]
        }
      ]
    },
    {
      "cell_type": "markdown",
      "source": [
        "**Create series with mixed data type values**"
      ],
      "metadata": {
        "id": "XCxsbDKHO8n5"
      }
    },
    {
      "cell_type": "code",
      "source": [
        "a = pd.Series(['Mark',100,'Tokyo',89.22])\n",
        "print(a)"
      ],
      "metadata": {
        "colab": {
          "base_uri": "https://localhost:8080/"
        },
        "id": "WUtVIU4UPEbm",
        "outputId": "2b922bf4-f667-47fc-cf87-f8bdc27e360d"
      },
      "execution_count": null,
      "outputs": [
        {
          "output_type": "stream",
          "name": "stdout",
          "text": [
            "0     Mark\n",
            "1      100\n",
            "2    Tokyo\n",
            "3    89.22\n",
            "dtype: object\n"
          ]
        }
      ]
    },
    {
      "cell_type": "markdown",
      "source": [
        "**Set the name of series , find size of series , check series is empty or not**"
      ],
      "metadata": {
        "id": "SDgBNi6DPU0L"
      }
    },
    {
      "cell_type": "code",
      "source": [
        "import pandas as pd\n",
        "\n",
        "a = pd.Series(['Mark','Rita','Vicki','Justin','John','Michal'],index = ['a','b','c','d','e','f'], name = \"Student\")\n",
        "print(a)\n",
        "print(\"\\n\")\n",
        "\n",
        "# for access the name of the Series object\n",
        "print(a.name)\n",
        "print(\"\\n\")\n",
        "\n",
        "# for change the name of series\n",
        "a.name = 'User'\n",
        "print(a)\n",
        "print(\"\\n\")\n",
        "\n",
        "# to get the number of element in series\n",
        "print(a.size)\n",
        "print(\"\\n\")\n",
        "\n",
        "# to check series is empty or not\n",
        "print(a.empty)"
      ],
      "metadata": {
        "colab": {
          "base_uri": "https://localhost:8080/"
        },
        "id": "6_U2eSTiPci1",
        "outputId": "391a9954-8b7d-413f-e976-8a1feb051d30"
      },
      "execution_count": null,
      "outputs": [
        {
          "output_type": "stream",
          "name": "stdout",
          "text": [
            "a      Mark\n",
            "b      Rita\n",
            "c     Vicki\n",
            "d    Justin\n",
            "e      John\n",
            "f    Michal\n",
            "Name: Student, dtype: object\n",
            "\n",
            "\n",
            "Student\n",
            "\n",
            "\n",
            "a      Mark\n",
            "b      Rita\n",
            "c     Vicki\n",
            "d    Justin\n",
            "e      John\n",
            "f    Michal\n",
            "Name: User, dtype: object\n",
            "\n",
            "\n",
            "6\n",
            "\n",
            "\n",
            "False\n"
          ]
        }
      ]
    },
    {
      "cell_type": "markdown",
      "source": [
        "**To get first and last N elements of Series**"
      ],
      "metadata": {
        "id": "JRxhvN7rRZWZ"
      }
    },
    {
      "cell_type": "code",
      "source": [
        "import pandas as pd\n",
        "\n",
        "a = pd.Series(['Mark','Rita','Vicki','Justin','John','Michal'],index = ['a','b','c','d','e','f'], name = \"Student\")\n",
        "print(a)\n",
        "print(\"\\n\")\n",
        "\n",
        "# get first 3 elements of series\n",
        "subset = a.head(3)\n",
        "print(subset)\n",
        "print(\"\\n\")\n",
        "\n",
        "# get last 3 elements of series\n",
        "subset = a.tail(3)\n",
        "print(subset)\n",
        "print(\"\\n\")"
      ],
      "metadata": {
        "colab": {
          "base_uri": "https://localhost:8080/"
        },
        "id": "kAz1AVtRQ_FC",
        "outputId": "ca4fdab2-f27d-4fc2-aaa0-dd7c991a2086"
      },
      "execution_count": null,
      "outputs": [
        {
          "output_type": "stream",
          "name": "stdout",
          "text": [
            "a      Mark\n",
            "b      Rita\n",
            "c     Vicki\n",
            "d    Justin\n",
            "e      John\n",
            "f    Michal\n",
            "Name: Student, dtype: object\n",
            "\n",
            "\n",
            "a     Mark\n",
            "b     Rita\n",
            "c    Vicki\n",
            "Name: Student, dtype: object\n",
            "\n",
            "\n",
            "d    Justin\n",
            "e      John\n",
            "f    Michal\n",
            "Name: Student, dtype: object\n",
            "\n",
            "\n"
          ]
        }
      ]
    },
    {
      "cell_type": "markdown",
      "source": [
        "**Get the count of non NaN (Not a Number) values**"
      ],
      "metadata": {
        "id": "d0ecEl6KSW8Y"
      }
    },
    {
      "cell_type": "code",
      "source": [
        "import pandas as pd\n",
        "import numpy as np\n",
        "\n",
        "y = pd.Series(['Mark','np.NaN','Vicki','Justin','np.NaN','Michal'])\n",
        "print(y)\n",
        "print(\"\\n\")\n",
        "z = y.count()\n",
        "print(z)"
      ],
      "metadata": {
        "colab": {
          "base_uri": "https://localhost:8080/"
        },
        "id": "8tXajbhqSk4F",
        "outputId": "20a6aaa4-e816-4673-b49d-46ef0d1b903d"
      },
      "execution_count": null,
      "outputs": [
        {
          "output_type": "stream",
          "name": "stdout",
          "text": [
            "0      Mark\n",
            "1    np.NaN\n",
            "2     Vicki\n",
            "3    Justin\n",
            "4    np.NaN\n",
            "5    Michal\n",
            "dtype: object\n",
            "\n",
            "\n",
            "6\n"
          ]
        }
      ]
    },
    {
      "cell_type": "markdown",
      "source": [
        "**Indexing Series Elements / Accessing Series Elements**"
      ],
      "metadata": {
        "id": "ct7t_5jOiAHS"
      }
    },
    {
      "cell_type": "markdown",
      "source": [
        "**1- Positional indexing**"
      ],
      "metadata": {
        "id": "bJMkDL0GiT1b"
      }
    },
    {
      "cell_type": "markdown",
      "source": [
        "**2- Label names**"
      ],
      "metadata": {
        "id": "6XrXWtUqicbw"
      }
    },
    {
      "cell_type": "markdown",
      "source": [
        "(A) - Accessing Series elements using Positional Indexing"
      ],
      "metadata": {
        "id": "D5weor-rikoi"
      }
    },
    {
      "cell_type": "code",
      "source": [
        "# accessing single element\n",
        "import pandas as pd\n",
        "names = pd.Series(['Mark','Rita','Vicki','Justin','John','Michal'],index = ['a','b','c','d','e','f'])\n",
        "print(names)\n",
        "print(\"\\n\")\n",
        "first_element = names[0]\n",
        "print('First Element:',first_element)\n",
        "\n",
        "third_element = names[2]\n",
        "print('Third Element:',third_element)"
      ],
      "metadata": {
        "colab": {
          "base_uri": "https://localhost:8080/"
        },
        "id": "1Bo2Licpi36b",
        "outputId": "e14e10bc-6fec-42cb-b4bf-f1b5c5d7ca21"
      },
      "execution_count": null,
      "outputs": [
        {
          "output_type": "stream",
          "name": "stdout",
          "text": [
            "a      Mark\n",
            "b      Rita\n",
            "c     Vicki\n",
            "d    Justin\n",
            "e      John\n",
            "f    Michal\n",
            "dtype: object\n",
            "\n",
            "\n",
            "First Element: Mark\n",
            "Third Element: Vicki\n"
          ]
        }
      ]
    },
    {
      "cell_type": "code",
      "source": [
        "# accessing multiple elements of series by specific index position\n",
        "import pandas as pd\n",
        "names = pd.Series(['Mark','Rita','Vicki','Justin','John','Michal'],index = ['a','b','c','d','e','f'])\n",
        "print(names)\n",
        "print(\"\\n\")\n",
        "few_names = names[[2,3,0]]\n",
        "print(few_names)"
      ],
      "metadata": {
        "colab": {
          "base_uri": "https://localhost:8080/"
        },
        "id": "fwFFS4vFktU8",
        "outputId": "c5ec579d-c1f6-4024-bd93-998345e02de8"
      },
      "execution_count": null,
      "outputs": [
        {
          "output_type": "stream",
          "name": "stdout",
          "text": [
            "a      Mark\n",
            "b      Rita\n",
            "c     Vicki\n",
            "d    Justin\n",
            "e      John\n",
            "f    Michal\n",
            "dtype: object\n",
            "\n",
            "\n",
            "c     Vicki\n",
            "d    Justin\n",
            "a      Mark\n",
            "dtype: object\n"
          ]
        }
      ]
    },
    {
      "cell_type": "markdown",
      "source": [
        "(B) - Accessing Series elements using Label names"
      ],
      "metadata": {
        "id": "b91s4n0flsCt"
      }
    },
    {
      "cell_type": "code",
      "source": [
        "# accessing single elements\n",
        "import pandas as pd\n",
        "names = pd.Series(['Mark','Rita','Vicki','Justin','John','Michal'],index = ['a','b','c','d','e','f'])\n",
        "print(names)\n",
        "print(\"\\n\")\n",
        "print(names['d'])"
      ],
      "metadata": {
        "colab": {
          "base_uri": "https://localhost:8080/"
        },
        "id": "tPmab4okl3Rt",
        "outputId": "44b30070-c3c2-4de9-f877-e55ab5b95bd6"
      },
      "execution_count": null,
      "outputs": [
        {
          "output_type": "stream",
          "name": "stdout",
          "text": [
            "a      Mark\n",
            "b      Rita\n",
            "c     Vicki\n",
            "d    Justin\n",
            "e      John\n",
            "f    Michal\n",
            "dtype: object\n",
            "\n",
            "\n",
            "Justin\n"
          ]
        }
      ]
    },
    {
      "cell_type": "code",
      "source": [
        "# accessing multiple elements\n",
        "import pandas as pd\n",
        "names = pd.Series(['Mark','Rita','Vicki','Justin','John','Michal'],index = ['a','b','c','d','e','f'])\n",
        "print(names)\n",
        "print(\"\\n\")\n",
        "few_names = names[['d','e','a']]\n",
        "print(few_names)"
      ],
      "metadata": {
        "colab": {
          "base_uri": "https://localhost:8080/"
        },
        "id": "5nUtnS4DmPWE",
        "outputId": "535ba1d3-f4b2-4a70-c9af-2fbb91620b36"
      },
      "execution_count": null,
      "outputs": [
        {
          "output_type": "stream",
          "name": "stdout",
          "text": [
            "a      Mark\n",
            "b      Rita\n",
            "c     Vicki\n",
            "d    Justin\n",
            "e      John\n",
            "f    Michal\n",
            "dtype: object\n",
            "\n",
            "\n",
            "d    Justin\n",
            "e      John\n",
            "a      Mark\n",
            "dtype: object\n"
          ]
        }
      ]
    },
    {
      "cell_type": "markdown",
      "source": [
        "(C) - Accessing subset of Series using index/Label Range (Slicing)"
      ],
      "metadata": {
        "id": "5VCYWg7gmng7"
      }
    },
    {
      "cell_type": "code",
      "source": [
        "# by using Index\n",
        "import pandas as pd\n",
        "names = pd.Series(['Mark','Rita','Vicki','Justin','John','Michal'],index = ['a','b','c','d','e','f'])\n",
        "print(names)\n",
        "print(\"\\n\")\n",
        "few_names = names[1:4]\n",
        "print(few_names)"
      ],
      "metadata": {
        "colab": {
          "base_uri": "https://localhost:8080/"
        },
        "id": "PflUVWtdm1qv",
        "outputId": "b057f5e2-eb8c-4d5b-de01-4d25a45be6f8"
      },
      "execution_count": null,
      "outputs": [
        {
          "output_type": "stream",
          "name": "stdout",
          "text": [
            "a      Mark\n",
            "b      Rita\n",
            "c     Vicki\n",
            "d    Justin\n",
            "e      John\n",
            "f    Michal\n",
            "dtype: object\n",
            "\n",
            "\n",
            "b      Rita\n",
            "c     Vicki\n",
            "d    Justin\n",
            "dtype: object\n"
          ]
        }
      ]
    },
    {
      "cell_type": "code",
      "source": [
        "# by using label range\n",
        "import pandas as pd\n",
        "names = pd.Series(['Mark','Rita','Vicki','Justin','John','Michal'],index = ['a','b','c','d','e','f'])\n",
        "print(names)\n",
        "print(\"\\n\")\n",
        "few_names = names['b':'e']\n",
        "print(few_names)"
      ],
      "metadata": {
        "colab": {
          "base_uri": "https://localhost:8080/"
        },
        "id": "SO4etcNhnSmT",
        "outputId": "becec13e-8b6c-4336-dcc8-fa006fee987d"
      },
      "execution_count": null,
      "outputs": [
        {
          "output_type": "stream",
          "name": "stdout",
          "text": [
            "a      Mark\n",
            "b      Rita\n",
            "c     Vicki\n",
            "d    Justin\n",
            "e      John\n",
            "f    Michal\n",
            "dtype: object\n",
            "\n",
            "\n",
            "b      Rita\n",
            "c     Vicki\n",
            "d    Justin\n",
            "e      John\n",
            "dtype: object\n"
          ]
        }
      ]
    },
    {
      "cell_type": "markdown",
      "source": [
        "**Change single element in Series**"
      ],
      "metadata": {
        "id": "As72R30enpBS"
      }
    },
    {
      "cell_type": "markdown",
      "source": [
        "(A)- Changing single element in series by index position"
      ],
      "metadata": {
        "id": "hS36fvyEn6-Y"
      }
    },
    {
      "cell_type": "code",
      "source": [
        "import pandas as pd\n",
        "names = pd.Series(['Mark','Rita','Vicki','Justin','John','Michal'],index = ['a','b','c','d','e','f'])\n",
        "print(names)\n",
        "print(\"\\n\")\n",
        "names[2] = 'Sanjay'\n",
        "print(names)"
      ],
      "metadata": {
        "colab": {
          "base_uri": "https://localhost:8080/"
        },
        "id": "-gHEvwKJoL_9",
        "outputId": "7df08d84-08b3-449d-8ac1-93bfc64aba45"
      },
      "execution_count": null,
      "outputs": [
        {
          "output_type": "stream",
          "name": "stdout",
          "text": [
            "a      Mark\n",
            "b      Rita\n",
            "c     Vicki\n",
            "d    Justin\n",
            "e      John\n",
            "f    Michal\n",
            "dtype: object\n",
            "\n",
            "\n",
            "a      Mark\n",
            "b      Rita\n",
            "c    Sanjay\n",
            "d    Justin\n",
            "e      John\n",
            "f    Michal\n",
            "dtype: object\n"
          ]
        }
      ]
    },
    {
      "cell_type": "markdown",
      "source": [
        "(B)- Change single element in series by label value"
      ],
      "metadata": {
        "id": "pbRXgeJ4ojDb"
      }
    },
    {
      "cell_type": "code",
      "source": [
        "import pandas as pd\n",
        "names = pd.Series(['Mark','Rita','Vicki','Justin','John','Michal'],index = ['a','b','c','d','e','f'])\n",
        "print(names)\n",
        "print(\"\\n\")\n",
        "names['e'] = 'sabbo'\n",
        "print(names)   "
      ],
      "metadata": {
        "colab": {
          "base_uri": "https://localhost:8080/"
        },
        "id": "euDyFxKQou4T",
        "outputId": "d73ac8f4-d61b-4701-ba4e-3bcfcfa8c0b5"
      },
      "execution_count": null,
      "outputs": [
        {
          "output_type": "stream",
          "name": "stdout",
          "text": [
            "a      Mark\n",
            "b      Rita\n",
            "c     Vicki\n",
            "d    Justin\n",
            "e      John\n",
            "f    Michal\n",
            "dtype: object\n",
            "\n",
            "\n",
            "a      Mark\n",
            "b      Rita\n",
            "c     Vicki\n",
            "d    Justin\n",
            "e     sabbo\n",
            "f    Michal\n",
            "dtype: object\n"
          ]
        }
      ]
    },
    {
      "cell_type": "markdown",
      "source": [
        "(C)- Change multiple element in Series"
      ],
      "metadata": {
        "id": "kU3ics7OpKI_"
      }
    },
    {
      "cell_type": "code",
      "source": [
        "import pandas as pd\n",
        "names = pd.Series(['Mark','Rita','Vicki','Justin','John','Michal'],index = ['a','b','c','d','e','f'])\n",
        "print(names)\n",
        "print()\n",
        "\n",
        "names[0:3] = 'John Doe'\n",
        "print(names)\n",
        "print()\n",
        "\n",
        "names['a':'d'] = 'Smriti'\n",
        "print(names)\n"
      ],
      "metadata": {
        "colab": {
          "base_uri": "https://localhost:8080/"
        },
        "id": "_7Px-7czpRDW",
        "outputId": "0b3a23b0-484d-4fb0-d4b8-94f7ea4aabee"
      },
      "execution_count": null,
      "outputs": [
        {
          "output_type": "stream",
          "name": "stdout",
          "text": [
            "a      Mark\n",
            "b      Rita\n",
            "c     Vicki\n",
            "d    Justin\n",
            "e      John\n",
            "f    Michal\n",
            "dtype: object\n",
            "\n",
            "a    John Doe\n",
            "b    John Doe\n",
            "c    John Doe\n",
            "d      Justin\n",
            "e        John\n",
            "f      Michal\n",
            "dtype: object\n",
            "\n",
            "a    Smriti\n",
            "b    Smriti\n",
            "c    Smriti\n",
            "d    Smriti\n",
            "e      John\n",
            "f    Michal\n",
            "dtype: object\n"
          ]
        }
      ]
    },
    {
      "cell_type": "markdown",
      "source": [
        "**Deleting elements from series**"
      ],
      "metadata": {
        "id": "oUzzvgOip-hB"
      }
    },
    {
      "cell_type": "code",
      "source": [
        "import pandas as pd\n",
        "names = pd.Series(['Mark','Rita','Vicki','Justin','John','Michal'],index = ['a','b','c','d','e','f'])\n",
        "print(names)\n",
        "print(\"\\n\")\n",
        "names = names.drop(['b','c','e'])\n",
        "print('modified series')\n",
        "print(names)"
      ],
      "metadata": {
        "colab": {
          "base_uri": "https://localhost:8080/"
        },
        "id": "LUOepiGQqEgh",
        "outputId": "e07a5efb-68a7-4960-cbd4-cad8b63faccf"
      },
      "execution_count": null,
      "outputs": [
        {
          "output_type": "stream",
          "name": "stdout",
          "text": [
            "a      Mark\n",
            "b      Rita\n",
            "c     Vicki\n",
            "d    Justin\n",
            "e      John\n",
            "f    Michal\n",
            "dtype: object\n",
            "\n",
            "\n",
            "modified series\n",
            "a      Mark\n",
            "d    Justin\n",
            "f    Michal\n",
            "dtype: object\n"
          ]
        }
      ]
    },
    {
      "cell_type": "markdown",
      "source": [
        "**Write a pandas program to add,subtract,multiple and divide two Pandas Series**"
      ],
      "metadata": {
        "id": "BPpTjGRpqu9F"
      }
    },
    {
      "cell_type": "code",
      "source": [
        "import pandas as pd\n",
        "n1 = pd.Series([2,4,6,8,10])\n",
        "n2 = pd.Series([1,3,5,7,9])\n",
        "n = n1+n2\n",
        "print(\"Add two Series:\")\n",
        "print(n)\n",
        "n = n1-n2\n",
        "print(\"Subtract two Series:\")\n",
        "print(n)\n",
        "n = n1*n2\n",
        "print(\"Multiply two Series:\")\n",
        "print(n)\n",
        "n = n1/n2\n",
        "print(\"Divide two Series:\")\n",
        "print(n)"
      ],
      "metadata": {
        "colab": {
          "base_uri": "https://localhost:8080/"
        },
        "id": "ZVq7JH8eq_1h",
        "outputId": "d2dca292-933f-4ebb-bb51-ec74809c8a33"
      },
      "execution_count": null,
      "outputs": [
        {
          "output_type": "stream",
          "name": "stdout",
          "text": [
            "Add two Series:\n",
            "0     3\n",
            "1     7\n",
            "2    11\n",
            "3    15\n",
            "4    19\n",
            "dtype: int64\n",
            "Subtract two Series:\n",
            "0    1\n",
            "1    1\n",
            "2    1\n",
            "3    1\n",
            "4    1\n",
            "dtype: int64\n",
            "Multiply two Series:\n",
            "0     2\n",
            "1    12\n",
            "2    30\n",
            "3    56\n",
            "4    90\n",
            "dtype: int64\n",
            "Divide two Series:\n",
            "0    2.000000\n",
            "1    1.333333\n",
            "2    1.200000\n",
            "3    1.142857\n",
            "4    1.111111\n",
            "dtype: float64\n"
          ]
        }
      ]
    },
    {
      "cell_type": "markdown",
      "source": [
        "**Write a pandas program to compare the elements of the two Pandas Series**"
      ],
      "metadata": {
        "id": "5POLoKT8r9gv"
      }
    },
    {
      "cell_type": "code",
      "source": [
        "import pandas as pd\n",
        "n1 = pd.Series([2,4,6,8,10])\n",
        "n2 = pd.Series([1,3,5,7,10])\n",
        "print(\"Series1:\")\n",
        "print(n1)\n",
        "print(\"Series2:\")\n",
        "print(n2)\n",
        "print(\"Compare the elements of the said Series:\")\n",
        "print(\"Equals:\")\n",
        "print(n1 == n2)\n",
        "print(\"Greater than:\")\n",
        "print(n1>n2)\n",
        "print(\"Less than:\")\n",
        "print(n1<n2)"
      ],
      "metadata": {
        "colab": {
          "base_uri": "https://localhost:8080/"
        },
        "id": "e3HZQoJ-sNEr",
        "outputId": "89ef4beb-e49a-4ef0-b95a-9cdcb6e05dbd"
      },
      "execution_count": null,
      "outputs": [
        {
          "output_type": "stream",
          "name": "stdout",
          "text": [
            "Series1:\n",
            "0     2\n",
            "1     4\n",
            "2     6\n",
            "3     8\n",
            "4    10\n",
            "dtype: int64\n",
            "Series2:\n",
            "0     1\n",
            "1     3\n",
            "2     5\n",
            "3     7\n",
            "4    10\n",
            "dtype: int64\n",
            "Compare the elements of the said Series:\n",
            "Equals:\n",
            "0    False\n",
            "1    False\n",
            "2    False\n",
            "3    False\n",
            "4     True\n",
            "dtype: bool\n",
            "Greater than:\n",
            "0     True\n",
            "1     True\n",
            "2     True\n",
            "3     True\n",
            "4    False\n",
            "dtype: bool\n",
            "Less than:\n",
            "0    False\n",
            "1    False\n",
            "2    False\n",
            "3    False\n",
            "4    False\n",
            "dtype: bool\n"
          ]
        }
      ]
    },
    {
      "cell_type": "markdown",
      "source": [
        "**Adding/Merging Series together**"
      ],
      "metadata": {
        "id": "J_CJAOYVy2-9"
      }
    },
    {
      "cell_type": "code",
      "source": [
        "import pandas as pd\n",
        "first = pd.Series([100,200,300,400,500],index = ['a','b','e','f','g'])\n",
        "second = pd.Series([11,12,13,14],index = ['a','b','h','i'])\n",
        "total = first.add(second)\n",
        "print(total)"
      ],
      "metadata": {
        "colab": {
          "base_uri": "https://localhost:8080/"
        },
        "id": "uZzx_FqDy_RC",
        "outputId": "ff87c9b5-e85f-4249-9628-b8555dacace3"
      },
      "execution_count": null,
      "outputs": [
        {
          "output_type": "stream",
          "name": "stdout",
          "text": [
            "a    111.0\n",
            "b    212.0\n",
            "e      NaN\n",
            "f      NaN\n",
            "g      NaN\n",
            "h      NaN\n",
            "i      NaN\n",
            "dtype: float64\n"
          ]
        }
      ]
    },
    {
      "cell_type": "code",
      "source": [
        "import pandas as pd\n",
        "first = pd.Series([100,200,300,400,500],index = ['a','b','e','f','g'])\n",
        "second = pd.Series([11,12,13,14],index = ['a','b','h','i'])\n",
        "total  =first.add(second,fill_value=0)\n",
        "print(total)"
      ],
      "metadata": {
        "colab": {
          "base_uri": "https://localhost:8080/"
        },
        "id": "5TvHxD1c0DEk",
        "outputId": "86fc4e56-49d8-4d63-b038-068fb3d21722"
      },
      "execution_count": null,
      "outputs": [
        {
          "output_type": "stream",
          "name": "stdout",
          "text": [
            "a    111.0\n",
            "b    212.0\n",
            "e    300.0\n",
            "f    400.0\n",
            "g    500.0\n",
            "h     13.0\n",
            "i     14.0\n",
            "dtype: float64\n"
          ]
        }
      ]
    },
    {
      "cell_type": "code",
      "source": [
        "import pandas as pd\n",
        "import numpy as np\n",
        "first = pd.Series([100,200,300,400,500],index = ['a','b','e','f','g'])\n",
        "second = pd.Series([11,np.NaN,13,34],index = ['a','b','h','i'])\n",
        "total = first.add(second,fill_value=0)\n",
        "print(total)"
      ],
      "metadata": {
        "colab": {
          "base_uri": "https://localhost:8080/"
        },
        "id": "MptETBK_04b_",
        "outputId": "2517dae2-41c5-4b80-9f1c-a5e98ae7fcdf"
      },
      "execution_count": null,
      "outputs": [
        {
          "output_type": "stream",
          "name": "stdout",
          "text": [
            "a    111.0\n",
            "b    200.0\n",
            "e    300.0\n",
            "f    400.0\n",
            "g    500.0\n",
            "h     13.0\n",
            "i     34.0\n",
            "dtype: float64\n"
          ]
        }
      ]
    },
    {
      "cell_type": "markdown",
      "source": [
        "**Different methods of creating the DataFrame**"
      ],
      "metadata": {
        "id": "xsAnAjAv2q7v"
      }
    },
    {
      "cell_type": "markdown",
      "source": [
        "Creating empty Dataframe"
      ],
      "metadata": {
        "id": "wrn9QfRA21mw"
      }
    },
    {
      "cell_type": "code",
      "source": [
        "import pandas as pd\n",
        "d = pd.DataFrame()\n",
        "print(d)"
      ],
      "metadata": {
        "colab": {
          "base_uri": "https://localhost:8080/"
        },
        "id": "vreJraKn3Dky",
        "outputId": "6aef5c8c-a216-4970-c4aa-59a8f15332c4"
      },
      "execution_count": null,
      "outputs": [
        {
          "output_type": "stream",
          "name": "stdout",
          "text": [
            "Empty DataFrame\n",
            "Columns: []\n",
            "Index: []\n"
          ]
        }
      ]
    },
    {
      "cell_type": "markdown",
      "source": [
        "Method-1. Creating a DataFrame using single tuple/list "
      ],
      "metadata": {
        "id": "yfazCgQy3Tpt"
      }
    },
    {
      "cell_type": "code",
      "source": [
        "# creating DataFrame using the Tuple\n",
        "df = pd.DataFrame(('python','for','data','science','AI','ML','DL'))\n",
        "print(df)"
      ],
      "metadata": {
        "colab": {
          "base_uri": "https://localhost:8080/"
        },
        "id": "8fe9ZOC23ft5",
        "outputId": "347c8e8a-643f-437e-b40c-ff02f4df08ee"
      },
      "execution_count": null,
      "outputs": [
        {
          "output_type": "stream",
          "name": "stdout",
          "text": [
            "         0\n",
            "0   python\n",
            "1      for\n",
            "2     data\n",
            "3  science\n",
            "4       AI\n",
            "5       ML\n",
            "6       DL\n"
          ]
        }
      ]
    },
    {
      "cell_type": "code",
      "source": [
        "# creating DataFrame using list\n",
        "df = pd.DataFrame(['python','for','data','science','AI','ML','DL'])\n",
        "print(df)"
      ],
      "metadata": {
        "colab": {
          "base_uri": "https://localhost:8080/"
        },
        "id": "WUbRBZf24AE_",
        "outputId": "c3ff92ed-97ba-4177-aa92-102e8c637ae1"
      },
      "execution_count": null,
      "outputs": [
        {
          "output_type": "stream",
          "name": "stdout",
          "text": [
            "         0\n",
            "0   python\n",
            "1      for\n",
            "2     data\n",
            "3  science\n",
            "4       AI\n",
            "5       ML\n",
            "6       DL\n"
          ]
        }
      ]
    },
    {
      "cell_type": "markdown",
      "source": [
        "Method-2. Creating DataFrame using a list of list"
      ],
      "metadata": {
        "id": "YoESUNdt4Yzj"
      }
    },
    {
      "cell_type": "code",
      "source": [
        "df = pd.DataFrame([['alex',10],['Bob',12],['clarke',13]])\n",
        "print(df)"
      ],
      "metadata": {
        "colab": {
          "base_uri": "https://localhost:8080/"
        },
        "id": "t85Ka2bg4YUx",
        "outputId": "79732227-74c0-48c2-9f7b-9f35ead44b4c"
      },
      "execution_count": null,
      "outputs": [
        {
          "output_type": "stream",
          "name": "stdout",
          "text": [
            "        0   1\n",
            "0    alex  10\n",
            "1     Bob  12\n",
            "2  clarke  13\n"
          ]
        }
      ]
    },
    {
      "cell_type": "markdown",
      "source": [
        "Method-3. Creating DataFrame using a list of dictionary"
      ],
      "metadata": {
        "id": "zn8E8vEh4zxo"
      }
    },
    {
      "cell_type": "code",
      "source": [
        "df = pd.DataFrame([{'alex':10,'bob':20,'clarke':30},{'bob':12},{'clarke':13}])\n",
        "print(df)"
      ],
      "metadata": {
        "colab": {
          "base_uri": "https://localhost:8080/"
        },
        "id": "xFLLMfJb47-r",
        "outputId": "37e0b77a-7227-442a-d0c9-f436e2e56f6f"
      },
      "execution_count": null,
      "outputs": [
        {
          "output_type": "stream",
          "name": "stdout",
          "text": [
            "   alex   bob  clarke\n",
            "0  10.0  20.0    30.0\n",
            "1   NaN  12.0     NaN\n",
            "2   NaN   NaN    13.0\n"
          ]
        }
      ]
    },
    {
      "cell_type": "markdown",
      "source": [
        "Method-4. Creating a DataFrame using dictionary of lists"
      ],
      "metadata": {
        "id": "oTLTkW_35bKD"
      }
    },
    {
      "cell_type": "code",
      "source": [
        "df = pd.DataFrame({'Name':['tom','nick','krish','jack'],'Age':[20,21,19,18]})\n",
        "print(df)"
      ],
      "metadata": {
        "colab": {
          "base_uri": "https://localhost:8080/"
        },
        "id": "X5FNfuwZ5k_i",
        "outputId": "96eff849-315f-43cf-d034-c044468c7e9b"
      },
      "execution_count": null,
      "outputs": [
        {
          "output_type": "stream",
          "name": "stdout",
          "text": [
            "    Name  Age\n",
            "0    tom   20\n",
            "1   nick   21\n",
            "2  krish   19\n",
            "3   jack   18\n"
          ]
        }
      ]
    },
    {
      "cell_type": "markdown",
      "source": [
        "Method-5. Creating a DataFrame using a NumPy array"
      ],
      "metadata": {
        "id": "ofquB__E6Exy"
      }
    },
    {
      "cell_type": "code",
      "source": [
        "import numpy as np\n",
        "df = pd.DataFrame({\n",
        "    'name':['jane','john','ashley','mike','emily','jack','catlin'],\n",
        "    'ctg':['A','A','C','B','B','C','B'],\n",
        "    'val':np.random.random(7).round(2),\n",
        "    'val2':np.random.randint(1,10,size=7),\n",
        "    'val3':np.array(['aditya',20,'a',30,'emily',40,50])\n",
        "})\n",
        "print(df)"
      ],
      "metadata": {
        "colab": {
          "base_uri": "https://localhost:8080/"
        },
        "id": "DmLhtovd6OBN",
        "outputId": "8285dd02-5687-4a33-9421-15e1b0738a84"
      },
      "execution_count": null,
      "outputs": [
        {
          "output_type": "stream",
          "name": "stdout",
          "text": [
            "     name ctg   val  val2    val3\n",
            "0    jane   A  0.68     6  aditya\n",
            "1    john   A  0.09     9      20\n",
            "2  ashley   C  0.83     6       a\n",
            "3    mike   B  0.13     3      30\n",
            "4   emily   B  0.85     4   emily\n",
            "5    jack   C  0.02     4      40\n",
            "6  catlin   B  0.80     7      50\n"
          ]
        }
      ]
    },
    {
      "cell_type": "markdown",
      "source": [
        "Method-6. Creating DataFrame using Series"
      ],
      "metadata": {
        "id": "efkmfNrG7e-6"
      }
    },
    {
      "cell_type": "code",
      "source": [
        "import pandas as pd\n",
        "a = pd.DataFrame(pd.Series(['jit','purn','arp','jot']))\n",
        "print(a)"
      ],
      "metadata": {
        "colab": {
          "base_uri": "https://localhost:8080/"
        },
        "id": "FbIQEzpl7kiS",
        "outputId": "b0d8e453-ed3f-43ed-a980-d17f15b039f0"
      },
      "execution_count": null,
      "outputs": [
        {
          "output_type": "stream",
          "name": "stdout",
          "text": [
            "      0\n",
            "0   jit\n",
            "1  purn\n",
            "2   arp\n",
            "3   jot\n"
          ]
        }
      ]
    },
    {
      "cell_type": "markdown",
      "source": [
        "Method-7. Creating DataFrame using .csv files"
      ],
      "metadata": {
        "id": "EJjMyfId8lvX"
      }
    },
    {
      "cell_type": "code",
      "source": [
        "import pandas as pd\n",
        "df = pd.read_csv('/content/drive/MyDrive/nba.csv')\n",
        "print(df)"
      ],
      "metadata": {
        "colab": {
          "base_uri": "https://localhost:8080/"
        },
        "id": "bseSfgRP8lEU",
        "outputId": "da850725-4385-4a49-fadb-445ed42266f8"
      },
      "execution_count": null,
      "outputs": [
        {
          "output_type": "stream",
          "name": "stdout",
          "text": [
            "     Unnamed: 0            Name                    Team  Number Position  \\\n",
            "0           152    Aaron Brooks           Chicago Bulls     0.0       PG   \n",
            "1           356    Aaron Gordon           Orlando Magic     0.0       PF   \n",
            "2           328  Aaron Harrison       Charlotte Hornets     9.0       SG   \n",
            "3           404   Adreian Payne  Minnesota Timberwolves    33.0       PF   \n",
            "4           312      Al Horford           Atlanta Hawks    15.0        C   \n",
            "..          ...             ...                     ...     ...      ...   \n",
            "453         270  Xavier Munford       Memphis Grizzlies    14.0       PG   \n",
            "454         402     Zach LaVine  Minnesota Timberwolves     8.0       PG   \n",
            "455         271   Zach Randolph       Memphis Grizzlies    50.0       PF   \n",
            "456         237   Zaza Pachulia        Dallas Mavericks    27.0        C   \n",
            "457         457             NaN                     NaN     NaN      NaN   \n",
            "\n",
            "      Age Height  Weight         College      Salary  \n",
            "0    31.0    6-0   161.0          Oregon   2250000.0  \n",
            "1    20.0    6-9   220.0         Arizona   4171680.0  \n",
            "2    21.0    6-6   210.0        Kentucky    525093.0  \n",
            "3    25.0   6-10   237.0  Michigan State   1938840.0  \n",
            "4    30.0   6-10   245.0         Florida  12000000.0  \n",
            "..    ...    ...     ...             ...         ...  \n",
            "453  24.0    6-3   180.0    Rhode Island         NaN  \n",
            "454  21.0    6-5   189.0            UCLA   2148360.0  \n",
            "455  34.0    6-9   260.0  Michigan State   9638555.0  \n",
            "456  32.0   6-11   275.0             NaN   5200000.0  \n",
            "457   NaN    NaN     NaN             NaN         NaN  \n",
            "\n",
            "[458 rows x 10 columns]\n"
          ]
        }
      ]
    },
    {
      "cell_type": "markdown",
      "source": [
        "Creating DataFrame using another DataFrame"
      ],
      "metadata": {
        "id": "hAe8J7XaDkQq"
      }
    },
    {
      "cell_type": "code",
      "source": [],
      "metadata": {
        "id": "5beHfOQTEHoU"
      },
      "execution_count": null,
      "outputs": []
    },
    {
      "cell_type": "markdown",
      "source": [
        "Data alignment and arithematic"
      ],
      "metadata": {
        "id": "ZxwcyoZOEJP_"
      }
    },
    {
      "cell_type": "code",
      "source": [
        "import numpy as np\n",
        "import pandas as pd\n",
        "df = pd.DataFrame(np.random.randn(8,4),columns=['P','Q','R','S'])\n",
        "df2 = pd.DataFrame(np.random.randn(9,3),columns=['P','Q','R'])\n",
        "print(df+df2)\n",
        "print(\"\\n\")\n",
        "print(df*4+2)\n",
        "print(\"\\n\")\n",
        "print(1/df)\n",
        "print(\"\\n\")\n"
      ],
      "metadata": {
        "colab": {
          "base_uri": "https://localhost:8080/"
        },
        "id": "VJEVhhTiENsY",
        "outputId": "f18cfb5b-f224-4931-d876-2391649349de"
      },
      "execution_count": null,
      "outputs": [
        {
          "output_type": "stream",
          "name": "stdout",
          "text": [
            "          P         Q         R   S\n",
            "0  0.015987  2.506446  1.399979 NaN\n",
            "1  0.745662  0.748497  2.208159 NaN\n",
            "2  0.890962  0.482449  1.952628 NaN\n",
            "3 -1.830965  2.029272  1.242993 NaN\n",
            "4  0.205828  0.655799  2.364391 NaN\n",
            "5 -0.451550 -0.775220  0.468155 NaN\n",
            "6 -0.996565 -0.165404 -0.160962 NaN\n",
            "7 -1.561832  1.065028  0.890705 NaN\n",
            "8       NaN       NaN       NaN NaN\n",
            "\n",
            "\n",
            "          P          Q         R         S\n",
            "0  1.766822  12.975577  2.661344  5.414699\n",
            "1  4.128409   1.473878  2.282290  5.007647\n",
            "2  5.977301  -0.343078  8.947454 -0.458135\n",
            "3 -2.688613   5.255462  5.090044 -4.188292\n",
            "4  2.776849   2.504727  2.528696  3.261759\n",
            "5  2.663063  -1.081473  5.447324  5.311768\n",
            "6  0.152818  -0.447368 -1.282984  5.095811\n",
            "7 -2.980730   5.471808  1.228065 -3.317148\n",
            "\n",
            "\n",
            "           P         Q          R         S\n",
            "0 -17.154282  0.364446   6.048294  1.171406\n",
            "1   1.879338 -7.602796  14.169838  1.329943\n",
            "2   1.005707 -1.707156   0.575750 -1.627250\n",
            "3  -0.853131  1.228704   1.294480 -0.646382\n",
            "4   5.149008  7.925084   7.565787  3.170177\n",
            "5   6.032609 -1.298081   1.160320  1.207814\n",
            "6  -2.165460 -1.634409  -1.218404  1.292068\n",
            "7  -0.803095  1.152137  -5.181781 -0.752283\n"
          ]
        }
      ]
    },
    {
      "cell_type": "code",
      "source": [
        "import numpy as np\n",
        "import pandas as pd\n",
        "df = pd.DataFrame(np.random.randn(8,4),columns=['P','Q','R','S'])\n",
        "df2 = pd.DataFrame(np.random.randn(9,3),columns=['P','Q','R'])\n",
        "print(df.round(2))\n",
        "df1 = df **2\n",
        "print(\"\\n\")\n",
        "print(df1)\n",
        "print(\"\\n\")\n",
        "print(df1.round(2))"
      ],
      "metadata": {
        "colab": {
          "base_uri": "https://localhost:8080/"
        },
        "id": "rTkiZsgSFRRA",
        "outputId": "0dc34513-cfff-45a8-c748-24098c800e0c"
      },
      "execution_count": null,
      "outputs": [
        {
          "output_type": "stream",
          "name": "stdout",
          "text": [
            "      P     Q     R     S\n",
            "0  0.65  1.47 -0.29 -0.07\n",
            "1  0.38 -1.46  0.05 -0.63\n",
            "2  0.60 -0.76 -0.58  0.67\n",
            "3 -1.05 -0.25 -1.03 -1.04\n",
            "4 -0.16 -0.09 -1.41  1.57\n",
            "5 -0.59 -1.62 -0.10  1.19\n",
            "6  0.46  0.01  1.28 -0.21\n",
            "7  0.82  0.45  1.19 -0.82\n",
            "\n",
            "\n",
            "          P         Q         R         S\n",
            "0  0.420371  2.169177  0.081531  0.004264\n",
            "1  0.141970  2.117542  0.002390  0.399900\n",
            "2  0.355192  0.572339  0.334277  0.452920\n",
            "3  1.103541  0.062580  1.067659  1.082974\n",
            "4  0.027133  0.008733  1.982626  2.457847\n",
            "5  0.346030  2.624944  0.010615  1.427282\n",
            "6  0.215798  0.000058  1.638529  0.043711\n",
            "7  0.665894  0.204586  1.406006  0.669373\n",
            "\n",
            "\n",
            "      P     Q     R     S\n",
            "0  0.42  2.17  0.08  0.00\n",
            "1  0.14  2.12  0.00  0.40\n",
            "2  0.36  0.57  0.33  0.45\n",
            "3  1.10  0.06  1.07  1.08\n",
            "4  0.03  0.01  1.98  2.46\n",
            "5  0.35  2.62  0.01  1.43\n",
            "6  0.22  0.00  1.64  0.04\n",
            "7  0.67  0.20  1.41  0.67\n"
          ]
        }
      ]
    },
    {
      "cell_type": "markdown",
      "source": [
        "Boolean operator on DataFrame"
      ],
      "metadata": {
        "id": "UNwQO_qMFqlB"
      }
    },
    {
      "cell_type": "code",
      "source": [
        "df1 = pd.DataFrame({'x':[1,0,1],'y':[0,1,1]},dtype = bool )\n",
        "df2 = pd.DataFrame({'x':[0,1,1],'y':[1,1,0]},dtype = bool )\n",
        "print(df1 & df2)\n",
        "print(\"\\n\")\n",
        "print(df1 | df2)\n",
        "print(\"\\n\")\n",
        "print(df1 ^ df2)\n",
        "print(\"\\n\")\n",
        "print(-df1)"
      ],
      "metadata": {
        "colab": {
          "base_uri": "https://localhost:8080/"
        },
        "id": "lkhWSxZUFvAl",
        "outputId": "4f64de70-dec1-4028-8a6c-04d3a1368e92"
      },
      "execution_count": null,
      "outputs": [
        {
          "output_type": "stream",
          "name": "stdout",
          "text": [
            "       x      y\n",
            "0  False  False\n",
            "1  False   True\n",
            "2   True  False\n",
            "\n",
            "\n",
            "      x     y\n",
            "0  True  True\n",
            "1  True  True\n",
            "2  True  True\n",
            "\n",
            "\n",
            "       x      y\n",
            "0   True   True\n",
            "1   True  False\n",
            "2  False   True\n",
            "\n",
            "\n",
            "       x      y\n",
            "0  False   True\n",
            "1   True  False\n",
            "2  False  False\n"
          ]
        }
      ]
    },
    {
      "cell_type": "markdown",
      "source": [
        "**Methods of indexing/selection in pandas DataFrame using DataFrame.[] , DataFrame.loc[] and DataFrame.iloc[]**"
      ],
      "metadata": {
        "id": "ArFFwi6UWA04"
      }
    },
    {
      "cell_type": "code",
      "source": [
        "import pandas as pd\n",
        "df = pd.read_csv('/content/drive/MyDrive/nba.csv')\n",
        "print(df)"
      ],
      "metadata": {
        "colab": {
          "base_uri": "https://localhost:8080/"
        },
        "id": "0DDKenIaWxqH",
        "outputId": "c76cb9eb-7c9b-46ed-ddac-5ffa2254b320"
      },
      "execution_count": null,
      "outputs": [
        {
          "output_type": "stream",
          "name": "stdout",
          "text": [
            "     Unnamed: 0            Name                    Team  Number Position  \\\n",
            "0           152    Aaron Brooks           Chicago Bulls     0.0       PG   \n",
            "1           356    Aaron Gordon           Orlando Magic     0.0       PF   \n",
            "2           328  Aaron Harrison       Charlotte Hornets     9.0       SG   \n",
            "3           404   Adreian Payne  Minnesota Timberwolves    33.0       PF   \n",
            "4           312      Al Horford           Atlanta Hawks    15.0        C   \n",
            "..          ...             ...                     ...     ...      ...   \n",
            "453         270  Xavier Munford       Memphis Grizzlies    14.0       PG   \n",
            "454         402     Zach LaVine  Minnesota Timberwolves     8.0       PG   \n",
            "455         271   Zach Randolph       Memphis Grizzlies    50.0       PF   \n",
            "456         237   Zaza Pachulia        Dallas Mavericks    27.0        C   \n",
            "457         457             NaN                     NaN     NaN      NaN   \n",
            "\n",
            "      Age Height  Weight         College      Salary  \n",
            "0    31.0    6-0   161.0          Oregon   2250000.0  \n",
            "1    20.0    6-9   220.0         Arizona   4171680.0  \n",
            "2    21.0    6-6   210.0        Kentucky    525093.0  \n",
            "3    25.0   6-10   237.0  Michigan State   1938840.0  \n",
            "4    30.0   6-10   245.0         Florida  12000000.0  \n",
            "..    ...    ...     ...             ...         ...  \n",
            "453  24.0    6-3   180.0    Rhode Island         NaN  \n",
            "454  21.0    6-5   189.0            UCLA   2148360.0  \n",
            "455  34.0    6-9   260.0  Michigan State   9638555.0  \n",
            "456  32.0   6-11   275.0             NaN   5200000.0  \n",
            "457   NaN    NaN     NaN             NaN         NaN  \n",
            "\n",
            "[458 rows x 10 columns]\n"
          ]
        }
      ]
    },
    {
      "cell_type": "markdown",
      "source": [
        "(A) indexing/selection a DataFrame using indexing operator [ ]"
      ],
      "metadata": {
        "id": "PBQYwb18Wg18"
      }
    },
    {
      "cell_type": "code",
      "source": [
        "# Selecting a single columns\n",
        "\n",
        "df = pd.read_csv('/content/drive/MyDrive/nba.csv',index_col = \"Name\")\n",
        "a = df['Team']\n",
        "print(a)"
      ],
      "metadata": {
        "colab": {
          "base_uri": "https://localhost:8080/"
        },
        "id": "W5HbUkCXWtoL",
        "outputId": "5dbdfd9a-f5d0-4933-c3af-81ddf62dfe0f"
      },
      "execution_count": null,
      "outputs": [
        {
          "output_type": "stream",
          "name": "stdout",
          "text": [
            "Name\n",
            "Aaron Brooks               Chicago Bulls\n",
            "Aaron Gordon               Orlando Magic\n",
            "Aaron Harrison         Charlotte Hornets\n",
            "Adreian Payne     Minnesota Timberwolves\n",
            "Al Horford                 Atlanta Hawks\n",
            "                           ...          \n",
            "Xavier Munford         Memphis Grizzlies\n",
            "Zach LaVine       Minnesota Timberwolves\n",
            "Zach Randolph          Memphis Grizzlies\n",
            "Zaza Pachulia           Dallas Mavericks\n",
            "NaN                                  NaN\n",
            "Name: Team, Length: 458, dtype: object\n"
          ]
        }
      ]
    },
    {
      "cell_type": "code",
      "source": [
        "# Selecting multiple columns\n",
        "\n",
        "df = pd.read_csv('/content/drive/MyDrive/nba.csv',index_col = \"Name\")\n",
        "first = df[[\"Age\",\"College\",\"Salary\"]]\n",
        "print(first)"
      ],
      "metadata": {
        "colab": {
          "base_uri": "https://localhost:8080/"
        },
        "id": "3qHBWbXLYOiu",
        "outputId": "4a31133c-c67f-4780-945c-ca8ad8673205"
      },
      "execution_count": null,
      "outputs": [
        {
          "output_type": "stream",
          "name": "stdout",
          "text": [
            "                 Age         College      Salary\n",
            "Name                                            \n",
            "Aaron Brooks    31.0          Oregon   2250000.0\n",
            "Aaron Gordon    20.0         Arizona   4171680.0\n",
            "Aaron Harrison  21.0        Kentucky    525093.0\n",
            "Adreian Payne   25.0  Michigan State   1938840.0\n",
            "Al Horford      30.0         Florida  12000000.0\n",
            "...              ...             ...         ...\n",
            "Xavier Munford  24.0    Rhode Island         NaN\n",
            "Zach LaVine     21.0            UCLA   2148360.0\n",
            "Zach Randolph   34.0  Michigan State   9638555.0\n",
            "Zaza Pachulia   32.0             NaN   5200000.0\n",
            "NaN              NaN             NaN         NaN\n",
            "\n",
            "[458 rows x 3 columns]\n"
          ]
        }
      ]
    },
    {
      "cell_type": "markdown",
      "source": [
        "(B) Indexing/selection a DataFrame using .loc[ ]"
      ],
      "metadata": {
        "id": "PF0nwNQBZiaY"
      }
    },
    {
      "cell_type": "code",
      "source": [
        "# selcting a single row\n",
        "\n",
        "df = pd.read_csv('/content/drive/MyDrive/nba.csv',index_col = \"Name\")\n",
        "first = df.loc[\"Avery Bradley\"]\n",
        "second = df.loc[\"R.J. Hunter\"]\n",
        "first"
      ],
      "metadata": {
        "colab": {
          "base_uri": "https://localhost:8080/"
        },
        "id": "LYu6nnTMZuPR",
        "outputId": "423bc6c7-c38a-45d0-f4d2-53a945bac967"
      },
      "execution_count": null,
      "outputs": [
        {
          "output_type": "execute_result",
          "data": {
            "text/plain": [
              "Unnamed: 0                 0\n",
              "Team          Boston Celtics\n",
              "Number                   0.0\n",
              "Position                  PG\n",
              "Age                     25.0\n",
              "Height                   6-2\n",
              "Weight                 180.0\n",
              "College                Texas\n",
              "Salary             7730337.0\n",
              "Name: Avery Bradley, dtype: object"
            ]
          },
          "metadata": {},
          "execution_count": 14
        }
      ]
    },
    {
      "cell_type": "code",
      "source": [
        "# Selcting multiple rows\n",
        "\n",
        "df = pd.read_csv('/content/drive/MyDrive/nba.csv',index_col = \"Name\")\n",
        "first = df.loc[[\"Avery Bradley\",\"Aaron Brooks\"]]\n",
        "first"
      ],
      "metadata": {
        "colab": {
          "base_uri": "https://localhost:8080/",
          "height": 143
        },
        "id": "cKOic1nWasEW",
        "outputId": "227ab213-a68b-4453-cde2-c6ed18431983"
      },
      "execution_count": null,
      "outputs": [
        {
          "output_type": "execute_result",
          "data": {
            "text/plain": [
              "               Unnamed: 0            Team  Number Position   Age Height  \\\n",
              "Name                                                                      \n",
              "Avery Bradley           0  Boston Celtics     0.0       PG  25.0    6-2   \n",
              "Aaron Brooks          152   Chicago Bulls     0.0       PG  31.0    6-0   \n",
              "\n",
              "               Weight College     Salary  \n",
              "Name                                      \n",
              "Avery Bradley   180.0   Texas  7730337.0  \n",
              "Aaron Brooks    161.0  Oregon  2250000.0  "
            ],
            "text/html": [
              "\n",
              "  <div id=\"df-f821caf3-bb8f-4f8d-a0f5-153518ae5ee2\">\n",
              "    <div class=\"colab-df-container\">\n",
              "      <div>\n",
              "<style scoped>\n",
              "    .dataframe tbody tr th:only-of-type {\n",
              "        vertical-align: middle;\n",
              "    }\n",
              "\n",
              "    .dataframe tbody tr th {\n",
              "        vertical-align: top;\n",
              "    }\n",
              "\n",
              "    .dataframe thead th {\n",
              "        text-align: right;\n",
              "    }\n",
              "</style>\n",
              "<table border=\"1\" class=\"dataframe\">\n",
              "  <thead>\n",
              "    <tr style=\"text-align: right;\">\n",
              "      <th></th>\n",
              "      <th>Unnamed: 0</th>\n",
              "      <th>Team</th>\n",
              "      <th>Number</th>\n",
              "      <th>Position</th>\n",
              "      <th>Age</th>\n",
              "      <th>Height</th>\n",
              "      <th>Weight</th>\n",
              "      <th>College</th>\n",
              "      <th>Salary</th>\n",
              "    </tr>\n",
              "    <tr>\n",
              "      <th>Name</th>\n",
              "      <th></th>\n",
              "      <th></th>\n",
              "      <th></th>\n",
              "      <th></th>\n",
              "      <th></th>\n",
              "      <th></th>\n",
              "      <th></th>\n",
              "      <th></th>\n",
              "      <th></th>\n",
              "    </tr>\n",
              "  </thead>\n",
              "  <tbody>\n",
              "    <tr>\n",
              "      <th>Avery Bradley</th>\n",
              "      <td>0</td>\n",
              "      <td>Boston Celtics</td>\n",
              "      <td>0.0</td>\n",
              "      <td>PG</td>\n",
              "      <td>25.0</td>\n",
              "      <td>6-2</td>\n",
              "      <td>180.0</td>\n",
              "      <td>Texas</td>\n",
              "      <td>7730337.0</td>\n",
              "    </tr>\n",
              "    <tr>\n",
              "      <th>Aaron Brooks</th>\n",
              "      <td>152</td>\n",
              "      <td>Chicago Bulls</td>\n",
              "      <td>0.0</td>\n",
              "      <td>PG</td>\n",
              "      <td>31.0</td>\n",
              "      <td>6-0</td>\n",
              "      <td>161.0</td>\n",
              "      <td>Oregon</td>\n",
              "      <td>2250000.0</td>\n",
              "    </tr>\n",
              "  </tbody>\n",
              "</table>\n",
              "</div>\n",
              "      <button class=\"colab-df-convert\" onclick=\"convertToInteractive('df-f821caf3-bb8f-4f8d-a0f5-153518ae5ee2')\"\n",
              "              title=\"Convert this dataframe to an interactive table.\"\n",
              "              style=\"display:none;\">\n",
              "        \n",
              "  <svg xmlns=\"http://www.w3.org/2000/svg\" height=\"24px\"viewBox=\"0 0 24 24\"\n",
              "       width=\"24px\">\n",
              "    <path d=\"M0 0h24v24H0V0z\" fill=\"none\"/>\n",
              "    <path d=\"M18.56 5.44l.94 2.06.94-2.06 2.06-.94-2.06-.94-.94-2.06-.94 2.06-2.06.94zm-11 1L8.5 8.5l.94-2.06 2.06-.94-2.06-.94L8.5 2.5l-.94 2.06-2.06.94zm10 10l.94 2.06.94-2.06 2.06-.94-2.06-.94-.94-2.06-.94 2.06-2.06.94z\"/><path d=\"M17.41 7.96l-1.37-1.37c-.4-.4-.92-.59-1.43-.59-.52 0-1.04.2-1.43.59L10.3 9.45l-7.72 7.72c-.78.78-.78 2.05 0 2.83L4 21.41c.39.39.9.59 1.41.59.51 0 1.02-.2 1.41-.59l7.78-7.78 2.81-2.81c.8-.78.8-2.07 0-2.86zM5.41 20L4 18.59l7.72-7.72 1.47 1.35L5.41 20z\"/>\n",
              "  </svg>\n",
              "      </button>\n",
              "      \n",
              "  <style>\n",
              "    .colab-df-container {\n",
              "      display:flex;\n",
              "      flex-wrap:wrap;\n",
              "      gap: 12px;\n",
              "    }\n",
              "\n",
              "    .colab-df-convert {\n",
              "      background-color: #E8F0FE;\n",
              "      border: none;\n",
              "      border-radius: 50%;\n",
              "      cursor: pointer;\n",
              "      display: none;\n",
              "      fill: #1967D2;\n",
              "      height: 32px;\n",
              "      padding: 0 0 0 0;\n",
              "      width: 32px;\n",
              "    }\n",
              "\n",
              "    .colab-df-convert:hover {\n",
              "      background-color: #E2EBFA;\n",
              "      box-shadow: 0px 1px 2px rgba(60, 64, 67, 0.3), 0px 1px 3px 1px rgba(60, 64, 67, 0.15);\n",
              "      fill: #174EA6;\n",
              "    }\n",
              "\n",
              "    [theme=dark] .colab-df-convert {\n",
              "      background-color: #3B4455;\n",
              "      fill: #D2E3FC;\n",
              "    }\n",
              "\n",
              "    [theme=dark] .colab-df-convert:hover {\n",
              "      background-color: #434B5C;\n",
              "      box-shadow: 0px 1px 3px 1px rgba(0, 0, 0, 0.15);\n",
              "      filter: drop-shadow(0px 1px 2px rgba(0, 0, 0, 0.3));\n",
              "      fill: #FFFFFF;\n",
              "    }\n",
              "  </style>\n",
              "\n",
              "      <script>\n",
              "        const buttonEl =\n",
              "          document.querySelector('#df-f821caf3-bb8f-4f8d-a0f5-153518ae5ee2 button.colab-df-convert');\n",
              "        buttonEl.style.display =\n",
              "          google.colab.kernel.accessAllowed ? 'block' : 'none';\n",
              "\n",
              "        async function convertToInteractive(key) {\n",
              "          const element = document.querySelector('#df-f821caf3-bb8f-4f8d-a0f5-153518ae5ee2');\n",
              "          const dataTable =\n",
              "            await google.colab.kernel.invokeFunction('convertToInteractive',\n",
              "                                                     [key], {});\n",
              "          if (!dataTable) return;\n",
              "\n",
              "          const docLinkHtml = 'Like what you see? Visit the ' +\n",
              "            '<a target=\"_blank\" href=https://colab.research.google.com/notebooks/data_table.ipynb>data table notebook</a>'\n",
              "            + ' to learn more about interactive tables.';\n",
              "          element.innerHTML = '';\n",
              "          dataTable['output_type'] = 'display_data';\n",
              "          await google.colab.output.renderOutput(dataTable, element);\n",
              "          const docLink = document.createElement('div');\n",
              "          docLink.innerHTML = docLinkHtml;\n",
              "          element.appendChild(docLink);\n",
              "        }\n",
              "      </script>\n",
              "    </div>\n",
              "  </div>\n",
              "  "
            ]
          },
          "metadata": {},
          "execution_count": 16
        }
      ]
    },
    {
      "cell_type": "code",
      "source": [
        "# Selecting two rows and three columns\n",
        "\n",
        "df = pd.read_csv('/content/drive/MyDrive/nba.csv',index_col = \"Name\")\n",
        "first = df.loc[[\"Avery Bradley\",\"Aaron Brooks\"],[\"Team\",\"Number\",\"Position\"]]\n",
        "first"
      ],
      "metadata": {
        "colab": {
          "base_uri": "https://localhost:8080/",
          "height": 143
        },
        "id": "iHXLu__kbhKG",
        "outputId": "f0b1f244-34b7-445a-ed8d-8bfba4143b3e"
      },
      "execution_count": null,
      "outputs": [
        {
          "output_type": "execute_result",
          "data": {
            "text/plain": [
              "                         Team  Number Position\n",
              "Name                                          \n",
              "Avery Bradley  Boston Celtics     0.0       PG\n",
              "Aaron Brooks    Chicago Bulls     0.0       PG"
            ],
            "text/html": [
              "\n",
              "  <div id=\"df-5f3dc5b7-18be-4af8-8773-fdfff4ea1f3e\">\n",
              "    <div class=\"colab-df-container\">\n",
              "      <div>\n",
              "<style scoped>\n",
              "    .dataframe tbody tr th:only-of-type {\n",
              "        vertical-align: middle;\n",
              "    }\n",
              "\n",
              "    .dataframe tbody tr th {\n",
              "        vertical-align: top;\n",
              "    }\n",
              "\n",
              "    .dataframe thead th {\n",
              "        text-align: right;\n",
              "    }\n",
              "</style>\n",
              "<table border=\"1\" class=\"dataframe\">\n",
              "  <thead>\n",
              "    <tr style=\"text-align: right;\">\n",
              "      <th></th>\n",
              "      <th>Team</th>\n",
              "      <th>Number</th>\n",
              "      <th>Position</th>\n",
              "    </tr>\n",
              "    <tr>\n",
              "      <th>Name</th>\n",
              "      <th></th>\n",
              "      <th></th>\n",
              "      <th></th>\n",
              "    </tr>\n",
              "  </thead>\n",
              "  <tbody>\n",
              "    <tr>\n",
              "      <th>Avery Bradley</th>\n",
              "      <td>Boston Celtics</td>\n",
              "      <td>0.0</td>\n",
              "      <td>PG</td>\n",
              "    </tr>\n",
              "    <tr>\n",
              "      <th>Aaron Brooks</th>\n",
              "      <td>Chicago Bulls</td>\n",
              "      <td>0.0</td>\n",
              "      <td>PG</td>\n",
              "    </tr>\n",
              "  </tbody>\n",
              "</table>\n",
              "</div>\n",
              "      <button class=\"colab-df-convert\" onclick=\"convertToInteractive('df-5f3dc5b7-18be-4af8-8773-fdfff4ea1f3e')\"\n",
              "              title=\"Convert this dataframe to an interactive table.\"\n",
              "              style=\"display:none;\">\n",
              "        \n",
              "  <svg xmlns=\"http://www.w3.org/2000/svg\" height=\"24px\"viewBox=\"0 0 24 24\"\n",
              "       width=\"24px\">\n",
              "    <path d=\"M0 0h24v24H0V0z\" fill=\"none\"/>\n",
              "    <path d=\"M18.56 5.44l.94 2.06.94-2.06 2.06-.94-2.06-.94-.94-2.06-.94 2.06-2.06.94zm-11 1L8.5 8.5l.94-2.06 2.06-.94-2.06-.94L8.5 2.5l-.94 2.06-2.06.94zm10 10l.94 2.06.94-2.06 2.06-.94-2.06-.94-.94-2.06-.94 2.06-2.06.94z\"/><path d=\"M17.41 7.96l-1.37-1.37c-.4-.4-.92-.59-1.43-.59-.52 0-1.04.2-1.43.59L10.3 9.45l-7.72 7.72c-.78.78-.78 2.05 0 2.83L4 21.41c.39.39.9.59 1.41.59.51 0 1.02-.2 1.41-.59l7.78-7.78 2.81-2.81c.8-.78.8-2.07 0-2.86zM5.41 20L4 18.59l7.72-7.72 1.47 1.35L5.41 20z\"/>\n",
              "  </svg>\n",
              "      </button>\n",
              "      \n",
              "  <style>\n",
              "    .colab-df-container {\n",
              "      display:flex;\n",
              "      flex-wrap:wrap;\n",
              "      gap: 12px;\n",
              "    }\n",
              "\n",
              "    .colab-df-convert {\n",
              "      background-color: #E8F0FE;\n",
              "      border: none;\n",
              "      border-radius: 50%;\n",
              "      cursor: pointer;\n",
              "      display: none;\n",
              "      fill: #1967D2;\n",
              "      height: 32px;\n",
              "      padding: 0 0 0 0;\n",
              "      width: 32px;\n",
              "    }\n",
              "\n",
              "    .colab-df-convert:hover {\n",
              "      background-color: #E2EBFA;\n",
              "      box-shadow: 0px 1px 2px rgba(60, 64, 67, 0.3), 0px 1px 3px 1px rgba(60, 64, 67, 0.15);\n",
              "      fill: #174EA6;\n",
              "    }\n",
              "\n",
              "    [theme=dark] .colab-df-convert {\n",
              "      background-color: #3B4455;\n",
              "      fill: #D2E3FC;\n",
              "    }\n",
              "\n",
              "    [theme=dark] .colab-df-convert:hover {\n",
              "      background-color: #434B5C;\n",
              "      box-shadow: 0px 1px 3px 1px rgba(0, 0, 0, 0.15);\n",
              "      filter: drop-shadow(0px 1px 2px rgba(0, 0, 0, 0.3));\n",
              "      fill: #FFFFFF;\n",
              "    }\n",
              "  </style>\n",
              "\n",
              "      <script>\n",
              "        const buttonEl =\n",
              "          document.querySelector('#df-5f3dc5b7-18be-4af8-8773-fdfff4ea1f3e button.colab-df-convert');\n",
              "        buttonEl.style.display =\n",
              "          google.colab.kernel.accessAllowed ? 'block' : 'none';\n",
              "\n",
              "        async function convertToInteractive(key) {\n",
              "          const element = document.querySelector('#df-5f3dc5b7-18be-4af8-8773-fdfff4ea1f3e');\n",
              "          const dataTable =\n",
              "            await google.colab.kernel.invokeFunction('convertToInteractive',\n",
              "                                                     [key], {});\n",
              "          if (!dataTable) return;\n",
              "\n",
              "          const docLinkHtml = 'Like what you see? Visit the ' +\n",
              "            '<a target=\"_blank\" href=https://colab.research.google.com/notebooks/data_table.ipynb>data table notebook</a>'\n",
              "            + ' to learn more about interactive tables.';\n",
              "          element.innerHTML = '';\n",
              "          dataTable['output_type'] = 'display_data';\n",
              "          await google.colab.output.renderOutput(dataTable, element);\n",
              "          const docLink = document.createElement('div');\n",
              "          docLink.innerHTML = docLinkHtml;\n",
              "          element.appendChild(docLink);\n",
              "        }\n",
              "      </script>\n",
              "    </div>\n",
              "  </div>\n",
              "  "
            ]
          },
          "metadata": {},
          "execution_count": 17
        }
      ]
    },
    {
      "cell_type": "code",
      "source": [
        "# Selecting all of the rows and columns\n",
        "\n",
        "df = pd.read_csv('/content/drive/MyDrive/nba.csv',index_col = \"Name\")\n",
        "first = df.loc[:,[\"Team\",\"Number\",\"Position\"]]\n",
        "first"
      ],
      "metadata": {
        "colab": {
          "base_uri": "https://localhost:8080/",
          "height": 455
        },
        "id": "FBHvRMrZcALb",
        "outputId": "12f3d562-dfcd-4ba8-e9fe-c3a0018d73db"
      },
      "execution_count": null,
      "outputs": [
        {
          "output_type": "execute_result",
          "data": {
            "text/plain": [
              "                                  Team  Number Position\n",
              "Name                                                   \n",
              "Aaron Brooks             Chicago Bulls     0.0       PG\n",
              "Aaron Gordon             Orlando Magic     0.0       PF\n",
              "Aaron Harrison       Charlotte Hornets     9.0       SG\n",
              "Adreian Payne   Minnesota Timberwolves    33.0       PF\n",
              "Al Horford               Atlanta Hawks    15.0        C\n",
              "...                                ...     ...      ...\n",
              "Xavier Munford       Memphis Grizzlies    14.0       PG\n",
              "Zach LaVine     Minnesota Timberwolves     8.0       PG\n",
              "Zach Randolph        Memphis Grizzlies    50.0       PF\n",
              "Zaza Pachulia         Dallas Mavericks    27.0        C\n",
              "NaN                                NaN     NaN      NaN\n",
              "\n",
              "[458 rows x 3 columns]"
            ],
            "text/html": [
              "\n",
              "  <div id=\"df-3d8c6284-fac6-452a-b984-9135ce49e8ef\">\n",
              "    <div class=\"colab-df-container\">\n",
              "      <div>\n",
              "<style scoped>\n",
              "    .dataframe tbody tr th:only-of-type {\n",
              "        vertical-align: middle;\n",
              "    }\n",
              "\n",
              "    .dataframe tbody tr th {\n",
              "        vertical-align: top;\n",
              "    }\n",
              "\n",
              "    .dataframe thead th {\n",
              "        text-align: right;\n",
              "    }\n",
              "</style>\n",
              "<table border=\"1\" class=\"dataframe\">\n",
              "  <thead>\n",
              "    <tr style=\"text-align: right;\">\n",
              "      <th></th>\n",
              "      <th>Team</th>\n",
              "      <th>Number</th>\n",
              "      <th>Position</th>\n",
              "    </tr>\n",
              "    <tr>\n",
              "      <th>Name</th>\n",
              "      <th></th>\n",
              "      <th></th>\n",
              "      <th></th>\n",
              "    </tr>\n",
              "  </thead>\n",
              "  <tbody>\n",
              "    <tr>\n",
              "      <th>Aaron Brooks</th>\n",
              "      <td>Chicago Bulls</td>\n",
              "      <td>0.0</td>\n",
              "      <td>PG</td>\n",
              "    </tr>\n",
              "    <tr>\n",
              "      <th>Aaron Gordon</th>\n",
              "      <td>Orlando Magic</td>\n",
              "      <td>0.0</td>\n",
              "      <td>PF</td>\n",
              "    </tr>\n",
              "    <tr>\n",
              "      <th>Aaron Harrison</th>\n",
              "      <td>Charlotte Hornets</td>\n",
              "      <td>9.0</td>\n",
              "      <td>SG</td>\n",
              "    </tr>\n",
              "    <tr>\n",
              "      <th>Adreian Payne</th>\n",
              "      <td>Minnesota Timberwolves</td>\n",
              "      <td>33.0</td>\n",
              "      <td>PF</td>\n",
              "    </tr>\n",
              "    <tr>\n",
              "      <th>Al Horford</th>\n",
              "      <td>Atlanta Hawks</td>\n",
              "      <td>15.0</td>\n",
              "      <td>C</td>\n",
              "    </tr>\n",
              "    <tr>\n",
              "      <th>...</th>\n",
              "      <td>...</td>\n",
              "      <td>...</td>\n",
              "      <td>...</td>\n",
              "    </tr>\n",
              "    <tr>\n",
              "      <th>Xavier Munford</th>\n",
              "      <td>Memphis Grizzlies</td>\n",
              "      <td>14.0</td>\n",
              "      <td>PG</td>\n",
              "    </tr>\n",
              "    <tr>\n",
              "      <th>Zach LaVine</th>\n",
              "      <td>Minnesota Timberwolves</td>\n",
              "      <td>8.0</td>\n",
              "      <td>PG</td>\n",
              "    </tr>\n",
              "    <tr>\n",
              "      <th>Zach Randolph</th>\n",
              "      <td>Memphis Grizzlies</td>\n",
              "      <td>50.0</td>\n",
              "      <td>PF</td>\n",
              "    </tr>\n",
              "    <tr>\n",
              "      <th>Zaza Pachulia</th>\n",
              "      <td>Dallas Mavericks</td>\n",
              "      <td>27.0</td>\n",
              "      <td>C</td>\n",
              "    </tr>\n",
              "    <tr>\n",
              "      <th>NaN</th>\n",
              "      <td>NaN</td>\n",
              "      <td>NaN</td>\n",
              "      <td>NaN</td>\n",
              "    </tr>\n",
              "  </tbody>\n",
              "</table>\n",
              "<p>458 rows × 3 columns</p>\n",
              "</div>\n",
              "      <button class=\"colab-df-convert\" onclick=\"convertToInteractive('df-3d8c6284-fac6-452a-b984-9135ce49e8ef')\"\n",
              "              title=\"Convert this dataframe to an interactive table.\"\n",
              "              style=\"display:none;\">\n",
              "        \n",
              "  <svg xmlns=\"http://www.w3.org/2000/svg\" height=\"24px\"viewBox=\"0 0 24 24\"\n",
              "       width=\"24px\">\n",
              "    <path d=\"M0 0h24v24H0V0z\" fill=\"none\"/>\n",
              "    <path d=\"M18.56 5.44l.94 2.06.94-2.06 2.06-.94-2.06-.94-.94-2.06-.94 2.06-2.06.94zm-11 1L8.5 8.5l.94-2.06 2.06-.94-2.06-.94L8.5 2.5l-.94 2.06-2.06.94zm10 10l.94 2.06.94-2.06 2.06-.94-2.06-.94-.94-2.06-.94 2.06-2.06.94z\"/><path d=\"M17.41 7.96l-1.37-1.37c-.4-.4-.92-.59-1.43-.59-.52 0-1.04.2-1.43.59L10.3 9.45l-7.72 7.72c-.78.78-.78 2.05 0 2.83L4 21.41c.39.39.9.59 1.41.59.51 0 1.02-.2 1.41-.59l7.78-7.78 2.81-2.81c.8-.78.8-2.07 0-2.86zM5.41 20L4 18.59l7.72-7.72 1.47 1.35L5.41 20z\"/>\n",
              "  </svg>\n",
              "      </button>\n",
              "      \n",
              "  <style>\n",
              "    .colab-df-container {\n",
              "      display:flex;\n",
              "      flex-wrap:wrap;\n",
              "      gap: 12px;\n",
              "    }\n",
              "\n",
              "    .colab-df-convert {\n",
              "      background-color: #E8F0FE;\n",
              "      border: none;\n",
              "      border-radius: 50%;\n",
              "      cursor: pointer;\n",
              "      display: none;\n",
              "      fill: #1967D2;\n",
              "      height: 32px;\n",
              "      padding: 0 0 0 0;\n",
              "      width: 32px;\n",
              "    }\n",
              "\n",
              "    .colab-df-convert:hover {\n",
              "      background-color: #E2EBFA;\n",
              "      box-shadow: 0px 1px 2px rgba(60, 64, 67, 0.3), 0px 1px 3px 1px rgba(60, 64, 67, 0.15);\n",
              "      fill: #174EA6;\n",
              "    }\n",
              "\n",
              "    [theme=dark] .colab-df-convert {\n",
              "      background-color: #3B4455;\n",
              "      fill: #D2E3FC;\n",
              "    }\n",
              "\n",
              "    [theme=dark] .colab-df-convert:hover {\n",
              "      background-color: #434B5C;\n",
              "      box-shadow: 0px 1px 3px 1px rgba(0, 0, 0, 0.15);\n",
              "      filter: drop-shadow(0px 1px 2px rgba(0, 0, 0, 0.3));\n",
              "      fill: #FFFFFF;\n",
              "    }\n",
              "  </style>\n",
              "\n",
              "      <script>\n",
              "        const buttonEl =\n",
              "          document.querySelector('#df-3d8c6284-fac6-452a-b984-9135ce49e8ef button.colab-df-convert');\n",
              "        buttonEl.style.display =\n",
              "          google.colab.kernel.accessAllowed ? 'block' : 'none';\n",
              "\n",
              "        async function convertToInteractive(key) {\n",
              "          const element = document.querySelector('#df-3d8c6284-fac6-452a-b984-9135ce49e8ef');\n",
              "          const dataTable =\n",
              "            await google.colab.kernel.invokeFunction('convertToInteractive',\n",
              "                                                     [key], {});\n",
              "          if (!dataTable) return;\n",
              "\n",
              "          const docLinkHtml = 'Like what you see? Visit the ' +\n",
              "            '<a target=\"_blank\" href=https://colab.research.google.com/notebooks/data_table.ipynb>data table notebook</a>'\n",
              "            + ' to learn more about interactive tables.';\n",
              "          element.innerHTML = '';\n",
              "          dataTable['output_type'] = 'display_data';\n",
              "          await google.colab.output.renderOutput(dataTable, element);\n",
              "          const docLink = document.createElement('div');\n",
              "          docLink.innerHTML = docLinkHtml;\n",
              "          element.appendChild(docLink);\n",
              "        }\n",
              "      </script>\n",
              "    </div>\n",
              "  </div>\n",
              "  "
            ]
          },
          "metadata": {},
          "execution_count": 18
        }
      ]
    },
    {
      "cell_type": "markdown",
      "source": [
        "(C) Indexing/Selection a DataFrame using .iloc[ ]"
      ],
      "metadata": {
        "id": "Nc5-X5FccaNi"
      }
    },
    {
      "cell_type": "code",
      "source": [
        "# Selecting a single row\n",
        "\n",
        "df = pd.read_csv('/content/drive/MyDrive/nba.csv',index_col = \"Name\")\n",
        "row2 = df.iloc[3]\n",
        "row2"
      ],
      "metadata": {
        "colab": {
          "base_uri": "https://localhost:8080/"
        },
        "id": "7Zlv705jciWb",
        "outputId": "7de2eaf9-fd92-4ba8-8f45-622c71125cb8"
      },
      "execution_count": null,
      "outputs": [
        {
          "output_type": "execute_result",
          "data": {
            "text/plain": [
              "Unnamed: 0                       404\n",
              "Team          Minnesota Timberwolves\n",
              "Number                          33.0\n",
              "Position                          PF\n",
              "Age                             25.0\n",
              "Height                          6-10\n",
              "Weight                         237.0\n",
              "College               Michigan State\n",
              "Salary                     1938840.0\n",
              "Name: Adreian Payne, dtype: object"
            ]
          },
          "metadata": {},
          "execution_count": 19
        }
      ]
    },
    {
      "cell_type": "code",
      "source": [
        "# Selecting a multiple row\n",
        "\n",
        "df = pd.read_csv('/content/drive/MyDrive/nba.csv',index_col = \"Name\")\n",
        "row2 = df.iloc[[3,5,7]]\n",
        "row2"
      ],
      "metadata": {
        "colab": {
          "base_uri": "https://localhost:8080/",
          "height": 175
        },
        "id": "kPOyAOlPc-zQ",
        "outputId": "56dd1a07-8cd3-4f7a-a9ee-aa54f691d69c"
      },
      "execution_count": null,
      "outputs": [
        {
          "output_type": "execute_result",
          "data": {
            "text/plain": [
              "               Unnamed: 0                    Team  Number Position   Age  \\\n",
              "Name                                                                       \n",
              "Adreian Payne         404  Minnesota Timberwolves    33.0       PF  25.0   \n",
              "Al Jefferson          330       Charlotte Hornets    25.0        C  31.0   \n",
              "Alan Anderson         368      Washington Wizards     6.0       SG  33.0   \n",
              "\n",
              "              Height  Weight         College      Salary  \n",
              "Name                                                      \n",
              "Adreian Payne   6-10   237.0  Michigan State   1938840.0  \n",
              "Al Jefferson    6-10   289.0             NaN  13500000.0  \n",
              "Alan Anderson    6-6   220.0  Michigan State   4000000.0  "
            ],
            "text/html": [
              "\n",
              "  <div id=\"df-2bfac7fb-e3dd-4162-8549-87e08ff5519e\">\n",
              "    <div class=\"colab-df-container\">\n",
              "      <div>\n",
              "<style scoped>\n",
              "    .dataframe tbody tr th:only-of-type {\n",
              "        vertical-align: middle;\n",
              "    }\n",
              "\n",
              "    .dataframe tbody tr th {\n",
              "        vertical-align: top;\n",
              "    }\n",
              "\n",
              "    .dataframe thead th {\n",
              "        text-align: right;\n",
              "    }\n",
              "</style>\n",
              "<table border=\"1\" class=\"dataframe\">\n",
              "  <thead>\n",
              "    <tr style=\"text-align: right;\">\n",
              "      <th></th>\n",
              "      <th>Unnamed: 0</th>\n",
              "      <th>Team</th>\n",
              "      <th>Number</th>\n",
              "      <th>Position</th>\n",
              "      <th>Age</th>\n",
              "      <th>Height</th>\n",
              "      <th>Weight</th>\n",
              "      <th>College</th>\n",
              "      <th>Salary</th>\n",
              "    </tr>\n",
              "    <tr>\n",
              "      <th>Name</th>\n",
              "      <th></th>\n",
              "      <th></th>\n",
              "      <th></th>\n",
              "      <th></th>\n",
              "      <th></th>\n",
              "      <th></th>\n",
              "      <th></th>\n",
              "      <th></th>\n",
              "      <th></th>\n",
              "    </tr>\n",
              "  </thead>\n",
              "  <tbody>\n",
              "    <tr>\n",
              "      <th>Adreian Payne</th>\n",
              "      <td>404</td>\n",
              "      <td>Minnesota Timberwolves</td>\n",
              "      <td>33.0</td>\n",
              "      <td>PF</td>\n",
              "      <td>25.0</td>\n",
              "      <td>6-10</td>\n",
              "      <td>237.0</td>\n",
              "      <td>Michigan State</td>\n",
              "      <td>1938840.0</td>\n",
              "    </tr>\n",
              "    <tr>\n",
              "      <th>Al Jefferson</th>\n",
              "      <td>330</td>\n",
              "      <td>Charlotte Hornets</td>\n",
              "      <td>25.0</td>\n",
              "      <td>C</td>\n",
              "      <td>31.0</td>\n",
              "      <td>6-10</td>\n",
              "      <td>289.0</td>\n",
              "      <td>NaN</td>\n",
              "      <td>13500000.0</td>\n",
              "    </tr>\n",
              "    <tr>\n",
              "      <th>Alan Anderson</th>\n",
              "      <td>368</td>\n",
              "      <td>Washington Wizards</td>\n",
              "      <td>6.0</td>\n",
              "      <td>SG</td>\n",
              "      <td>33.0</td>\n",
              "      <td>6-6</td>\n",
              "      <td>220.0</td>\n",
              "      <td>Michigan State</td>\n",
              "      <td>4000000.0</td>\n",
              "    </tr>\n",
              "  </tbody>\n",
              "</table>\n",
              "</div>\n",
              "      <button class=\"colab-df-convert\" onclick=\"convertToInteractive('df-2bfac7fb-e3dd-4162-8549-87e08ff5519e')\"\n",
              "              title=\"Convert this dataframe to an interactive table.\"\n",
              "              style=\"display:none;\">\n",
              "        \n",
              "  <svg xmlns=\"http://www.w3.org/2000/svg\" height=\"24px\"viewBox=\"0 0 24 24\"\n",
              "       width=\"24px\">\n",
              "    <path d=\"M0 0h24v24H0V0z\" fill=\"none\"/>\n",
              "    <path d=\"M18.56 5.44l.94 2.06.94-2.06 2.06-.94-2.06-.94-.94-2.06-.94 2.06-2.06.94zm-11 1L8.5 8.5l.94-2.06 2.06-.94-2.06-.94L8.5 2.5l-.94 2.06-2.06.94zm10 10l.94 2.06.94-2.06 2.06-.94-2.06-.94-.94-2.06-.94 2.06-2.06.94z\"/><path d=\"M17.41 7.96l-1.37-1.37c-.4-.4-.92-.59-1.43-.59-.52 0-1.04.2-1.43.59L10.3 9.45l-7.72 7.72c-.78.78-.78 2.05 0 2.83L4 21.41c.39.39.9.59 1.41.59.51 0 1.02-.2 1.41-.59l7.78-7.78 2.81-2.81c.8-.78.8-2.07 0-2.86zM5.41 20L4 18.59l7.72-7.72 1.47 1.35L5.41 20z\"/>\n",
              "  </svg>\n",
              "      </button>\n",
              "      \n",
              "  <style>\n",
              "    .colab-df-container {\n",
              "      display:flex;\n",
              "      flex-wrap:wrap;\n",
              "      gap: 12px;\n",
              "    }\n",
              "\n",
              "    .colab-df-convert {\n",
              "      background-color: #E8F0FE;\n",
              "      border: none;\n",
              "      border-radius: 50%;\n",
              "      cursor: pointer;\n",
              "      display: none;\n",
              "      fill: #1967D2;\n",
              "      height: 32px;\n",
              "      padding: 0 0 0 0;\n",
              "      width: 32px;\n",
              "    }\n",
              "\n",
              "    .colab-df-convert:hover {\n",
              "      background-color: #E2EBFA;\n",
              "      box-shadow: 0px 1px 2px rgba(60, 64, 67, 0.3), 0px 1px 3px 1px rgba(60, 64, 67, 0.15);\n",
              "      fill: #174EA6;\n",
              "    }\n",
              "\n",
              "    [theme=dark] .colab-df-convert {\n",
              "      background-color: #3B4455;\n",
              "      fill: #D2E3FC;\n",
              "    }\n",
              "\n",
              "    [theme=dark] .colab-df-convert:hover {\n",
              "      background-color: #434B5C;\n",
              "      box-shadow: 0px 1px 3px 1px rgba(0, 0, 0, 0.15);\n",
              "      filter: drop-shadow(0px 1px 2px rgba(0, 0, 0, 0.3));\n",
              "      fill: #FFFFFF;\n",
              "    }\n",
              "  </style>\n",
              "\n",
              "      <script>\n",
              "        const buttonEl =\n",
              "          document.querySelector('#df-2bfac7fb-e3dd-4162-8549-87e08ff5519e button.colab-df-convert');\n",
              "        buttonEl.style.display =\n",
              "          google.colab.kernel.accessAllowed ? 'block' : 'none';\n",
              "\n",
              "        async function convertToInteractive(key) {\n",
              "          const element = document.querySelector('#df-2bfac7fb-e3dd-4162-8549-87e08ff5519e');\n",
              "          const dataTable =\n",
              "            await google.colab.kernel.invokeFunction('convertToInteractive',\n",
              "                                                     [key], {});\n",
              "          if (!dataTable) return;\n",
              "\n",
              "          const docLinkHtml = 'Like what you see? Visit the ' +\n",
              "            '<a target=\"_blank\" href=https://colab.research.google.com/notebooks/data_table.ipynb>data table notebook</a>'\n",
              "            + ' to learn more about interactive tables.';\n",
              "          element.innerHTML = '';\n",
              "          dataTable['output_type'] = 'display_data';\n",
              "          await google.colab.output.renderOutput(dataTable, element);\n",
              "          const docLink = document.createElement('div');\n",
              "          docLink.innerHTML = docLinkHtml;\n",
              "          element.appendChild(docLink);\n",
              "        }\n",
              "      </script>\n",
              "    </div>\n",
              "  </div>\n",
              "  "
            ]
          },
          "metadata": {},
          "execution_count": 20
        }
      ]
    },
    {
      "cell_type": "code",
      "source": [
        "# Selecting a two row and two columns\n",
        "\n",
        "df = pd.read_csv('/content/drive/MyDrive/nba.csv',index_col = \"Name\")\n",
        "row2 = df.iloc[[3,4],[1,2]]\n",
        "row2"
      ],
      "metadata": {
        "colab": {
          "base_uri": "https://localhost:8080/",
          "height": 143
        },
        "id": "6GrTQZCjddmi",
        "outputId": "95cb7f89-20f2-4273-d967-e1fe9fa6db95"
      },
      "execution_count": null,
      "outputs": [
        {
          "output_type": "execute_result",
          "data": {
            "text/plain": [
              "                                 Team  Number\n",
              "Name                                         \n",
              "Adreian Payne  Minnesota Timberwolves    33.0\n",
              "Al Horford              Atlanta Hawks    15.0"
            ],
            "text/html": [
              "\n",
              "  <div id=\"df-c8d66cbd-4b17-4f0b-a3b3-02bc4805acba\">\n",
              "    <div class=\"colab-df-container\">\n",
              "      <div>\n",
              "<style scoped>\n",
              "    .dataframe tbody tr th:only-of-type {\n",
              "        vertical-align: middle;\n",
              "    }\n",
              "\n",
              "    .dataframe tbody tr th {\n",
              "        vertical-align: top;\n",
              "    }\n",
              "\n",
              "    .dataframe thead th {\n",
              "        text-align: right;\n",
              "    }\n",
              "</style>\n",
              "<table border=\"1\" class=\"dataframe\">\n",
              "  <thead>\n",
              "    <tr style=\"text-align: right;\">\n",
              "      <th></th>\n",
              "      <th>Team</th>\n",
              "      <th>Number</th>\n",
              "    </tr>\n",
              "    <tr>\n",
              "      <th>Name</th>\n",
              "      <th></th>\n",
              "      <th></th>\n",
              "    </tr>\n",
              "  </thead>\n",
              "  <tbody>\n",
              "    <tr>\n",
              "      <th>Adreian Payne</th>\n",
              "      <td>Minnesota Timberwolves</td>\n",
              "      <td>33.0</td>\n",
              "    </tr>\n",
              "    <tr>\n",
              "      <th>Al Horford</th>\n",
              "      <td>Atlanta Hawks</td>\n",
              "      <td>15.0</td>\n",
              "    </tr>\n",
              "  </tbody>\n",
              "</table>\n",
              "</div>\n",
              "      <button class=\"colab-df-convert\" onclick=\"convertToInteractive('df-c8d66cbd-4b17-4f0b-a3b3-02bc4805acba')\"\n",
              "              title=\"Convert this dataframe to an interactive table.\"\n",
              "              style=\"display:none;\">\n",
              "        \n",
              "  <svg xmlns=\"http://www.w3.org/2000/svg\" height=\"24px\"viewBox=\"0 0 24 24\"\n",
              "       width=\"24px\">\n",
              "    <path d=\"M0 0h24v24H0V0z\" fill=\"none\"/>\n",
              "    <path d=\"M18.56 5.44l.94 2.06.94-2.06 2.06-.94-2.06-.94-.94-2.06-.94 2.06-2.06.94zm-11 1L8.5 8.5l.94-2.06 2.06-.94-2.06-.94L8.5 2.5l-.94 2.06-2.06.94zm10 10l.94 2.06.94-2.06 2.06-.94-2.06-.94-.94-2.06-.94 2.06-2.06.94z\"/><path d=\"M17.41 7.96l-1.37-1.37c-.4-.4-.92-.59-1.43-.59-.52 0-1.04.2-1.43.59L10.3 9.45l-7.72 7.72c-.78.78-.78 2.05 0 2.83L4 21.41c.39.39.9.59 1.41.59.51 0 1.02-.2 1.41-.59l7.78-7.78 2.81-2.81c.8-.78.8-2.07 0-2.86zM5.41 20L4 18.59l7.72-7.72 1.47 1.35L5.41 20z\"/>\n",
              "  </svg>\n",
              "      </button>\n",
              "      \n",
              "  <style>\n",
              "    .colab-df-container {\n",
              "      display:flex;\n",
              "      flex-wrap:wrap;\n",
              "      gap: 12px;\n",
              "    }\n",
              "\n",
              "    .colab-df-convert {\n",
              "      background-color: #E8F0FE;\n",
              "      border: none;\n",
              "      border-radius: 50%;\n",
              "      cursor: pointer;\n",
              "      display: none;\n",
              "      fill: #1967D2;\n",
              "      height: 32px;\n",
              "      padding: 0 0 0 0;\n",
              "      width: 32px;\n",
              "    }\n",
              "\n",
              "    .colab-df-convert:hover {\n",
              "      background-color: #E2EBFA;\n",
              "      box-shadow: 0px 1px 2px rgba(60, 64, 67, 0.3), 0px 1px 3px 1px rgba(60, 64, 67, 0.15);\n",
              "      fill: #174EA6;\n",
              "    }\n",
              "\n",
              "    [theme=dark] .colab-df-convert {\n",
              "      background-color: #3B4455;\n",
              "      fill: #D2E3FC;\n",
              "    }\n",
              "\n",
              "    [theme=dark] .colab-df-convert:hover {\n",
              "      background-color: #434B5C;\n",
              "      box-shadow: 0px 1px 3px 1px rgba(0, 0, 0, 0.15);\n",
              "      filter: drop-shadow(0px 1px 2px rgba(0, 0, 0, 0.3));\n",
              "      fill: #FFFFFF;\n",
              "    }\n",
              "  </style>\n",
              "\n",
              "      <script>\n",
              "        const buttonEl =\n",
              "          document.querySelector('#df-c8d66cbd-4b17-4f0b-a3b3-02bc4805acba button.colab-df-convert');\n",
              "        buttonEl.style.display =\n",
              "          google.colab.kernel.accessAllowed ? 'block' : 'none';\n",
              "\n",
              "        async function convertToInteractive(key) {\n",
              "          const element = document.querySelector('#df-c8d66cbd-4b17-4f0b-a3b3-02bc4805acba');\n",
              "          const dataTable =\n",
              "            await google.colab.kernel.invokeFunction('convertToInteractive',\n",
              "                                                     [key], {});\n",
              "          if (!dataTable) return;\n",
              "\n",
              "          const docLinkHtml = 'Like what you see? Visit the ' +\n",
              "            '<a target=\"_blank\" href=https://colab.research.google.com/notebooks/data_table.ipynb>data table notebook</a>'\n",
              "            + ' to learn more about interactive tables.';\n",
              "          element.innerHTML = '';\n",
              "          dataTable['output_type'] = 'display_data';\n",
              "          await google.colab.output.renderOutput(dataTable, element);\n",
              "          const docLink = document.createElement('div');\n",
              "          docLink.innerHTML = docLinkHtml;\n",
              "          element.appendChild(docLink);\n",
              "        }\n",
              "      </script>\n",
              "    </div>\n",
              "  </div>\n",
              "  "
            ]
          },
          "metadata": {},
          "execution_count": 21
        }
      ]
    },
    {
      "cell_type": "code",
      "source": [
        "# Selecting a all rows and some columns\n",
        "\n",
        "df = pd.read_csv('/content/drive/MyDrive/nba.csv',index_col = \"Name\")\n",
        "row2 = df.iloc[:,[1,2]]\n",
        "row2"
      ],
      "metadata": {
        "colab": {
          "base_uri": "https://localhost:8080/",
          "height": 455
        },
        "id": "h9YIET2ydr9L",
        "outputId": "911fabc1-1c28-486a-ca06-e3c4916ff726"
      },
      "execution_count": null,
      "outputs": [
        {
          "output_type": "execute_result",
          "data": {
            "text/plain": [
              "                                  Team  Number\n",
              "Name                                          \n",
              "Aaron Brooks             Chicago Bulls     0.0\n",
              "Aaron Gordon             Orlando Magic     0.0\n",
              "Aaron Harrison       Charlotte Hornets     9.0\n",
              "Adreian Payne   Minnesota Timberwolves    33.0\n",
              "Al Horford               Atlanta Hawks    15.0\n",
              "...                                ...     ...\n",
              "Xavier Munford       Memphis Grizzlies    14.0\n",
              "Zach LaVine     Minnesota Timberwolves     8.0\n",
              "Zach Randolph        Memphis Grizzlies    50.0\n",
              "Zaza Pachulia         Dallas Mavericks    27.0\n",
              "NaN                                NaN     NaN\n",
              "\n",
              "[458 rows x 2 columns]"
            ],
            "text/html": [
              "\n",
              "  <div id=\"df-fc169e79-7c5e-4d5f-bc11-37b04e3a9ca3\">\n",
              "    <div class=\"colab-df-container\">\n",
              "      <div>\n",
              "<style scoped>\n",
              "    .dataframe tbody tr th:only-of-type {\n",
              "        vertical-align: middle;\n",
              "    }\n",
              "\n",
              "    .dataframe tbody tr th {\n",
              "        vertical-align: top;\n",
              "    }\n",
              "\n",
              "    .dataframe thead th {\n",
              "        text-align: right;\n",
              "    }\n",
              "</style>\n",
              "<table border=\"1\" class=\"dataframe\">\n",
              "  <thead>\n",
              "    <tr style=\"text-align: right;\">\n",
              "      <th></th>\n",
              "      <th>Team</th>\n",
              "      <th>Number</th>\n",
              "    </tr>\n",
              "    <tr>\n",
              "      <th>Name</th>\n",
              "      <th></th>\n",
              "      <th></th>\n",
              "    </tr>\n",
              "  </thead>\n",
              "  <tbody>\n",
              "    <tr>\n",
              "      <th>Aaron Brooks</th>\n",
              "      <td>Chicago Bulls</td>\n",
              "      <td>0.0</td>\n",
              "    </tr>\n",
              "    <tr>\n",
              "      <th>Aaron Gordon</th>\n",
              "      <td>Orlando Magic</td>\n",
              "      <td>0.0</td>\n",
              "    </tr>\n",
              "    <tr>\n",
              "      <th>Aaron Harrison</th>\n",
              "      <td>Charlotte Hornets</td>\n",
              "      <td>9.0</td>\n",
              "    </tr>\n",
              "    <tr>\n",
              "      <th>Adreian Payne</th>\n",
              "      <td>Minnesota Timberwolves</td>\n",
              "      <td>33.0</td>\n",
              "    </tr>\n",
              "    <tr>\n",
              "      <th>Al Horford</th>\n",
              "      <td>Atlanta Hawks</td>\n",
              "      <td>15.0</td>\n",
              "    </tr>\n",
              "    <tr>\n",
              "      <th>...</th>\n",
              "      <td>...</td>\n",
              "      <td>...</td>\n",
              "    </tr>\n",
              "    <tr>\n",
              "      <th>Xavier Munford</th>\n",
              "      <td>Memphis Grizzlies</td>\n",
              "      <td>14.0</td>\n",
              "    </tr>\n",
              "    <tr>\n",
              "      <th>Zach LaVine</th>\n",
              "      <td>Minnesota Timberwolves</td>\n",
              "      <td>8.0</td>\n",
              "    </tr>\n",
              "    <tr>\n",
              "      <th>Zach Randolph</th>\n",
              "      <td>Memphis Grizzlies</td>\n",
              "      <td>50.0</td>\n",
              "    </tr>\n",
              "    <tr>\n",
              "      <th>Zaza Pachulia</th>\n",
              "      <td>Dallas Mavericks</td>\n",
              "      <td>27.0</td>\n",
              "    </tr>\n",
              "    <tr>\n",
              "      <th>NaN</th>\n",
              "      <td>NaN</td>\n",
              "      <td>NaN</td>\n",
              "    </tr>\n",
              "  </tbody>\n",
              "</table>\n",
              "<p>458 rows × 2 columns</p>\n",
              "</div>\n",
              "      <button class=\"colab-df-convert\" onclick=\"convertToInteractive('df-fc169e79-7c5e-4d5f-bc11-37b04e3a9ca3')\"\n",
              "              title=\"Convert this dataframe to an interactive table.\"\n",
              "              style=\"display:none;\">\n",
              "        \n",
              "  <svg xmlns=\"http://www.w3.org/2000/svg\" height=\"24px\"viewBox=\"0 0 24 24\"\n",
              "       width=\"24px\">\n",
              "    <path d=\"M0 0h24v24H0V0z\" fill=\"none\"/>\n",
              "    <path d=\"M18.56 5.44l.94 2.06.94-2.06 2.06-.94-2.06-.94-.94-2.06-.94 2.06-2.06.94zm-11 1L8.5 8.5l.94-2.06 2.06-.94-2.06-.94L8.5 2.5l-.94 2.06-2.06.94zm10 10l.94 2.06.94-2.06 2.06-.94-2.06-.94-.94-2.06-.94 2.06-2.06.94z\"/><path d=\"M17.41 7.96l-1.37-1.37c-.4-.4-.92-.59-1.43-.59-.52 0-1.04.2-1.43.59L10.3 9.45l-7.72 7.72c-.78.78-.78 2.05 0 2.83L4 21.41c.39.39.9.59 1.41.59.51 0 1.02-.2 1.41-.59l7.78-7.78 2.81-2.81c.8-.78.8-2.07 0-2.86zM5.41 20L4 18.59l7.72-7.72 1.47 1.35L5.41 20z\"/>\n",
              "  </svg>\n",
              "      </button>\n",
              "      \n",
              "  <style>\n",
              "    .colab-df-container {\n",
              "      display:flex;\n",
              "      flex-wrap:wrap;\n",
              "      gap: 12px;\n",
              "    }\n",
              "\n",
              "    .colab-df-convert {\n",
              "      background-color: #E8F0FE;\n",
              "      border: none;\n",
              "      border-radius: 50%;\n",
              "      cursor: pointer;\n",
              "      display: none;\n",
              "      fill: #1967D2;\n",
              "      height: 32px;\n",
              "      padding: 0 0 0 0;\n",
              "      width: 32px;\n",
              "    }\n",
              "\n",
              "    .colab-df-convert:hover {\n",
              "      background-color: #E2EBFA;\n",
              "      box-shadow: 0px 1px 2px rgba(60, 64, 67, 0.3), 0px 1px 3px 1px rgba(60, 64, 67, 0.15);\n",
              "      fill: #174EA6;\n",
              "    }\n",
              "\n",
              "    [theme=dark] .colab-df-convert {\n",
              "      background-color: #3B4455;\n",
              "      fill: #D2E3FC;\n",
              "    }\n",
              "\n",
              "    [theme=dark] .colab-df-convert:hover {\n",
              "      background-color: #434B5C;\n",
              "      box-shadow: 0px 1px 3px 1px rgba(0, 0, 0, 0.15);\n",
              "      filter: drop-shadow(0px 1px 2px rgba(0, 0, 0, 0.3));\n",
              "      fill: #FFFFFF;\n",
              "    }\n",
              "  </style>\n",
              "\n",
              "      <script>\n",
              "        const buttonEl =\n",
              "          document.querySelector('#df-fc169e79-7c5e-4d5f-bc11-37b04e3a9ca3 button.colab-df-convert');\n",
              "        buttonEl.style.display =\n",
              "          google.colab.kernel.accessAllowed ? 'block' : 'none';\n",
              "\n",
              "        async function convertToInteractive(key) {\n",
              "          const element = document.querySelector('#df-fc169e79-7c5e-4d5f-bc11-37b04e3a9ca3');\n",
              "          const dataTable =\n",
              "            await google.colab.kernel.invokeFunction('convertToInteractive',\n",
              "                                                     [key], {});\n",
              "          if (!dataTable) return;\n",
              "\n",
              "          const docLinkHtml = 'Like what you see? Visit the ' +\n",
              "            '<a target=\"_blank\" href=https://colab.research.google.com/notebooks/data_table.ipynb>data table notebook</a>'\n",
              "            + ' to learn more about interactive tables.';\n",
              "          element.innerHTML = '';\n",
              "          dataTable['output_type'] = 'display_data';\n",
              "          await google.colab.output.renderOutput(dataTable, element);\n",
              "          const docLink = document.createElement('div');\n",
              "          docLink.innerHTML = docLinkHtml;\n",
              "          element.appendChild(docLink);\n",
              "        }\n",
              "      </script>\n",
              "    </div>\n",
              "  </div>\n",
              "  "
            ]
          },
          "metadata": {},
          "execution_count": 22
        }
      ]
    },
    {
      "cell_type": "markdown",
      "source": [
        "what is Axis in Pandas"
      ],
      "metadata": {
        "id": "D7JG_L4eh5oF"
      }
    },
    {
      "cell_type": "code",
      "source": [
        "# Axes in Series\n",
        "\n",
        "import pandas as pd\n",
        "pd.Series(['red','green','blue','white','black'])"
      ],
      "metadata": {
        "colab": {
          "base_uri": "https://localhost:8080/"
        },
        "id": "K1Xy-vJQh-u8",
        "outputId": "68bbba93-16b7-4194-9e82-750f5a57fe64"
      },
      "execution_count": null,
      "outputs": [
        {
          "output_type": "execute_result",
          "data": {
            "text/plain": [
              "0      red\n",
              "1    green\n",
              "2     blue\n",
              "3    white\n",
              "4    black\n",
              "dtype: object"
            ]
          },
          "metadata": {},
          "execution_count": 29
        }
      ]
    },
    {
      "cell_type": "code",
      "source": [
        "# Axes in DataFrame\n",
        "\n",
        "import pandas as pd\n",
        "srs_a = pd.Series([10,30,60,80,90])\n",
        "srs_b = pd.Series(['red','green','blue','white','black'])\n",
        "df = pd.DataFrame({'a':srs_a,'b':srs_b})\n",
        "df"
      ],
      "metadata": {
        "colab": {
          "base_uri": "https://localhost:8080/",
          "height": 206
        },
        "id": "vWRmGdnJiXq9",
        "outputId": "f8d1ced6-3e16-440d-faa8-0fdf91c0dc3c"
      },
      "execution_count": null,
      "outputs": [
        {
          "output_type": "execute_result",
          "data": {
            "text/plain": [
              "    a      b\n",
              "0  10    red\n",
              "1  30  green\n",
              "2  60   blue\n",
              "3  80  white\n",
              "4  90  black"
            ],
            "text/html": [
              "\n",
              "  <div id=\"df-dd10351e-7dd0-4e35-abe8-6b2c3117fc42\">\n",
              "    <div class=\"colab-df-container\">\n",
              "      <div>\n",
              "<style scoped>\n",
              "    .dataframe tbody tr th:only-of-type {\n",
              "        vertical-align: middle;\n",
              "    }\n",
              "\n",
              "    .dataframe tbody tr th {\n",
              "        vertical-align: top;\n",
              "    }\n",
              "\n",
              "    .dataframe thead th {\n",
              "        text-align: right;\n",
              "    }\n",
              "</style>\n",
              "<table border=\"1\" class=\"dataframe\">\n",
              "  <thead>\n",
              "    <tr style=\"text-align: right;\">\n",
              "      <th></th>\n",
              "      <th>a</th>\n",
              "      <th>b</th>\n",
              "    </tr>\n",
              "  </thead>\n",
              "  <tbody>\n",
              "    <tr>\n",
              "      <th>0</th>\n",
              "      <td>10</td>\n",
              "      <td>red</td>\n",
              "    </tr>\n",
              "    <tr>\n",
              "      <th>1</th>\n",
              "      <td>30</td>\n",
              "      <td>green</td>\n",
              "    </tr>\n",
              "    <tr>\n",
              "      <th>2</th>\n",
              "      <td>60</td>\n",
              "      <td>blue</td>\n",
              "    </tr>\n",
              "    <tr>\n",
              "      <th>3</th>\n",
              "      <td>80</td>\n",
              "      <td>white</td>\n",
              "    </tr>\n",
              "    <tr>\n",
              "      <th>4</th>\n",
              "      <td>90</td>\n",
              "      <td>black</td>\n",
              "    </tr>\n",
              "  </tbody>\n",
              "</table>\n",
              "</div>\n",
              "      <button class=\"colab-df-convert\" onclick=\"convertToInteractive('df-dd10351e-7dd0-4e35-abe8-6b2c3117fc42')\"\n",
              "              title=\"Convert this dataframe to an interactive table.\"\n",
              "              style=\"display:none;\">\n",
              "        \n",
              "  <svg xmlns=\"http://www.w3.org/2000/svg\" height=\"24px\"viewBox=\"0 0 24 24\"\n",
              "       width=\"24px\">\n",
              "    <path d=\"M0 0h24v24H0V0z\" fill=\"none\"/>\n",
              "    <path d=\"M18.56 5.44l.94 2.06.94-2.06 2.06-.94-2.06-.94-.94-2.06-.94 2.06-2.06.94zm-11 1L8.5 8.5l.94-2.06 2.06-.94-2.06-.94L8.5 2.5l-.94 2.06-2.06.94zm10 10l.94 2.06.94-2.06 2.06-.94-2.06-.94-.94-2.06-.94 2.06-2.06.94z\"/><path d=\"M17.41 7.96l-1.37-1.37c-.4-.4-.92-.59-1.43-.59-.52 0-1.04.2-1.43.59L10.3 9.45l-7.72 7.72c-.78.78-.78 2.05 0 2.83L4 21.41c.39.39.9.59 1.41.59.51 0 1.02-.2 1.41-.59l7.78-7.78 2.81-2.81c.8-.78.8-2.07 0-2.86zM5.41 20L4 18.59l7.72-7.72 1.47 1.35L5.41 20z\"/>\n",
              "  </svg>\n",
              "      </button>\n",
              "      \n",
              "  <style>\n",
              "    .colab-df-container {\n",
              "      display:flex;\n",
              "      flex-wrap:wrap;\n",
              "      gap: 12px;\n",
              "    }\n",
              "\n",
              "    .colab-df-convert {\n",
              "      background-color: #E8F0FE;\n",
              "      border: none;\n",
              "      border-radius: 50%;\n",
              "      cursor: pointer;\n",
              "      display: none;\n",
              "      fill: #1967D2;\n",
              "      height: 32px;\n",
              "      padding: 0 0 0 0;\n",
              "      width: 32px;\n",
              "    }\n",
              "\n",
              "    .colab-df-convert:hover {\n",
              "      background-color: #E2EBFA;\n",
              "      box-shadow: 0px 1px 2px rgba(60, 64, 67, 0.3), 0px 1px 3px 1px rgba(60, 64, 67, 0.15);\n",
              "      fill: #174EA6;\n",
              "    }\n",
              "\n",
              "    [theme=dark] .colab-df-convert {\n",
              "      background-color: #3B4455;\n",
              "      fill: #D2E3FC;\n",
              "    }\n",
              "\n",
              "    [theme=dark] .colab-df-convert:hover {\n",
              "      background-color: #434B5C;\n",
              "      box-shadow: 0px 1px 3px 1px rgba(0, 0, 0, 0.15);\n",
              "      filter: drop-shadow(0px 1px 2px rgba(0, 0, 0, 0.3));\n",
              "      fill: #FFFFFF;\n",
              "    }\n",
              "  </style>\n",
              "\n",
              "      <script>\n",
              "        const buttonEl =\n",
              "          document.querySelector('#df-dd10351e-7dd0-4e35-abe8-6b2c3117fc42 button.colab-df-convert');\n",
              "        buttonEl.style.display =\n",
              "          google.colab.kernel.accessAllowed ? 'block' : 'none';\n",
              "\n",
              "        async function convertToInteractive(key) {\n",
              "          const element = document.querySelector('#df-dd10351e-7dd0-4e35-abe8-6b2c3117fc42');\n",
              "          const dataTable =\n",
              "            await google.colab.kernel.invokeFunction('convertToInteractive',\n",
              "                                                     [key], {});\n",
              "          if (!dataTable) return;\n",
              "\n",
              "          const docLinkHtml = 'Like what you see? Visit the ' +\n",
              "            '<a target=\"_blank\" href=https://colab.research.google.com/notebooks/data_table.ipynb>data table notebook</a>'\n",
              "            + ' to learn more about interactive tables.';\n",
              "          element.innerHTML = '';\n",
              "          dataTable['output_type'] = 'display_data';\n",
              "          await google.colab.output.renderOutput(dataTable, element);\n",
              "          const docLink = document.createElement('div');\n",
              "          docLink.innerHTML = docLinkHtml;\n",
              "          element.appendChild(docLink);\n",
              "        }\n",
              "      </script>\n",
              "    </div>\n",
              "  </div>\n",
              "  "
            ]
          },
          "metadata": {},
          "execution_count": 30
        }
      ]
    },
    {
      "cell_type": "markdown",
      "source": [
        "**DataFrame.loc[]**"
      ],
      "metadata": {
        "id": "zztA0ri8Aulk"
      }
    },
    {
      "cell_type": "markdown",
      "source": [
        "let's create a DataFrame and explore how to use pandas loc[ ]"
      ],
      "metadata": {
        "id": "l5cLeEC4A2Yd"
      }
    },
    {
      "cell_type": "code",
      "source": [
        "import pandas as pd\n",
        "technologies = {\n",
        "    'Courses':['Spark','PySpark','Hadoop','Python','Pandas'],\n",
        "    'Fee':[20000,25000,26000,22000,24000],\n",
        "    'Duration':['30day','40day','35day','40day','60day'],\n",
        "    'Discount':[1000,2300,1200,2500,2000]\n",
        "}\n",
        "index_labels=['r1','r2','r3','r4','r5']\n",
        "df = pd.DataFrame(technologies,index=index_labels)\n",
        "print(df)"
      ],
      "metadata": {
        "colab": {
          "base_uri": "https://localhost:8080/"
        },
        "id": "h74X04pEBBXi",
        "outputId": "34fd8672-5c2d-45b1-d40b-5501770203a9"
      },
      "execution_count": null,
      "outputs": [
        {
          "output_type": "stream",
          "name": "stdout",
          "text": [
            "    Courses    Fee Duration  Discount\n",
            "r1    Spark  20000    30day      1000\n",
            "r2  PySpark  25000    40day      2300\n",
            "r3   Hadoop  26000    35day      1200\n",
            "r4   Python  22000    40day      2500\n",
            "r5   Pandas  24000    60day      2000\n"
          ]
        }
      ]
    },
    {
      "cell_type": "code",
      "source": [
        "# select single column by label\n",
        "print(df.loc[:,\"Courses\"])"
      ],
      "metadata": {
        "colab": {
          "base_uri": "https://localhost:8080/"
        },
        "id": "zSBKBSB4DOW9",
        "outputId": "24123354-727e-4fc7-8ff4-38d449aa5b26"
      },
      "execution_count": null,
      "outputs": [
        {
          "output_type": "stream",
          "name": "stdout",
          "text": [
            "r1      Spark\n",
            "r2    PySpark\n",
            "r3     Hadoop\n",
            "r4     Python\n",
            "r5     Pandas\n",
            "Name: Courses, dtype: object\n"
          ]
        }
      ]
    },
    {
      "cell_type": "code",
      "source": [
        "# select multiple rows by label\n",
        "print(df.loc[['r2','r3']])"
      ],
      "metadata": {
        "colab": {
          "base_uri": "https://localhost:8080/"
        },
        "id": "5-l2iFnKDdBr",
        "outputId": "181a8d2f-5a93-4616-c736-a59efc6303af"
      },
      "execution_count": null,
      "outputs": [
        {
          "output_type": "stream",
          "name": "stdout",
          "text": [
            "    Courses    Fee Duration  Discount\n",
            "r2  PySpark  25000    40day      2300\n",
            "r3   Hadoop  26000    35day      1200\n"
          ]
        }
      ]
    },
    {
      "cell_type": "code",
      "source": [
        "# select multiple columns by labels\n",
        "print(df.loc[:,[\"Courses\",\"Fee\",\"Discount\"]])"
      ],
      "metadata": {
        "colab": {
          "base_uri": "https://localhost:8080/"
        },
        "id": "lfrViN8XDsUb",
        "outputId": "b76b958b-f3da-4615-8bbf-c022256e3d54"
      },
      "execution_count": null,
      "outputs": [
        {
          "output_type": "stream",
          "name": "stdout",
          "text": [
            "    Courses    Fee  Discount\n",
            "r1    Spark  20000      1000\n",
            "r2  PySpark  25000      2300\n",
            "r3   Hadoop  26000      1200\n",
            "r4   Python  22000      2500\n",
            "r5   Pandas  24000      2000\n"
          ]
        }
      ]
    },
    {
      "cell_type": "code",
      "source": [
        "# select rows between two index labels\n",
        "print(df.loc['r1':'r4'])"
      ],
      "metadata": {
        "colab": {
          "base_uri": "https://localhost:8080/"
        },
        "id": "iWhTYUTeEbD5",
        "outputId": "2e46d65c-f944-4e6a-c499-56665523748b"
      },
      "execution_count": null,
      "outputs": [
        {
          "output_type": "stream",
          "name": "stdout",
          "text": [
            "    Courses    Fee Duration  Discount\n",
            "r1    Spark  20000    30day      1000\n",
            "r2  PySpark  25000    40day      2300\n",
            "r3   Hadoop  26000    35day      1200\n",
            "r4   Python  22000    40day      2500\n"
          ]
        }
      ]
    },
    {
      "cell_type": "code",
      "source": [
        "# select columns between two labels\n",
        "print(df.loc[:,'Fee':'Discount'])"
      ],
      "metadata": {
        "colab": {
          "base_uri": "https://localhost:8080/"
        },
        "id": "7SNtLiepEq2v",
        "outputId": "6971d181-e0f8-456a-b192-49fcd1fa12f0"
      },
      "execution_count": null,
      "outputs": [
        {
          "output_type": "stream",
          "name": "stdout",
          "text": [
            "      Fee Duration  Discount\n",
            "r1  20000    30day      1000\n",
            "r2  25000    40day      2300\n",
            "r3  26000    35day      1200\n",
            "r4  22000    40day      2500\n",
            "r5  24000    60day      2000\n"
          ]
        }
      ]
    },
    {
      "cell_type": "code",
      "source": [
        "# select alternate rows by indeces\n",
        "print(df.loc['r1':'r4':2])"
      ],
      "metadata": {
        "colab": {
          "base_uri": "https://localhost:8080/"
        },
        "id": "aOMFZfdLE7iu",
        "outputId": "5dcdd94d-b741-47da-bc0b-4de9dd443bce"
      },
      "execution_count": null,
      "outputs": [
        {
          "output_type": "stream",
          "name": "stdout",
          "text": [
            "   Courses    Fee Duration  Discount\n",
            "r1   Spark  20000    30day      1000\n",
            "r3  Hadoop  26000    35day      1200\n"
          ]
        }
      ]
    },
    {
      "cell_type": "code",
      "source": [
        "# select alternate columns between two labels\n",
        "print(df.loc[:,'Fee':'Discount':2])"
      ],
      "metadata": {
        "colab": {
          "base_uri": "https://localhost:8080/"
        },
        "id": "0mJeh76QFSLl",
        "outputId": "e7e10139-c69e-4f22-f860-4489648bc168"
      },
      "execution_count": null,
      "outputs": [
        {
          "output_type": "stream",
          "name": "stdout",
          "text": [
            "      Fee  Discount\n",
            "r1  20000      1000\n",
            "r2  25000      2300\n",
            "r3  26000      1200\n",
            "r4  22000      2500\n",
            "r5  24000      2000\n"
          ]
        }
      ]
    },
    {
      "cell_type": "code",
      "source": [
        "# using condition\n",
        "print(df.loc[df['Fee']>=24000])"
      ],
      "metadata": {
        "colab": {
          "base_uri": "https://localhost:8080/"
        },
        "id": "1W4kSGmlFqYt",
        "outputId": "0cd7c9d6-81b0-4779-c4ba-ad7f2ff1ad6a"
      },
      "execution_count": null,
      "outputs": [
        {
          "output_type": "stream",
          "name": "stdout",
          "text": [
            "    Courses    Fee Duration  Discount\n",
            "r2  PySpark  25000    40day      2300\n",
            "r3   Hadoop  26000    35day      1200\n",
            "r5   Pandas  24000    60day      2000\n"
          ]
        }
      ]
    },
    {
      "cell_type": "markdown",
      "source": [
        "**DataFrame.iloc[ ]**"
      ],
      "metadata": {
        "id": "AHSBskoEvKzm"
      }
    },
    {
      "cell_type": "code",
      "source": [
        "import pandas as pd\n",
        "technologies = {\n",
        "    'Courses':['Spark','PySpark','Hadoop','Python','Pandas'],\n",
        "    'Fee':[20000,25000,26000,22000,24000],\n",
        "    'Duration':['30day','40day','35day','40day','60day'],\n",
        "    'Discount':[1000,2300,1200,2500,2000]\n",
        "}\n",
        "index_labels=['r1','r2','r3','r4','r5']\n",
        "df = pd.DataFrame(technologies,index=index_labels)\n",
        "print(df)"
      ],
      "metadata": {
        "colab": {
          "base_uri": "https://localhost:8080/"
        },
        "id": "nU3ElGmIvQRH",
        "outputId": "62b227ff-31a5-4d8b-c572-584dc14e9212"
      },
      "execution_count": null,
      "outputs": [
        {
          "output_type": "stream",
          "name": "stdout",
          "text": [
            "    Courses    Fee Duration  Discount\n",
            "r1    Spark  20000    30day      1000\n",
            "r2  PySpark  25000    40day      2300\n",
            "r3   Hadoop  26000    35day      1200\n",
            "r4   Python  22000    40day      2500\n",
            "r5   Pandas  24000    60day      2000\n"
          ]
        }
      ]
    },
    {
      "cell_type": "code",
      "source": [
        "# select single row by index\n",
        "print(df.iloc[1])"
      ],
      "metadata": {
        "colab": {
          "base_uri": "https://localhost:8080/"
        },
        "id": "BgnLqPJovjnr",
        "outputId": "1d40555f-739f-47a8-8028-ab77b30087c2"
      },
      "execution_count": null,
      "outputs": [
        {
          "output_type": "stream",
          "name": "stdout",
          "text": [
            "Courses     PySpark\n",
            "Fee           25000\n",
            "Duration      40day\n",
            "Discount       2300\n",
            "Name: r2, dtype: object\n"
          ]
        }
      ]
    },
    {
      "cell_type": "code",
      "source": [
        "# select single column by index\n",
        "print(df.iloc[:,0])"
      ],
      "metadata": {
        "colab": {
          "base_uri": "https://localhost:8080/"
        },
        "id": "pg0vCtoUvyb_",
        "outputId": "d8a4c639-4066-4ea3-ceb4-c21fc82e07c0"
      },
      "execution_count": null,
      "outputs": [
        {
          "output_type": "stream",
          "name": "stdout",
          "text": [
            "r1      Spark\n",
            "r2    PySpark\n",
            "r3     Hadoop\n",
            "r4     Python\n",
            "r5     Pandas\n",
            "Name: Courses, dtype: object\n"
          ]
        }
      ]
    },
    {
      "cell_type": "code",
      "source": [
        "# select multiple rows by index\n",
        "print(df.iloc[[1,2]])"
      ],
      "metadata": {
        "colab": {
          "base_uri": "https://localhost:8080/"
        },
        "id": "U84Md9f-wBHM",
        "outputId": "6d32217d-c5a7-4f49-e598-835c2c7dca3c"
      },
      "execution_count": null,
      "outputs": [
        {
          "output_type": "stream",
          "name": "stdout",
          "text": [
            "    Courses    Fee Duration  Discount\n",
            "r2  PySpark  25000    40day      2300\n",
            "r3   Hadoop  26000    35day      1200\n"
          ]
        }
      ]
    },
    {
      "cell_type": "code",
      "source": [
        "# select multiple column by index\n",
        "print(df.iloc[:,[0,1,3]])"
      ],
      "metadata": {
        "colab": {
          "base_uri": "https://localhost:8080/"
        },
        "id": "hACEncomwO3f",
        "outputId": "1fe41a92-3be7-464f-886f-52bd708d9115"
      },
      "execution_count": null,
      "outputs": [
        {
          "output_type": "stream",
          "name": "stdout",
          "text": [
            "    Courses    Fee  Discount\n",
            "r1    Spark  20000      1000\n",
            "r2  PySpark  25000      2300\n",
            "r3   Hadoop  26000      1200\n",
            "r4   Python  22000      2500\n",
            "r5   Pandas  24000      2000\n"
          ]
        }
      ]
    },
    {
      "cell_type": "code",
      "source": [
        "# select rows between two indexs\n",
        "print(df.iloc[0:4])"
      ],
      "metadata": {
        "colab": {
          "base_uri": "https://localhost:8080/"
        },
        "id": "IGvBni26wm0B",
        "outputId": "297a4604-716e-4182-cd2e-9851182ce229"
      },
      "execution_count": null,
      "outputs": [
        {
          "output_type": "stream",
          "name": "stdout",
          "text": [
            "    Courses    Fee Duration  Discount\n",
            "r1    Spark  20000    30day      1000\n",
            "r2  PySpark  25000    40day      2300\n",
            "r3   Hadoop  26000    35day      1200\n",
            "r4   Python  22000    40day      2500\n"
          ]
        }
      ]
    },
    {
      "cell_type": "code",
      "source": [
        "# select column between two indexes\n",
        "print(df.iloc[:,1:4])"
      ],
      "metadata": {
        "colab": {
          "base_uri": "https://localhost:8080/"
        },
        "id": "bsZx-V6kw1Y2",
        "outputId": "0edd59e5-eea0-44b9-e7c8-ca52e8e0109e"
      },
      "execution_count": null,
      "outputs": [
        {
          "output_type": "stream",
          "name": "stdout",
          "text": [
            "      Fee Duration  Discount\n",
            "r1  20000    30day      1000\n",
            "r2  25000    40day      2300\n",
            "r3  26000    35day      1200\n",
            "r4  22000    40day      2500\n",
            "r5  24000    60day      2000\n"
          ]
        }
      ]
    },
    {
      "cell_type": "code",
      "source": [
        "# select alternative row by index\n",
        "print(df.iloc[0:4:2])"
      ],
      "metadata": {
        "colab": {
          "base_uri": "https://localhost:8080/"
        },
        "id": "E65Xr2adxB2b",
        "outputId": "bc947aab-7c4e-4a69-f479-3b55acb526b2"
      },
      "execution_count": null,
      "outputs": [
        {
          "output_type": "stream",
          "name": "stdout",
          "text": [
            "   Courses    Fee Duration  Discount\n",
            "r1   Spark  20000    30day      1000\n",
            "r3  Hadoop  26000    35day      1200\n"
          ]
        }
      ]
    },
    {
      "cell_type": "code",
      "source": [
        "# select alternative columns between two indexes\n",
        "print(df.iloc[:,1:4:2])"
      ],
      "metadata": {
        "colab": {
          "base_uri": "https://localhost:8080/"
        },
        "id": "OtSgCNncxO3n",
        "outputId": "14ea2907-3a76-4c7d-8632-5a44c01454ec"
      },
      "execution_count": null,
      "outputs": [
        {
          "output_type": "stream",
          "name": "stdout",
          "text": [
            "      Fee  Discount\n",
            "r1  20000      1000\n",
            "r2  25000      2300\n",
            "r3  26000      1200\n",
            "r4  22000      2500\n",
            "r5  24000      2000\n"
          ]
        }
      ]
    },
    {
      "cell_type": "code",
      "source": [
        "# by condition\n",
        "print(df.iloc[list(df['Fee']>=24000)])"
      ],
      "metadata": {
        "colab": {
          "base_uri": "https://localhost:8080/"
        },
        "id": "RMVbqDt6xiHn",
        "outputId": "927c8624-33d2-45e8-d3e2-813d3e8fc6c2"
      },
      "execution_count": null,
      "outputs": [
        {
          "output_type": "stream",
          "name": "stdout",
          "text": [
            "    Courses    Fee Duration  Discount\n",
            "r2  PySpark  25000    40day      2300\n",
            "r3   Hadoop  26000    35day      1200\n",
            "r5   Pandas  24000    60day      2000\n"
          ]
        }
      ]
    },
    {
      "cell_type": "code",
      "source": [
        "# select rows of DataFrame based on bool array\n",
        "subsetdf = df.iloc[[True,False,True,False,False]]\n",
        "print(subsetdf)"
      ],
      "metadata": {
        "colab": {
          "base_uri": "https://localhost:8080/"
        },
        "id": "Ga-F6Ttcx3-b",
        "outputId": "dbed3018-3206-4bf8-b509-4bca336d09eb"
      },
      "execution_count": null,
      "outputs": [
        {
          "output_type": "stream",
          "name": "stdout",
          "text": [
            "   Courses    Fee Duration  Discount\n",
            "r1   Spark  20000    30day      1000\n",
            "r3  Hadoop  26000    35day      1200\n"
          ]
        }
      ]
    },
    {
      "cell_type": "code",
      "source": [
        "# select column of DataFrame based on bool array\n",
        "subsetdf = df.iloc[:,[True,False,True,False,False]]\n",
        "print(subsetdf)"
      ],
      "metadata": {
        "id": "4jqu5xgbyWXK"
      },
      "execution_count": null,
      "outputs": []
    },
    {
      "cell_type": "code",
      "source": [
        "# select a cell value from DataFrame\n",
        "cellValue = df.iloc[3,2]\n",
        "print(cellValue)"
      ],
      "metadata": {
        "colab": {
          "base_uri": "https://localhost:8080/"
        },
        "id": "tgVJD9S7yvAk",
        "outputId": "e0c591db-b9db-405f-9797-e51085c561d9"
      },
      "execution_count": null,
      "outputs": [
        {
          "output_type": "stream",
          "name": "stdout",
          "text": [
            "40day\n"
          ]
        }
      ]
    },
    {
      "cell_type": "code",
      "source": [
        "# select subset of the DataFrame based on row/Column indices in list\n",
        "subsetdf = df.iloc[[1,3],[2,1]]\n",
        "print(subsetdf)"
      ],
      "metadata": {
        "colab": {
          "base_uri": "https://localhost:8080/"
        },
        "id": "SeJ5nea2zZgM",
        "outputId": "00ada6ff-3a40-4ee4-c8c7-ccc5448f1960"
      },
      "execution_count": null,
      "outputs": [
        {
          "output_type": "stream",
          "name": "stdout",
          "text": [
            "   Duration    Fee\n",
            "r2    40day  25000\n",
            "r4    40day  22000\n"
          ]
        }
      ]
    },
    {
      "cell_type": "code",
      "source": [
        "# select subset of DatFrame based on row and column index range\n",
        "subsetdf = df.iloc[1:4,1:4]\n",
        "print(subsetdf)"
      ],
      "metadata": {
        "colab": {
          "base_uri": "https://localhost:8080/"
        },
        "id": "lP1hbyGkzyYA",
        "outputId": "46aae347-1a82-489f-8420-fcb2b2c3bd6b"
      },
      "execution_count": null,
      "outputs": [
        {
          "output_type": "stream",
          "name": "stdout",
          "text": [
            "      Fee Duration  Discount\n",
            "r2  25000    40day      2300\n",
            "r3  26000    35day      1200\n",
            "r4  22000    40day      2500\n"
          ]
        }
      ]
    },
    {
      "cell_type": "code",
      "source": [
        "# change the value of 3rd row of DataFrame\n",
        "df.iloc[2] = 0\n",
        "print(df)"
      ],
      "metadata": {
        "colab": {
          "base_uri": "https://localhost:8080/"
        },
        "id": "Fem-N4mJ0J5Z",
        "outputId": "29904751-90fd-4eef-8fdb-da8ccbaef01a"
      },
      "execution_count": null,
      "outputs": [
        {
          "output_type": "stream",
          "name": "stdout",
          "text": [
            "    Courses    Fee Duration  Discount\n",
            "r1    Spark  20000    30day      1000\n",
            "r2  PySpark  25000    40day      2300\n",
            "r3        0      0        0         0\n",
            "r4   Python  22000    40day      2500\n",
            "r5   Pandas  24000    60day      2000\n"
          ]
        }
      ]
    },
    {
      "cell_type": "markdown",
      "source": [
        "**Different operations on csv file (DataFrame)**"
      ],
      "metadata": {
        "id": "GOvGRQPT1EGD"
      }
    },
    {
      "cell_type": "code",
      "source": [
        "import pandas as pd\n",
        "df = pd.read_csv('/content/drive/MyDrive/nba.csv')\n",
        "print(df)"
      ],
      "metadata": {
        "colab": {
          "base_uri": "https://localhost:8080/"
        },
        "id": "ZvmQ6BJU1TKC",
        "outputId": "8d7b90f3-0027-4caa-d713-a65c2fcf436c"
      },
      "execution_count": null,
      "outputs": [
        {
          "output_type": "stream",
          "name": "stdout",
          "text": [
            "     Unnamed: 0            Name                    Team  Number Position  \\\n",
            "0           152    Aaron Brooks           Chicago Bulls     0.0       PG   \n",
            "1           356    Aaron Gordon           Orlando Magic     0.0       PF   \n",
            "2           328  Aaron Harrison       Charlotte Hornets     9.0       SG   \n",
            "3           404   Adreian Payne  Minnesota Timberwolves    33.0       PF   \n",
            "4           312      Al Horford           Atlanta Hawks    15.0        C   \n",
            "..          ...             ...                     ...     ...      ...   \n",
            "453         270  Xavier Munford       Memphis Grizzlies    14.0       PG   \n",
            "454         402     Zach LaVine  Minnesota Timberwolves     8.0       PG   \n",
            "455         271   Zach Randolph       Memphis Grizzlies    50.0       PF   \n",
            "456         237   Zaza Pachulia        Dallas Mavericks    27.0        C   \n",
            "457         457             NaN                     NaN     NaN      NaN   \n",
            "\n",
            "      Age Height  Weight         College      Salary  \n",
            "0    31.0    6-0   161.0          Oregon   2250000.0  \n",
            "1    20.0    6-9   220.0         Arizona   4171680.0  \n",
            "2    21.0    6-6   210.0        Kentucky    525093.0  \n",
            "3    25.0   6-10   237.0  Michigan State   1938840.0  \n",
            "4    30.0   6-10   245.0         Florida  12000000.0  \n",
            "..    ...    ...     ...             ...         ...  \n",
            "453  24.0    6-3   180.0    Rhode Island         NaN  \n",
            "454  21.0    6-5   189.0            UCLA   2148360.0  \n",
            "455  34.0    6-9   260.0  Michigan State   9638555.0  \n",
            "456  32.0   6-11   275.0             NaN   5200000.0  \n",
            "457   NaN    NaN     NaN             NaN         NaN  \n",
            "\n",
            "[458 rows x 10 columns]\n"
          ]
        }
      ]
    },
    {
      "cell_type": "markdown",
      "source": [
        "(A) Row selection"
      ],
      "metadata": {
        "id": "qETl3bLb1QFT"
      }
    },
    {
      "cell_type": "code",
      "source": [
        "# Extracting single row\n",
        "\n",
        "import pandas as pd\n",
        "data = pd.read_csv('/content/drive/MyDrive/nba.csv',index_col = \"Name\")\n",
        "first = data.loc[\"Avery Bradley\"]\n",
        "second = data.loc[\"R.J. Hunter\"]\n",
        "print(first,\"\\n\\n\\n\",second)"
      ],
      "metadata": {
        "colab": {
          "base_uri": "https://localhost:8080/"
        },
        "id": "6ZJGV7C_1oz-",
        "outputId": "fb2633fa-6e17-4f8b-da24-d304581b69b8"
      },
      "execution_count": null,
      "outputs": [
        {
          "output_type": "stream",
          "name": "stdout",
          "text": [
            "Unnamed: 0                 0\n",
            "Team          Boston Celtics\n",
            "Number                   0.0\n",
            "Position                  PG\n",
            "Age                     25.0\n",
            "Height                   6-2\n",
            "Weight                 180.0\n",
            "College                Texas\n",
            "Salary             7730337.0\n",
            "Name: Avery Bradley, dtype: object \n",
            "\n",
            "\n",
            " Unnamed: 0                 3\n",
            "Team          Boston Celtics\n",
            "Number                  28.0\n",
            "Position                  SG\n",
            "Age                     22.0\n",
            "Height                   6-5\n",
            "Weight                 185.0\n",
            "College        Georgia State\n",
            "Salary             1148640.0\n",
            "Name: R.J. Hunter, dtype: object\n"
          ]
        }
      ]
    },
    {
      "cell_type": "code",
      "source": [
        "# multiple parameters\n",
        "data = pd.read_csv('/content/drive/MyDrive/nba.csv',index_col = \"Name\")\n",
        "rows = data.loc[[\"Avery Bradley\",\"R.J. Hunter\"]]\n",
        "print(rows)"
      ],
      "metadata": {
        "colab": {
          "base_uri": "https://localhost:8080/"
        },
        "id": "48_Iq6c02uHK",
        "outputId": "474fd6fe-b866-4df1-e495-bae95424ebd6"
      },
      "execution_count": null,
      "outputs": [
        {
          "output_type": "stream",
          "name": "stdout",
          "text": [
            "               Unnamed: 0            Team  Number Position   Age Height  \\\n",
            "Name                                                                      \n",
            "Avery Bradley           0  Boston Celtics     0.0       PG  25.0    6-2   \n",
            "R.J. Hunter             3  Boston Celtics    28.0       SG  22.0    6-5   \n",
            "\n",
            "               Weight        College     Salary  \n",
            "Name                                             \n",
            "Avery Bradley   180.0          Texas  7730337.0  \n",
            "R.J. Hunter     185.0  Georgia State  1148640.0  \n"
          ]
        }
      ]
    },
    {
      "cell_type": "code",
      "source": [
        "# Extract multiple rows with same index\n",
        "data = pd.read_csv('/content/drive/MyDrive/nba.csv',index_col = \"Team\")\n",
        "rows = data.loc[\"Chicago Bulls\"]\n",
        "rows"
      ],
      "metadata": {
        "colab": {
          "base_uri": "https://localhost:8080/",
          "height": 551
        },
        "id": "JlUnP-Cw3O0p",
        "outputId": "7416fe70-c7f5-4a1d-ee7f-22f4d2e5388d"
      },
      "execution_count": null,
      "outputs": [
        {
          "output_type": "execute_result",
          "data": {
            "text/plain": [
              "               Unnamed: 0               Name  Number Position   Age Height  \\\n",
              "Team                                                                         \n",
              "Chicago Bulls         152       Aaron Brooks     0.0       PG  31.0    6-0   \n",
              "Chicago Bulls         163       Bobby Portis     5.0       PF  21.0   6-11   \n",
              "Chicago Bulls         151   Cameron Bairstow    41.0       PF  25.0    6-9   \n",
              "Chicago Bulls         155  Cristiano Felicio     6.0       PF  23.0   6-10   \n",
              "Chicago Bulls         164       Derrick Rose     1.0       PG  27.0    6-3   \n",
              "Chicago Bulls         159     Doug McDermott     3.0       SF  24.0    6-8   \n",
              "Chicago Bulls         161      E'Twaun Moore    55.0       SG  27.0    6-4   \n",
              "Chicago Bulls         153       Jimmy Butler    21.0       SG  26.0    6-7   \n",
              "Chicago Bulls         162        Joakim Noah    13.0        C  31.0   6-11   \n",
              "Chicago Bulls         158     Justin Holiday     7.0       SG  27.0    6-6   \n",
              "Chicago Bulls         154      Mike Dunleavy    34.0       SG  35.0    6-9   \n",
              "Chicago Bulls         160     Nikola Mirotic    44.0       PF  25.0   6-10   \n",
              "Chicago Bulls         156          Pau Gasol    16.0        C  35.0    7-0   \n",
              "Chicago Bulls         157         Taj Gibson    22.0       PF  30.0    6-9   \n",
              "Chicago Bulls         165         Tony Snell    20.0       SF  24.0    6-7   \n",
              "\n",
              "               Weight     College      Salary  \n",
              "Team                                           \n",
              "Chicago Bulls   161.0      Oregon   2250000.0  \n",
              "Chicago Bulls   230.0    Arkansas   1391160.0  \n",
              "Chicago Bulls   250.0  New Mexico    845059.0  \n",
              "Chicago Bulls   275.0         NaN    525093.0  \n",
              "Chicago Bulls   190.0     Memphis  20093064.0  \n",
              "Chicago Bulls   225.0   Creighton   2380440.0  \n",
              "Chicago Bulls   191.0      Purdue   1015421.0  \n",
              "Chicago Bulls   220.0   Marquette  16407500.0  \n",
              "Chicago Bulls   232.0     Florida  13400000.0  \n",
              "Chicago Bulls   185.0  Washington    947276.0  \n",
              "Chicago Bulls   230.0        Duke   4500000.0  \n",
              "Chicago Bulls   220.0         NaN   5543725.0  \n",
              "Chicago Bulls   250.0         NaN   7448760.0  \n",
              "Chicago Bulls   225.0         USC   8500000.0  \n",
              "Chicago Bulls   200.0  New Mexico   1535880.0  "
            ],
            "text/html": [
              "\n",
              "  <div id=\"df-40f8b076-3393-48fe-8a29-ea2b44e98fac\">\n",
              "    <div class=\"colab-df-container\">\n",
              "      <div>\n",
              "<style scoped>\n",
              "    .dataframe tbody tr th:only-of-type {\n",
              "        vertical-align: middle;\n",
              "    }\n",
              "\n",
              "    .dataframe tbody tr th {\n",
              "        vertical-align: top;\n",
              "    }\n",
              "\n",
              "    .dataframe thead th {\n",
              "        text-align: right;\n",
              "    }\n",
              "</style>\n",
              "<table border=\"1\" class=\"dataframe\">\n",
              "  <thead>\n",
              "    <tr style=\"text-align: right;\">\n",
              "      <th></th>\n",
              "      <th>Unnamed: 0</th>\n",
              "      <th>Name</th>\n",
              "      <th>Number</th>\n",
              "      <th>Position</th>\n",
              "      <th>Age</th>\n",
              "      <th>Height</th>\n",
              "      <th>Weight</th>\n",
              "      <th>College</th>\n",
              "      <th>Salary</th>\n",
              "    </tr>\n",
              "    <tr>\n",
              "      <th>Team</th>\n",
              "      <th></th>\n",
              "      <th></th>\n",
              "      <th></th>\n",
              "      <th></th>\n",
              "      <th></th>\n",
              "      <th></th>\n",
              "      <th></th>\n",
              "      <th></th>\n",
              "      <th></th>\n",
              "    </tr>\n",
              "  </thead>\n",
              "  <tbody>\n",
              "    <tr>\n",
              "      <th>Chicago Bulls</th>\n",
              "      <td>152</td>\n",
              "      <td>Aaron Brooks</td>\n",
              "      <td>0.0</td>\n",
              "      <td>PG</td>\n",
              "      <td>31.0</td>\n",
              "      <td>6-0</td>\n",
              "      <td>161.0</td>\n",
              "      <td>Oregon</td>\n",
              "      <td>2250000.0</td>\n",
              "    </tr>\n",
              "    <tr>\n",
              "      <th>Chicago Bulls</th>\n",
              "      <td>163</td>\n",
              "      <td>Bobby Portis</td>\n",
              "      <td>5.0</td>\n",
              "      <td>PF</td>\n",
              "      <td>21.0</td>\n",
              "      <td>6-11</td>\n",
              "      <td>230.0</td>\n",
              "      <td>Arkansas</td>\n",
              "      <td>1391160.0</td>\n",
              "    </tr>\n",
              "    <tr>\n",
              "      <th>Chicago Bulls</th>\n",
              "      <td>151</td>\n",
              "      <td>Cameron Bairstow</td>\n",
              "      <td>41.0</td>\n",
              "      <td>PF</td>\n",
              "      <td>25.0</td>\n",
              "      <td>6-9</td>\n",
              "      <td>250.0</td>\n",
              "      <td>New Mexico</td>\n",
              "      <td>845059.0</td>\n",
              "    </tr>\n",
              "    <tr>\n",
              "      <th>Chicago Bulls</th>\n",
              "      <td>155</td>\n",
              "      <td>Cristiano Felicio</td>\n",
              "      <td>6.0</td>\n",
              "      <td>PF</td>\n",
              "      <td>23.0</td>\n",
              "      <td>6-10</td>\n",
              "      <td>275.0</td>\n",
              "      <td>NaN</td>\n",
              "      <td>525093.0</td>\n",
              "    </tr>\n",
              "    <tr>\n",
              "      <th>Chicago Bulls</th>\n",
              "      <td>164</td>\n",
              "      <td>Derrick Rose</td>\n",
              "      <td>1.0</td>\n",
              "      <td>PG</td>\n",
              "      <td>27.0</td>\n",
              "      <td>6-3</td>\n",
              "      <td>190.0</td>\n",
              "      <td>Memphis</td>\n",
              "      <td>20093064.0</td>\n",
              "    </tr>\n",
              "    <tr>\n",
              "      <th>Chicago Bulls</th>\n",
              "      <td>159</td>\n",
              "      <td>Doug McDermott</td>\n",
              "      <td>3.0</td>\n",
              "      <td>SF</td>\n",
              "      <td>24.0</td>\n",
              "      <td>6-8</td>\n",
              "      <td>225.0</td>\n",
              "      <td>Creighton</td>\n",
              "      <td>2380440.0</td>\n",
              "    </tr>\n",
              "    <tr>\n",
              "      <th>Chicago Bulls</th>\n",
              "      <td>161</td>\n",
              "      <td>E'Twaun Moore</td>\n",
              "      <td>55.0</td>\n",
              "      <td>SG</td>\n",
              "      <td>27.0</td>\n",
              "      <td>6-4</td>\n",
              "      <td>191.0</td>\n",
              "      <td>Purdue</td>\n",
              "      <td>1015421.0</td>\n",
              "    </tr>\n",
              "    <tr>\n",
              "      <th>Chicago Bulls</th>\n",
              "      <td>153</td>\n",
              "      <td>Jimmy Butler</td>\n",
              "      <td>21.0</td>\n",
              "      <td>SG</td>\n",
              "      <td>26.0</td>\n",
              "      <td>6-7</td>\n",
              "      <td>220.0</td>\n",
              "      <td>Marquette</td>\n",
              "      <td>16407500.0</td>\n",
              "    </tr>\n",
              "    <tr>\n",
              "      <th>Chicago Bulls</th>\n",
              "      <td>162</td>\n",
              "      <td>Joakim Noah</td>\n",
              "      <td>13.0</td>\n",
              "      <td>C</td>\n",
              "      <td>31.0</td>\n",
              "      <td>6-11</td>\n",
              "      <td>232.0</td>\n",
              "      <td>Florida</td>\n",
              "      <td>13400000.0</td>\n",
              "    </tr>\n",
              "    <tr>\n",
              "      <th>Chicago Bulls</th>\n",
              "      <td>158</td>\n",
              "      <td>Justin Holiday</td>\n",
              "      <td>7.0</td>\n",
              "      <td>SG</td>\n",
              "      <td>27.0</td>\n",
              "      <td>6-6</td>\n",
              "      <td>185.0</td>\n",
              "      <td>Washington</td>\n",
              "      <td>947276.0</td>\n",
              "    </tr>\n",
              "    <tr>\n",
              "      <th>Chicago Bulls</th>\n",
              "      <td>154</td>\n",
              "      <td>Mike Dunleavy</td>\n",
              "      <td>34.0</td>\n",
              "      <td>SG</td>\n",
              "      <td>35.0</td>\n",
              "      <td>6-9</td>\n",
              "      <td>230.0</td>\n",
              "      <td>Duke</td>\n",
              "      <td>4500000.0</td>\n",
              "    </tr>\n",
              "    <tr>\n",
              "      <th>Chicago Bulls</th>\n",
              "      <td>160</td>\n",
              "      <td>Nikola Mirotic</td>\n",
              "      <td>44.0</td>\n",
              "      <td>PF</td>\n",
              "      <td>25.0</td>\n",
              "      <td>6-10</td>\n",
              "      <td>220.0</td>\n",
              "      <td>NaN</td>\n",
              "      <td>5543725.0</td>\n",
              "    </tr>\n",
              "    <tr>\n",
              "      <th>Chicago Bulls</th>\n",
              "      <td>156</td>\n",
              "      <td>Pau Gasol</td>\n",
              "      <td>16.0</td>\n",
              "      <td>C</td>\n",
              "      <td>35.0</td>\n",
              "      <td>7-0</td>\n",
              "      <td>250.0</td>\n",
              "      <td>NaN</td>\n",
              "      <td>7448760.0</td>\n",
              "    </tr>\n",
              "    <tr>\n",
              "      <th>Chicago Bulls</th>\n",
              "      <td>157</td>\n",
              "      <td>Taj Gibson</td>\n",
              "      <td>22.0</td>\n",
              "      <td>PF</td>\n",
              "      <td>30.0</td>\n",
              "      <td>6-9</td>\n",
              "      <td>225.0</td>\n",
              "      <td>USC</td>\n",
              "      <td>8500000.0</td>\n",
              "    </tr>\n",
              "    <tr>\n",
              "      <th>Chicago Bulls</th>\n",
              "      <td>165</td>\n",
              "      <td>Tony Snell</td>\n",
              "      <td>20.0</td>\n",
              "      <td>SF</td>\n",
              "      <td>24.0</td>\n",
              "      <td>6-7</td>\n",
              "      <td>200.0</td>\n",
              "      <td>New Mexico</td>\n",
              "      <td>1535880.0</td>\n",
              "    </tr>\n",
              "  </tbody>\n",
              "</table>\n",
              "</div>\n",
              "      <button class=\"colab-df-convert\" onclick=\"convertToInteractive('df-40f8b076-3393-48fe-8a29-ea2b44e98fac')\"\n",
              "              title=\"Convert this dataframe to an interactive table.\"\n",
              "              style=\"display:none;\">\n",
              "        \n",
              "  <svg xmlns=\"http://www.w3.org/2000/svg\" height=\"24px\"viewBox=\"0 0 24 24\"\n",
              "       width=\"24px\">\n",
              "    <path d=\"M0 0h24v24H0V0z\" fill=\"none\"/>\n",
              "    <path d=\"M18.56 5.44l.94 2.06.94-2.06 2.06-.94-2.06-.94-.94-2.06-.94 2.06-2.06.94zm-11 1L8.5 8.5l.94-2.06 2.06-.94-2.06-.94L8.5 2.5l-.94 2.06-2.06.94zm10 10l.94 2.06.94-2.06 2.06-.94-2.06-.94-.94-2.06-.94 2.06-2.06.94z\"/><path d=\"M17.41 7.96l-1.37-1.37c-.4-.4-.92-.59-1.43-.59-.52 0-1.04.2-1.43.59L10.3 9.45l-7.72 7.72c-.78.78-.78 2.05 0 2.83L4 21.41c.39.39.9.59 1.41.59.51 0 1.02-.2 1.41-.59l7.78-7.78 2.81-2.81c.8-.78.8-2.07 0-2.86zM5.41 20L4 18.59l7.72-7.72 1.47 1.35L5.41 20z\"/>\n",
              "  </svg>\n",
              "      </button>\n",
              "      \n",
              "  <style>\n",
              "    .colab-df-container {\n",
              "      display:flex;\n",
              "      flex-wrap:wrap;\n",
              "      gap: 12px;\n",
              "    }\n",
              "\n",
              "    .colab-df-convert {\n",
              "      background-color: #E8F0FE;\n",
              "      border: none;\n",
              "      border-radius: 50%;\n",
              "      cursor: pointer;\n",
              "      display: none;\n",
              "      fill: #1967D2;\n",
              "      height: 32px;\n",
              "      padding: 0 0 0 0;\n",
              "      width: 32px;\n",
              "    }\n",
              "\n",
              "    .colab-df-convert:hover {\n",
              "      background-color: #E2EBFA;\n",
              "      box-shadow: 0px 1px 2px rgba(60, 64, 67, 0.3), 0px 1px 3px 1px rgba(60, 64, 67, 0.15);\n",
              "      fill: #174EA6;\n",
              "    }\n",
              "\n",
              "    [theme=dark] .colab-df-convert {\n",
              "      background-color: #3B4455;\n",
              "      fill: #D2E3FC;\n",
              "    }\n",
              "\n",
              "    [theme=dark] .colab-df-convert:hover {\n",
              "      background-color: #434B5C;\n",
              "      box-shadow: 0px 1px 3px 1px rgba(0, 0, 0, 0.15);\n",
              "      filter: drop-shadow(0px 1px 2px rgba(0, 0, 0, 0.3));\n",
              "      fill: #FFFFFF;\n",
              "    }\n",
              "  </style>\n",
              "\n",
              "      <script>\n",
              "        const buttonEl =\n",
              "          document.querySelector('#df-40f8b076-3393-48fe-8a29-ea2b44e98fac button.colab-df-convert');\n",
              "        buttonEl.style.display =\n",
              "          google.colab.kernel.accessAllowed ? 'block' : 'none';\n",
              "\n",
              "        async function convertToInteractive(key) {\n",
              "          const element = document.querySelector('#df-40f8b076-3393-48fe-8a29-ea2b44e98fac');\n",
              "          const dataTable =\n",
              "            await google.colab.kernel.invokeFunction('convertToInteractive',\n",
              "                                                     [key], {});\n",
              "          if (!dataTable) return;\n",
              "\n",
              "          const docLinkHtml = 'Like what you see? Visit the ' +\n",
              "            '<a target=\"_blank\" href=https://colab.research.google.com/notebooks/data_table.ipynb>data table notebook</a>'\n",
              "            + ' to learn more about interactive tables.';\n",
              "          element.innerHTML = '';\n",
              "          dataTable['output_type'] = 'display_data';\n",
              "          await google.colab.output.renderOutput(dataTable, element);\n",
              "          const docLink = document.createElement('div');\n",
              "          docLink.innerHTML = docLinkHtml;\n",
              "          element.appendChild(docLink);\n",
              "        }\n",
              "      </script>\n",
              "    </div>\n",
              "  </div>\n",
              "  "
            ]
          },
          "metadata": {},
          "execution_count": 23
        }
      ]
    },
    {
      "cell_type": "code",
      "source": [
        "# extract rows between two index labels\n",
        "data = pd.read_csv('/content/drive/MyDrive/nba.csv',index_col = \"Name\")\n",
        "rows = data.loc[\"Avery Bradley\":\"Isaiah Thomas\"]\n",
        "rows"
      ],
      "metadata": {
        "colab": {
          "base_uri": "https://localhost:8080/",
          "height": 455
        },
        "id": "8irvFNc04P51",
        "outputId": "31b978b6-3634-4ba6-ede5-096cd78fc98a"
      },
      "execution_count": null,
      "outputs": [
        {
          "output_type": "execute_result",
          "data": {
            "text/plain": [
              "                 Unnamed: 0                   Team  Number Position   Age  \\\n",
              "Name                                                                        \n",
              "Avery Bradley             0         Boston Celtics     0.0       PG  25.0   \n",
              "Axel Toupane            397         Denver Nuggets     6.0       SG  23.0   \n",
              "Ben McLemore            148       Sacramento Kings    23.0       SG  23.0   \n",
              "Bismack Biyombo          61        Toronto Raptors     8.0        C  23.0   \n",
              "Blake Griffin            96   Los Angeles Clippers    32.0       PF  27.0   \n",
              "...                     ...                    ...     ...      ...   ...   \n",
              "Ian Clark                79  Golden State Warriors    21.0       SG  25.0   \n",
              "Ian Mahinmi             204         Indiana Pacers    28.0        C  29.0   \n",
              "Iman Shumpert           177    Cleveland Cavaliers     4.0       SG  25.0   \n",
              "Isaiah Canaan            47     Philadelphia 76ers     0.0       PG  25.0   \n",
              "Isaiah Thomas            11         Boston Celtics     4.0       PG  27.0   \n",
              "\n",
              "                Height  Weight       College      Salary  \n",
              "Name                                                      \n",
              "Avery Bradley      6-2   180.0         Texas   7730337.0  \n",
              "Axel Toupane       6-7   210.0           NaN         NaN  \n",
              "Ben McLemore       6-5   195.0        Kansas   3156600.0  \n",
              "Bismack Biyombo    6-9   245.0           NaN   2814000.0  \n",
              "Blake Griffin     6-10   251.0      Oklahoma  18907726.0  \n",
              "...                ...     ...           ...         ...  \n",
              "Ian Clark          6-3   175.0       Belmont    947276.0  \n",
              "Ian Mahinmi       6-11   250.0           NaN   4000000.0  \n",
              "Iman Shumpert      6-5   220.0  Georgia Tech   8988765.0  \n",
              "Isaiah Canaan      6-0   201.0  Murray State    947276.0  \n",
              "Isaiah Thomas      5-9   185.0    Washington   6912869.0  \n",
              "\n",
              "[128 rows x 9 columns]"
            ],
            "text/html": [
              "\n",
              "  <div id=\"df-9dc637f7-3b0e-4b22-858d-03f52367a3d5\">\n",
              "    <div class=\"colab-df-container\">\n",
              "      <div>\n",
              "<style scoped>\n",
              "    .dataframe tbody tr th:only-of-type {\n",
              "        vertical-align: middle;\n",
              "    }\n",
              "\n",
              "    .dataframe tbody tr th {\n",
              "        vertical-align: top;\n",
              "    }\n",
              "\n",
              "    .dataframe thead th {\n",
              "        text-align: right;\n",
              "    }\n",
              "</style>\n",
              "<table border=\"1\" class=\"dataframe\">\n",
              "  <thead>\n",
              "    <tr style=\"text-align: right;\">\n",
              "      <th></th>\n",
              "      <th>Unnamed: 0</th>\n",
              "      <th>Team</th>\n",
              "      <th>Number</th>\n",
              "      <th>Position</th>\n",
              "      <th>Age</th>\n",
              "      <th>Height</th>\n",
              "      <th>Weight</th>\n",
              "      <th>College</th>\n",
              "      <th>Salary</th>\n",
              "    </tr>\n",
              "    <tr>\n",
              "      <th>Name</th>\n",
              "      <th></th>\n",
              "      <th></th>\n",
              "      <th></th>\n",
              "      <th></th>\n",
              "      <th></th>\n",
              "      <th></th>\n",
              "      <th></th>\n",
              "      <th></th>\n",
              "      <th></th>\n",
              "    </tr>\n",
              "  </thead>\n",
              "  <tbody>\n",
              "    <tr>\n",
              "      <th>Avery Bradley</th>\n",
              "      <td>0</td>\n",
              "      <td>Boston Celtics</td>\n",
              "      <td>0.0</td>\n",
              "      <td>PG</td>\n",
              "      <td>25.0</td>\n",
              "      <td>6-2</td>\n",
              "      <td>180.0</td>\n",
              "      <td>Texas</td>\n",
              "      <td>7730337.0</td>\n",
              "    </tr>\n",
              "    <tr>\n",
              "      <th>Axel Toupane</th>\n",
              "      <td>397</td>\n",
              "      <td>Denver Nuggets</td>\n",
              "      <td>6.0</td>\n",
              "      <td>SG</td>\n",
              "      <td>23.0</td>\n",
              "      <td>6-7</td>\n",
              "      <td>210.0</td>\n",
              "      <td>NaN</td>\n",
              "      <td>NaN</td>\n",
              "    </tr>\n",
              "    <tr>\n",
              "      <th>Ben McLemore</th>\n",
              "      <td>148</td>\n",
              "      <td>Sacramento Kings</td>\n",
              "      <td>23.0</td>\n",
              "      <td>SG</td>\n",
              "      <td>23.0</td>\n",
              "      <td>6-5</td>\n",
              "      <td>195.0</td>\n",
              "      <td>Kansas</td>\n",
              "      <td>3156600.0</td>\n",
              "    </tr>\n",
              "    <tr>\n",
              "      <th>Bismack Biyombo</th>\n",
              "      <td>61</td>\n",
              "      <td>Toronto Raptors</td>\n",
              "      <td>8.0</td>\n",
              "      <td>C</td>\n",
              "      <td>23.0</td>\n",
              "      <td>6-9</td>\n",
              "      <td>245.0</td>\n",
              "      <td>NaN</td>\n",
              "      <td>2814000.0</td>\n",
              "    </tr>\n",
              "    <tr>\n",
              "      <th>Blake Griffin</th>\n",
              "      <td>96</td>\n",
              "      <td>Los Angeles Clippers</td>\n",
              "      <td>32.0</td>\n",
              "      <td>PF</td>\n",
              "      <td>27.0</td>\n",
              "      <td>6-10</td>\n",
              "      <td>251.0</td>\n",
              "      <td>Oklahoma</td>\n",
              "      <td>18907726.0</td>\n",
              "    </tr>\n",
              "    <tr>\n",
              "      <th>...</th>\n",
              "      <td>...</td>\n",
              "      <td>...</td>\n",
              "      <td>...</td>\n",
              "      <td>...</td>\n",
              "      <td>...</td>\n",
              "      <td>...</td>\n",
              "      <td>...</td>\n",
              "      <td>...</td>\n",
              "      <td>...</td>\n",
              "    </tr>\n",
              "    <tr>\n",
              "      <th>Ian Clark</th>\n",
              "      <td>79</td>\n",
              "      <td>Golden State Warriors</td>\n",
              "      <td>21.0</td>\n",
              "      <td>SG</td>\n",
              "      <td>25.0</td>\n",
              "      <td>6-3</td>\n",
              "      <td>175.0</td>\n",
              "      <td>Belmont</td>\n",
              "      <td>947276.0</td>\n",
              "    </tr>\n",
              "    <tr>\n",
              "      <th>Ian Mahinmi</th>\n",
              "      <td>204</td>\n",
              "      <td>Indiana Pacers</td>\n",
              "      <td>28.0</td>\n",
              "      <td>C</td>\n",
              "      <td>29.0</td>\n",
              "      <td>6-11</td>\n",
              "      <td>250.0</td>\n",
              "      <td>NaN</td>\n",
              "      <td>4000000.0</td>\n",
              "    </tr>\n",
              "    <tr>\n",
              "      <th>Iman Shumpert</th>\n",
              "      <td>177</td>\n",
              "      <td>Cleveland Cavaliers</td>\n",
              "      <td>4.0</td>\n",
              "      <td>SG</td>\n",
              "      <td>25.0</td>\n",
              "      <td>6-5</td>\n",
              "      <td>220.0</td>\n",
              "      <td>Georgia Tech</td>\n",
              "      <td>8988765.0</td>\n",
              "    </tr>\n",
              "    <tr>\n",
              "      <th>Isaiah Canaan</th>\n",
              "      <td>47</td>\n",
              "      <td>Philadelphia 76ers</td>\n",
              "      <td>0.0</td>\n",
              "      <td>PG</td>\n",
              "      <td>25.0</td>\n",
              "      <td>6-0</td>\n",
              "      <td>201.0</td>\n",
              "      <td>Murray State</td>\n",
              "      <td>947276.0</td>\n",
              "    </tr>\n",
              "    <tr>\n",
              "      <th>Isaiah Thomas</th>\n",
              "      <td>11</td>\n",
              "      <td>Boston Celtics</td>\n",
              "      <td>4.0</td>\n",
              "      <td>PG</td>\n",
              "      <td>27.0</td>\n",
              "      <td>5-9</td>\n",
              "      <td>185.0</td>\n",
              "      <td>Washington</td>\n",
              "      <td>6912869.0</td>\n",
              "    </tr>\n",
              "  </tbody>\n",
              "</table>\n",
              "<p>128 rows × 9 columns</p>\n",
              "</div>\n",
              "      <button class=\"colab-df-convert\" onclick=\"convertToInteractive('df-9dc637f7-3b0e-4b22-858d-03f52367a3d5')\"\n",
              "              title=\"Convert this dataframe to an interactive table.\"\n",
              "              style=\"display:none;\">\n",
              "        \n",
              "  <svg xmlns=\"http://www.w3.org/2000/svg\" height=\"24px\"viewBox=\"0 0 24 24\"\n",
              "       width=\"24px\">\n",
              "    <path d=\"M0 0h24v24H0V0z\" fill=\"none\"/>\n",
              "    <path d=\"M18.56 5.44l.94 2.06.94-2.06 2.06-.94-2.06-.94-.94-2.06-.94 2.06-2.06.94zm-11 1L8.5 8.5l.94-2.06 2.06-.94-2.06-.94L8.5 2.5l-.94 2.06-2.06.94zm10 10l.94 2.06.94-2.06 2.06-.94-2.06-.94-.94-2.06-.94 2.06-2.06.94z\"/><path d=\"M17.41 7.96l-1.37-1.37c-.4-.4-.92-.59-1.43-.59-.52 0-1.04.2-1.43.59L10.3 9.45l-7.72 7.72c-.78.78-.78 2.05 0 2.83L4 21.41c.39.39.9.59 1.41.59.51 0 1.02-.2 1.41-.59l7.78-7.78 2.81-2.81c.8-.78.8-2.07 0-2.86zM5.41 20L4 18.59l7.72-7.72 1.47 1.35L5.41 20z\"/>\n",
              "  </svg>\n",
              "      </button>\n",
              "      \n",
              "  <style>\n",
              "    .colab-df-container {\n",
              "      display:flex;\n",
              "      flex-wrap:wrap;\n",
              "      gap: 12px;\n",
              "    }\n",
              "\n",
              "    .colab-df-convert {\n",
              "      background-color: #E8F0FE;\n",
              "      border: none;\n",
              "      border-radius: 50%;\n",
              "      cursor: pointer;\n",
              "      display: none;\n",
              "      fill: #1967D2;\n",
              "      height: 32px;\n",
              "      padding: 0 0 0 0;\n",
              "      width: 32px;\n",
              "    }\n",
              "\n",
              "    .colab-df-convert:hover {\n",
              "      background-color: #E2EBFA;\n",
              "      box-shadow: 0px 1px 2px rgba(60, 64, 67, 0.3), 0px 1px 3px 1px rgba(60, 64, 67, 0.15);\n",
              "      fill: #174EA6;\n",
              "    }\n",
              "\n",
              "    [theme=dark] .colab-df-convert {\n",
              "      background-color: #3B4455;\n",
              "      fill: #D2E3FC;\n",
              "    }\n",
              "\n",
              "    [theme=dark] .colab-df-convert:hover {\n",
              "      background-color: #434B5C;\n",
              "      box-shadow: 0px 1px 3px 1px rgba(0, 0, 0, 0.15);\n",
              "      filter: drop-shadow(0px 1px 2px rgba(0, 0, 0, 0.3));\n",
              "      fill: #FFFFFF;\n",
              "    }\n",
              "  </style>\n",
              "\n",
              "      <script>\n",
              "        const buttonEl =\n",
              "          document.querySelector('#df-9dc637f7-3b0e-4b22-858d-03f52367a3d5 button.colab-df-convert');\n",
              "        buttonEl.style.display =\n",
              "          google.colab.kernel.accessAllowed ? 'block' : 'none';\n",
              "\n",
              "        async function convertToInteractive(key) {\n",
              "          const element = document.querySelector('#df-9dc637f7-3b0e-4b22-858d-03f52367a3d5');\n",
              "          const dataTable =\n",
              "            await google.colab.kernel.invokeFunction('convertToInteractive',\n",
              "                                                     [key], {});\n",
              "          if (!dataTable) return;\n",
              "\n",
              "          const docLinkHtml = 'Like what you see? Visit the ' +\n",
              "            '<a target=\"_blank\" href=https://colab.research.google.com/notebooks/data_table.ipynb>data table notebook</a>'\n",
              "            + ' to learn more about interactive tables.';\n",
              "          element.innerHTML = '';\n",
              "          dataTable['output_type'] = 'display_data';\n",
              "          await google.colab.output.renderOutput(dataTable, element);\n",
              "          const docLink = document.createElement('div');\n",
              "          docLink.innerHTML = docLinkHtml;\n",
              "          element.appendChild(docLink);\n",
              "        }\n",
              "      </script>\n",
              "    </div>\n",
              "  </div>\n",
              "  "
            ]
          },
          "metadata": {},
          "execution_count": 24
        }
      ]
    },
    {
      "cell_type": "markdown",
      "source": [
        "(B) Row addition"
      ],
      "metadata": {
        "id": "4F0gNMXL41V_"
      }
    },
    {
      "cell_type": "code",
      "source": [
        "import pandas as pd\n",
        "df = pd.read_csv('/content/drive/MyDrive/nba.csv',index_col = \"Name\")\n",
        "df.head(10)"
      ],
      "metadata": {
        "colab": {
          "base_uri": "https://localhost:8080/",
          "height": 394
        },
        "id": "xISaOfiM46hi",
        "outputId": "05cd5fd9-58b6-4547-e0d2-423baeedf157"
      },
      "execution_count": null,
      "outputs": [
        {
          "output_type": "execute_result",
          "data": {
            "text/plain": [
              "                 Unnamed: 0                    Team  Number Position   Age  \\\n",
              "Name                                                                         \n",
              "Aaron Brooks            152           Chicago Bulls     0.0       PG  31.0   \n",
              "Aaron Gordon            356           Orlando Magic     0.0       PF  20.0   \n",
              "Aaron Harrison          328       Charlotte Hornets     9.0       SG  21.0   \n",
              "Adreian Payne           404  Minnesota Timberwolves    33.0       PF  25.0   \n",
              "Al Horford              312           Atlanta Hawks    15.0        C  30.0   \n",
              "Al Jefferson            330       Charlotte Hornets    25.0        C  31.0   \n",
              "Al-Farouq Aminu         428  Portland Trail Blazers     8.0       SF  25.0   \n",
              "Alan Anderson           368      Washington Wizards     6.0       SG  33.0   \n",
              "Alan Williams           135            Phoenix Suns    15.0        C  23.0   \n",
              "Alec Burks              444               Utah Jazz    10.0       SG  24.0   \n",
              "\n",
              "                Height  Weight           College      Salary  \n",
              "Name                                                          \n",
              "Aaron Brooks       6-0   161.0            Oregon   2250000.0  \n",
              "Aaron Gordon       6-9   220.0           Arizona   4171680.0  \n",
              "Aaron Harrison     6-6   210.0          Kentucky    525093.0  \n",
              "Adreian Payne     6-10   237.0    Michigan State   1938840.0  \n",
              "Al Horford        6-10   245.0           Florida  12000000.0  \n",
              "Al Jefferson      6-10   289.0               NaN  13500000.0  \n",
              "Al-Farouq Aminu    6-9   215.0       Wake Forest   8042895.0  \n",
              "Alan Anderson      6-6   220.0    Michigan State   4000000.0  \n",
              "Alan Williams      6-8   260.0  UC Santa Barbara     83397.0  \n",
              "Alec Burks         6-6   214.0          Colorado   9463484.0  "
            ],
            "text/html": [
              "\n",
              "  <div id=\"df-68a51c71-88a0-42af-8845-06fdfb2f9835\">\n",
              "    <div class=\"colab-df-container\">\n",
              "      <div>\n",
              "<style scoped>\n",
              "    .dataframe tbody tr th:only-of-type {\n",
              "        vertical-align: middle;\n",
              "    }\n",
              "\n",
              "    .dataframe tbody tr th {\n",
              "        vertical-align: top;\n",
              "    }\n",
              "\n",
              "    .dataframe thead th {\n",
              "        text-align: right;\n",
              "    }\n",
              "</style>\n",
              "<table border=\"1\" class=\"dataframe\">\n",
              "  <thead>\n",
              "    <tr style=\"text-align: right;\">\n",
              "      <th></th>\n",
              "      <th>Unnamed: 0</th>\n",
              "      <th>Team</th>\n",
              "      <th>Number</th>\n",
              "      <th>Position</th>\n",
              "      <th>Age</th>\n",
              "      <th>Height</th>\n",
              "      <th>Weight</th>\n",
              "      <th>College</th>\n",
              "      <th>Salary</th>\n",
              "    </tr>\n",
              "    <tr>\n",
              "      <th>Name</th>\n",
              "      <th></th>\n",
              "      <th></th>\n",
              "      <th></th>\n",
              "      <th></th>\n",
              "      <th></th>\n",
              "      <th></th>\n",
              "      <th></th>\n",
              "      <th></th>\n",
              "      <th></th>\n",
              "    </tr>\n",
              "  </thead>\n",
              "  <tbody>\n",
              "    <tr>\n",
              "      <th>Aaron Brooks</th>\n",
              "      <td>152</td>\n",
              "      <td>Chicago Bulls</td>\n",
              "      <td>0.0</td>\n",
              "      <td>PG</td>\n",
              "      <td>31.0</td>\n",
              "      <td>6-0</td>\n",
              "      <td>161.0</td>\n",
              "      <td>Oregon</td>\n",
              "      <td>2250000.0</td>\n",
              "    </tr>\n",
              "    <tr>\n",
              "      <th>Aaron Gordon</th>\n",
              "      <td>356</td>\n",
              "      <td>Orlando Magic</td>\n",
              "      <td>0.0</td>\n",
              "      <td>PF</td>\n",
              "      <td>20.0</td>\n",
              "      <td>6-9</td>\n",
              "      <td>220.0</td>\n",
              "      <td>Arizona</td>\n",
              "      <td>4171680.0</td>\n",
              "    </tr>\n",
              "    <tr>\n",
              "      <th>Aaron Harrison</th>\n",
              "      <td>328</td>\n",
              "      <td>Charlotte Hornets</td>\n",
              "      <td>9.0</td>\n",
              "      <td>SG</td>\n",
              "      <td>21.0</td>\n",
              "      <td>6-6</td>\n",
              "      <td>210.0</td>\n",
              "      <td>Kentucky</td>\n",
              "      <td>525093.0</td>\n",
              "    </tr>\n",
              "    <tr>\n",
              "      <th>Adreian Payne</th>\n",
              "      <td>404</td>\n",
              "      <td>Minnesota Timberwolves</td>\n",
              "      <td>33.0</td>\n",
              "      <td>PF</td>\n",
              "      <td>25.0</td>\n",
              "      <td>6-10</td>\n",
              "      <td>237.0</td>\n",
              "      <td>Michigan State</td>\n",
              "      <td>1938840.0</td>\n",
              "    </tr>\n",
              "    <tr>\n",
              "      <th>Al Horford</th>\n",
              "      <td>312</td>\n",
              "      <td>Atlanta Hawks</td>\n",
              "      <td>15.0</td>\n",
              "      <td>C</td>\n",
              "      <td>30.0</td>\n",
              "      <td>6-10</td>\n",
              "      <td>245.0</td>\n",
              "      <td>Florida</td>\n",
              "      <td>12000000.0</td>\n",
              "    </tr>\n",
              "    <tr>\n",
              "      <th>Al Jefferson</th>\n",
              "      <td>330</td>\n",
              "      <td>Charlotte Hornets</td>\n",
              "      <td>25.0</td>\n",
              "      <td>C</td>\n",
              "      <td>31.0</td>\n",
              "      <td>6-10</td>\n",
              "      <td>289.0</td>\n",
              "      <td>NaN</td>\n",
              "      <td>13500000.0</td>\n",
              "    </tr>\n",
              "    <tr>\n",
              "      <th>Al-Farouq Aminu</th>\n",
              "      <td>428</td>\n",
              "      <td>Portland Trail Blazers</td>\n",
              "      <td>8.0</td>\n",
              "      <td>SF</td>\n",
              "      <td>25.0</td>\n",
              "      <td>6-9</td>\n",
              "      <td>215.0</td>\n",
              "      <td>Wake Forest</td>\n",
              "      <td>8042895.0</td>\n",
              "    </tr>\n",
              "    <tr>\n",
              "      <th>Alan Anderson</th>\n",
              "      <td>368</td>\n",
              "      <td>Washington Wizards</td>\n",
              "      <td>6.0</td>\n",
              "      <td>SG</td>\n",
              "      <td>33.0</td>\n",
              "      <td>6-6</td>\n",
              "      <td>220.0</td>\n",
              "      <td>Michigan State</td>\n",
              "      <td>4000000.0</td>\n",
              "    </tr>\n",
              "    <tr>\n",
              "      <th>Alan Williams</th>\n",
              "      <td>135</td>\n",
              "      <td>Phoenix Suns</td>\n",
              "      <td>15.0</td>\n",
              "      <td>C</td>\n",
              "      <td>23.0</td>\n",
              "      <td>6-8</td>\n",
              "      <td>260.0</td>\n",
              "      <td>UC Santa Barbara</td>\n",
              "      <td>83397.0</td>\n",
              "    </tr>\n",
              "    <tr>\n",
              "      <th>Alec Burks</th>\n",
              "      <td>444</td>\n",
              "      <td>Utah Jazz</td>\n",
              "      <td>10.0</td>\n",
              "      <td>SG</td>\n",
              "      <td>24.0</td>\n",
              "      <td>6-6</td>\n",
              "      <td>214.0</td>\n",
              "      <td>Colorado</td>\n",
              "      <td>9463484.0</td>\n",
              "    </tr>\n",
              "  </tbody>\n",
              "</table>\n",
              "</div>\n",
              "      <button class=\"colab-df-convert\" onclick=\"convertToInteractive('df-68a51c71-88a0-42af-8845-06fdfb2f9835')\"\n",
              "              title=\"Convert this dataframe to an interactive table.\"\n",
              "              style=\"display:none;\">\n",
              "        \n",
              "  <svg xmlns=\"http://www.w3.org/2000/svg\" height=\"24px\"viewBox=\"0 0 24 24\"\n",
              "       width=\"24px\">\n",
              "    <path d=\"M0 0h24v24H0V0z\" fill=\"none\"/>\n",
              "    <path d=\"M18.56 5.44l.94 2.06.94-2.06 2.06-.94-2.06-.94-.94-2.06-.94 2.06-2.06.94zm-11 1L8.5 8.5l.94-2.06 2.06-.94-2.06-.94L8.5 2.5l-.94 2.06-2.06.94zm10 10l.94 2.06.94-2.06 2.06-.94-2.06-.94-.94-2.06-.94 2.06-2.06.94z\"/><path d=\"M17.41 7.96l-1.37-1.37c-.4-.4-.92-.59-1.43-.59-.52 0-1.04.2-1.43.59L10.3 9.45l-7.72 7.72c-.78.78-.78 2.05 0 2.83L4 21.41c.39.39.9.59 1.41.59.51 0 1.02-.2 1.41-.59l7.78-7.78 2.81-2.81c.8-.78.8-2.07 0-2.86zM5.41 20L4 18.59l7.72-7.72 1.47 1.35L5.41 20z\"/>\n",
              "  </svg>\n",
              "      </button>\n",
              "      \n",
              "  <style>\n",
              "    .colab-df-container {\n",
              "      display:flex;\n",
              "      flex-wrap:wrap;\n",
              "      gap: 12px;\n",
              "    }\n",
              "\n",
              "    .colab-df-convert {\n",
              "      background-color: #E8F0FE;\n",
              "      border: none;\n",
              "      border-radius: 50%;\n",
              "      cursor: pointer;\n",
              "      display: none;\n",
              "      fill: #1967D2;\n",
              "      height: 32px;\n",
              "      padding: 0 0 0 0;\n",
              "      width: 32px;\n",
              "    }\n",
              "\n",
              "    .colab-df-convert:hover {\n",
              "      background-color: #E2EBFA;\n",
              "      box-shadow: 0px 1px 2px rgba(60, 64, 67, 0.3), 0px 1px 3px 1px rgba(60, 64, 67, 0.15);\n",
              "      fill: #174EA6;\n",
              "    }\n",
              "\n",
              "    [theme=dark] .colab-df-convert {\n",
              "      background-color: #3B4455;\n",
              "      fill: #D2E3FC;\n",
              "    }\n",
              "\n",
              "    [theme=dark] .colab-df-convert:hover {\n",
              "      background-color: #434B5C;\n",
              "      box-shadow: 0px 1px 3px 1px rgba(0, 0, 0, 0.15);\n",
              "      filter: drop-shadow(0px 1px 2px rgba(0, 0, 0, 0.3));\n",
              "      fill: #FFFFFF;\n",
              "    }\n",
              "  </style>\n",
              "\n",
              "      <script>\n",
              "        const buttonEl =\n",
              "          document.querySelector('#df-68a51c71-88a0-42af-8845-06fdfb2f9835 button.colab-df-convert');\n",
              "        buttonEl.style.display =\n",
              "          google.colab.kernel.accessAllowed ? 'block' : 'none';\n",
              "\n",
              "        async function convertToInteractive(key) {\n",
              "          const element = document.querySelector('#df-68a51c71-88a0-42af-8845-06fdfb2f9835');\n",
              "          const dataTable =\n",
              "            await google.colab.kernel.invokeFunction('convertToInteractive',\n",
              "                                                     [key], {});\n",
              "          if (!dataTable) return;\n",
              "\n",
              "          const docLinkHtml = 'Like what you see? Visit the ' +\n",
              "            '<a target=\"_blank\" href=https://colab.research.google.com/notebooks/data_table.ipynb>data table notebook</a>'\n",
              "            + ' to learn more about interactive tables.';\n",
              "          element.innerHTML = '';\n",
              "          dataTable['output_type'] = 'display_data';\n",
              "          await google.colab.output.renderOutput(dataTable, element);\n",
              "          const docLink = document.createElement('div');\n",
              "          docLink.innerHTML = docLinkHtml;\n",
              "          element.appendChild(docLink);\n",
              "        }\n",
              "      </script>\n",
              "    </div>\n",
              "  </div>\n",
              "  "
            ]
          },
          "metadata": {},
          "execution_count": 25
        }
      ]
    },
    {
      "cell_type": "code",
      "source": [
        "# Adding row at the top of given DataFrame by concatenating the old DataFrame with new one\n",
        "df = pd.read_csv('/content/drive/MyDrive/nba.csv',index_col = \"Name\")\n",
        "new_row = pd.DataFrame({\n",
        "    'Name':'Garry','Team':'Boston','Number':3,'Position':'PG','Age':33,'Height':'6-2','Weight':189\n",
        ",'College':'MIT','Salary':99999},index = [0])\n",
        "df = pd.concat([new_row,df]).reset_index(drop = True)\n",
        "df.head(5)"
      ],
      "metadata": {
        "colab": {
          "base_uri": "https://localhost:8080/",
          "height": 206
        },
        "id": "1s1GoxGs5W-7",
        "outputId": "0e5fdf34-f6de-4696-ff6c-8454b5a4ae2e"
      },
      "execution_count": null,
      "outputs": [
        {
          "output_type": "execute_result",
          "data": {
            "text/plain": [
              "    Name                    Team  Number Position   Age Height  Weight  \\\n",
              "0  Garry                  Boston     3.0       PG  33.0    6-2   189.0   \n",
              "1    NaN           Chicago Bulls     0.0       PG  31.0    6-0   161.0   \n",
              "2    NaN           Orlando Magic     0.0       PF  20.0    6-9   220.0   \n",
              "3    NaN       Charlotte Hornets     9.0       SG  21.0    6-6   210.0   \n",
              "4    NaN  Minnesota Timberwolves    33.0       PF  25.0   6-10   237.0   \n",
              "\n",
              "          College     Salary  Unnamed: 0  \n",
              "0             MIT    99999.0         NaN  \n",
              "1          Oregon  2250000.0       152.0  \n",
              "2         Arizona  4171680.0       356.0  \n",
              "3        Kentucky   525093.0       328.0  \n",
              "4  Michigan State  1938840.0       404.0  "
            ],
            "text/html": [
              "\n",
              "  <div id=\"df-8056f28f-e171-4de2-96ad-4079a956fa07\">\n",
              "    <div class=\"colab-df-container\">\n",
              "      <div>\n",
              "<style scoped>\n",
              "    .dataframe tbody tr th:only-of-type {\n",
              "        vertical-align: middle;\n",
              "    }\n",
              "\n",
              "    .dataframe tbody tr th {\n",
              "        vertical-align: top;\n",
              "    }\n",
              "\n",
              "    .dataframe thead th {\n",
              "        text-align: right;\n",
              "    }\n",
              "</style>\n",
              "<table border=\"1\" class=\"dataframe\">\n",
              "  <thead>\n",
              "    <tr style=\"text-align: right;\">\n",
              "      <th></th>\n",
              "      <th>Name</th>\n",
              "      <th>Team</th>\n",
              "      <th>Number</th>\n",
              "      <th>Position</th>\n",
              "      <th>Age</th>\n",
              "      <th>Height</th>\n",
              "      <th>Weight</th>\n",
              "      <th>College</th>\n",
              "      <th>Salary</th>\n",
              "      <th>Unnamed: 0</th>\n",
              "    </tr>\n",
              "  </thead>\n",
              "  <tbody>\n",
              "    <tr>\n",
              "      <th>0</th>\n",
              "      <td>Garry</td>\n",
              "      <td>Boston</td>\n",
              "      <td>3.0</td>\n",
              "      <td>PG</td>\n",
              "      <td>33.0</td>\n",
              "      <td>6-2</td>\n",
              "      <td>189.0</td>\n",
              "      <td>MIT</td>\n",
              "      <td>99999.0</td>\n",
              "      <td>NaN</td>\n",
              "    </tr>\n",
              "    <tr>\n",
              "      <th>1</th>\n",
              "      <td>NaN</td>\n",
              "      <td>Chicago Bulls</td>\n",
              "      <td>0.0</td>\n",
              "      <td>PG</td>\n",
              "      <td>31.0</td>\n",
              "      <td>6-0</td>\n",
              "      <td>161.0</td>\n",
              "      <td>Oregon</td>\n",
              "      <td>2250000.0</td>\n",
              "      <td>152.0</td>\n",
              "    </tr>\n",
              "    <tr>\n",
              "      <th>2</th>\n",
              "      <td>NaN</td>\n",
              "      <td>Orlando Magic</td>\n",
              "      <td>0.0</td>\n",
              "      <td>PF</td>\n",
              "      <td>20.0</td>\n",
              "      <td>6-9</td>\n",
              "      <td>220.0</td>\n",
              "      <td>Arizona</td>\n",
              "      <td>4171680.0</td>\n",
              "      <td>356.0</td>\n",
              "    </tr>\n",
              "    <tr>\n",
              "      <th>3</th>\n",
              "      <td>NaN</td>\n",
              "      <td>Charlotte Hornets</td>\n",
              "      <td>9.0</td>\n",
              "      <td>SG</td>\n",
              "      <td>21.0</td>\n",
              "      <td>6-6</td>\n",
              "      <td>210.0</td>\n",
              "      <td>Kentucky</td>\n",
              "      <td>525093.0</td>\n",
              "      <td>328.0</td>\n",
              "    </tr>\n",
              "    <tr>\n",
              "      <th>4</th>\n",
              "      <td>NaN</td>\n",
              "      <td>Minnesota Timberwolves</td>\n",
              "      <td>33.0</td>\n",
              "      <td>PF</td>\n",
              "      <td>25.0</td>\n",
              "      <td>6-10</td>\n",
              "      <td>237.0</td>\n",
              "      <td>Michigan State</td>\n",
              "      <td>1938840.0</td>\n",
              "      <td>404.0</td>\n",
              "    </tr>\n",
              "  </tbody>\n",
              "</table>\n",
              "</div>\n",
              "      <button class=\"colab-df-convert\" onclick=\"convertToInteractive('df-8056f28f-e171-4de2-96ad-4079a956fa07')\"\n",
              "              title=\"Convert this dataframe to an interactive table.\"\n",
              "              style=\"display:none;\">\n",
              "        \n",
              "  <svg xmlns=\"http://www.w3.org/2000/svg\" height=\"24px\"viewBox=\"0 0 24 24\"\n",
              "       width=\"24px\">\n",
              "    <path d=\"M0 0h24v24H0V0z\" fill=\"none\"/>\n",
              "    <path d=\"M18.56 5.44l.94 2.06.94-2.06 2.06-.94-2.06-.94-.94-2.06-.94 2.06-2.06.94zm-11 1L8.5 8.5l.94-2.06 2.06-.94-2.06-.94L8.5 2.5l-.94 2.06-2.06.94zm10 10l.94 2.06.94-2.06 2.06-.94-2.06-.94-.94-2.06-.94 2.06-2.06.94z\"/><path d=\"M17.41 7.96l-1.37-1.37c-.4-.4-.92-.59-1.43-.59-.52 0-1.04.2-1.43.59L10.3 9.45l-7.72 7.72c-.78.78-.78 2.05 0 2.83L4 21.41c.39.39.9.59 1.41.59.51 0 1.02-.2 1.41-.59l7.78-7.78 2.81-2.81c.8-.78.8-2.07 0-2.86zM5.41 20L4 18.59l7.72-7.72 1.47 1.35L5.41 20z\"/>\n",
              "  </svg>\n",
              "      </button>\n",
              "      \n",
              "  <style>\n",
              "    .colab-df-container {\n",
              "      display:flex;\n",
              "      flex-wrap:wrap;\n",
              "      gap: 12px;\n",
              "    }\n",
              "\n",
              "    .colab-df-convert {\n",
              "      background-color: #E8F0FE;\n",
              "      border: none;\n",
              "      border-radius: 50%;\n",
              "      cursor: pointer;\n",
              "      display: none;\n",
              "      fill: #1967D2;\n",
              "      height: 32px;\n",
              "      padding: 0 0 0 0;\n",
              "      width: 32px;\n",
              "    }\n",
              "\n",
              "    .colab-df-convert:hover {\n",
              "      background-color: #E2EBFA;\n",
              "      box-shadow: 0px 1px 2px rgba(60, 64, 67, 0.3), 0px 1px 3px 1px rgba(60, 64, 67, 0.15);\n",
              "      fill: #174EA6;\n",
              "    }\n",
              "\n",
              "    [theme=dark] .colab-df-convert {\n",
              "      background-color: #3B4455;\n",
              "      fill: #D2E3FC;\n",
              "    }\n",
              "\n",
              "    [theme=dark] .colab-df-convert:hover {\n",
              "      background-color: #434B5C;\n",
              "      box-shadow: 0px 1px 3px 1px rgba(0, 0, 0, 0.15);\n",
              "      filter: drop-shadow(0px 1px 2px rgba(0, 0, 0, 0.3));\n",
              "      fill: #FFFFFF;\n",
              "    }\n",
              "  </style>\n",
              "\n",
              "      <script>\n",
              "        const buttonEl =\n",
              "          document.querySelector('#df-8056f28f-e171-4de2-96ad-4079a956fa07 button.colab-df-convert');\n",
              "        buttonEl.style.display =\n",
              "          google.colab.kernel.accessAllowed ? 'block' : 'none';\n",
              "\n",
              "        async function convertToInteractive(key) {\n",
              "          const element = document.querySelector('#df-8056f28f-e171-4de2-96ad-4079a956fa07');\n",
              "          const dataTable =\n",
              "            await google.colab.kernel.invokeFunction('convertToInteractive',\n",
              "                                                     [key], {});\n",
              "          if (!dataTable) return;\n",
              "\n",
              "          const docLinkHtml = 'Like what you see? Visit the ' +\n",
              "            '<a target=\"_blank\" href=https://colab.research.google.com/notebooks/data_table.ipynb>data table notebook</a>'\n",
              "            + ' to learn more about interactive tables.';\n",
              "          element.innerHTML = '';\n",
              "          dataTable['output_type'] = 'display_data';\n",
              "          await google.colab.output.renderOutput(dataTable, element);\n",
              "          const docLink = document.createElement('div');\n",
              "          docLink.innerHTML = docLinkHtml;\n",
              "          element.appendChild(docLink);\n",
              "        }\n",
              "      </script>\n",
              "    </div>\n",
              "  </div>\n",
              "  "
            ]
          },
          "metadata": {},
          "execution_count": 27
        }
      ]
    },
    {
      "cell_type": "code",
      "source": [
        "# Adding row at the top of given DataFrame by concatenating the old DataFrame with new one\n",
        "df = pd.read_csv('/content/drive/MyDrive/nba.csv',index_col = \"Name\")\n",
        "new_row = pd.DataFrame({\n",
        "    'Name':'Garry','Team':'Boston','Number':3,'Position':'PG','Age':33,'Height':'6-2','Weight':189\n",
        ",'College':'MIT','Salary':99999},index = [0])\n",
        "df = pd.concat([new_row,df])\n",
        "df.head(5)"
      ],
      "metadata": {
        "colab": {
          "base_uri": "https://localhost:8080/",
          "height": 206
        },
        "id": "hfI9dXMJ6_gE",
        "outputId": "8416147c-796c-4f66-b0ba-4b66d16e2b9f"
      },
      "execution_count": null,
      "outputs": [
        {
          "output_type": "execute_result",
          "data": {
            "text/plain": [
              "                 Name                    Team  Number Position   Age Height  \\\n",
              "0               Garry                  Boston     3.0       PG  33.0    6-2   \n",
              "Aaron Brooks      NaN           Chicago Bulls     0.0       PG  31.0    6-0   \n",
              "Aaron Gordon      NaN           Orlando Magic     0.0       PF  20.0    6-9   \n",
              "Aaron Harrison    NaN       Charlotte Hornets     9.0       SG  21.0    6-6   \n",
              "Adreian Payne     NaN  Minnesota Timberwolves    33.0       PF  25.0   6-10   \n",
              "\n",
              "                Weight         College     Salary  Unnamed: 0  \n",
              "0                189.0             MIT    99999.0         NaN  \n",
              "Aaron Brooks     161.0          Oregon  2250000.0       152.0  \n",
              "Aaron Gordon     220.0         Arizona  4171680.0       356.0  \n",
              "Aaron Harrison   210.0        Kentucky   525093.0       328.0  \n",
              "Adreian Payne    237.0  Michigan State  1938840.0       404.0  "
            ],
            "text/html": [
              "\n",
              "  <div id=\"df-ca6bee36-42e4-41a3-abce-638a20d9d549\">\n",
              "    <div class=\"colab-df-container\">\n",
              "      <div>\n",
              "<style scoped>\n",
              "    .dataframe tbody tr th:only-of-type {\n",
              "        vertical-align: middle;\n",
              "    }\n",
              "\n",
              "    .dataframe tbody tr th {\n",
              "        vertical-align: top;\n",
              "    }\n",
              "\n",
              "    .dataframe thead th {\n",
              "        text-align: right;\n",
              "    }\n",
              "</style>\n",
              "<table border=\"1\" class=\"dataframe\">\n",
              "  <thead>\n",
              "    <tr style=\"text-align: right;\">\n",
              "      <th></th>\n",
              "      <th>Name</th>\n",
              "      <th>Team</th>\n",
              "      <th>Number</th>\n",
              "      <th>Position</th>\n",
              "      <th>Age</th>\n",
              "      <th>Height</th>\n",
              "      <th>Weight</th>\n",
              "      <th>College</th>\n",
              "      <th>Salary</th>\n",
              "      <th>Unnamed: 0</th>\n",
              "    </tr>\n",
              "  </thead>\n",
              "  <tbody>\n",
              "    <tr>\n",
              "      <th>0</th>\n",
              "      <td>Garry</td>\n",
              "      <td>Boston</td>\n",
              "      <td>3.0</td>\n",
              "      <td>PG</td>\n",
              "      <td>33.0</td>\n",
              "      <td>6-2</td>\n",
              "      <td>189.0</td>\n",
              "      <td>MIT</td>\n",
              "      <td>99999.0</td>\n",
              "      <td>NaN</td>\n",
              "    </tr>\n",
              "    <tr>\n",
              "      <th>Aaron Brooks</th>\n",
              "      <td>NaN</td>\n",
              "      <td>Chicago Bulls</td>\n",
              "      <td>0.0</td>\n",
              "      <td>PG</td>\n",
              "      <td>31.0</td>\n",
              "      <td>6-0</td>\n",
              "      <td>161.0</td>\n",
              "      <td>Oregon</td>\n",
              "      <td>2250000.0</td>\n",
              "      <td>152.0</td>\n",
              "    </tr>\n",
              "    <tr>\n",
              "      <th>Aaron Gordon</th>\n",
              "      <td>NaN</td>\n",
              "      <td>Orlando Magic</td>\n",
              "      <td>0.0</td>\n",
              "      <td>PF</td>\n",
              "      <td>20.0</td>\n",
              "      <td>6-9</td>\n",
              "      <td>220.0</td>\n",
              "      <td>Arizona</td>\n",
              "      <td>4171680.0</td>\n",
              "      <td>356.0</td>\n",
              "    </tr>\n",
              "    <tr>\n",
              "      <th>Aaron Harrison</th>\n",
              "      <td>NaN</td>\n",
              "      <td>Charlotte Hornets</td>\n",
              "      <td>9.0</td>\n",
              "      <td>SG</td>\n",
              "      <td>21.0</td>\n",
              "      <td>6-6</td>\n",
              "      <td>210.0</td>\n",
              "      <td>Kentucky</td>\n",
              "      <td>525093.0</td>\n",
              "      <td>328.0</td>\n",
              "    </tr>\n",
              "    <tr>\n",
              "      <th>Adreian Payne</th>\n",
              "      <td>NaN</td>\n",
              "      <td>Minnesota Timberwolves</td>\n",
              "      <td>33.0</td>\n",
              "      <td>PF</td>\n",
              "      <td>25.0</td>\n",
              "      <td>6-10</td>\n",
              "      <td>237.0</td>\n",
              "      <td>Michigan State</td>\n",
              "      <td>1938840.0</td>\n",
              "      <td>404.0</td>\n",
              "    </tr>\n",
              "  </tbody>\n",
              "</table>\n",
              "</div>\n",
              "      <button class=\"colab-df-convert\" onclick=\"convertToInteractive('df-ca6bee36-42e4-41a3-abce-638a20d9d549')\"\n",
              "              title=\"Convert this dataframe to an interactive table.\"\n",
              "              style=\"display:none;\">\n",
              "        \n",
              "  <svg xmlns=\"http://www.w3.org/2000/svg\" height=\"24px\"viewBox=\"0 0 24 24\"\n",
              "       width=\"24px\">\n",
              "    <path d=\"M0 0h24v24H0V0z\" fill=\"none\"/>\n",
              "    <path d=\"M18.56 5.44l.94 2.06.94-2.06 2.06-.94-2.06-.94-.94-2.06-.94 2.06-2.06.94zm-11 1L8.5 8.5l.94-2.06 2.06-.94-2.06-.94L8.5 2.5l-.94 2.06-2.06.94zm10 10l.94 2.06.94-2.06 2.06-.94-2.06-.94-.94-2.06-.94 2.06-2.06.94z\"/><path d=\"M17.41 7.96l-1.37-1.37c-.4-.4-.92-.59-1.43-.59-.52 0-1.04.2-1.43.59L10.3 9.45l-7.72 7.72c-.78.78-.78 2.05 0 2.83L4 21.41c.39.39.9.59 1.41.59.51 0 1.02-.2 1.41-.59l7.78-7.78 2.81-2.81c.8-.78.8-2.07 0-2.86zM5.41 20L4 18.59l7.72-7.72 1.47 1.35L5.41 20z\"/>\n",
              "  </svg>\n",
              "      </button>\n",
              "      \n",
              "  <style>\n",
              "    .colab-df-container {\n",
              "      display:flex;\n",
              "      flex-wrap:wrap;\n",
              "      gap: 12px;\n",
              "    }\n",
              "\n",
              "    .colab-df-convert {\n",
              "      background-color: #E8F0FE;\n",
              "      border: none;\n",
              "      border-radius: 50%;\n",
              "      cursor: pointer;\n",
              "      display: none;\n",
              "      fill: #1967D2;\n",
              "      height: 32px;\n",
              "      padding: 0 0 0 0;\n",
              "      width: 32px;\n",
              "    }\n",
              "\n",
              "    .colab-df-convert:hover {\n",
              "      background-color: #E2EBFA;\n",
              "      box-shadow: 0px 1px 2px rgba(60, 64, 67, 0.3), 0px 1px 3px 1px rgba(60, 64, 67, 0.15);\n",
              "      fill: #174EA6;\n",
              "    }\n",
              "\n",
              "    [theme=dark] .colab-df-convert {\n",
              "      background-color: #3B4455;\n",
              "      fill: #D2E3FC;\n",
              "    }\n",
              "\n",
              "    [theme=dark] .colab-df-convert:hover {\n",
              "      background-color: #434B5C;\n",
              "      box-shadow: 0px 1px 3px 1px rgba(0, 0, 0, 0.15);\n",
              "      filter: drop-shadow(0px 1px 2px rgba(0, 0, 0, 0.3));\n",
              "      fill: #FFFFFF;\n",
              "    }\n",
              "  </style>\n",
              "\n",
              "      <script>\n",
              "        const buttonEl =\n",
              "          document.querySelector('#df-ca6bee36-42e4-41a3-abce-638a20d9d549 button.colab-df-convert');\n",
              "        buttonEl.style.display =\n",
              "          google.colab.kernel.accessAllowed ? 'block' : 'none';\n",
              "\n",
              "        async function convertToInteractive(key) {\n",
              "          const element = document.querySelector('#df-ca6bee36-42e4-41a3-abce-638a20d9d549');\n",
              "          const dataTable =\n",
              "            await google.colab.kernel.invokeFunction('convertToInteractive',\n",
              "                                                     [key], {});\n",
              "          if (!dataTable) return;\n",
              "\n",
              "          const docLinkHtml = 'Like what you see? Visit the ' +\n",
              "            '<a target=\"_blank\" href=https://colab.research.google.com/notebooks/data_table.ipynb>data table notebook</a>'\n",
              "            + ' to learn more about interactive tables.';\n",
              "          element.innerHTML = '';\n",
              "          dataTable['output_type'] = 'display_data';\n",
              "          await google.colab.output.renderOutput(dataTable, element);\n",
              "          const docLink = document.createElement('div');\n",
              "          docLink.innerHTML = docLinkHtml;\n",
              "          element.appendChild(docLink);\n",
              "        }\n",
              "      </script>\n",
              "    </div>\n",
              "  </div>\n",
              "  "
            ]
          },
          "metadata": {},
          "execution_count": 28
        }
      ]
    },
    {
      "cell_type": "markdown",
      "source": [
        "(C) Row Deletion"
      ],
      "metadata": {
        "id": "k6p8VzFW7w0p"
      }
    },
    {
      "cell_type": "code",
      "source": [
        "import pandas as pd\n",
        "df = pd.read_csv('/content/drive/MyDrive/nba.csv',index_col = \"Name\")\n",
        "data.drop([\"Aaron Brooks\",\"Aaron Gordon\",\"Aaron Harrison\"],inplace = True)\n",
        "data"
      ],
      "metadata": {
        "colab": {
          "base_uri": "https://localhost:8080/",
          "height": 455
        },
        "id": "0GhzrV2f71IC",
        "outputId": "b543390f-661c-475a-8599-bc9d0ba8f725"
      },
      "execution_count": null,
      "outputs": [
        {
          "output_type": "execute_result",
          "data": {
            "text/plain": [
              "                 Unnamed: 0                    Team  Number Position   Age  \\\n",
              "Name                                                                         \n",
              "Adreian Payne           404  Minnesota Timberwolves    33.0       PF  25.0   \n",
              "Al Horford              312           Atlanta Hawks    15.0        C  30.0   \n",
              "Al Jefferson            330       Charlotte Hornets    25.0        C  31.0   \n",
              "Al-Farouq Aminu         428  Portland Trail Blazers     8.0       SF  25.0   \n",
              "Alan Anderson           368      Washington Wizards     6.0       SG  33.0   \n",
              "...                     ...                     ...     ...      ...   ...   \n",
              "Xavier Munford          270       Memphis Grizzlies    14.0       PG  24.0   \n",
              "Zach LaVine             402  Minnesota Timberwolves     8.0       PG  21.0   \n",
              "Zach Randolph           271       Memphis Grizzlies    50.0       PF  34.0   \n",
              "Zaza Pachulia           237        Dallas Mavericks    27.0        C  32.0   \n",
              "NaN                     457                     NaN     NaN      NaN   NaN   \n",
              "\n",
              "                Height  Weight         College      Salary  \n",
              "Name                                                        \n",
              "Adreian Payne     6-10   237.0  Michigan State   1938840.0  \n",
              "Al Horford        6-10   245.0         Florida  12000000.0  \n",
              "Al Jefferson      6-10   289.0             NaN  13500000.0  \n",
              "Al-Farouq Aminu    6-9   215.0     Wake Forest   8042895.0  \n",
              "Alan Anderson      6-6   220.0  Michigan State   4000000.0  \n",
              "...                ...     ...             ...         ...  \n",
              "Xavier Munford     6-3   180.0    Rhode Island         NaN  \n",
              "Zach LaVine        6-5   189.0            UCLA   2148360.0  \n",
              "Zach Randolph      6-9   260.0  Michigan State   9638555.0  \n",
              "Zaza Pachulia     6-11   275.0             NaN   5200000.0  \n",
              "NaN                NaN     NaN             NaN         NaN  \n",
              "\n",
              "[455 rows x 9 columns]"
            ],
            "text/html": [
              "\n",
              "  <div id=\"df-73cb242a-fa9e-412e-8fb1-e0cf80d93ba8\">\n",
              "    <div class=\"colab-df-container\">\n",
              "      <div>\n",
              "<style scoped>\n",
              "    .dataframe tbody tr th:only-of-type {\n",
              "        vertical-align: middle;\n",
              "    }\n",
              "\n",
              "    .dataframe tbody tr th {\n",
              "        vertical-align: top;\n",
              "    }\n",
              "\n",
              "    .dataframe thead th {\n",
              "        text-align: right;\n",
              "    }\n",
              "</style>\n",
              "<table border=\"1\" class=\"dataframe\">\n",
              "  <thead>\n",
              "    <tr style=\"text-align: right;\">\n",
              "      <th></th>\n",
              "      <th>Unnamed: 0</th>\n",
              "      <th>Team</th>\n",
              "      <th>Number</th>\n",
              "      <th>Position</th>\n",
              "      <th>Age</th>\n",
              "      <th>Height</th>\n",
              "      <th>Weight</th>\n",
              "      <th>College</th>\n",
              "      <th>Salary</th>\n",
              "    </tr>\n",
              "    <tr>\n",
              "      <th>Name</th>\n",
              "      <th></th>\n",
              "      <th></th>\n",
              "      <th></th>\n",
              "      <th></th>\n",
              "      <th></th>\n",
              "      <th></th>\n",
              "      <th></th>\n",
              "      <th></th>\n",
              "      <th></th>\n",
              "    </tr>\n",
              "  </thead>\n",
              "  <tbody>\n",
              "    <tr>\n",
              "      <th>Adreian Payne</th>\n",
              "      <td>404</td>\n",
              "      <td>Minnesota Timberwolves</td>\n",
              "      <td>33.0</td>\n",
              "      <td>PF</td>\n",
              "      <td>25.0</td>\n",
              "      <td>6-10</td>\n",
              "      <td>237.0</td>\n",
              "      <td>Michigan State</td>\n",
              "      <td>1938840.0</td>\n",
              "    </tr>\n",
              "    <tr>\n",
              "      <th>Al Horford</th>\n",
              "      <td>312</td>\n",
              "      <td>Atlanta Hawks</td>\n",
              "      <td>15.0</td>\n",
              "      <td>C</td>\n",
              "      <td>30.0</td>\n",
              "      <td>6-10</td>\n",
              "      <td>245.0</td>\n",
              "      <td>Florida</td>\n",
              "      <td>12000000.0</td>\n",
              "    </tr>\n",
              "    <tr>\n",
              "      <th>Al Jefferson</th>\n",
              "      <td>330</td>\n",
              "      <td>Charlotte Hornets</td>\n",
              "      <td>25.0</td>\n",
              "      <td>C</td>\n",
              "      <td>31.0</td>\n",
              "      <td>6-10</td>\n",
              "      <td>289.0</td>\n",
              "      <td>NaN</td>\n",
              "      <td>13500000.0</td>\n",
              "    </tr>\n",
              "    <tr>\n",
              "      <th>Al-Farouq Aminu</th>\n",
              "      <td>428</td>\n",
              "      <td>Portland Trail Blazers</td>\n",
              "      <td>8.0</td>\n",
              "      <td>SF</td>\n",
              "      <td>25.0</td>\n",
              "      <td>6-9</td>\n",
              "      <td>215.0</td>\n",
              "      <td>Wake Forest</td>\n",
              "      <td>8042895.0</td>\n",
              "    </tr>\n",
              "    <tr>\n",
              "      <th>Alan Anderson</th>\n",
              "      <td>368</td>\n",
              "      <td>Washington Wizards</td>\n",
              "      <td>6.0</td>\n",
              "      <td>SG</td>\n",
              "      <td>33.0</td>\n",
              "      <td>6-6</td>\n",
              "      <td>220.0</td>\n",
              "      <td>Michigan State</td>\n",
              "      <td>4000000.0</td>\n",
              "    </tr>\n",
              "    <tr>\n",
              "      <th>...</th>\n",
              "      <td>...</td>\n",
              "      <td>...</td>\n",
              "      <td>...</td>\n",
              "      <td>...</td>\n",
              "      <td>...</td>\n",
              "      <td>...</td>\n",
              "      <td>...</td>\n",
              "      <td>...</td>\n",
              "      <td>...</td>\n",
              "    </tr>\n",
              "    <tr>\n",
              "      <th>Xavier Munford</th>\n",
              "      <td>270</td>\n",
              "      <td>Memphis Grizzlies</td>\n",
              "      <td>14.0</td>\n",
              "      <td>PG</td>\n",
              "      <td>24.0</td>\n",
              "      <td>6-3</td>\n",
              "      <td>180.0</td>\n",
              "      <td>Rhode Island</td>\n",
              "      <td>NaN</td>\n",
              "    </tr>\n",
              "    <tr>\n",
              "      <th>Zach LaVine</th>\n",
              "      <td>402</td>\n",
              "      <td>Minnesota Timberwolves</td>\n",
              "      <td>8.0</td>\n",
              "      <td>PG</td>\n",
              "      <td>21.0</td>\n",
              "      <td>6-5</td>\n",
              "      <td>189.0</td>\n",
              "      <td>UCLA</td>\n",
              "      <td>2148360.0</td>\n",
              "    </tr>\n",
              "    <tr>\n",
              "      <th>Zach Randolph</th>\n",
              "      <td>271</td>\n",
              "      <td>Memphis Grizzlies</td>\n",
              "      <td>50.0</td>\n",
              "      <td>PF</td>\n",
              "      <td>34.0</td>\n",
              "      <td>6-9</td>\n",
              "      <td>260.0</td>\n",
              "      <td>Michigan State</td>\n",
              "      <td>9638555.0</td>\n",
              "    </tr>\n",
              "    <tr>\n",
              "      <th>Zaza Pachulia</th>\n",
              "      <td>237</td>\n",
              "      <td>Dallas Mavericks</td>\n",
              "      <td>27.0</td>\n",
              "      <td>C</td>\n",
              "      <td>32.0</td>\n",
              "      <td>6-11</td>\n",
              "      <td>275.0</td>\n",
              "      <td>NaN</td>\n",
              "      <td>5200000.0</td>\n",
              "    </tr>\n",
              "    <tr>\n",
              "      <th>NaN</th>\n",
              "      <td>457</td>\n",
              "      <td>NaN</td>\n",
              "      <td>NaN</td>\n",
              "      <td>NaN</td>\n",
              "      <td>NaN</td>\n",
              "      <td>NaN</td>\n",
              "      <td>NaN</td>\n",
              "      <td>NaN</td>\n",
              "      <td>NaN</td>\n",
              "    </tr>\n",
              "  </tbody>\n",
              "</table>\n",
              "<p>455 rows × 9 columns</p>\n",
              "</div>\n",
              "      <button class=\"colab-df-convert\" onclick=\"convertToInteractive('df-73cb242a-fa9e-412e-8fb1-e0cf80d93ba8')\"\n",
              "              title=\"Convert this dataframe to an interactive table.\"\n",
              "              style=\"display:none;\">\n",
              "        \n",
              "  <svg xmlns=\"http://www.w3.org/2000/svg\" height=\"24px\"viewBox=\"0 0 24 24\"\n",
              "       width=\"24px\">\n",
              "    <path d=\"M0 0h24v24H0V0z\" fill=\"none\"/>\n",
              "    <path d=\"M18.56 5.44l.94 2.06.94-2.06 2.06-.94-2.06-.94-.94-2.06-.94 2.06-2.06.94zm-11 1L8.5 8.5l.94-2.06 2.06-.94-2.06-.94L8.5 2.5l-.94 2.06-2.06.94zm10 10l.94 2.06.94-2.06 2.06-.94-2.06-.94-.94-2.06-.94 2.06-2.06.94z\"/><path d=\"M17.41 7.96l-1.37-1.37c-.4-.4-.92-.59-1.43-.59-.52 0-1.04.2-1.43.59L10.3 9.45l-7.72 7.72c-.78.78-.78 2.05 0 2.83L4 21.41c.39.39.9.59 1.41.59.51 0 1.02-.2 1.41-.59l7.78-7.78 2.81-2.81c.8-.78.8-2.07 0-2.86zM5.41 20L4 18.59l7.72-7.72 1.47 1.35L5.41 20z\"/>\n",
              "  </svg>\n",
              "      </button>\n",
              "      \n",
              "  <style>\n",
              "    .colab-df-container {\n",
              "      display:flex;\n",
              "      flex-wrap:wrap;\n",
              "      gap: 12px;\n",
              "    }\n",
              "\n",
              "    .colab-df-convert {\n",
              "      background-color: #E8F0FE;\n",
              "      border: none;\n",
              "      border-radius: 50%;\n",
              "      cursor: pointer;\n",
              "      display: none;\n",
              "      fill: #1967D2;\n",
              "      height: 32px;\n",
              "      padding: 0 0 0 0;\n",
              "      width: 32px;\n",
              "    }\n",
              "\n",
              "    .colab-df-convert:hover {\n",
              "      background-color: #E2EBFA;\n",
              "      box-shadow: 0px 1px 2px rgba(60, 64, 67, 0.3), 0px 1px 3px 1px rgba(60, 64, 67, 0.15);\n",
              "      fill: #174EA6;\n",
              "    }\n",
              "\n",
              "    [theme=dark] .colab-df-convert {\n",
              "      background-color: #3B4455;\n",
              "      fill: #D2E3FC;\n",
              "    }\n",
              "\n",
              "    [theme=dark] .colab-df-convert:hover {\n",
              "      background-color: #434B5C;\n",
              "      box-shadow: 0px 1px 3px 1px rgba(0, 0, 0, 0.15);\n",
              "      filter: drop-shadow(0px 1px 2px rgba(0, 0, 0, 0.3));\n",
              "      fill: #FFFFFF;\n",
              "    }\n",
              "  </style>\n",
              "\n",
              "      <script>\n",
              "        const buttonEl =\n",
              "          document.querySelector('#df-73cb242a-fa9e-412e-8fb1-e0cf80d93ba8 button.colab-df-convert');\n",
              "        buttonEl.style.display =\n",
              "          google.colab.kernel.accessAllowed ? 'block' : 'none';\n",
              "\n",
              "        async function convertToInteractive(key) {\n",
              "          const element = document.querySelector('#df-73cb242a-fa9e-412e-8fb1-e0cf80d93ba8');\n",
              "          const dataTable =\n",
              "            await google.colab.kernel.invokeFunction('convertToInteractive',\n",
              "                                                     [key], {});\n",
              "          if (!dataTable) return;\n",
              "\n",
              "          const docLinkHtml = 'Like what you see? Visit the ' +\n",
              "            '<a target=\"_blank\" href=https://colab.research.google.com/notebooks/data_table.ipynb>data table notebook</a>'\n",
              "            + ' to learn more about interactive tables.';\n",
              "          element.innerHTML = '';\n",
              "          dataTable['output_type'] = 'display_data';\n",
              "          await google.colab.output.renderOutput(dataTable, element);\n",
              "          const docLink = document.createElement('div');\n",
              "          docLink.innerHTML = docLinkHtml;\n",
              "          element.appendChild(docLink);\n",
              "        }\n",
              "      </script>\n",
              "    </div>\n",
              "  </div>\n",
              "  "
            ]
          },
          "metadata": {},
          "execution_count": 32
        }
      ]
    },
    {
      "cell_type": "markdown",
      "source": [
        "**DEALING WITH COLUMNS**"
      ],
      "metadata": {
        "id": "kftKoSc4dHjB"
      }
    },
    {
      "cell_type": "markdown",
      "source": [
        "(A) column selection"
      ],
      "metadata": {
        "id": "MVjj0lx2dNeY"
      }
    },
    {
      "cell_type": "code",
      "source": [
        "# select two columns\n",
        "import pandas as pd\n",
        "data = {\n",
        "    'Name':['jai','princi','gaurav','anuj'],\n",
        "    'Age':[27,24,22,32],\n",
        "    'Address':['Delhi','Kanpur','Allahabad','Kannauj'],\n",
        "    'Qualification':['Msc','MA','MCA','PhD']\n",
        "}\n",
        "df = pd.DataFrame(data)\n",
        "print(df[['Name','Qualification']])"
      ],
      "metadata": {
        "colab": {
          "base_uri": "https://localhost:8080/"
        },
        "id": "621U-1WDdZnt",
        "outputId": "9fe6b0f8-dde1-4427-c5ea-3e7d8daad3ab"
      },
      "execution_count": null,
      "outputs": [
        {
          "output_type": "stream",
          "name": "stdout",
          "text": [
            "     Name Qualification\n",
            "0     jai           Msc\n",
            "1  princi            MA\n",
            "2  gaurav           MCA\n",
            "3    anuj           PhD\n"
          ]
        }
      ]
    },
    {
      "cell_type": "code",
      "source": [
        "# select second to fourth columns\n",
        "df[df.columns[1:4]]"
      ],
      "metadata": {
        "colab": {
          "base_uri": "https://localhost:8080/",
          "height": 175
        },
        "id": "vVecGfCqfFSD",
        "outputId": "1ec38c37-45f9-459a-e8d8-3f31582046db"
      },
      "execution_count": null,
      "outputs": [
        {
          "output_type": "execute_result",
          "data": {
            "text/plain": [
              "   Age    Address Qualification\n",
              "0   27      Delhi           Msc\n",
              "1   24     Kanpur            MA\n",
              "2   22  Allahabad           MCA\n",
              "3   32    Kannauj           PhD"
            ],
            "text/html": [
              "\n",
              "  <div id=\"df-9c2404c4-6e60-4b59-a01b-afd8ea543e75\">\n",
              "    <div class=\"colab-df-container\">\n",
              "      <div>\n",
              "<style scoped>\n",
              "    .dataframe tbody tr th:only-of-type {\n",
              "        vertical-align: middle;\n",
              "    }\n",
              "\n",
              "    .dataframe tbody tr th {\n",
              "        vertical-align: top;\n",
              "    }\n",
              "\n",
              "    .dataframe thead th {\n",
              "        text-align: right;\n",
              "    }\n",
              "</style>\n",
              "<table border=\"1\" class=\"dataframe\">\n",
              "  <thead>\n",
              "    <tr style=\"text-align: right;\">\n",
              "      <th></th>\n",
              "      <th>Age</th>\n",
              "      <th>Address</th>\n",
              "      <th>Qualification</th>\n",
              "    </tr>\n",
              "  </thead>\n",
              "  <tbody>\n",
              "    <tr>\n",
              "      <th>0</th>\n",
              "      <td>27</td>\n",
              "      <td>Delhi</td>\n",
              "      <td>Msc</td>\n",
              "    </tr>\n",
              "    <tr>\n",
              "      <th>1</th>\n",
              "      <td>24</td>\n",
              "      <td>Kanpur</td>\n",
              "      <td>MA</td>\n",
              "    </tr>\n",
              "    <tr>\n",
              "      <th>2</th>\n",
              "      <td>22</td>\n",
              "      <td>Allahabad</td>\n",
              "      <td>MCA</td>\n",
              "    </tr>\n",
              "    <tr>\n",
              "      <th>3</th>\n",
              "      <td>32</td>\n",
              "      <td>Kannauj</td>\n",
              "      <td>PhD</td>\n",
              "    </tr>\n",
              "  </tbody>\n",
              "</table>\n",
              "</div>\n",
              "      <button class=\"colab-df-convert\" onclick=\"convertToInteractive('df-9c2404c4-6e60-4b59-a01b-afd8ea543e75')\"\n",
              "              title=\"Convert this dataframe to an interactive table.\"\n",
              "              style=\"display:none;\">\n",
              "        \n",
              "  <svg xmlns=\"http://www.w3.org/2000/svg\" height=\"24px\"viewBox=\"0 0 24 24\"\n",
              "       width=\"24px\">\n",
              "    <path d=\"M0 0h24v24H0V0z\" fill=\"none\"/>\n",
              "    <path d=\"M18.56 5.44l.94 2.06.94-2.06 2.06-.94-2.06-.94-.94-2.06-.94 2.06-2.06.94zm-11 1L8.5 8.5l.94-2.06 2.06-.94-2.06-.94L8.5 2.5l-.94 2.06-2.06.94zm10 10l.94 2.06.94-2.06 2.06-.94-2.06-.94-.94-2.06-.94 2.06-2.06.94z\"/><path d=\"M17.41 7.96l-1.37-1.37c-.4-.4-.92-.59-1.43-.59-.52 0-1.04.2-1.43.59L10.3 9.45l-7.72 7.72c-.78.78-.78 2.05 0 2.83L4 21.41c.39.39.9.59 1.41.59.51 0 1.02-.2 1.41-.59l7.78-7.78 2.81-2.81c.8-.78.8-2.07 0-2.86zM5.41 20L4 18.59l7.72-7.72 1.47 1.35L5.41 20z\"/>\n",
              "  </svg>\n",
              "      </button>\n",
              "      \n",
              "  <style>\n",
              "    .colab-df-container {\n",
              "      display:flex;\n",
              "      flex-wrap:wrap;\n",
              "      gap: 12px;\n",
              "    }\n",
              "\n",
              "    .colab-df-convert {\n",
              "      background-color: #E8F0FE;\n",
              "      border: none;\n",
              "      border-radius: 50%;\n",
              "      cursor: pointer;\n",
              "      display: none;\n",
              "      fill: #1967D2;\n",
              "      height: 32px;\n",
              "      padding: 0 0 0 0;\n",
              "      width: 32px;\n",
              "    }\n",
              "\n",
              "    .colab-df-convert:hover {\n",
              "      background-color: #E2EBFA;\n",
              "      box-shadow: 0px 1px 2px rgba(60, 64, 67, 0.3), 0px 1px 3px 1px rgba(60, 64, 67, 0.15);\n",
              "      fill: #174EA6;\n",
              "    }\n",
              "\n",
              "    [theme=dark] .colab-df-convert {\n",
              "      background-color: #3B4455;\n",
              "      fill: #D2E3FC;\n",
              "    }\n",
              "\n",
              "    [theme=dark] .colab-df-convert:hover {\n",
              "      background-color: #434B5C;\n",
              "      box-shadow: 0px 1px 3px 1px rgba(0, 0, 0, 0.15);\n",
              "      filter: drop-shadow(0px 1px 2px rgba(0, 0, 0, 0.3));\n",
              "      fill: #FFFFFF;\n",
              "    }\n",
              "  </style>\n",
              "\n",
              "      <script>\n",
              "        const buttonEl =\n",
              "          document.querySelector('#df-9c2404c4-6e60-4b59-a01b-afd8ea543e75 button.colab-df-convert');\n",
              "        buttonEl.style.display =\n",
              "          google.colab.kernel.accessAllowed ? 'block' : 'none';\n",
              "\n",
              "        async function convertToInteractive(key) {\n",
              "          const element = document.querySelector('#df-9c2404c4-6e60-4b59-a01b-afd8ea543e75');\n",
              "          const dataTable =\n",
              "            await google.colab.kernel.invokeFunction('convertToInteractive',\n",
              "                                                     [key], {});\n",
              "          if (!dataTable) return;\n",
              "\n",
              "          const docLinkHtml = 'Like what you see? Visit the ' +\n",
              "            '<a target=\"_blank\" href=https://colab.research.google.com/notebooks/data_table.ipynb>data table notebook</a>'\n",
              "            + ' to learn more about interactive tables.';\n",
              "          element.innerHTML = '';\n",
              "          dataTable['output_type'] = 'display_data';\n",
              "          await google.colab.output.renderOutput(dataTable, element);\n",
              "          const docLink = document.createElement('div');\n",
              "          docLink.innerHTML = docLinkHtml;\n",
              "          element.appendChild(docLink);\n",
              "        }\n",
              "      </script>\n",
              "    </div>\n",
              "  </div>\n",
              "  "
            ]
          },
          "metadata": {},
          "execution_count": 4
        }
      ]
    },
    {
      "cell_type": "code",
      "source": [
        "# using loc[ ]\n",
        "df.loc[1:3,['Name','Qualification']]"
      ],
      "metadata": {
        "colab": {
          "base_uri": "https://localhost:8080/",
          "height": 143
        },
        "id": "84BmecrTfYN9",
        "outputId": "8b05472a-36f3-46bb-a1b0-cc907f3f095f"
      },
      "execution_count": null,
      "outputs": [
        {
          "output_type": "execute_result",
          "data": {
            "text/plain": [
              "     Name Qualification\n",
              "1  princi            MA\n",
              "2  gaurav           MCA\n",
              "3    anuj           PhD"
            ],
            "text/html": [
              "\n",
              "  <div id=\"df-28741fbb-6ddc-46f8-b2b0-7950cbb8420e\">\n",
              "    <div class=\"colab-df-container\">\n",
              "      <div>\n",
              "<style scoped>\n",
              "    .dataframe tbody tr th:only-of-type {\n",
              "        vertical-align: middle;\n",
              "    }\n",
              "\n",
              "    .dataframe tbody tr th {\n",
              "        vertical-align: top;\n",
              "    }\n",
              "\n",
              "    .dataframe thead th {\n",
              "        text-align: right;\n",
              "    }\n",
              "</style>\n",
              "<table border=\"1\" class=\"dataframe\">\n",
              "  <thead>\n",
              "    <tr style=\"text-align: right;\">\n",
              "      <th></th>\n",
              "      <th>Name</th>\n",
              "      <th>Qualification</th>\n",
              "    </tr>\n",
              "  </thead>\n",
              "  <tbody>\n",
              "    <tr>\n",
              "      <th>1</th>\n",
              "      <td>princi</td>\n",
              "      <td>MA</td>\n",
              "    </tr>\n",
              "    <tr>\n",
              "      <th>2</th>\n",
              "      <td>gaurav</td>\n",
              "      <td>MCA</td>\n",
              "    </tr>\n",
              "    <tr>\n",
              "      <th>3</th>\n",
              "      <td>anuj</td>\n",
              "      <td>PhD</td>\n",
              "    </tr>\n",
              "  </tbody>\n",
              "</table>\n",
              "</div>\n",
              "      <button class=\"colab-df-convert\" onclick=\"convertToInteractive('df-28741fbb-6ddc-46f8-b2b0-7950cbb8420e')\"\n",
              "              title=\"Convert this dataframe to an interactive table.\"\n",
              "              style=\"display:none;\">\n",
              "        \n",
              "  <svg xmlns=\"http://www.w3.org/2000/svg\" height=\"24px\"viewBox=\"0 0 24 24\"\n",
              "       width=\"24px\">\n",
              "    <path d=\"M0 0h24v24H0V0z\" fill=\"none\"/>\n",
              "    <path d=\"M18.56 5.44l.94 2.06.94-2.06 2.06-.94-2.06-.94-.94-2.06-.94 2.06-2.06.94zm-11 1L8.5 8.5l.94-2.06 2.06-.94-2.06-.94L8.5 2.5l-.94 2.06-2.06.94zm10 10l.94 2.06.94-2.06 2.06-.94-2.06-.94-.94-2.06-.94 2.06-2.06.94z\"/><path d=\"M17.41 7.96l-1.37-1.37c-.4-.4-.92-.59-1.43-.59-.52 0-1.04.2-1.43.59L10.3 9.45l-7.72 7.72c-.78.78-.78 2.05 0 2.83L4 21.41c.39.39.9.59 1.41.59.51 0 1.02-.2 1.41-.59l7.78-7.78 2.81-2.81c.8-.78.8-2.07 0-2.86zM5.41 20L4 18.59l7.72-7.72 1.47 1.35L5.41 20z\"/>\n",
              "  </svg>\n",
              "      </button>\n",
              "      \n",
              "  <style>\n",
              "    .colab-df-container {\n",
              "      display:flex;\n",
              "      flex-wrap:wrap;\n",
              "      gap: 12px;\n",
              "    }\n",
              "\n",
              "    .colab-df-convert {\n",
              "      background-color: #E8F0FE;\n",
              "      border: none;\n",
              "      border-radius: 50%;\n",
              "      cursor: pointer;\n",
              "      display: none;\n",
              "      fill: #1967D2;\n",
              "      height: 32px;\n",
              "      padding: 0 0 0 0;\n",
              "      width: 32px;\n",
              "    }\n",
              "\n",
              "    .colab-df-convert:hover {\n",
              "      background-color: #E2EBFA;\n",
              "      box-shadow: 0px 1px 2px rgba(60, 64, 67, 0.3), 0px 1px 3px 1px rgba(60, 64, 67, 0.15);\n",
              "      fill: #174EA6;\n",
              "    }\n",
              "\n",
              "    [theme=dark] .colab-df-convert {\n",
              "      background-color: #3B4455;\n",
              "      fill: #D2E3FC;\n",
              "    }\n",
              "\n",
              "    [theme=dark] .colab-df-convert:hover {\n",
              "      background-color: #434B5C;\n",
              "      box-shadow: 0px 1px 3px 1px rgba(0, 0, 0, 0.15);\n",
              "      filter: drop-shadow(0px 1px 2px rgba(0, 0, 0, 0.3));\n",
              "      fill: #FFFFFF;\n",
              "    }\n",
              "  </style>\n",
              "\n",
              "      <script>\n",
              "        const buttonEl =\n",
              "          document.querySelector('#df-28741fbb-6ddc-46f8-b2b0-7950cbb8420e button.colab-df-convert');\n",
              "        buttonEl.style.display =\n",
              "          google.colab.kernel.accessAllowed ? 'block' : 'none';\n",
              "\n",
              "        async function convertToInteractive(key) {\n",
              "          const element = document.querySelector('#df-28741fbb-6ddc-46f8-b2b0-7950cbb8420e');\n",
              "          const dataTable =\n",
              "            await google.colab.kernel.invokeFunction('convertToInteractive',\n",
              "                                                     [key], {});\n",
              "          if (!dataTable) return;\n",
              "\n",
              "          const docLinkHtml = 'Like what you see? Visit the ' +\n",
              "            '<a target=\"_blank\" href=https://colab.research.google.com/notebooks/data_table.ipynb>data table notebook</a>'\n",
              "            + ' to learn more about interactive tables.';\n",
              "          element.innerHTML = '';\n",
              "          dataTable['output_type'] = 'display_data';\n",
              "          await google.colab.output.renderOutput(dataTable, element);\n",
              "          const docLink = document.createElement('div');\n",
              "          docLink.innerHTML = docLinkHtml;\n",
              "          element.appendChild(docLink);\n",
              "        }\n",
              "      </script>\n",
              "    </div>\n",
              "  </div>\n",
              "  "
            ]
          },
          "metadata": {},
          "execution_count": 5
        }
      ]
    },
    {
      "cell_type": "code",
      "source": [
        "# first filtering row and selecting columns by label format and then select all columns\n",
        "df.loc[0,:]"
      ],
      "metadata": {
        "colab": {
          "base_uri": "https://localhost:8080/"
        },
        "id": "FRwj9jw4f3Hm",
        "outputId": "71217d66-966e-4f77-f795-3c463672b768"
      },
      "execution_count": null,
      "outputs": [
        {
          "output_type": "execute_result",
          "data": {
            "text/plain": [
              "Name               jai\n",
              "Age                 27\n",
              "Address          Delhi\n",
              "Qualification      Msc\n",
              "Name: 0, dtype: object"
            ]
          },
          "metadata": {},
          "execution_count": 6
        }
      ]
    },
    {
      "cell_type": "code",
      "source": [
        "# using iloc[ ]\n",
        "df.iloc[:,0:2]"
      ],
      "metadata": {
        "colab": {
          "base_uri": "https://localhost:8080/",
          "height": 175
        },
        "id": "UE4Ux2jAgPcw",
        "outputId": "c0aeb471-486d-49b8-d6d4-c34c24669809"
      },
      "execution_count": null,
      "outputs": [
        {
          "output_type": "execute_result",
          "data": {
            "text/plain": [
              "     Name  Age\n",
              "0     jai   27\n",
              "1  princi   24\n",
              "2  gaurav   22\n",
              "3    anuj   32"
            ],
            "text/html": [
              "\n",
              "  <div id=\"df-567d7d73-ad0f-4b96-96db-b6333d800b88\">\n",
              "    <div class=\"colab-df-container\">\n",
              "      <div>\n",
              "<style scoped>\n",
              "    .dataframe tbody tr th:only-of-type {\n",
              "        vertical-align: middle;\n",
              "    }\n",
              "\n",
              "    .dataframe tbody tr th {\n",
              "        vertical-align: top;\n",
              "    }\n",
              "\n",
              "    .dataframe thead th {\n",
              "        text-align: right;\n",
              "    }\n",
              "</style>\n",
              "<table border=\"1\" class=\"dataframe\">\n",
              "  <thead>\n",
              "    <tr style=\"text-align: right;\">\n",
              "      <th></th>\n",
              "      <th>Name</th>\n",
              "      <th>Age</th>\n",
              "    </tr>\n",
              "  </thead>\n",
              "  <tbody>\n",
              "    <tr>\n",
              "      <th>0</th>\n",
              "      <td>jai</td>\n",
              "      <td>27</td>\n",
              "    </tr>\n",
              "    <tr>\n",
              "      <th>1</th>\n",
              "      <td>princi</td>\n",
              "      <td>24</td>\n",
              "    </tr>\n",
              "    <tr>\n",
              "      <th>2</th>\n",
              "      <td>gaurav</td>\n",
              "      <td>22</td>\n",
              "    </tr>\n",
              "    <tr>\n",
              "      <th>3</th>\n",
              "      <td>anuj</td>\n",
              "      <td>32</td>\n",
              "    </tr>\n",
              "  </tbody>\n",
              "</table>\n",
              "</div>\n",
              "      <button class=\"colab-df-convert\" onclick=\"convertToInteractive('df-567d7d73-ad0f-4b96-96db-b6333d800b88')\"\n",
              "              title=\"Convert this dataframe to an interactive table.\"\n",
              "              style=\"display:none;\">\n",
              "        \n",
              "  <svg xmlns=\"http://www.w3.org/2000/svg\" height=\"24px\"viewBox=\"0 0 24 24\"\n",
              "       width=\"24px\">\n",
              "    <path d=\"M0 0h24v24H0V0z\" fill=\"none\"/>\n",
              "    <path d=\"M18.56 5.44l.94 2.06.94-2.06 2.06-.94-2.06-.94-.94-2.06-.94 2.06-2.06.94zm-11 1L8.5 8.5l.94-2.06 2.06-.94-2.06-.94L8.5 2.5l-.94 2.06-2.06.94zm10 10l.94 2.06.94-2.06 2.06-.94-2.06-.94-.94-2.06-.94 2.06-2.06.94z\"/><path d=\"M17.41 7.96l-1.37-1.37c-.4-.4-.92-.59-1.43-.59-.52 0-1.04.2-1.43.59L10.3 9.45l-7.72 7.72c-.78.78-.78 2.05 0 2.83L4 21.41c.39.39.9.59 1.41.59.51 0 1.02-.2 1.41-.59l7.78-7.78 2.81-2.81c.8-.78.8-2.07 0-2.86zM5.41 20L4 18.59l7.72-7.72 1.47 1.35L5.41 20z\"/>\n",
              "  </svg>\n",
              "      </button>\n",
              "      \n",
              "  <style>\n",
              "    .colab-df-container {\n",
              "      display:flex;\n",
              "      flex-wrap:wrap;\n",
              "      gap: 12px;\n",
              "    }\n",
              "\n",
              "    .colab-df-convert {\n",
              "      background-color: #E8F0FE;\n",
              "      border: none;\n",
              "      border-radius: 50%;\n",
              "      cursor: pointer;\n",
              "      display: none;\n",
              "      fill: #1967D2;\n",
              "      height: 32px;\n",
              "      padding: 0 0 0 0;\n",
              "      width: 32px;\n",
              "    }\n",
              "\n",
              "    .colab-df-convert:hover {\n",
              "      background-color: #E2EBFA;\n",
              "      box-shadow: 0px 1px 2px rgba(60, 64, 67, 0.3), 0px 1px 3px 1px rgba(60, 64, 67, 0.15);\n",
              "      fill: #174EA6;\n",
              "    }\n",
              "\n",
              "    [theme=dark] .colab-df-convert {\n",
              "      background-color: #3B4455;\n",
              "      fill: #D2E3FC;\n",
              "    }\n",
              "\n",
              "    [theme=dark] .colab-df-convert:hover {\n",
              "      background-color: #434B5C;\n",
              "      box-shadow: 0px 1px 3px 1px rgba(0, 0, 0, 0.15);\n",
              "      filter: drop-shadow(0px 1px 2px rgba(0, 0, 0, 0.3));\n",
              "      fill: #FFFFFF;\n",
              "    }\n",
              "  </style>\n",
              "\n",
              "      <script>\n",
              "        const buttonEl =\n",
              "          document.querySelector('#df-567d7d73-ad0f-4b96-96db-b6333d800b88 button.colab-df-convert');\n",
              "        buttonEl.style.display =\n",
              "          google.colab.kernel.accessAllowed ? 'block' : 'none';\n",
              "\n",
              "        async function convertToInteractive(key) {\n",
              "          const element = document.querySelector('#df-567d7d73-ad0f-4b96-96db-b6333d800b88');\n",
              "          const dataTable =\n",
              "            await google.colab.kernel.invokeFunction('convertToInteractive',\n",
              "                                                     [key], {});\n",
              "          if (!dataTable) return;\n",
              "\n",
              "          const docLinkHtml = 'Like what you see? Visit the ' +\n",
              "            '<a target=\"_blank\" href=https://colab.research.google.com/notebooks/data_table.ipynb>data table notebook</a>'\n",
              "            + ' to learn more about interactive tables.';\n",
              "          element.innerHTML = '';\n",
              "          dataTable['output_type'] = 'display_data';\n",
              "          await google.colab.output.renderOutput(dataTable, element);\n",
              "          const docLink = document.createElement('div');\n",
              "          docLink.innerHTML = docLinkHtml;\n",
              "          element.appendChild(docLink);\n",
              "        }\n",
              "      </script>\n",
              "    </div>\n",
              "  </div>\n",
              "  "
            ]
          },
          "metadata": {},
          "execution_count": 7
        }
      ]
    },
    {
      "cell_type": "markdown",
      "source": [
        "(B) Column addition"
      ],
      "metadata": {
        "id": "55sg_H5zgjoa"
      }
    },
    {
      "cell_type": "code",
      "source": [
        "# add a new column\n",
        "import pandas as pd\n",
        "data = {\n",
        "    'Name':['jai','princi','gaurav','anuj'],\n",
        "    'Age':[27,24,22,32],\n",
        "    'Address':['Delhi','Kanpur','Allahabad','Kannauj'],\n",
        "    'Qualification':['Msc','MA','MCA','PhD']\n",
        "}\n",
        "df = pd.DataFrame(data)\n",
        "height = [5.1,6.2,5.1,5.2]\n",
        "df['Height']=height\n",
        "print(df)"
      ],
      "metadata": {
        "colab": {
          "base_uri": "https://localhost:8080/"
        },
        "id": "GwDL198ign0f",
        "outputId": "08712983-7786-4548-a167-de0c83db15bd"
      },
      "execution_count": null,
      "outputs": [
        {
          "output_type": "stream",
          "name": "stdout",
          "text": [
            "     Name  Age    Address Qualification  Height\n",
            "0     jai   27      Delhi           Msc     5.1\n",
            "1  princi   24     Kanpur            MA     6.2\n",
            "2  gaurav   22  Allahabad           MCA     5.1\n",
            "3    anuj   32    Kannauj           PhD     5.2\n"
          ]
        }
      ]
    },
    {
      "cell_type": "code",
      "source": [
        "# add new column using DataFrame.insert()\n",
        "import pandas as pd\n",
        "data = {\n",
        "    'Name':['jai','princi','gaurav','anuj'],\n",
        "    'Age':[27,24,22,32],\n",
        "    'Address':['Delhi','Kanpur','Allahabad','Kannauj'],\n",
        "    'Qualification':['Msc','MA','MCA','PhD']\n",
        "}\n",
        "df = pd.DataFrame(data)\n",
        "df.insert(2,\"Height\",[5.1,6.2,5.1,5.2],True)\n",
        "print(df)"
      ],
      "metadata": {
        "colab": {
          "base_uri": "https://localhost:8080/"
        },
        "id": "UNH8PUvxjPr4",
        "outputId": "9953d9a0-7dc9-4036-bc27-6ef60a739a71"
      },
      "execution_count": null,
      "outputs": [
        {
          "output_type": "stream",
          "name": "stdout",
          "text": [
            "     Name  Age  Height    Address Qualification\n",
            "0     jai   27     5.1      Delhi           Msc\n",
            "1  princi   24     6.2     Kanpur            MA\n",
            "2  gaurav   22     5.1  Allahabad           MCA\n",
            "3    anuj   32     5.2    Kannauj           PhD\n"
          ]
        }
      ]
    },
    {
      "cell_type": "markdown",
      "source": [
        "(C) column deletion"
      ],
      "metadata": {
        "id": "BCJUqpjYj3jy"
      }
    },
    {
      "cell_type": "code",
      "source": [
        "import pandas as pd\n",
        "data = {\n",
        "    'Name':['jai','princi','gaurav','anuj'],\n",
        "    'Age':[27,24,22,32],\n",
        "    'Address':['Delhi','Kanpur','Allahabad','Kannauj'],\n",
        "    'Qualification':['Msc','MA','MCA','PhD']\n",
        "}\n",
        "df = pd.DataFrame(data)\n",
        "data.drop([\"Age\"],axis=1,inplace=True)\n",
        "print(data)"
      ],
      "metadata": {
        "colab": {
          "base_uri": "https://localhost:8080/",
          "height": 217
        },
        "id": "z1niT4Aqj7cZ",
        "outputId": "6e945c3d-092c-4b5a-ee8e-d9c8e7abf7ef"
      },
      "execution_count": null,
      "outputs": [
        {
          "output_type": "error",
          "ename": "AttributeError",
          "evalue": "ignored",
          "traceback": [
            "\u001b[0;31m---------------------------------------------------------------------------\u001b[0m",
            "\u001b[0;31mAttributeError\u001b[0m                            Traceback (most recent call last)",
            "\u001b[0;32m<ipython-input-16-c8d4e1971e5b>\u001b[0m in \u001b[0;36m<module>\u001b[0;34m\u001b[0m\n\u001b[1;32m      7\u001b[0m }\n\u001b[1;32m      8\u001b[0m \u001b[0mdf\u001b[0m \u001b[0;34m=\u001b[0m \u001b[0mpd\u001b[0m\u001b[0;34m.\u001b[0m\u001b[0mDataFrame\u001b[0m\u001b[0;34m(\u001b[0m\u001b[0mdata\u001b[0m\u001b[0;34m)\u001b[0m\u001b[0;34m\u001b[0m\u001b[0;34m\u001b[0m\u001b[0m\n\u001b[0;32m----> 9\u001b[0;31m \u001b[0mdata\u001b[0m\u001b[0;34m.\u001b[0m\u001b[0mdrop\u001b[0m\u001b[0;34m(\u001b[0m\u001b[0;34m[\u001b[0m\u001b[0;34m\"Age\"\u001b[0m\u001b[0;34m]\u001b[0m\u001b[0;34m,\u001b[0m\u001b[0maxis\u001b[0m\u001b[0;34m=\u001b[0m\u001b[0;36m0\u001b[0m\u001b[0;34m,\u001b[0m\u001b[0minplace\u001b[0m\u001b[0;34m=\u001b[0m\u001b[0;32mTrue\u001b[0m\u001b[0;34m)\u001b[0m\u001b[0;34m\u001b[0m\u001b[0;34m\u001b[0m\u001b[0m\n\u001b[0m\u001b[1;32m     10\u001b[0m \u001b[0mprint\u001b[0m\u001b[0;34m(\u001b[0m\u001b[0mdata\u001b[0m\u001b[0;34m)\u001b[0m\u001b[0;34m\u001b[0m\u001b[0;34m\u001b[0m\u001b[0m\n",
            "\u001b[0;31mAttributeError\u001b[0m: 'dict' object has no attribute 'drop'"
          ]
        }
      ]
    }
  ]
}