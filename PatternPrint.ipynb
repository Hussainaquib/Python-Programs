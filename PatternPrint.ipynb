{
  "nbformat": 4,
  "nbformat_minor": 0,
  "metadata": {
    "colab": {
      "provenance": [],
      "authorship_tag": "ABX9TyPWqTS0DBJg7AZG56G8E95X",
      "include_colab_link": true
    },
    "kernelspec": {
      "name": "python3",
      "display_name": "Python 3"
    },
    "language_info": {
      "name": "python"
    }
  },
  "cells": [
    {
      "cell_type": "markdown",
      "metadata": {
        "id": "view-in-github",
        "colab_type": "text"
      },
      "source": [
        "<a href=\"https://colab.research.google.com/github/Hussainaquib/Python-Programs/blob/main/PatternPrint.ipynb\" target=\"_parent\"><img src=\"https://colab.research.google.com/assets/colab-badge.svg\" alt=\"Open In Colab\"/></a>"
      ]
    },
    {
      "cell_type": "markdown",
      "source": [
        "**Heart Shape**"
      ],
      "metadata": {
        "id": "CE0t5xSTIQOy"
      }
    },
    {
      "cell_type": "code",
      "source": [
        "for row in range(6):\n",
        "  for col in range(7):\n",
        "    if (row==0 and col%3 !=0) or (row==1 and col%3==0) or (row-col == 2) or (row+col == 8):\n",
        "      print(\"*\",end=\"\")\n",
        "    else:\n",
        "      print(\" \",end=\"\")\n",
        "  print()"
      ],
      "metadata": {
        "colab": {
          "base_uri": "https://localhost:8080/"
        },
        "id": "Ye2gy290EEQm",
        "outputId": "ebc27592-d26a-4945-8da3-ce24ba04880f"
      },
      "execution_count": null,
      "outputs": [
        {
          "output_type": "stream",
          "name": "stdout",
          "text": [
            " ** ** \n",
            "*  *  *\n",
            "*     *\n",
            " *   * \n",
            "  * *  \n",
            "   *   \n"
          ]
        }
      ]
    },
    {
      "cell_type": "code",
      "source": [
        "num=int(input(\"enter the rows:\"))\n",
        "for i in range(1,num+1):\n",
        "  for j in range(1,i+1):\n",
        "      print(\"*\",end=\" \")\n",
        "  print()"
      ],
      "metadata": {
        "colab": {
          "base_uri": "https://localhost:8080/"
        },
        "id": "vmwl3RZIIX3o",
        "outputId": "80db87fa-aa5b-48f1-8995-c1e5f8504649"
      },
      "execution_count": null,
      "outputs": [
        {
          "output_type": "stream",
          "name": "stdout",
          "text": [
            "enter the rows:5\n",
            "* \n",
            "* * \n",
            "* * * \n",
            "* * * * \n",
            "* * * * * \n"
          ]
        }
      ]
    },
    {
      "cell_type": "code",
      "source": [
        "for row in range(7):\n",
        "  for col in range(9):\n",
        "    if (row==0 and col%4 !=0) or (row==1 and col%4==0) or (row-col == 2) or (row+col == 10):\n",
        "      print(\"*\",end=\"\")\n",
        "    else:\n",
        "      print(\" \",end=\"\")\n",
        "  print()"
      ],
      "metadata": {
        "colab": {
          "base_uri": "https://localhost:8080/"
        },
        "id": "Pp1qtvXKvVgk",
        "outputId": "78ccf88d-4823-4936-c222-36251da8c62d"
      },
      "execution_count": null,
      "outputs": [
        {
          "output_type": "stream",
          "name": "stdout",
          "text": [
            " *** *** \n",
            "*   *   *\n",
            "*       *\n",
            " *     * \n",
            "  *   *  \n",
            "   * *   \n",
            "    *    \n"
          ]
        }
      ]
    },
    {
      "cell_type": "markdown",
      "source": [
        "**Alphabet \"I\"**"
      ],
      "metadata": {
        "id": "VuzXPIGam22a"
      }
    },
    {
      "cell_type": "code",
      "source": [
        "for row in range(7):\n",
        "  for col in range(5):\n",
        "    if col==2 or ((row==0 or row==6) and col!=2):\n",
        "      print(\"I\",end=\"\")\n",
        "    else:\n",
        "      print(end=\" \")\n",
        "  print()"
      ],
      "metadata": {
        "colab": {
          "base_uri": "https://localhost:8080/"
        },
        "id": "-c1KVnuJm1W7",
        "outputId": "b099587c-5336-451c-c949-d3e3d9068ddf"
      },
      "execution_count": null,
      "outputs": [
        {
          "output_type": "stream",
          "name": "stdout",
          "text": [
            "IIIII\n",
            "  I  \n",
            "  I  \n",
            "  I  \n",
            "  I  \n",
            "  I  \n",
            "IIIII\n"
          ]
        }
      ]
    },
    {
      "cell_type": "markdown",
      "source": [
        "**Alphabet \"U\"**"
      ],
      "metadata": {
        "id": "yuBz2Df3oZnX"
      }
    },
    {
      "cell_type": "code",
      "source": [
        "for row in range(7):\n",
        "  for col in range(5):\n",
        "    if ((col==0 or col==4) and row != 6) or (row==6 and (col>0 and col<4)):\n",
        "      print(\"U\",end=\"\")\n",
        "    else:\n",
        "      print(end=\" \")\n",
        "  print()"
      ],
      "metadata": {
        "colab": {
          "base_uri": "https://localhost:8080/"
        },
        "id": "umLmibd7ogEz",
        "outputId": "580c4fef-76d7-4f3d-e6b3-b5d90ce77273"
      },
      "execution_count": null,
      "outputs": [
        {
          "output_type": "stream",
          "name": "stdout",
          "text": [
            "U   U\n",
            "U   U\n",
            "U   U\n",
            "U   U\n",
            "U   U\n",
            "U   U\n",
            " UUU \n"
          ]
        }
      ]
    },
    {
      "cell_type": "markdown",
      "source": [
        "**Print the house**"
      ],
      "metadata": {
        "id": "Mjt-GwUJVEjU"
      }
    },
    {
      "cell_type": "code",
      "source": [
        "for row in range(9):\n",
        "    for col in range(33):\n",
        "      if((col==8 and row>=5) or \n",
        "         (col==9 and row>=5) or \n",
        "         (col==10 and row>=5) or \n",
        "         (col==11 and row>=5) or \n",
        "         (col==12 and row>=5) or \n",
        "         (col==19 and 3<row<6) or \n",
        "         (col==20 and 3<row<6) or \n",
        "         (col==21 and 3<row<6) or \n",
        "         (col==22 and 3<row<6) or \n",
        "         (col==23 and 3<row<6) or \n",
        "         (col==24 and 3<row<6) or\n",
        "         (col==25 and 3<row<6) or\n",
        "         (row <=2 and col==0) or\n",
        "         (row <=1 and col==1) or\n",
        "         (row <=0 and col==2) or\n",
        "         (row<=2 and col==32) or\n",
        "         (row<=1 and col==31) or\n",
        "         (row<=0 and col==30) or\n",
        "         (col==32 and row>=4) or\n",
        "         (col==31 and row>=4) or\n",
        "         (col==0 and row>=4) or\n",
        "         (col==1 and row>=4)):\n",
        "        print(\" \",end=\"\")\n",
        "      else:\n",
        "        print(\"*\", end=\"\")\n",
        "    print()"
      ],
      "metadata": {
        "colab": {
          "base_uri": "https://localhost:8080/"
        },
        "id": "zyl0vo7fliOP",
        "outputId": "3dbbde7c-8e07-4b32-923a-a090f2e61e57"
      },
      "execution_count": null,
      "outputs": [
        {
          "output_type": "stream",
          "name": "stdout",
          "text": [
            "   ***************************   \n",
            "  *****************************  \n",
            " ******************************* \n",
            "*********************************\n",
            "  *****************       *****  \n",
            "  ******     ******       *****  \n",
            "  ******     ******************  \n",
            "  ******     ******************  \n",
            "  ******     ******************  \n"
          ]
        }
      ]
    },
    {
      "cell_type": "markdown",
      "source": [
        "**Print the Taj Mahal**"
      ],
      "metadata": {
        "id": "pCGAKYzsXEvN"
      }
    },
    {
      "cell_type": "code",
      "source": [
        "for row in range(25):\n",
        "    for col in range(150):\n",
        "      if((col==0 and row<=22) or (col==1 and row<=22) or (col==148 and row<=22) or (col==149 and row<=22) or\n",
        "         (col==7 and row<=22) or (col==8 and row<=22) or (col==9 and row<=22) or (col==10 and row<=22) or (col==11 and row<=22) or\n",
        "         (col==138 and row<=22) or (col==139 and row<=22) or (col==140 and row<=22) or (col==141 and row<=22) or (col==142 and row<=22) or\n",
        "\n",
        "         (col==15 and row<=22) or (col==16 and row<=22) or (col==17 and row<=22) or (col==18 and row<=22) or (col==19 and row<=22) or (col==20 and row<=22) or (col==21 and row<=22) or (col==22 and row<=22) or (col==23 and row<=22) or (col==24 and row<=22) or (col==25 and row<=22) or (col==26 and row<=22) or (col==27 and row<=22) or (col==28 and row<=22) or \n",
        "         (col==121 and row<=22) or (col==122 and row<=22) or (col==123 and row<=22) or (col==124 and row<=22) or (col==125 and row<=22) or (col==126 and row<=22) or (col==127 and row<=22) or (col==128 and row<=22) or (col==129 and row<=22) or (col==130 and row<=22) or (col==131 and row<=22) or (col==132 and row<=22) or (col==133 and row<=22) or (col==134 and row<=22) or\n",
        "\n",
        "         (col==29 and row<=11) or (col==30 and row<=11) or (col==31 and row<=11) or (col==32 and row<=11) or (col==33 and row<=11) or (col==34 and row<=11) or (col==35 and row<=11) or (col==36 and row<=11) or (col==37 and row<=11) or (col==38 and row<=11) or (col==39 and row<=11) or (col==40 and row<=11) or (col==41 and row<=11) or (col==42 and row<=11) or (col==43 and row<=11) or (col==44 and row<=11) or (col==45 and row<=11) or (col==46 and row<=11) or (col==47 and row<=11) or (col==48 and row<=11) or (col==49 and row<=11) or (col==50 and row<=11) or (col==51 and row<=11) or (col==52 and row<=11) or\n",
        "         (col==96 and row<=11) or (col==97 and row<=11) or (col==98 and row<=11) or (col==99 and row<=11) or (col==100 and row<=11) or (col==101 and row<=11) or (col==102 and row<=11) or (col==103 and row<=11) or (col==104 and row<=11) or (col==105 and row<=11) or (col==106 and row<=11) or (col==107 and row<=11) or (col==108 and row<=11) or (col==109 and row<=11) or (col==110 and row<=11) or (col==111 and row<=11) or (col==112 and row<=11) or (col==113 and row<=11) or (col==114 and row<=11) or (col==115 and row<=11) or (col==116 and row<=11) or (col==117 and row<=11) or (col==118 and row<=11) or (col==119 and row<=11) or (col==120 and row<=11) or\n",
        "         \n",
        "         (col==53 and row<=9) or (col==54 and row<=9) or (col==55 and row<=9) or\n",
        "         (col==93 and row<=9) or (col==94 and row<=9) or (col==95 and row<=9)):\n",
        "        print(\" \",end=\"\")\n",
        "      else:\n",
        "        print(\"*\", end=\"\")\n",
        "    print()"
      ],
      "metadata": {
        "colab": {
          "base_uri": "https://localhost:8080/"
        },
        "id": "rCvPTQqmVQVH",
        "outputId": "809bfa8e-fb4d-4ee2-fbad-24123cb92cca"
      },
      "execution_count": null,
      "outputs": [
        {
          "output_type": "stream",
          "name": "stdout",
          "text": [
            "  *****     ***                                         *************************************                                          ***     *****  \n",
            "  *****     ***                                         *************************************                                          ***     *****  \n",
            "  *****     ***                                         *************************************                                          ***     *****  \n",
            "  *****     ***                                         *************************************                                          ***     *****  \n",
            "  *****     ***                                         *************************************                                          ***     *****  \n",
            "  *****     ***                                         *************************************                                          ***     *****  \n",
            "  *****     ***                                         *************************************                                          ***     *****  \n",
            "  *****     ***                                         *************************************                                          ***     *****  \n",
            "  *****     ***                                         *************************************                                          ***     *****  \n",
            "  *****     ***                                         *************************************                                          ***     *****  \n",
            "  *****     ***                                      *******************************************                                       ***     *****  \n",
            "  *****     ***                                      *******************************************                                       ***     *****  \n",
            "  *****     ***              ********************************************************************************************              ***     *****  \n",
            "  *****     ***              ********************************************************************************************              ***     *****  \n",
            "  *****     ***              ********************************************************************************************              ***     *****  \n",
            "  *****     ***              ********************************************************************************************              ***     *****  \n",
            "  *****     ***              ********************************************************************************************              ***     *****  \n",
            "  *****     ***              ********************************************************************************************              ***     *****  \n",
            "  *****     ***              ********************************************************************************************              ***     *****  \n",
            "  *****     ***              ********************************************************************************************              ***     *****  \n",
            "  *****     ***              ********************************************************************************************              ***     *****  \n",
            "  *****     ***              ********************************************************************************************              ***     *****  \n",
            "  *****     ***              ********************************************************************************************              ***     *****  \n",
            "******************************************************************************************************************************************************\n",
            "******************************************************************************************************************************************************\n"
          ]
        }
      ]
    },
    {
      "cell_type": "markdown",
      "source": [
        "**Alphabet \"S\"**"
      ],
      "metadata": {
        "id": "XnD9IUYMANmk"
      }
    },
    {
      "cell_type": "code",
      "source": [
        "for row in range(7):\n",
        "  for col in range(5):\n",
        "    if(((row==0 or (row==3 or row==6)) and (col>0 and col<4)) or (col==0 and (row>0 and row<3)) or (col==4 and (row>3 and row<6))):\n",
        "      print(\"*\",end=\"\")\n",
        "    else:\n",
        "      print(end=\" \")\n",
        "  print()"
      ],
      "metadata": {
        "colab": {
          "base_uri": "https://localhost:8080/"
        },
        "id": "cN39aupvAX4T",
        "outputId": "70dd6624-278a-4f8c-c7fa-515eea5c02d6"
      },
      "execution_count": null,
      "outputs": [
        {
          "output_type": "stream",
          "name": "stdout",
          "text": [
            " *** \n",
            "*    \n",
            "*    \n",
            " *** \n",
            "    *\n",
            "    *\n",
            " *** \n"
          ]
        }
      ]
    },
    {
      "cell_type": "markdown",
      "source": [
        "**Alphabet \"A\"**"
      ],
      "metadata": {
        "id": "QbM7mQ2PFQBt"
      }
    },
    {
      "cell_type": "code",
      "source": [
        "for row in range(7):\n",
        "  for col in range(5):\n",
        "    if(((row==0 or row==3) and (col>0 and col<4)) or (col==0 and (row>0 and row<7)) or (col==4 and (row>0 and row<7))):\n",
        "      print(\"*\",end=\"\")\n",
        "    else:\n",
        "      print(end=\" \")\n",
        "  print()"
      ],
      "metadata": {
        "colab": {
          "base_uri": "https://localhost:8080/"
        },
        "id": "NTw_Tx8kFdyL",
        "outputId": "b7679b85-19b6-48c3-8fd2-eee5353280a4"
      },
      "execution_count": null,
      "outputs": [
        {
          "output_type": "stream",
          "name": "stdout",
          "text": [
            " *** \n",
            "*   *\n",
            "*   *\n",
            "*****\n",
            "*   *\n",
            "*   *\n",
            "*   *\n"
          ]
        }
      ]
    },
    {
      "cell_type": "markdown",
      "source": [
        "**Alphabet \"Q\"**"
      ],
      "metadata": {
        "id": "j2raPxzCHcDF"
      }
    },
    {
      "cell_type": "code",
      "source": [
        "for row in range(8):\n",
        "  for col in range(5):\n",
        "    if(((col==0 or col==4) and (row >0 and row <6)) or ((row==0 or row==6) and (col>0 and col<4)) or (row==5 and col==1) or (row==7 and col==3) ):\n",
        "      print(\"*\",end=\"\")\n",
        "    else:\n",
        "      print(end=\" \")\n",
        "  print()"
      ],
      "metadata": {
        "colab": {
          "base_uri": "https://localhost:8080/"
        },
        "id": "4MMw4yONHhqM",
        "outputId": "5be9bb32-f299-4aa9-c2a7-ef493ec4d2f0"
      },
      "execution_count": null,
      "outputs": [
        {
          "output_type": "stream",
          "name": "stdout",
          "text": [
            " *** \n",
            "*   *\n",
            "*   *\n",
            "*   *\n",
            "*   *\n",
            "**  *\n",
            " *** \n",
            "   * \n"
          ]
        }
      ]
    },
    {
      "cell_type": "markdown",
      "source": [
        "**Alphabet \"B\"**"
      ],
      "metadata": {
        "id": "ZDl9cUTuJo5p"
      }
    },
    {
      "cell_type": "code",
      "source": [
        "for row in range(7):\n",
        "  for col in range(5):\n",
        "    if((col==0) or (col==4 and (row!=0 and row!=3 and row !=6)) or ((row==0 or row==3 or row==6) and (col>0 and col<4))):\n",
        "      print(\"*\",end=\"\")\n",
        "    else:\n",
        "      print(end=\" \")\n",
        "  print()"
      ],
      "metadata": {
        "colab": {
          "base_uri": "https://localhost:8080/"
        },
        "id": "PIU699j1Jthq",
        "outputId": "477a8ead-9d7d-44bb-cc94-f57dbc982b98"
      },
      "execution_count": null,
      "outputs": [
        {
          "output_type": "stream",
          "name": "stdout",
          "text": [
            "**** \n",
            "*   *\n",
            "*   *\n",
            "**** \n",
            "*   *\n",
            "*   *\n",
            "**** \n"
          ]
        }
      ]
    }
  ]
}