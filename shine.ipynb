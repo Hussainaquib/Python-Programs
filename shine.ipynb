{
  "nbformat": 4,
  "nbformat_minor": 0,
  "metadata": {
    "colab": {
      "provenance": [],
      "authorship_tag": "ABX9TyM4gZ3tOuFpJHh/ZpX2mutG",
      "include_colab_link": true
    },
    "kernelspec": {
      "name": "python3",
      "display_name": "Python 3"
    },
    "language_info": {
      "name": "python"
    }
  },
  "cells": [
    {
      "cell_type": "markdown",
      "metadata": {
        "id": "view-in-github",
        "colab_type": "text"
      },
      "source": [
        "<a href=\"https://colab.research.google.com/github/Hussainaquib/Python-Programs/blob/main/shine.ipynb\" target=\"_parent\"><img src=\"https://colab.research.google.com/assets/colab-badge.svg\" alt=\"Open In Colab\"/></a>"
      ]
    },
    {
      "cell_type": "code",
      "source": [
        "import warnings\n",
        "warnings.filterwarnings(\"ignore\")\n",
        "from bs4 import BeautifulSoup\n",
        "import requests\n",
        "import re\n",
        "import pandas as pd\n",
        "import matplotlib.pyplot as plt\n",
        "import seaborn as sns\n",
        "%matplotlib inline\n",
        "plt.rcParams['font.size'] = 12"
      ],
      "metadata": {
        "id": "2z8eSnRuRKyy"
      },
      "execution_count": 140,
      "outputs": []
    },
    {
      "cell_type": "code",
      "source": [
        "url = 'https://www.shine.com/job-search/jobs?job_type=2&top_companies_boost=true&sort=1'\n",
        "response = requests.get(url)\n",
        "response"
      ],
      "metadata": {
        "colab": {
          "base_uri": "https://localhost:8080/"
        },
        "id": "LP9A1reWRVki",
        "outputId": "d1d63310-d52c-4965-cbf3-b380d238f3f4"
      },
      "execution_count": 141,
      "outputs": [
        {
          "output_type": "execute_result",
          "data": {
            "text/plain": [
              "<Response [200]>"
            ]
          },
          "metadata": {},
          "execution_count": 141
        }
      ]
    },
    {
      "cell_type": "code",
      "source": [
        "soup = BeautifulSoup(response.text,'html.parser')\n",
        "html = soup.find_all('div')"
      ],
      "metadata": {
        "id": "pcVZ6Rm_RfjD"
      },
      "execution_count": 142,
      "outputs": []
    },
    {
      "cell_type": "code",
      "source": [
        "req = soup.select('div h2[itemprop=\"name\"]')\n",
        "titles = [r.text for r in req]"
      ],
      "metadata": {
        "id": "wYLscTEhRrcx"
      },
      "execution_count": 143,
      "outputs": []
    },
    {
      "cell_type": "code",
      "source": [
        "titles[:5]"
      ],
      "metadata": {
        "colab": {
          "base_uri": "https://localhost:8080/"
        },
        "id": "2xzny-TnR17-",
        "outputId": "14fefda6-985b-488c-f2bb-322886e1b888"
      },
      "execution_count": 144,
      "outputs": [
        {
          "output_type": "execute_result",
          "data": {
            "text/plain": [
              "['Telesales/telemarketing Executive',\n",
              " 'Relationship Manager - RBG',\n",
              " 'Relationship Manager',\n",
              " 'Hindi Voice Process',\n",
              " 'Key Accounts Manager']"
            ]
          },
          "metadata": {},
          "execution_count": 144
        }
      ]
    },
    {
      "cell_type": "code",
      "source": [
        "titles1 = [t.replace(\"|\",\"\") for t in titles]\n",
        "titles = [t.replace(\"  \", \"\") for t in titles1]"
      ],
      "metadata": {
        "id": "qhtPNiEtR_PS"
      },
      "execution_count": 145,
      "outputs": []
    },
    {
      "cell_type": "code",
      "source": [
        "titles[:5]"
      ],
      "metadata": {
        "colab": {
          "base_uri": "https://localhost:8080/"
        },
        "id": "KOSKXv7tSJqq",
        "outputId": "3b046afa-10cd-4bf1-e4a5-9c482e7d0167"
      },
      "execution_count": 146,
      "outputs": [
        {
          "output_type": "execute_result",
          "data": {
            "text/plain": [
              "['Telesales/telemarketing Executive',\n",
              " 'Relationship Manager - RBG',\n",
              " 'Relationship Manager',\n",
              " 'Hindi Voice Process',\n",
              " 'Key Accounts Manager']"
            ]
          },
          "metadata": {},
          "execution_count": 146
        }
      ]
    },
    {
      "cell_type": "code",
      "source": [
        "orgs = soup.find_all('div', class_='jobCard_jobCard_cName__mYnow')\n",
        "orgs1 = [o.text for o in orgs]"
      ],
      "metadata": {
        "id": "_98h3CbzUHJ1"
      },
      "execution_count": 147,
      "outputs": []
    },
    {
      "cell_type": "code",
      "source": [
        "[o for o in orgs1][:5]"
      ],
      "metadata": {
        "colab": {
          "base_uri": "https://localhost:8080/"
        },
        "id": "tcAT8Z0YUPLl",
        "outputId": "c1a6134c-312d-4c7c-cf8d-7aa07d00030c"
      },
      "execution_count": 148,
      "outputs": [
        {
          "output_type": "execute_result",
          "data": {
            "text/plain": [
              "['MYZEON VENTURES PRIVATE LIMITED',\n",
              " 'ICICI Bank Ltd',\n",
              " 'ICICI Bank Ltd',\n",
              " 'ISPL Support Services',\n",
              " 'QRN Services']"
            ]
          },
          "metadata": {},
          "execution_count": 148
        }
      ]
    },
    {
      "cell_type": "code",
      "source": [
        "sub_str = \"Hiring\""
      ],
      "metadata": {
        "id": "Y4cjV14vUc4o"
      },
      "execution_count": 149,
      "outputs": []
    },
    {
      "cell_type": "code",
      "source": [
        "[o.split(sub_str)[0] for o in orgs1][:5]"
      ],
      "metadata": {
        "colab": {
          "base_uri": "https://localhost:8080/"
        },
        "id": "Up0ydhd_UmwD",
        "outputId": "457a91a4-7768-4832-831b-bee7a963282d"
      },
      "execution_count": 150,
      "outputs": [
        {
          "output_type": "execute_result",
          "data": {
            "text/plain": [
              "['MYZEON VENTURES PRIVATE LIMITED',\n",
              " 'ICICI Bank Ltd',\n",
              " 'ICICI Bank Ltd',\n",
              " 'ISPL Support Services',\n",
              " 'QRN Services']"
            ]
          },
          "metadata": {},
          "execution_count": 150
        }
      ]
    },
    {
      "cell_type": "code",
      "source": [
        "companies = [o.split(sub_str)[0] for o in orgs1]"
      ],
      "metadata": {
        "id": "QQ7gITsqUuZD"
      },
      "execution_count": 151,
      "outputs": []
    },
    {
      "cell_type": "code",
      "source": [
        "companies[:5]"
      ],
      "metadata": {
        "colab": {
          "base_uri": "https://localhost:8080/"
        },
        "id": "WpR_NiV-UzPf",
        "outputId": "2e0bc200-d790-47e8-ed6c-9ff7b5ba8320"
      },
      "execution_count": 152,
      "outputs": [
        {
          "output_type": "execute_result",
          "data": {
            "text/plain": [
              "['MYZEON VENTURES PRIVATE LIMITED',\n",
              " 'ICICI Bank Ltd',\n",
              " 'ICICI Bank Ltd',\n",
              " 'ISPL Support Services',\n",
              " 'QRN Services']"
            ]
          },
          "metadata": {},
          "execution_count": 152
        }
      ]
    },
    {
      "cell_type": "code",
      "source": [
        "loc = soup.find_all('div', class_='jobCard_jobCard_lists__fdnsc')"
      ],
      "metadata": {
        "id": "h0ls-paSU-cG"
      },
      "execution_count": 153,
      "outputs": []
    },
    {
      "cell_type": "code",
      "source": [
        "[l.div.text for l in loc][:5]"
      ],
      "metadata": {
        "colab": {
          "base_uri": "https://localhost:8080/"
        },
        "id": "wPr3tZtoVDa3",
        "outputId": "7a2c3dcf-406e-4146-9f1a-83be57101e02"
      },
      "execution_count": 154,
      "outputs": [
        {
          "output_type": "execute_result",
          "data": {
            "text/plain": [
              "['0 to 2 Yrs', '3 to 8 Yrs', '3 to 8 Yrs', '0 to 3 Yrs', '1 to 3 Yrs']"
            ]
          },
          "metadata": {},
          "execution_count": 154
        }
      ]
    },
    {
      "cell_type": "code",
      "source": [
        "loc1 = [l.div.text for l in loc]"
      ],
      "metadata": {
        "id": "AsMg5GJJVMEE"
      },
      "execution_count": 155,
      "outputs": []
    },
    {
      "cell_type": "code",
      "source": [
        "[l.replace(\"+\", \",\") for l in loc1][:5]"
      ],
      "metadata": {
        "colab": {
          "base_uri": "https://localhost:8080/"
        },
        "id": "LubXi3iMVVLS",
        "outputId": "a134a7f3-7d9c-42d0-9a79-373ed60fd03d"
      },
      "execution_count": 156,
      "outputs": [
        {
          "output_type": "execute_result",
          "data": {
            "text/plain": [
              "['0 to 2 Yrs', '3 to 8 Yrs', '3 to 8 Yrs', '0 to 3 Yrs', '1 to 3 Yrs']"
            ]
          },
          "metadata": {},
          "execution_count": 156
        }
      ]
    },
    {
      "cell_type": "code",
      "source": [
        "loc2 = [l.replace(\"+\", \",\") for l in loc1]"
      ],
      "metadata": {
        "id": "We5ckNg1VgZO"
      },
      "execution_count": 157,
      "outputs": []
    },
    {
      "cell_type": "code",
      "source": [
        "pattern  = r'[0-9]'\n",
        "strpattern = r'[a-z]'"
      ],
      "metadata": {
        "id": "oSEDQhWeVmBB"
      },
      "execution_count": 158,
      "outputs": []
    },
    {
      "cell_type": "code",
      "source": [
        "[re.sub(pattern, '', l) for l in loc2][:5]"
      ],
      "metadata": {
        "colab": {
          "base_uri": "https://localhost:8080/"
        },
        "id": "jiPWQB1cVu5U",
        "outputId": "c6a2042e-cddf-4b57-9d0e-069fb821386c"
      },
      "execution_count": 159,
      "outputs": [
        {
          "output_type": "execute_result",
          "data": {
            "text/plain": [
              "[' to  Yrs', ' to  Yrs', ' to  Yrs', ' to  Yrs', ' to  Yrs']"
            ]
          },
          "metadata": {},
          "execution_count": 159
        }
      ]
    },
    {
      "cell_type": "code",
      "source": [
        "location = [re.sub(pattern, '', l) for l in loc2]"
      ],
      "metadata": {
        "id": "uqjZfj-_V2q3"
      },
      "execution_count": 160,
      "outputs": []
    },
    {
      "cell_type": "code",
      "source": [
        "experience = [l.find_all('div')[-1].text for l in loc]"
      ],
      "metadata": {
        "id": "KIlKlOLIWJut"
      },
      "execution_count": 161,
      "outputs": []
    },
    {
      "cell_type": "code",
      "source": [
        "experience[:5]"
      ],
      "metadata": {
        "colab": {
          "base_uri": "https://localhost:8080/"
        },
        "id": "LY8HhKpPWXHL",
        "outputId": "e184d546-50d4-42ad-a71b-38230e52c931"
      },
      "execution_count": 162,
      "outputs": [
        {
          "output_type": "execute_result",
          "data": {
            "text/plain": [
              "['', '', '', '', '']"
            ]
          },
          "metadata": {},
          "execution_count": 162
        }
      ]
    },
    {
      "cell_type": "code",
      "source": [
        "vacancies = soup.find_all('ul', class_='jobCard_jobCard_jobDetail__jD82J')"
      ],
      "metadata": {
        "id": "e5893NplWfHK"
      },
      "execution_count": 163,
      "outputs": []
    },
    {
      "cell_type": "code",
      "source": [
        "[v.text.split(\"Positions\")[0] for v in vacancies ]"
      ],
      "metadata": {
        "colab": {
          "base_uri": "https://localhost:8080/"
        },
        "id": "yByoV5HxWmHI",
        "outputId": "bb11845a-3ee5-46d8-ebfb-c687411f5eee"
      },
      "execution_count": 164,
      "outputs": [
        {
          "output_type": "execute_result",
          "data": {
            "text/plain": [
              "['Regular4 ',\n",
              " 'Regular99 ',\n",
              " 'Regular99 ',\n",
              " 'Regular5 ',\n",
              " 'Regular15 ',\n",
              " 'Regular99 ',\n",
              " 'Regular6 ',\n",
              " 'Be an Early ApplicantRegular30 ',\n",
              " 'Regular5 ',\n",
              " 'Regular15 ',\n",
              " 'Regular5 ',\n",
              " 'Regular10 ',\n",
              " 'Regular30 ',\n",
              " 'Be an Early ApplicantRegular2 ',\n",
              " 'Regular10 ',\n",
              " 'Be an Early ApplicantRegular10 ',\n",
              " 'Regular50 ',\n",
              " 'Be an Early ApplicantRegular30 ',\n",
              " 'Regular10 ',\n",
              " 'Regular10 ']"
            ]
          },
          "metadata": {},
          "execution_count": 164
        }
      ]
    },
    {
      "cell_type": "code",
      "source": [
        "[v.text.split(\"Positions\")[0][-3:-1] for v in vacancies ]"
      ],
      "metadata": {
        "colab": {
          "base_uri": "https://localhost:8080/"
        },
        "id": "YbVkRDw9Wvbt",
        "outputId": "25a9598f-4c5c-4a11-e433-1bf91fc88ae1"
      },
      "execution_count": 165,
      "outputs": [
        {
          "output_type": "execute_result",
          "data": {
            "text/plain": [
              "['r4',\n",
              " '99',\n",
              " '99',\n",
              " 'r5',\n",
              " '15',\n",
              " '99',\n",
              " 'r6',\n",
              " '30',\n",
              " 'r5',\n",
              " '15',\n",
              " 'r5',\n",
              " '10',\n",
              " '30',\n",
              " 'r2',\n",
              " '10',\n",
              " '10',\n",
              " '50',\n",
              " '30',\n",
              " '10',\n",
              " '10']"
            ]
          },
          "metadata": {},
          "execution_count": 165
        }
      ]
    },
    {
      "cell_type": "code",
      "source": [
        "vac = [v.text.split(\"Positions\")[0][-3:] for v in vacancies ]\n",
        "vac = [v.replace('la', '1') for v in vac]\n",
        "vac = [re.sub(strpattern, '', l) for l in vac]"
      ],
      "metadata": {
        "id": "whwio4gVW1Jm"
      },
      "execution_count": 166,
      "outputs": []
    },
    {
      "cell_type": "code",
      "source": [
        "vacancies= [v.replace(' ','') for v in vac]"
      ],
      "metadata": {
        "id": "mqRHoocaW8DE"
      },
      "execution_count": 167,
      "outputs": []
    },
    {
      "cell_type": "code",
      "source": [
        "vacancies[:5]"
      ],
      "metadata": {
        "colab": {
          "base_uri": "https://localhost:8080/"
        },
        "id": "pXqtEO2RXLfs",
        "outputId": "0949e634-fbc8-47d8-a54f-e7457b0e0d7b"
      },
      "execution_count": 168,
      "outputs": [
        {
          "output_type": "execute_result",
          "data": {
            "text/plain": [
              "['4', '99', '99', '5', '15']"
            ]
          },
          "metadata": {},
          "execution_count": 168
        }
      ]
    },
    {
      "cell_type": "code",
      "source": [
        "df = pd.DataFrame({'Titles':titles, 'Firm Name': companies, 'Job Location':location, 'Experience':experience,\n",
        "                   'Positions': vacancies})"
      ],
      "metadata": {
        "id": "HeGbOLXOXSki"
      },
      "execution_count": 169,
      "outputs": []
    },
    {
      "cell_type": "code",
      "source": [
        "df.head()"
      ],
      "metadata": {
        "colab": {
          "base_uri": "https://localhost:8080/",
          "height": 206
        },
        "id": "GRqr5iSrXZxr",
        "outputId": "b65853f1-5195-4bc4-c5a2-ae8ad8e53a13"
      },
      "execution_count": 171,
      "outputs": [
        {
          "output_type": "execute_result",
          "data": {
            "text/plain": [
              "                              Titles                        Firm Name  \\\n",
              "0  Telesales/telemarketing Executive  MYZEON VENTURES PRIVATE LIMITED   \n",
              "1         Relationship Manager - RBG                   ICICI Bank Ltd   \n",
              "2               Relationship Manager                   ICICI Bank Ltd   \n",
              "3                Hindi Voice Process            ISPL Support Services   \n",
              "4               Key Accounts Manager                     QRN Services   \n",
              "\n",
              "  Job Location Experience Positions  \n",
              "0      to  Yrs                    4  \n",
              "1      to  Yrs                   99  \n",
              "2      to  Yrs                   99  \n",
              "3      to  Yrs                    5  \n",
              "4      to  Yrs                   15  "
            ],
            "text/html": [
              "\n",
              "  <div id=\"df-117f276e-4eb1-4514-a81f-c49773f8ce0d\">\n",
              "    <div class=\"colab-df-container\">\n",
              "      <div>\n",
              "<style scoped>\n",
              "    .dataframe tbody tr th:only-of-type {\n",
              "        vertical-align: middle;\n",
              "    }\n",
              "\n",
              "    .dataframe tbody tr th {\n",
              "        vertical-align: top;\n",
              "    }\n",
              "\n",
              "    .dataframe thead th {\n",
              "        text-align: right;\n",
              "    }\n",
              "</style>\n",
              "<table border=\"1\" class=\"dataframe\">\n",
              "  <thead>\n",
              "    <tr style=\"text-align: right;\">\n",
              "      <th></th>\n",
              "      <th>Titles</th>\n",
              "      <th>Firm Name</th>\n",
              "      <th>Job Location</th>\n",
              "      <th>Experience</th>\n",
              "      <th>Positions</th>\n",
              "    </tr>\n",
              "  </thead>\n",
              "  <tbody>\n",
              "    <tr>\n",
              "      <th>0</th>\n",
              "      <td>Telesales/telemarketing Executive</td>\n",
              "      <td>MYZEON VENTURES PRIVATE LIMITED</td>\n",
              "      <td>to  Yrs</td>\n",
              "      <td></td>\n",
              "      <td>4</td>\n",
              "    </tr>\n",
              "    <tr>\n",
              "      <th>1</th>\n",
              "      <td>Relationship Manager - RBG</td>\n",
              "      <td>ICICI Bank Ltd</td>\n",
              "      <td>to  Yrs</td>\n",
              "      <td></td>\n",
              "      <td>99</td>\n",
              "    </tr>\n",
              "    <tr>\n",
              "      <th>2</th>\n",
              "      <td>Relationship Manager</td>\n",
              "      <td>ICICI Bank Ltd</td>\n",
              "      <td>to  Yrs</td>\n",
              "      <td></td>\n",
              "      <td>99</td>\n",
              "    </tr>\n",
              "    <tr>\n",
              "      <th>3</th>\n",
              "      <td>Hindi Voice Process</td>\n",
              "      <td>ISPL Support Services</td>\n",
              "      <td>to  Yrs</td>\n",
              "      <td></td>\n",
              "      <td>5</td>\n",
              "    </tr>\n",
              "    <tr>\n",
              "      <th>4</th>\n",
              "      <td>Key Accounts Manager</td>\n",
              "      <td>QRN Services</td>\n",
              "      <td>to  Yrs</td>\n",
              "      <td></td>\n",
              "      <td>15</td>\n",
              "    </tr>\n",
              "  </tbody>\n",
              "</table>\n",
              "</div>\n",
              "      <button class=\"colab-df-convert\" onclick=\"convertToInteractive('df-117f276e-4eb1-4514-a81f-c49773f8ce0d')\"\n",
              "              title=\"Convert this dataframe to an interactive table.\"\n",
              "              style=\"display:none;\">\n",
              "        \n",
              "  <svg xmlns=\"http://www.w3.org/2000/svg\" height=\"24px\"viewBox=\"0 0 24 24\"\n",
              "       width=\"24px\">\n",
              "    <path d=\"M0 0h24v24H0V0z\" fill=\"none\"/>\n",
              "    <path d=\"M18.56 5.44l.94 2.06.94-2.06 2.06-.94-2.06-.94-.94-2.06-.94 2.06-2.06.94zm-11 1L8.5 8.5l.94-2.06 2.06-.94-2.06-.94L8.5 2.5l-.94 2.06-2.06.94zm10 10l.94 2.06.94-2.06 2.06-.94-2.06-.94-.94-2.06-.94 2.06-2.06.94z\"/><path d=\"M17.41 7.96l-1.37-1.37c-.4-.4-.92-.59-1.43-.59-.52 0-1.04.2-1.43.59L10.3 9.45l-7.72 7.72c-.78.78-.78 2.05 0 2.83L4 21.41c.39.39.9.59 1.41.59.51 0 1.02-.2 1.41-.59l7.78-7.78 2.81-2.81c.8-.78.8-2.07 0-2.86zM5.41 20L4 18.59l7.72-7.72 1.47 1.35L5.41 20z\"/>\n",
              "  </svg>\n",
              "      </button>\n",
              "      \n",
              "  <style>\n",
              "    .colab-df-container {\n",
              "      display:flex;\n",
              "      flex-wrap:wrap;\n",
              "      gap: 12px;\n",
              "    }\n",
              "\n",
              "    .colab-df-convert {\n",
              "      background-color: #E8F0FE;\n",
              "      border: none;\n",
              "      border-radius: 50%;\n",
              "      cursor: pointer;\n",
              "      display: none;\n",
              "      fill: #1967D2;\n",
              "      height: 32px;\n",
              "      padding: 0 0 0 0;\n",
              "      width: 32px;\n",
              "    }\n",
              "\n",
              "    .colab-df-convert:hover {\n",
              "      background-color: #E2EBFA;\n",
              "      box-shadow: 0px 1px 2px rgba(60, 64, 67, 0.3), 0px 1px 3px 1px rgba(60, 64, 67, 0.15);\n",
              "      fill: #174EA6;\n",
              "    }\n",
              "\n",
              "    [theme=dark] .colab-df-convert {\n",
              "      background-color: #3B4455;\n",
              "      fill: #D2E3FC;\n",
              "    }\n",
              "\n",
              "    [theme=dark] .colab-df-convert:hover {\n",
              "      background-color: #434B5C;\n",
              "      box-shadow: 0px 1px 3px 1px rgba(0, 0, 0, 0.15);\n",
              "      filter: drop-shadow(0px 1px 2px rgba(0, 0, 0, 0.3));\n",
              "      fill: #FFFFFF;\n",
              "    }\n",
              "  </style>\n",
              "\n",
              "      <script>\n",
              "        const buttonEl =\n",
              "          document.querySelector('#df-117f276e-4eb1-4514-a81f-c49773f8ce0d button.colab-df-convert');\n",
              "        buttonEl.style.display =\n",
              "          google.colab.kernel.accessAllowed ? 'block' : 'none';\n",
              "\n",
              "        async function convertToInteractive(key) {\n",
              "          const element = document.querySelector('#df-117f276e-4eb1-4514-a81f-c49773f8ce0d');\n",
              "          const dataTable =\n",
              "            await google.colab.kernel.invokeFunction('convertToInteractive',\n",
              "                                                     [key], {});\n",
              "          if (!dataTable) return;\n",
              "\n",
              "          const docLinkHtml = 'Like what you see? Visit the ' +\n",
              "            '<a target=\"_blank\" href=https://colab.research.google.com/notebooks/data_table.ipynb>data table notebook</a>'\n",
              "            + ' to learn more about interactive tables.';\n",
              "          element.innerHTML = '';\n",
              "          dataTable['output_type'] = 'display_data';\n",
              "          await google.colab.output.renderOutput(dataTable, element);\n",
              "          const docLink = document.createElement('div');\n",
              "          docLink.innerHTML = docLinkHtml;\n",
              "          element.appendChild(docLink);\n",
              "        }\n",
              "      </script>\n",
              "    </div>\n",
              "  </div>\n",
              "  "
            ]
          },
          "metadata": {},
          "execution_count": 171
        }
      ]
    },
    {
      "cell_type": "code",
      "source": [
        "df['Titles'].duplicated().sum()\n"
      ],
      "metadata": {
        "colab": {
          "base_uri": "https://localhost:8080/"
        },
        "id": "c4YlYAcYX756",
        "outputId": "0917eb5e-cf50-4dc2-a2de-431049c6116f"
      },
      "execution_count": 172,
      "outputs": [
        {
          "output_type": "execute_result",
          "data": {
            "text/plain": [
              "1"
            ]
          },
          "metadata": {},
          "execution_count": 172
        }
      ]
    },
    {
      "cell_type": "code",
      "source": [
        "df = df.drop_duplicates(subset=['Titles'])"
      ],
      "metadata": {
        "id": "FlJc2aKaYBvr"
      },
      "execution_count": 173,
      "outputs": []
    },
    {
      "cell_type": "code",
      "source": [
        "df.head()"
      ],
      "metadata": {
        "colab": {
          "base_uri": "https://localhost:8080/",
          "height": 206
        },
        "id": "Ow2b1xSnYHZs",
        "outputId": "ac8ba32f-d017-4d2c-e91d-0d335f061437"
      },
      "execution_count": 174,
      "outputs": [
        {
          "output_type": "execute_result",
          "data": {
            "text/plain": [
              "                              Titles                        Firm Name  \\\n",
              "0  Telesales/telemarketing Executive  MYZEON VENTURES PRIVATE LIMITED   \n",
              "1         Relationship Manager - RBG                   ICICI Bank Ltd   \n",
              "2               Relationship Manager                   ICICI Bank Ltd   \n",
              "3                Hindi Voice Process            ISPL Support Services   \n",
              "4               Key Accounts Manager                     QRN Services   \n",
              "\n",
              "  Job Location Experience Positions  \n",
              "0      to  Yrs                    4  \n",
              "1      to  Yrs                   99  \n",
              "2      to  Yrs                   99  \n",
              "3      to  Yrs                    5  \n",
              "4      to  Yrs                   15  "
            ],
            "text/html": [
              "\n",
              "  <div id=\"df-523773a5-bb38-40de-b6e7-781ace65ef66\">\n",
              "    <div class=\"colab-df-container\">\n",
              "      <div>\n",
              "<style scoped>\n",
              "    .dataframe tbody tr th:only-of-type {\n",
              "        vertical-align: middle;\n",
              "    }\n",
              "\n",
              "    .dataframe tbody tr th {\n",
              "        vertical-align: top;\n",
              "    }\n",
              "\n",
              "    .dataframe thead th {\n",
              "        text-align: right;\n",
              "    }\n",
              "</style>\n",
              "<table border=\"1\" class=\"dataframe\">\n",
              "  <thead>\n",
              "    <tr style=\"text-align: right;\">\n",
              "      <th></th>\n",
              "      <th>Titles</th>\n",
              "      <th>Firm Name</th>\n",
              "      <th>Job Location</th>\n",
              "      <th>Experience</th>\n",
              "      <th>Positions</th>\n",
              "    </tr>\n",
              "  </thead>\n",
              "  <tbody>\n",
              "    <tr>\n",
              "      <th>0</th>\n",
              "      <td>Telesales/telemarketing Executive</td>\n",
              "      <td>MYZEON VENTURES PRIVATE LIMITED</td>\n",
              "      <td>to  Yrs</td>\n",
              "      <td></td>\n",
              "      <td>4</td>\n",
              "    </tr>\n",
              "    <tr>\n",
              "      <th>1</th>\n",
              "      <td>Relationship Manager - RBG</td>\n",
              "      <td>ICICI Bank Ltd</td>\n",
              "      <td>to  Yrs</td>\n",
              "      <td></td>\n",
              "      <td>99</td>\n",
              "    </tr>\n",
              "    <tr>\n",
              "      <th>2</th>\n",
              "      <td>Relationship Manager</td>\n",
              "      <td>ICICI Bank Ltd</td>\n",
              "      <td>to  Yrs</td>\n",
              "      <td></td>\n",
              "      <td>99</td>\n",
              "    </tr>\n",
              "    <tr>\n",
              "      <th>3</th>\n",
              "      <td>Hindi Voice Process</td>\n",
              "      <td>ISPL Support Services</td>\n",
              "      <td>to  Yrs</td>\n",
              "      <td></td>\n",
              "      <td>5</td>\n",
              "    </tr>\n",
              "    <tr>\n",
              "      <th>4</th>\n",
              "      <td>Key Accounts Manager</td>\n",
              "      <td>QRN Services</td>\n",
              "      <td>to  Yrs</td>\n",
              "      <td></td>\n",
              "      <td>15</td>\n",
              "    </tr>\n",
              "  </tbody>\n",
              "</table>\n",
              "</div>\n",
              "      <button class=\"colab-df-convert\" onclick=\"convertToInteractive('df-523773a5-bb38-40de-b6e7-781ace65ef66')\"\n",
              "              title=\"Convert this dataframe to an interactive table.\"\n",
              "              style=\"display:none;\">\n",
              "        \n",
              "  <svg xmlns=\"http://www.w3.org/2000/svg\" height=\"24px\"viewBox=\"0 0 24 24\"\n",
              "       width=\"24px\">\n",
              "    <path d=\"M0 0h24v24H0V0z\" fill=\"none\"/>\n",
              "    <path d=\"M18.56 5.44l.94 2.06.94-2.06 2.06-.94-2.06-.94-.94-2.06-.94 2.06-2.06.94zm-11 1L8.5 8.5l.94-2.06 2.06-.94-2.06-.94L8.5 2.5l-.94 2.06-2.06.94zm10 10l.94 2.06.94-2.06 2.06-.94-2.06-.94-.94-2.06-.94 2.06-2.06.94z\"/><path d=\"M17.41 7.96l-1.37-1.37c-.4-.4-.92-.59-1.43-.59-.52 0-1.04.2-1.43.59L10.3 9.45l-7.72 7.72c-.78.78-.78 2.05 0 2.83L4 21.41c.39.39.9.59 1.41.59.51 0 1.02-.2 1.41-.59l7.78-7.78 2.81-2.81c.8-.78.8-2.07 0-2.86zM5.41 20L4 18.59l7.72-7.72 1.47 1.35L5.41 20z\"/>\n",
              "  </svg>\n",
              "      </button>\n",
              "      \n",
              "  <style>\n",
              "    .colab-df-container {\n",
              "      display:flex;\n",
              "      flex-wrap:wrap;\n",
              "      gap: 12px;\n",
              "    }\n",
              "\n",
              "    .colab-df-convert {\n",
              "      background-color: #E8F0FE;\n",
              "      border: none;\n",
              "      border-radius: 50%;\n",
              "      cursor: pointer;\n",
              "      display: none;\n",
              "      fill: #1967D2;\n",
              "      height: 32px;\n",
              "      padding: 0 0 0 0;\n",
              "      width: 32px;\n",
              "    }\n",
              "\n",
              "    .colab-df-convert:hover {\n",
              "      background-color: #E2EBFA;\n",
              "      box-shadow: 0px 1px 2px rgba(60, 64, 67, 0.3), 0px 1px 3px 1px rgba(60, 64, 67, 0.15);\n",
              "      fill: #174EA6;\n",
              "    }\n",
              "\n",
              "    [theme=dark] .colab-df-convert {\n",
              "      background-color: #3B4455;\n",
              "      fill: #D2E3FC;\n",
              "    }\n",
              "\n",
              "    [theme=dark] .colab-df-convert:hover {\n",
              "      background-color: #434B5C;\n",
              "      box-shadow: 0px 1px 3px 1px rgba(0, 0, 0, 0.15);\n",
              "      filter: drop-shadow(0px 1px 2px rgba(0, 0, 0, 0.3));\n",
              "      fill: #FFFFFF;\n",
              "    }\n",
              "  </style>\n",
              "\n",
              "      <script>\n",
              "        const buttonEl =\n",
              "          document.querySelector('#df-523773a5-bb38-40de-b6e7-781ace65ef66 button.colab-df-convert');\n",
              "        buttonEl.style.display =\n",
              "          google.colab.kernel.accessAllowed ? 'block' : 'none';\n",
              "\n",
              "        async function convertToInteractive(key) {\n",
              "          const element = document.querySelector('#df-523773a5-bb38-40de-b6e7-781ace65ef66');\n",
              "          const dataTable =\n",
              "            await google.colab.kernel.invokeFunction('convertToInteractive',\n",
              "                                                     [key], {});\n",
              "          if (!dataTable) return;\n",
              "\n",
              "          const docLinkHtml = 'Like what you see? Visit the ' +\n",
              "            '<a target=\"_blank\" href=https://colab.research.google.com/notebooks/data_table.ipynb>data table notebook</a>'\n",
              "            + ' to learn more about interactive tables.';\n",
              "          element.innerHTML = '';\n",
              "          dataTable['output_type'] = 'display_data';\n",
              "          await google.colab.output.renderOutput(dataTable, element);\n",
              "          const docLink = document.createElement('div');\n",
              "          docLink.innerHTML = docLinkHtml;\n",
              "          element.appendChild(docLink);\n",
              "        }\n",
              "      </script>\n",
              "    </div>\n",
              "  </div>\n",
              "  "
            ]
          },
          "metadata": {},
          "execution_count": 174
        }
      ]
    },
    {
      "cell_type": "code",
      "source": [
        "df['Positions'] = df['Positions'].astype('int32')\n",
        "#Creating a New Column\n",
        "numpattern = r'[0]'\n",
        "df['Category'] = ['Fresher' if '0' in i else 'Experienced' for i in df['Experience']]"
      ],
      "metadata": {
        "id": "AyqsDh26YRSa"
      },
      "execution_count": 175,
      "outputs": []
    },
    {
      "cell_type": "code",
      "source": [
        "df.sort_values(by='Positions', ascending=False)"
      ],
      "metadata": {
        "colab": {
          "base_uri": "https://localhost:8080/",
          "height": 645
        },
        "id": "C7VAgIDLYWw4",
        "outputId": "ed4511ad-0696-4849-eb3f-2c4b5e900fb5"
      },
      "execution_count": 176,
      "outputs": [
        {
          "output_type": "execute_result",
          "data": {
            "text/plain": [
              "                                               Titles  \\\n",
              "2                                Relationship Manager   \n",
              "5   Relationship Manager- Retail/business banking,...   \n",
              "1                          Relationship Manager - RBG   \n",
              "12                               Admission Counsellor   \n",
              "17                                        Telecallers   \n",
              "7                           Car sales Executives - RM   \n",
              "9                     Customer Relationship Executive   \n",
              "4                                Key Accounts Manager   \n",
              "18                                  Computer Operator   \n",
              "15                                 Talent Acquisition   \n",
              "14                    Business Development Specialist   \n",
              "19                              Field Sales Executive   \n",
              "11                                        Team Leader   \n",
              "6   Immigration Counselor Hiring For Nehru Place (...   \n",
              "10                     Business Development Executive   \n",
              "8                                     Sales Executive   \n",
              "3                                 Hindi Voice Process   \n",
              "0                   Telesales/telemarketing Executive   \n",
              "13                                    Legal Executive   \n",
              "\n",
              "                                 Firm Name Job Location Experience  Positions  \\\n",
              "2                           ICICI Bank Ltd      to  Yrs                    99   \n",
              "5                           ICICI Bank Ltd      to  Yrs                    99   \n",
              "1                           ICICI Bank Ltd      to  Yrs                    99   \n",
              "12         TRAIDENT BRAINS PRIVATE LIMITED      to  Yrs                    30   \n",
              "17      TACTICIAL SERVICES PRIVATE LIMITED      to  Yrs                    30   \n",
              "7          KALYANI MOTORS PRIVATE LIMITED.      to  Yrs                    30   \n",
              "9   Epicenter Technologies Private Limi...       to  Yr                    15   \n",
              "4                             QRN Services      to  Yrs                    15   \n",
              "18         TRAIDENT BRAINS PRIVATE LIMITED       to  Yr                    10   \n",
              "15                   STEP Manpower Pvt Ltd      to  Yrs                    10   \n",
              "14                    www.tslmarketing.com      to  Yrs                    10   \n",
              "19                     Dezire HR Services       to  Yrs                    10   \n",
              "11  Epicenter Technologies Private Limi...      to  Yrs                    10   \n",
              "6                   PRIMEX IMMIGRATION LLP      to  Yrs                     6   \n",
              "10          JANARDAN FARMS AND RESORTS LLP      to  Yrs    Udaipur          5   \n",
              "8           JANARDAN FARMS AND RESORTS LLP      to  Yrs                     5   \n",
              "3                    ISPL Support Services      to  Yrs                     5   \n",
              "0          MYZEON VENTURES PRIVATE LIMITED      to  Yrs                     4   \n",
              "13          JANARDAN FARMS AND RESORTS LLP      to  Yrs                     2   \n",
              "\n",
              "       Category  \n",
              "2   Experienced  \n",
              "5   Experienced  \n",
              "1   Experienced  \n",
              "12  Experienced  \n",
              "17  Experienced  \n",
              "7   Experienced  \n",
              "9   Experienced  \n",
              "4   Experienced  \n",
              "18  Experienced  \n",
              "15  Experienced  \n",
              "14  Experienced  \n",
              "19  Experienced  \n",
              "11  Experienced  \n",
              "6   Experienced  \n",
              "10  Experienced  \n",
              "8   Experienced  \n",
              "3   Experienced  \n",
              "0   Experienced  \n",
              "13  Experienced  "
            ],
            "text/html": [
              "\n",
              "  <div id=\"df-586b6634-8aae-4db7-a81d-a3d964f052b0\">\n",
              "    <div class=\"colab-df-container\">\n",
              "      <div>\n",
              "<style scoped>\n",
              "    .dataframe tbody tr th:only-of-type {\n",
              "        vertical-align: middle;\n",
              "    }\n",
              "\n",
              "    .dataframe tbody tr th {\n",
              "        vertical-align: top;\n",
              "    }\n",
              "\n",
              "    .dataframe thead th {\n",
              "        text-align: right;\n",
              "    }\n",
              "</style>\n",
              "<table border=\"1\" class=\"dataframe\">\n",
              "  <thead>\n",
              "    <tr style=\"text-align: right;\">\n",
              "      <th></th>\n",
              "      <th>Titles</th>\n",
              "      <th>Firm Name</th>\n",
              "      <th>Job Location</th>\n",
              "      <th>Experience</th>\n",
              "      <th>Positions</th>\n",
              "      <th>Category</th>\n",
              "    </tr>\n",
              "  </thead>\n",
              "  <tbody>\n",
              "    <tr>\n",
              "      <th>2</th>\n",
              "      <td>Relationship Manager</td>\n",
              "      <td>ICICI Bank Ltd</td>\n",
              "      <td>to  Yrs</td>\n",
              "      <td></td>\n",
              "      <td>99</td>\n",
              "      <td>Experienced</td>\n",
              "    </tr>\n",
              "    <tr>\n",
              "      <th>5</th>\n",
              "      <td>Relationship Manager- Retail/business banking,...</td>\n",
              "      <td>ICICI Bank Ltd</td>\n",
              "      <td>to  Yrs</td>\n",
              "      <td></td>\n",
              "      <td>99</td>\n",
              "      <td>Experienced</td>\n",
              "    </tr>\n",
              "    <tr>\n",
              "      <th>1</th>\n",
              "      <td>Relationship Manager - RBG</td>\n",
              "      <td>ICICI Bank Ltd</td>\n",
              "      <td>to  Yrs</td>\n",
              "      <td></td>\n",
              "      <td>99</td>\n",
              "      <td>Experienced</td>\n",
              "    </tr>\n",
              "    <tr>\n",
              "      <th>12</th>\n",
              "      <td>Admission Counsellor</td>\n",
              "      <td>TRAIDENT BRAINS PRIVATE LIMITED</td>\n",
              "      <td>to  Yrs</td>\n",
              "      <td></td>\n",
              "      <td>30</td>\n",
              "      <td>Experienced</td>\n",
              "    </tr>\n",
              "    <tr>\n",
              "      <th>17</th>\n",
              "      <td>Telecallers</td>\n",
              "      <td>TACTICIAL SERVICES PRIVATE LIMITED</td>\n",
              "      <td>to  Yrs</td>\n",
              "      <td></td>\n",
              "      <td>30</td>\n",
              "      <td>Experienced</td>\n",
              "    </tr>\n",
              "    <tr>\n",
              "      <th>7</th>\n",
              "      <td>Car sales Executives - RM</td>\n",
              "      <td>KALYANI MOTORS PRIVATE LIMITED.</td>\n",
              "      <td>to  Yrs</td>\n",
              "      <td></td>\n",
              "      <td>30</td>\n",
              "      <td>Experienced</td>\n",
              "    </tr>\n",
              "    <tr>\n",
              "      <th>9</th>\n",
              "      <td>Customer Relationship Executive</td>\n",
              "      <td>Epicenter Technologies Private Limi...</td>\n",
              "      <td>to  Yr</td>\n",
              "      <td></td>\n",
              "      <td>15</td>\n",
              "      <td>Experienced</td>\n",
              "    </tr>\n",
              "    <tr>\n",
              "      <th>4</th>\n",
              "      <td>Key Accounts Manager</td>\n",
              "      <td>QRN Services</td>\n",
              "      <td>to  Yrs</td>\n",
              "      <td></td>\n",
              "      <td>15</td>\n",
              "      <td>Experienced</td>\n",
              "    </tr>\n",
              "    <tr>\n",
              "      <th>18</th>\n",
              "      <td>Computer Operator</td>\n",
              "      <td>TRAIDENT BRAINS PRIVATE LIMITED</td>\n",
              "      <td>to  Yr</td>\n",
              "      <td></td>\n",
              "      <td>10</td>\n",
              "      <td>Experienced</td>\n",
              "    </tr>\n",
              "    <tr>\n",
              "      <th>15</th>\n",
              "      <td>Talent Acquisition</td>\n",
              "      <td>STEP Manpower Pvt Ltd</td>\n",
              "      <td>to  Yrs</td>\n",
              "      <td></td>\n",
              "      <td>10</td>\n",
              "      <td>Experienced</td>\n",
              "    </tr>\n",
              "    <tr>\n",
              "      <th>14</th>\n",
              "      <td>Business Development Specialist</td>\n",
              "      <td>www.tslmarketing.com</td>\n",
              "      <td>to  Yrs</td>\n",
              "      <td></td>\n",
              "      <td>10</td>\n",
              "      <td>Experienced</td>\n",
              "    </tr>\n",
              "    <tr>\n",
              "      <th>19</th>\n",
              "      <td>Field Sales Executive</td>\n",
              "      <td>Dezire HR Services</td>\n",
              "      <td>to  Yrs</td>\n",
              "      <td></td>\n",
              "      <td>10</td>\n",
              "      <td>Experienced</td>\n",
              "    </tr>\n",
              "    <tr>\n",
              "      <th>11</th>\n",
              "      <td>Team Leader</td>\n",
              "      <td>Epicenter Technologies Private Limi...</td>\n",
              "      <td>to  Yrs</td>\n",
              "      <td></td>\n",
              "      <td>10</td>\n",
              "      <td>Experienced</td>\n",
              "    </tr>\n",
              "    <tr>\n",
              "      <th>6</th>\n",
              "      <td>Immigration Counselor Hiring For Nehru Place (...</td>\n",
              "      <td>PRIMEX IMMIGRATION LLP</td>\n",
              "      <td>to  Yrs</td>\n",
              "      <td></td>\n",
              "      <td>6</td>\n",
              "      <td>Experienced</td>\n",
              "    </tr>\n",
              "    <tr>\n",
              "      <th>10</th>\n",
              "      <td>Business Development Executive</td>\n",
              "      <td>JANARDAN FARMS AND RESORTS LLP</td>\n",
              "      <td>to  Yrs</td>\n",
              "      <td>Udaipur</td>\n",
              "      <td>5</td>\n",
              "      <td>Experienced</td>\n",
              "    </tr>\n",
              "    <tr>\n",
              "      <th>8</th>\n",
              "      <td>Sales Executive</td>\n",
              "      <td>JANARDAN FARMS AND RESORTS LLP</td>\n",
              "      <td>to  Yrs</td>\n",
              "      <td></td>\n",
              "      <td>5</td>\n",
              "      <td>Experienced</td>\n",
              "    </tr>\n",
              "    <tr>\n",
              "      <th>3</th>\n",
              "      <td>Hindi Voice Process</td>\n",
              "      <td>ISPL Support Services</td>\n",
              "      <td>to  Yrs</td>\n",
              "      <td></td>\n",
              "      <td>5</td>\n",
              "      <td>Experienced</td>\n",
              "    </tr>\n",
              "    <tr>\n",
              "      <th>0</th>\n",
              "      <td>Telesales/telemarketing Executive</td>\n",
              "      <td>MYZEON VENTURES PRIVATE LIMITED</td>\n",
              "      <td>to  Yrs</td>\n",
              "      <td></td>\n",
              "      <td>4</td>\n",
              "      <td>Experienced</td>\n",
              "    </tr>\n",
              "    <tr>\n",
              "      <th>13</th>\n",
              "      <td>Legal Executive</td>\n",
              "      <td>JANARDAN FARMS AND RESORTS LLP</td>\n",
              "      <td>to  Yrs</td>\n",
              "      <td></td>\n",
              "      <td>2</td>\n",
              "      <td>Experienced</td>\n",
              "    </tr>\n",
              "  </tbody>\n",
              "</table>\n",
              "</div>\n",
              "      <button class=\"colab-df-convert\" onclick=\"convertToInteractive('df-586b6634-8aae-4db7-a81d-a3d964f052b0')\"\n",
              "              title=\"Convert this dataframe to an interactive table.\"\n",
              "              style=\"display:none;\">\n",
              "        \n",
              "  <svg xmlns=\"http://www.w3.org/2000/svg\" height=\"24px\"viewBox=\"0 0 24 24\"\n",
              "       width=\"24px\">\n",
              "    <path d=\"M0 0h24v24H0V0z\" fill=\"none\"/>\n",
              "    <path d=\"M18.56 5.44l.94 2.06.94-2.06 2.06-.94-2.06-.94-.94-2.06-.94 2.06-2.06.94zm-11 1L8.5 8.5l.94-2.06 2.06-.94-2.06-.94L8.5 2.5l-.94 2.06-2.06.94zm10 10l.94 2.06.94-2.06 2.06-.94-2.06-.94-.94-2.06-.94 2.06-2.06.94z\"/><path d=\"M17.41 7.96l-1.37-1.37c-.4-.4-.92-.59-1.43-.59-.52 0-1.04.2-1.43.59L10.3 9.45l-7.72 7.72c-.78.78-.78 2.05 0 2.83L4 21.41c.39.39.9.59 1.41.59.51 0 1.02-.2 1.41-.59l7.78-7.78 2.81-2.81c.8-.78.8-2.07 0-2.86zM5.41 20L4 18.59l7.72-7.72 1.47 1.35L5.41 20z\"/>\n",
              "  </svg>\n",
              "      </button>\n",
              "      \n",
              "  <style>\n",
              "    .colab-df-container {\n",
              "      display:flex;\n",
              "      flex-wrap:wrap;\n",
              "      gap: 12px;\n",
              "    }\n",
              "\n",
              "    .colab-df-convert {\n",
              "      background-color: #E8F0FE;\n",
              "      border: none;\n",
              "      border-radius: 50%;\n",
              "      cursor: pointer;\n",
              "      display: none;\n",
              "      fill: #1967D2;\n",
              "      height: 32px;\n",
              "      padding: 0 0 0 0;\n",
              "      width: 32px;\n",
              "    }\n",
              "\n",
              "    .colab-df-convert:hover {\n",
              "      background-color: #E2EBFA;\n",
              "      box-shadow: 0px 1px 2px rgba(60, 64, 67, 0.3), 0px 1px 3px 1px rgba(60, 64, 67, 0.15);\n",
              "      fill: #174EA6;\n",
              "    }\n",
              "\n",
              "    [theme=dark] .colab-df-convert {\n",
              "      background-color: #3B4455;\n",
              "      fill: #D2E3FC;\n",
              "    }\n",
              "\n",
              "    [theme=dark] .colab-df-convert:hover {\n",
              "      background-color: #434B5C;\n",
              "      box-shadow: 0px 1px 3px 1px rgba(0, 0, 0, 0.15);\n",
              "      filter: drop-shadow(0px 1px 2px rgba(0, 0, 0, 0.3));\n",
              "      fill: #FFFFFF;\n",
              "    }\n",
              "  </style>\n",
              "\n",
              "      <script>\n",
              "        const buttonEl =\n",
              "          document.querySelector('#df-586b6634-8aae-4db7-a81d-a3d964f052b0 button.colab-df-convert');\n",
              "        buttonEl.style.display =\n",
              "          google.colab.kernel.accessAllowed ? 'block' : 'none';\n",
              "\n",
              "        async function convertToInteractive(key) {\n",
              "          const element = document.querySelector('#df-586b6634-8aae-4db7-a81d-a3d964f052b0');\n",
              "          const dataTable =\n",
              "            await google.colab.kernel.invokeFunction('convertToInteractive',\n",
              "                                                     [key], {});\n",
              "          if (!dataTable) return;\n",
              "\n",
              "          const docLinkHtml = 'Like what you see? Visit the ' +\n",
              "            '<a target=\"_blank\" href=https://colab.research.google.com/notebooks/data_table.ipynb>data table notebook</a>'\n",
              "            + ' to learn more about interactive tables.';\n",
              "          element.innerHTML = '';\n",
              "          dataTable['output_type'] = 'display_data';\n",
              "          await google.colab.output.renderOutput(dataTable, element);\n",
              "          const docLink = document.createElement('div');\n",
              "          docLink.innerHTML = docLinkHtml;\n",
              "          element.appendChild(docLink);\n",
              "        }\n",
              "      </script>\n",
              "    </div>\n",
              "  </div>\n",
              "  "
            ]
          },
          "metadata": {},
          "execution_count": 176
        }
      ]
    },
    {
      "cell_type": "code",
      "source": [
        "df.head()"
      ],
      "metadata": {
        "colab": {
          "base_uri": "https://localhost:8080/",
          "height": 206
        },
        "id": "FAOrNhfkYymj",
        "outputId": "16a67618-e428-44ba-8453-208bbc801513"
      },
      "execution_count": 177,
      "outputs": [
        {
          "output_type": "execute_result",
          "data": {
            "text/plain": [
              "                              Titles                        Firm Name  \\\n",
              "0  Telesales/telemarketing Executive  MYZEON VENTURES PRIVATE LIMITED   \n",
              "1         Relationship Manager - RBG                   ICICI Bank Ltd   \n",
              "2               Relationship Manager                   ICICI Bank Ltd   \n",
              "3                Hindi Voice Process            ISPL Support Services   \n",
              "4               Key Accounts Manager                     QRN Services   \n",
              "\n",
              "  Job Location Experience  Positions     Category  \n",
              "0      to  Yrs                     4  Experienced  \n",
              "1      to  Yrs                    99  Experienced  \n",
              "2      to  Yrs                    99  Experienced  \n",
              "3      to  Yrs                     5  Experienced  \n",
              "4      to  Yrs                    15  Experienced  "
            ],
            "text/html": [
              "\n",
              "  <div id=\"df-056bdfa4-1d7d-4e1a-97c3-1ddf75511443\">\n",
              "    <div class=\"colab-df-container\">\n",
              "      <div>\n",
              "<style scoped>\n",
              "    .dataframe tbody tr th:only-of-type {\n",
              "        vertical-align: middle;\n",
              "    }\n",
              "\n",
              "    .dataframe tbody tr th {\n",
              "        vertical-align: top;\n",
              "    }\n",
              "\n",
              "    .dataframe thead th {\n",
              "        text-align: right;\n",
              "    }\n",
              "</style>\n",
              "<table border=\"1\" class=\"dataframe\">\n",
              "  <thead>\n",
              "    <tr style=\"text-align: right;\">\n",
              "      <th></th>\n",
              "      <th>Titles</th>\n",
              "      <th>Firm Name</th>\n",
              "      <th>Job Location</th>\n",
              "      <th>Experience</th>\n",
              "      <th>Positions</th>\n",
              "      <th>Category</th>\n",
              "    </tr>\n",
              "  </thead>\n",
              "  <tbody>\n",
              "    <tr>\n",
              "      <th>0</th>\n",
              "      <td>Telesales/telemarketing Executive</td>\n",
              "      <td>MYZEON VENTURES PRIVATE LIMITED</td>\n",
              "      <td>to  Yrs</td>\n",
              "      <td></td>\n",
              "      <td>4</td>\n",
              "      <td>Experienced</td>\n",
              "    </tr>\n",
              "    <tr>\n",
              "      <th>1</th>\n",
              "      <td>Relationship Manager - RBG</td>\n",
              "      <td>ICICI Bank Ltd</td>\n",
              "      <td>to  Yrs</td>\n",
              "      <td></td>\n",
              "      <td>99</td>\n",
              "      <td>Experienced</td>\n",
              "    </tr>\n",
              "    <tr>\n",
              "      <th>2</th>\n",
              "      <td>Relationship Manager</td>\n",
              "      <td>ICICI Bank Ltd</td>\n",
              "      <td>to  Yrs</td>\n",
              "      <td></td>\n",
              "      <td>99</td>\n",
              "      <td>Experienced</td>\n",
              "    </tr>\n",
              "    <tr>\n",
              "      <th>3</th>\n",
              "      <td>Hindi Voice Process</td>\n",
              "      <td>ISPL Support Services</td>\n",
              "      <td>to  Yrs</td>\n",
              "      <td></td>\n",
              "      <td>5</td>\n",
              "      <td>Experienced</td>\n",
              "    </tr>\n",
              "    <tr>\n",
              "      <th>4</th>\n",
              "      <td>Key Accounts Manager</td>\n",
              "      <td>QRN Services</td>\n",
              "      <td>to  Yrs</td>\n",
              "      <td></td>\n",
              "      <td>15</td>\n",
              "      <td>Experienced</td>\n",
              "    </tr>\n",
              "  </tbody>\n",
              "</table>\n",
              "</div>\n",
              "      <button class=\"colab-df-convert\" onclick=\"convertToInteractive('df-056bdfa4-1d7d-4e1a-97c3-1ddf75511443')\"\n",
              "              title=\"Convert this dataframe to an interactive table.\"\n",
              "              style=\"display:none;\">\n",
              "        \n",
              "  <svg xmlns=\"http://www.w3.org/2000/svg\" height=\"24px\"viewBox=\"0 0 24 24\"\n",
              "       width=\"24px\">\n",
              "    <path d=\"M0 0h24v24H0V0z\" fill=\"none\"/>\n",
              "    <path d=\"M18.56 5.44l.94 2.06.94-2.06 2.06-.94-2.06-.94-.94-2.06-.94 2.06-2.06.94zm-11 1L8.5 8.5l.94-2.06 2.06-.94-2.06-.94L8.5 2.5l-.94 2.06-2.06.94zm10 10l.94 2.06.94-2.06 2.06-.94-2.06-.94-.94-2.06-.94 2.06-2.06.94z\"/><path d=\"M17.41 7.96l-1.37-1.37c-.4-.4-.92-.59-1.43-.59-.52 0-1.04.2-1.43.59L10.3 9.45l-7.72 7.72c-.78.78-.78 2.05 0 2.83L4 21.41c.39.39.9.59 1.41.59.51 0 1.02-.2 1.41-.59l7.78-7.78 2.81-2.81c.8-.78.8-2.07 0-2.86zM5.41 20L4 18.59l7.72-7.72 1.47 1.35L5.41 20z\"/>\n",
              "  </svg>\n",
              "      </button>\n",
              "      \n",
              "  <style>\n",
              "    .colab-df-container {\n",
              "      display:flex;\n",
              "      flex-wrap:wrap;\n",
              "      gap: 12px;\n",
              "    }\n",
              "\n",
              "    .colab-df-convert {\n",
              "      background-color: #E8F0FE;\n",
              "      border: none;\n",
              "      border-radius: 50%;\n",
              "      cursor: pointer;\n",
              "      display: none;\n",
              "      fill: #1967D2;\n",
              "      height: 32px;\n",
              "      padding: 0 0 0 0;\n",
              "      width: 32px;\n",
              "    }\n",
              "\n",
              "    .colab-df-convert:hover {\n",
              "      background-color: #E2EBFA;\n",
              "      box-shadow: 0px 1px 2px rgba(60, 64, 67, 0.3), 0px 1px 3px 1px rgba(60, 64, 67, 0.15);\n",
              "      fill: #174EA6;\n",
              "    }\n",
              "\n",
              "    [theme=dark] .colab-df-convert {\n",
              "      background-color: #3B4455;\n",
              "      fill: #D2E3FC;\n",
              "    }\n",
              "\n",
              "    [theme=dark] .colab-df-convert:hover {\n",
              "      background-color: #434B5C;\n",
              "      box-shadow: 0px 1px 3px 1px rgba(0, 0, 0, 0.15);\n",
              "      filter: drop-shadow(0px 1px 2px rgba(0, 0, 0, 0.3));\n",
              "      fill: #FFFFFF;\n",
              "    }\n",
              "  </style>\n",
              "\n",
              "      <script>\n",
              "        const buttonEl =\n",
              "          document.querySelector('#df-056bdfa4-1d7d-4e1a-97c3-1ddf75511443 button.colab-df-convert');\n",
              "        buttonEl.style.display =\n",
              "          google.colab.kernel.accessAllowed ? 'block' : 'none';\n",
              "\n",
              "        async function convertToInteractive(key) {\n",
              "          const element = document.querySelector('#df-056bdfa4-1d7d-4e1a-97c3-1ddf75511443');\n",
              "          const dataTable =\n",
              "            await google.colab.kernel.invokeFunction('convertToInteractive',\n",
              "                                                     [key], {});\n",
              "          if (!dataTable) return;\n",
              "\n",
              "          const docLinkHtml = 'Like what you see? Visit the ' +\n",
              "            '<a target=\"_blank\" href=https://colab.research.google.com/notebooks/data_table.ipynb>data table notebook</a>'\n",
              "            + ' to learn more about interactive tables.';\n",
              "          element.innerHTML = '';\n",
              "          dataTable['output_type'] = 'display_data';\n",
              "          await google.colab.output.renderOutput(dataTable, element);\n",
              "          const docLink = document.createElement('div');\n",
              "          docLink.innerHTML = docLinkHtml;\n",
              "          element.appendChild(docLink);\n",
              "        }\n",
              "      </script>\n",
              "    </div>\n",
              "  </div>\n",
              "  "
            ]
          },
          "metadata": {},
          "execution_count": 177
        }
      ]
    },
    {
      "cell_type": "code",
      "source": [
        "df.to_csv('my_data.csv', index=False)"
      ],
      "metadata": {
        "id": "Zfve1uwHiMII"
      },
      "execution_count": 178,
      "outputs": []
    }
  ]
}