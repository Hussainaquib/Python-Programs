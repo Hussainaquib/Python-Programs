{
  "nbformat": 4,
  "nbformat_minor": 0,
  "metadata": {
    "colab": {
      "provenance": [],
      "authorship_tag": "ABX9TyM82l2pdFRQOEcUPaaYmZIm",
      "include_colab_link": true
    },
    "kernelspec": {
      "name": "python3",
      "display_name": "Python 3"
    },
    "language_info": {
      "name": "python"
    }
  },
  "cells": [
    {
      "cell_type": "markdown",
      "metadata": {
        "id": "view-in-github",
        "colab_type": "text"
      },
      "source": [
        "<a href=\"https://colab.research.google.com/github/Hussainaquib/Python-Programs/blob/main/String.ipynb\" target=\"_parent\"><img src=\"https://colab.research.google.com/assets/colab-badge.svg\" alt=\"Open In Colab\"/></a>"
      ]
    },
    {
      "cell_type": "code",
      "execution_count": null,
      "metadata": {
        "colab": {
          "base_uri": "https://localhost:8080/"
        },
        "id": "WLo6xTAulCVB",
        "outputId": "7f02f414-66b6-4165-8606-d4d324086577"
      },
      "outputs": [
        {
          "output_type": "stream",
          "name": "stdout",
          "text": [
            "yes\n"
          ]
        }
      ],
      "source": [
        "# python program to check if a string is palindrome or not\n",
        "def isPalindrome(s):\n",
        "  return s==s[::-1]\n",
        "s = \"malayalam\"\n",
        "ans = isPalindrome(s)\n",
        "if ans:\n",
        "  print(\"yes\")\n",
        "else:\n",
        "  print(\"no\")"
      ]
    },
    {
      "cell_type": "code",
      "source": [
        "# python program to check if a string is palindrome or not\n",
        "s = input(\"Enter a string:\")\n",
        "if(s == s[::-1]):\n",
        "  print(\"yes\")\n",
        "else:\n",
        "  print(\"no\")"
      ],
      "metadata": {
        "colab": {
          "base_uri": "https://localhost:8080/"
        },
        "id": "LXioqIdml7kK",
        "outputId": "849fdcf2-89d2-4aba-c9db-0d09e66962ef"
      },
      "execution_count": null,
      "outputs": [
        {
          "output_type": "stream",
          "name": "stdout",
          "text": [
            "Enter a string:malayalam\n",
            "yes\n"
          ]
        }
      ]
    },
    {
      "cell_type": "code",
      "source": [
        "# python program to check if a string is palindrome or not\n",
        "def isPalindrome(s):\n",
        "  rev = ''.join(reversed(s))\n",
        "  if(s==rev):\n",
        "    return True\n",
        "  return False\n",
        "s = \"malayalam\"\n",
        "ans = isPalindrome(s)\n",
        "if(ans):\n",
        "  print(\"yes\")\n",
        "else:\n",
        "  print(\"no\")"
      ],
      "metadata": {
        "colab": {
          "base_uri": "https://localhost:8080/"
        },
        "id": "g7hEbNOJnt4h",
        "outputId": "a4c54cb2-cd1d-47bc-a6be-1ac550a33ea3"
      },
      "execution_count": null,
      "outputs": [
        {
          "output_type": "stream",
          "name": "stdout",
          "text": [
            "yes\n"
          ]
        }
      ]
    },
    {
      "cell_type": "code",
      "source": [
        "# program to check whether the string is symmetrical or palindrome\n",
        "s = input(\"Enter a string:\")\n",
        "half = int(len(s)/2)\n",
        "if len(s)%2==0:\n",
        "  first_str=s[:half]\n",
        "  second_str=s[half:]\n",
        "else:\n",
        "  first_str=s[:half]\n",
        "  second_str=s[half+1:]\n",
        "\n",
        "if first_str==second_str:\n",
        "  print(s,\"string is symmetrical\")\n",
        "else:\n",
        "  print(s,\"string is not symmetrical\")\n",
        "\n",
        "if first_str==second_str[::-1]:\n",
        "  print(s,\"string is palindrome\")\n",
        "else:\n",
        "  print(s,\"string is not palindrome\")"
      ],
      "metadata": {
        "id": "1OvdrTqmtAwf",
        "outputId": "2754b30e-5442-4b4d-9d9c-1c8bc8bf9fd5",
        "colab": {
          "base_uri": "https://localhost:8080/"
        }
      },
      "execution_count": null,
      "outputs": [
        {
          "output_type": "stream",
          "name": "stdout",
          "text": [
            "Enter a string:amaama\n",
            "amaama string is symmetrical\n",
            "amaama string is palindrome\n"
          ]
        }
      ]
    },
    {
      "cell_type": "code",
      "source": [
        "#reverse the string\n",
        "a = \"stop\"\n",
        "b = list(a)\n",
        "b.reverse()\n",
        "print( *b)"
      ],
      "metadata": {
        "colab": {
          "base_uri": "https://localhost:8080/"
        },
        "id": "UcIv77DNHXpq",
        "outputId": "188c0609-34f8-40e4-aecb-bbe71bac2fe4"
      },
      "execution_count": null,
      "outputs": [
        {
          "output_type": "stream",
          "name": "stdout",
          "text": [
            "p o t s\n"
          ]
        }
      ]
    },
    {
      "cell_type": "code",
      "source": [
        "# program to reverse the string\n",
        "string = \"geeks quiz practice code\"\n",
        "# reversing words in a given string\n",
        "s = string.split()[::-1]\n",
        "l = []\n",
        "for i in s:\n",
        "    # apending reversed words to l\n",
        "    l.append(i)\n",
        "# printing reverse words\n",
        "print(\" \".join(l))"
      ],
      "metadata": {
        "colab": {
          "base_uri": "https://localhost:8080/"
        },
        "id": "D817FWBNNXxK",
        "outputId": "769b1408-9153-4162-e3a3-e649e9bc2d79"
      },
      "execution_count": null,
      "outputs": [
        {
          "output_type": "stream",
          "name": "stdout",
          "text": [
            "code practice quiz geeks\n"
          ]
        }
      ]
    },
    {
      "cell_type": "code",
      "source": [
        "#remove the i'th character from the string\n",
        "txt = \"apple \"\n",
        "\n",
        "x = txt.rstrip(\"e \")\n",
        "\n",
        "print(x)\n",
        "\n"
      ],
      "metadata": {
        "colab": {
          "base_uri": "https://localhost:8080/"
        },
        "id": "J9d6s2R9OVz4",
        "outputId": "07d458c0-70c8-406d-ede0-884c7e85f456"
      },
      "execution_count": null,
      "outputs": [
        {
          "output_type": "stream",
          "name": "stdout",
          "text": [
            "appl\n"
          ]
        }
      ]
    },
    {
      "cell_type": "code",
      "source": [
        "#remove the i'th character from the string\n",
        "test_str = \"abcdefghijklm\"\n",
        "print (\"The original string is : \" + test_str)\n",
        "new_str = test_str[:2] +  test_str[3:]\n",
        "print (\"The string after removal of i'th character : \" + new_str)"
      ],
      "metadata": {
        "colab": {
          "base_uri": "https://localhost:8080/"
        },
        "id": "N7VBspUjRSjZ",
        "outputId": "bd98b9e2-f1ec-4276-e5e5-7013683c540c"
      },
      "execution_count": null,
      "outputs": [
        {
          "output_type": "stream",
          "name": "stdout",
          "text": [
            "The original string is : abcdefghijklm\n",
            "The string after removal of i'th character : abdefghijklm\n"
          ]
        }
      ]
    },
    {
      "cell_type": "code",
      "source": [
        "#remove the i'th character from the string\n",
        "test_str = \"abcdefghijklm\"\n",
        "print (\"The original string is : \" + test_str)\n",
        "new_str = \"\"\n",
        "  \n",
        "for i in range(len(test_str)):\n",
        "    if i != 2:\n",
        "        new_str = new_str + test_str[i]\n",
        "print (\"The string after removal of i'th character : \" + new_str)"
      ],
      "metadata": {
        "colab": {
          "base_uri": "https://localhost:8080/"
        },
        "id": "zwTSrwGZSZLD",
        "outputId": "57995024-977b-4823-8788-dbdde52f2609"
      },
      "execution_count": null,
      "outputs": [
        {
          "output_type": "stream",
          "name": "stdout",
          "text": [
            "The original string is : abcdefghijklm\n",
            "The string after removal of i'th character : abdefghijklm\n"
          ]
        }
      ]
    },
    {
      "cell_type": "code",
      "source": [
        "# program to check substring is present in string or not\n",
        "a = \"stopstop\"\n",
        "b = \"ps\"\n",
        "if b in a:\n",
        "  print(\"True\")\n",
        "else:\n",
        "  print(\"False\")"
      ],
      "metadata": {
        "colab": {
          "base_uri": "https://localhost:8080/"
        },
        "id": "Z5T4xHRMTOm2",
        "outputId": "f51643de-1e85-4929-cde2-29586f2aa66f"
      },
      "execution_count": null,
      "outputs": [
        {
          "output_type": "stream",
          "name": "stdout",
          "text": [
            "True\n"
          ]
        }
      ]
    },
    {
      "cell_type": "code",
      "source": [
        "# find length of string in four ways\n",
        "a = \"stop\"\n",
        "print(len(a))"
      ],
      "metadata": {
        "colab": {
          "base_uri": "https://localhost:8080/"
        },
        "id": "OWGLtd7ZXJkW",
        "outputId": "c416cf5c-10fe-48b8-829c-6d524ecfbdf3"
      },
      "execution_count": null,
      "outputs": [
        {
          "output_type": "stream",
          "name": "stdout",
          "text": [
            "4\n"
          ]
        }
      ]
    },
    {
      "cell_type": "code",
      "source": [
        "# program to find length of string\n",
        "def findLen(str):\n",
        "    counter = 0   \n",
        "    for i in str:\n",
        "        counter += 1\n",
        "    return counter\n",
        " \n",
        " \n",
        "str = \"stop\"\n",
        "print(findLen(str))"
      ],
      "metadata": {
        "colab": {
          "base_uri": "https://localhost:8080/"
        },
        "id": "YLAC3OGSXtW2",
        "outputId": "1a909672-bbfe-450d-f53e-ba7fb058ea5b"
      },
      "execution_count": null,
      "outputs": [
        {
          "output_type": "stream",
          "name": "stdout",
          "text": [
            "4\n"
          ]
        }
      ]
    },
    {
      "cell_type": "code",
      "source": [
        "# program to find length of string\n",
        "def findLen(str):\n",
        "    counter = 0\n",
        "    while str[counter:]:\n",
        "        counter += 1\n",
        "    return counter\n",
        " \n",
        "str = \"stop\"\n",
        "print(findLen(str))"
      ],
      "metadata": {
        "colab": {
          "base_uri": "https://localhost:8080/"
        },
        "id": "cSst-wDPZfNG",
        "outputId": "2e55af95-9fa2-4e27-a7e6-e2637304c588"
      },
      "execution_count": null,
      "outputs": [
        {
          "output_type": "stream",
          "name": "stdout",
          "text": [
            "4\n"
          ]
        }
      ]
    },
    {
      "cell_type": "code",
      "source": [
        "# program to find length of string\n",
        "def findLen(str):\n",
        "    if not str:\n",
        "        return 0\n",
        "    else:\n",
        "        some_random_str = 'py'\n",
        "        return ((some_random_str).join(str)).count(some_random_str) + 1\n",
        " \n",
        "str = \"stop\"\n",
        "print(findLen(str))"
      ],
      "metadata": {
        "colab": {
          "base_uri": "https://localhost:8080/"
        },
        "id": "lasaaPl1ZqX9",
        "outputId": "04f001d4-5b3c-405e-a232-6bbd51044f5c"
      },
      "execution_count": null,
      "outputs": [
        {
          "output_type": "stream",
          "name": "stdout",
          "text": [
            "4\n"
          ]
        }
      ]
    },
    {
      "cell_type": "code",
      "source": [
        "# program to find length of string\n",
        "def findLen(string):\n",
        "    return sum( 1 for i in string);\n",
        " \n",
        " \n",
        "# Driver Code\n",
        "string = 'stop'\n",
        "print(findLen(string))"
      ],
      "metadata": {
        "colab": {
          "base_uri": "https://localhost:8080/"
        },
        "id": "YLFr6fH2Z-14",
        "outputId": "39fed1da-3806-4e3a-82ed-d030c4e2f6f9"
      },
      "execution_count": null,
      "outputs": [
        {
          "output_type": "stream",
          "name": "stdout",
          "text": [
            "4\n"
          ]
        }
      ]
    }
  ]
}