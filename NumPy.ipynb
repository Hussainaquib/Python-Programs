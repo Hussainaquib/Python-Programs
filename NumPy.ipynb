{
  "cells": [
    {
      "cell_type": "markdown",
      "metadata": {
        "id": "view-in-github",
        "colab_type": "text"
      },
      "source": [
        "<a href=\"https://colab.research.google.com/github/Hussainaquib/Python-Programs/blob/main/NumPy.ipynb\" target=\"_parent\"><img src=\"https://colab.research.google.com/assets/colab-badge.svg\" alt=\"Open In Colab\"/></a>"
      ]
    },
    {
      "cell_type": "markdown",
      "source": [
        "# ***NumPy***"
      ],
      "metadata": {
        "id": "8DzBtVUnf6vK"
      }
    },
    {
      "cell_type": "markdown",
      "source": [
        "creating one dimensional array"
      ],
      "metadata": {
        "id": "Z294PNRjrMOK"
      }
    },
    {
      "cell_type": "code",
      "source": [
        "import numpy as np\n",
        "l =[1,2,3,4]\n",
        "print(\"list in python:\",l)\n",
        "print(type(l))\n",
        "\n",
        "a = np.array(l)\n",
        "print(\"numpy array in python:\",a)\n",
        "print(type(a))"
      ],
      "metadata": {
        "colab": {
          "base_uri": "https://localhost:8080/"
        },
        "id": "vcfta3_vrgr0",
        "outputId": "80d6868f-c50d-4123-c211-058ba17835c3"
      },
      "execution_count": null,
      "outputs": [
        {
          "output_type": "stream",
          "name": "stdout",
          "text": [
            "list in python: [1, 2, 3, 4]\n",
            "<class 'list'>\n",
            "numpy array in python: [1 2 3 4]\n",
            "<class 'numpy.ndarray'>\n"
          ]
        }
      ]
    },
    {
      "cell_type": "markdown",
      "source": [
        "creating multi-dimensional array"
      ],
      "metadata": {
        "id": "Dq9YLylasdzL"
      }
    },
    {
      "cell_type": "code",
      "source": [
        "l1 = [1,2,3,4]\n",
        "l2 = [5,6,7,8]\n",
        "l3 = [9,10,11,12]\n",
        "a = np.array([l1,l2,l3])\n",
        "print(\"numpy multi dimensional array in python is:\\n\",a)"
      ],
      "metadata": {
        "colab": {
          "base_uri": "https://localhost:8080/"
        },
        "id": "ffecmYKRsZKy",
        "outputId": "1146ca96-92ea-4641-e193-1f59290325c4"
      },
      "execution_count": null,
      "outputs": [
        {
          "output_type": "stream",
          "name": "stdout",
          "text": [
            "numpy multi dimensional array in python is:\n",
            " [[ 1  2  3  4]\n",
            " [ 5  6  7  8]\n",
            " [ 9 10 11 12]]\n"
          ]
        }
      ]
    },
    {
      "cell_type": "markdown",
      "source": [
        "**checking dimensional ,shape and size of an array**"
      ],
      "metadata": {
        "id": "qx2sWq0-tznr"
      }
    },
    {
      "cell_type": "code",
      "source": [
        "# zero dimension\n",
        "a = np.array(42)\n",
        "print(a.ndim)\n",
        "print(a.shape)\n",
        "print(a.size)"
      ],
      "metadata": {
        "colab": {
          "base_uri": "https://localhost:8080/"
        },
        "id": "7C-6CATlt-8O",
        "outputId": "49bb8de0-349f-400e-840b-0ad45542ab98"
      },
      "execution_count": null,
      "outputs": [
        {
          "output_type": "stream",
          "name": "stdout",
          "text": [
            "0\n",
            "()\n",
            "1\n"
          ]
        }
      ]
    },
    {
      "cell_type": "code",
      "source": [
        "# one dimension\n",
        "a = np.array([42])\n",
        "# OR a = np.array((42,))\n",
        "print(a.ndim)\n",
        "print(a.shape)\n",
        "print(a.size)"
      ],
      "metadata": {
        "colab": {
          "base_uri": "https://localhost:8080/"
        },
        "id": "Wvp59fbZuZ0p",
        "outputId": "8ad53a29-ce90-44cd-ec39-bd0794a4b5d7"
      },
      "execution_count": null,
      "outputs": [
        {
          "output_type": "stream",
          "name": "stdout",
          "text": [
            "1\n",
            "(1,)\n",
            "1\n"
          ]
        }
      ]
    },
    {
      "cell_type": "code",
      "source": [
        "# one dimension\n",
        "a = np.array([1,2,3,4,5])\n",
        "# OR a = np.array((1,2,3,4,5))\n",
        "print(a.ndim)\n",
        "print(a.shape)\n",
        "print(a.size)"
      ],
      "metadata": {
        "colab": {
          "base_uri": "https://localhost:8080/"
        },
        "id": "5Zas9sG6uylv",
        "outputId": "0432acfb-0e9d-4a48-ccc0-558794b8e029"
      },
      "execution_count": null,
      "outputs": [
        {
          "output_type": "stream",
          "name": "stdout",
          "text": [
            "1\n",
            "(5,)\n",
            "5\n"
          ]
        }
      ]
    },
    {
      "cell_type": "code",
      "source": [
        "# two dimension\n",
        "a = np.array([[1,2,3],[4,5,6]])\n",
        "# OR a = np.array(((1,2,3),(4,5,6)))\n",
        "print(a.ndim)\n",
        "print(a.shape)\n",
        "print(a.size)"
      ],
      "metadata": {
        "colab": {
          "base_uri": "https://localhost:8080/"
        },
        "id": "8i2wgJoqvEz2",
        "outputId": "dd097703-5765-4951-b686-59e72e1fd30e"
      },
      "execution_count": null,
      "outputs": [
        {
          "output_type": "stream",
          "name": "stdout",
          "text": [
            "2\n",
            "(2, 3)\n",
            "6\n"
          ]
        }
      ]
    },
    {
      "cell_type": "code",
      "source": [
        "# three dimension\n",
        "a = np.array([[[1,2,3],[4,5,6]],[[1,2,3],[4,5,6]]])\n",
        "# OR a = np.array((((1,2,3),(4,5,6)),((1,2,3),(4,5,6))))\n",
        "print(a.ndim)\n",
        "print(a.shape)\n",
        "print(a.size)"
      ],
      "metadata": {
        "colab": {
          "base_uri": "https://localhost:8080/"
        },
        "id": "BpDVCgBpvhDX",
        "outputId": "5322d89d-a8a2-4031-8d17-9b90ec75c9e9"
      },
      "execution_count": null,
      "outputs": [
        {
          "output_type": "stream",
          "name": "stdout",
          "text": [
            "3\n",
            "(2, 2, 3)\n",
            "12\n"
          ]
        }
      ]
    },
    {
      "cell_type": "code",
      "source": [
        "# three dimension\n",
        "a = np.array([[[1,2,3],[4,5,6]],[[1,2,3],[4,5,6]],[[1,2,3],[4,5,6]]])\n",
        "# OR a = np.array((((1,2,3),(4,5,6)),((1,2,3),(4,5,6)),((1,2,3),(4,5,6))))\n",
        "print(a.ndim)\n",
        "print(a.shape)\n",
        "print(a.size)"
      ],
      "metadata": {
        "colab": {
          "base_uri": "https://localhost:8080/"
        },
        "id": "2ohsXLs0wLEw",
        "outputId": "4d906330-804e-492e-a8b9-a45bbb85d1b2"
      },
      "execution_count": null,
      "outputs": [
        {
          "output_type": "stream",
          "name": "stdout",
          "text": [
            "3\n",
            "(3, 2, 3)\n",
            "18\n"
          ]
        }
      ]
    },
    {
      "cell_type": "code",
      "source": [
        "# three dimension\n",
        "a = np.array([[[1,2,3],[4,5,6],[7,8,9]],\n",
        "              [[1,2,3],[4,5,6],[7,8,9]],\n",
        "              [[1,2,3],[4,5,6],[7,8,9]]])\n",
        "''' OR a = np.array((((1,2,3),(4,5,6),(7,8,9)),\n",
        "                    ((1,2,3),(4,5,6),(7,8,9)),\n",
        "                    ((1,2,3),(4,5,6),(7,8,9))))'''\n",
        "print(a.ndim)\n",
        "print(a.shape)\n",
        "print(a.size)"
      ],
      "metadata": {
        "colab": {
          "base_uri": "https://localhost:8080/"
        },
        "id": "NGEAQ04OwwoE",
        "outputId": "3ae7c818-f2e5-436f-e056-2f2b94ebfe2b"
      },
      "execution_count": null,
      "outputs": [
        {
          "output_type": "stream",
          "name": "stdout",
          "text": [
            "3\n",
            "(3, 3, 3)\n",
            "27\n"
          ]
        }
      ]
    },
    {
      "cell_type": "code",
      "source": [
        "# four dimension\n",
        "a = np.array([1,2,3,4],ndmin=4)\n",
        "print(a)\n",
        "print(a.ndim)\n",
        "print(a.shape)\n",
        "print(a.size)"
      ],
      "metadata": {
        "colab": {
          "base_uri": "https://localhost:8080/"
        },
        "id": "N0lggsXWyYFk",
        "outputId": "0533df0a-3013-4d18-a1bb-1dfcb112662c"
      },
      "execution_count": null,
      "outputs": [
        {
          "output_type": "stream",
          "name": "stdout",
          "text": [
            "[[[[1 2 3 4]]]]\n",
            "4\n",
            "(1, 1, 1, 4)\n",
            "4\n"
          ]
        }
      ]
    },
    {
      "cell_type": "code",
      "source": [
        "# four dimension\n",
        "a = np.array([[[1,2,3],[4,5,6]]],ndmin=4)\n",
        "print(a)\n",
        "print(a.ndim)\n",
        "print(a.shape)\n",
        "print(a.size)"
      ],
      "metadata": {
        "colab": {
          "base_uri": "https://localhost:8080/"
        },
        "id": "4Ex-rth4zEWk",
        "outputId": "6d4e03fa-7666-497b-d32a-ce72f5f79f6b"
      },
      "execution_count": null,
      "outputs": [
        {
          "output_type": "stream",
          "name": "stdout",
          "text": [
            "[[[[1 2 3]\n",
            "   [4 5 6]]]]\n",
            "4\n",
            "(1, 1, 2, 3)\n",
            "6\n"
          ]
        }
      ]
    },
    {
      "cell_type": "code",
      "source": [
        "# four dimension\n",
        "a = np.array([[[1,2,3],[4,5,6]],[[1,2,3],[4,5,6]],[[1,2,3],[4,5,6]]],ndmin=4)\n",
        "print(a)\n",
        "print(a.ndim)\n",
        "print(a.shape)\n",
        "print(a.size)"
      ],
      "metadata": {
        "colab": {
          "base_uri": "https://localhost:8080/"
        },
        "id": "8jPN7bYdzXU3",
        "outputId": "1c9f04d6-cf7d-4d9e-ec37-95334aadc2a3"
      },
      "execution_count": null,
      "outputs": [
        {
          "output_type": "stream",
          "name": "stdout",
          "text": [
            "[[[[1 2 3]\n",
            "   [4 5 6]]\n",
            "\n",
            "  [[1 2 3]\n",
            "   [4 5 6]]\n",
            "\n",
            "  [[1 2 3]\n",
            "   [4 5 6]]]]\n",
            "4\n",
            "(1, 3, 2, 3)\n",
            "18\n"
          ]
        }
      ]
    },
    {
      "cell_type": "code",
      "source": [
        "# five dimension\n",
        "a = np.array([[[1,2,3],[4,5,6]]],ndmin=5)\n",
        "print(a)\n",
        "print(a.ndim)\n",
        "print(a.shape)\n",
        "print(a.size)"
      ],
      "metadata": {
        "colab": {
          "base_uri": "https://localhost:8080/"
        },
        "id": "Rq9vb_qNzsab",
        "outputId": "579f216a-e6c1-410a-ce35-07205798aa42"
      },
      "execution_count": null,
      "outputs": [
        {
          "output_type": "stream",
          "name": "stdout",
          "text": [
            "[[[[[1 2 3]\n",
            "    [4 5 6]]]]]\n",
            "5\n",
            "(1, 1, 1, 2, 3)\n",
            "6\n"
          ]
        }
      ]
    },
    {
      "cell_type": "code",
      "source": [
        "# 100 dimension\n",
        "a = np.array([1,2,3,4],ndmin=10)\n",
        "print(a)\n",
        "print(a.ndim)\n",
        "print(a.shape)\n",
        "print(a.size)"
      ],
      "metadata": {
        "colab": {
          "base_uri": "https://localhost:8080/"
        },
        "id": "h5XspVU90JiV",
        "outputId": "c61899bf-88b1-4812-858d-b2973419dfff"
      },
      "execution_count": null,
      "outputs": [
        {
          "output_type": "stream",
          "name": "stdout",
          "text": [
            "[[[[[[[[[[1 2 3 4]]]]]]]]]]\n",
            "10\n",
            "(1, 1, 1, 1, 1, 1, 1, 1, 1, 4)\n",
            "4\n"
          ]
        }
      ]
    },
    {
      "cell_type": "markdown",
      "source": [
        "**find the dimension,shape,size and data type of NumPy ndarray**"
      ],
      "metadata": {
        "id": "jNRB6Sjk6fzH"
      }
    },
    {
      "cell_type": "code",
      "source": [
        "import numpy as np\n",
        "data1 = [6,7.5,8,0,1]\n",
        "a = np.array(data1)\n",
        "print(a)\n",
        "print(\"\\n\")\n",
        "print(a.ndim)\n",
        "print(\"\\n\")\n",
        "print(a.shape)\n",
        "print(\"\\n\")\n",
        "print(a.size)\n",
        "print(\"\\n\")\n",
        "print(a.dtype)\n",
        "print(\"\\n\")"
      ],
      "metadata": {
        "colab": {
          "base_uri": "https://localhost:8080/"
        },
        "id": "TwEB4KoF61jX",
        "outputId": "f41c32ae-e50e-4c1c-d714-31302c9e56d7"
      },
      "execution_count": null,
      "outputs": [
        {
          "output_type": "stream",
          "name": "stdout",
          "text": [
            "[6.  7.5 8.  0.  1. ]\n",
            "\n",
            "\n",
            "1\n",
            "\n",
            "\n",
            "(5,)\n",
            "\n",
            "\n",
            "5\n",
            "\n",
            "\n",
            "float64\n",
            "\n",
            "\n"
          ]
        }
      ]
    },
    {
      "cell_type": "code",
      "source": [
        "import numpy as np\n",
        "data1 = [[1,2,3,4],[5,6,7,8]]\n",
        "a = np.array(data1)\n",
        "print(a)\n",
        "print(\"\\n\")\n",
        "print(a.ndim)\n",
        "print(\"\\n\")\n",
        "print(a.shape)\n",
        "print(\"\\n\")\n",
        "print(a.size)\n",
        "print(\"\\n\")\n",
        "print(a.dtype)\n",
        "print(\"\\n\")"
      ],
      "metadata": {
        "colab": {
          "base_uri": "https://localhost:8080/"
        },
        "id": "qVOsQses8VOM",
        "outputId": "cf9a297a-2fbe-4a49-a32b-4e1b3813fd84"
      },
      "execution_count": null,
      "outputs": [
        {
          "output_type": "stream",
          "name": "stdout",
          "text": [
            "[[1 2 3 4]\n",
            " [5 6 7 8]]\n",
            "\n",
            "\n",
            "2\n",
            "\n",
            "\n",
            "(2, 4)\n",
            "\n",
            "\n",
            "8\n",
            "\n",
            "\n",
            "int64\n",
            "\n",
            "\n"
          ]
        }
      ]
    },
    {
      "cell_type": "markdown",
      "source": [
        "**NumPy array creation using list ,tuple ,built in function and random function**"
      ],
      "metadata": {
        "id": "w-0iZn2a9CpV"
      }
    },
    {
      "cell_type": "code",
      "source": [
        "# array() function\n",
        "\n",
        "#creating 0-D array with value 42\n",
        "a = np.array(42)\n",
        "print(a)\n",
        "print(\"\\n\")\n",
        "\n",
        "#creating 1-D array with value 1,2,3,4,5:\n",
        "b = np.array([1,2,3,4,5])\n",
        "print(b)\n",
        "print(\"\\n\")\n",
        "\n",
        "#creating 2-D array with value 1,2,3 and 4,5,6:\n",
        "c = np.array([[1,2,3],[4,5,6]])\n",
        "print(c)\n",
        "print(\"\\n\")\n",
        "\n",
        "#creating 3-D array with 2-D arrays,both containing two arrays values 1,2,3 and 4,5,6:\n",
        "d = np.array([[[1,2,3],[4,5,6]],[[1,2,3],[4,5,6]]])\n",
        "print(d)\n",
        "print(\"\\n\")\n",
        "\n",
        "#creating an array with 5 dimension and verify that it has 5 dimensions:\n",
        "e = np.array([1,2,3,4],ndmin = 5)\n",
        "print(e)"
      ],
      "metadata": {
        "colab": {
          "base_uri": "https://localhost:8080/"
        },
        "id": "uj_bAnlR9UPe",
        "outputId": "2da2d22f-db60-4ab3-e674-2940481fe766"
      },
      "execution_count": null,
      "outputs": [
        {
          "output_type": "stream",
          "name": "stdout",
          "text": [
            "42\n",
            "\n",
            "\n",
            "[1 2 3 4 5]\n",
            "\n",
            "\n",
            "[[1 2 3]\n",
            " [4 5 6]]\n",
            "\n",
            "\n",
            "[[[1 2 3]\n",
            "  [4 5 6]]\n",
            "\n",
            " [[1 2 3]\n",
            "  [4 5 6]]]\n",
            "\n",
            "\n",
            "[[[[[1 2 3 4]]]]]\n"
          ]
        }
      ]
    },
    {
      "cell_type": "code",
      "source": [
        "# arange() function\n",
        "\n",
        "print(np.arange(4,10))\n",
        "print(\"\\n\")\n",
        "print(np.arange(4,20,3))\n",
        "print(\"\\n\")\n",
        "print(np.arange(4).reshape(2,2))\n",
        "print(\"\\n\")"
      ],
      "metadata": {
        "colab": {
          "base_uri": "https://localhost:8080/"
        },
        "id": "fZTrPP3O_W0J",
        "outputId": "863cfbe9-3d30-4175-87c9-0639469a51db"
      },
      "execution_count": null,
      "outputs": [
        {
          "output_type": "stream",
          "name": "stdout",
          "text": [
            "[4 5 6 7 8 9]\n",
            "\n",
            "\n",
            "[ 4  7 10 13 16 19]\n",
            "\n",
            "\n",
            "[[0 1]\n",
            " [2 3]]\n",
            "\n",
            "\n"
          ]
        }
      ]
    },
    {
      "cell_type": "code",
      "source": [
        "# ones() function\n",
        "\n",
        "b = np.ones(2)\n",
        "print(b)\n",
        "print(\"\\n\")\n",
        "a = np.ones([2,2])\n",
        "print(a)\n",
        "print(\"\\n\")\n",
        "c = np.ones([2,1,3])\n",
        "print(c)"
      ],
      "metadata": {
        "colab": {
          "base_uri": "https://localhost:8080/"
        },
        "id": "eu6-xrAT_9gP",
        "outputId": "188cd57f-a338-4aa6-bf6c-3b8b2cc1aaf5"
      },
      "execution_count": null,
      "outputs": [
        {
          "output_type": "stream",
          "name": "stdout",
          "text": [
            "[1. 1.]\n",
            "\n",
            "\n",
            "[[1. 1.]\n",
            " [1. 1.]]\n",
            "\n",
            "\n",
            "[[[1. 1. 1.]]\n",
            "\n",
            " [[1. 1. 1.]]]\n"
          ]
        }
      ]
    },
    {
      "cell_type": "code",
      "source": [
        "# ones_like() function\n",
        "\n",
        "array = np.arange(10)\n",
        "print(array)\n",
        "print(\"\\n\")\n",
        "b = np.ones_like(array)\n",
        "print(b)\n",
        "print(\"\\n\")\n",
        "array = np.arange(8)\n",
        "c = np.ones_like(array)\n",
        "print(c)"
      ],
      "metadata": {
        "colab": {
          "base_uri": "https://localhost:8080/"
        },
        "id": "H6GIz_0mBKE-",
        "outputId": "87ddb743-8396-4f83-9ebc-1c8cc8bdd83f"
      },
      "execution_count": null,
      "outputs": [
        {
          "output_type": "stream",
          "name": "stdout",
          "text": [
            "[0 1 2 3 4 5 6 7 8 9]\n",
            "\n",
            "\n",
            "[1 1 1 1 1 1 1 1 1 1]\n",
            "\n",
            "\n",
            "[1 1 1 1 1 1 1 1]\n"
          ]
        }
      ]
    },
    {
      "cell_type": "code",
      "source": [
        "# zeros() function\n",
        "\n",
        "b = np.zeros(2)\n",
        "print(b)\n",
        "print(\"\\n\")\n",
        "a = np.zeros([2,2])\n",
        "print(a)\n",
        "print(\"\\n\")\n",
        "c = np.zeros([2,1,3])\n",
        "print(c)"
      ],
      "metadata": {
        "colab": {
          "base_uri": "https://localhost:8080/"
        },
        "id": "2osw193NB1VI",
        "outputId": "c581d48f-6959-49f6-d674-dbee171ea2f2"
      },
      "execution_count": null,
      "outputs": [
        {
          "output_type": "stream",
          "name": "stdout",
          "text": [
            "[0. 0.]\n",
            "\n",
            "\n",
            "[[0. 0.]\n",
            " [0. 0.]]\n",
            "\n",
            "\n",
            "[[[0. 0. 0.]]\n",
            "\n",
            " [[0. 0. 0.]]]\n"
          ]
        }
      ]
    },
    {
      "cell_type": "code",
      "source": [
        "# zeros_like() function\n",
        "array = np.arange(10)\n",
        "print(array)\n",
        "print(\"\\n\")\n",
        "b = np.zeros_like(array)\n",
        "print(b)\n",
        "print(\"\\n\")\n",
        "array = np.arange(8)\n",
        "c = np.zeros_like(array)\n",
        "print(c)"
      ],
      "metadata": {
        "colab": {
          "base_uri": "https://localhost:8080/"
        },
        "id": "0YqiWksiCd8W",
        "outputId": "79bca386-c704-4cf6-b487-e958915bf1e9"
      },
      "execution_count": null,
      "outputs": [
        {
          "output_type": "stream",
          "name": "stdout",
          "text": [
            "[0 1 2 3 4 5 6 7 8 9]\n",
            "\n",
            "\n",
            "[0 0 0 0 0 0 0 0 0 0]\n",
            "\n",
            "\n",
            "[0 0 0 0 0 0 0 0]\n"
          ]
        }
      ]
    },
    {
      "cell_type": "code",
      "source": [
        "# full() function\n",
        "\n",
        "a = np.full([2,2],67)\n",
        "print(a)\n",
        "print(\"\\n\")\n",
        "c = np.full([3,3],10.1)\n",
        "print(c)"
      ],
      "metadata": {
        "colab": {
          "base_uri": "https://localhost:8080/"
        },
        "id": "Z0QS-xEEDUjA",
        "outputId": "3b5937ee-453a-4d76-b38b-2144cb310c55"
      },
      "execution_count": null,
      "outputs": [
        {
          "output_type": "stream",
          "name": "stdout",
          "text": [
            "[[67 67]\n",
            " [67 67]]\n",
            "\n",
            "\n",
            "[[10.1 10.1 10.1]\n",
            " [10.1 10.1 10.1]\n",
            " [10.1 10.1 10.1]]\n"
          ]
        }
      ]
    },
    {
      "cell_type": "code",
      "source": [
        "# full_like() function\n",
        "\n",
        "x = np.arange(10,dtype=int).reshape(2,5)\n",
        "print(x)\n",
        "print(\"\\n\")\n",
        "\n",
        "print(np.full_like(x,10.0))\n",
        "print(\"\\n\")\n",
        "\n",
        "y = np.arange(10,dtype = float).reshape(2,5)\n",
        "print(y)\n",
        "print(\"\\n\")\n",
        "\n",
        "print(np.full_like(y,0.01))"
      ],
      "metadata": {
        "colab": {
          "base_uri": "https://localhost:8080/"
        },
        "id": "U3B3377FDtD7",
        "outputId": "4a1ce05d-e42e-40f2-b6b1-22cb372489ef"
      },
      "execution_count": null,
      "outputs": [
        {
          "output_type": "stream",
          "name": "stdout",
          "text": [
            "[[0 1 2 3 4]\n",
            " [5 6 7 8 9]]\n",
            "\n",
            "\n",
            "[[10 10 10 10 10]\n",
            " [10 10 10 10 10]]\n",
            "\n",
            "\n",
            "[[0. 1. 2. 3. 4.]\n",
            " [5. 6. 7. 8. 9.]]\n",
            "\n",
            "\n",
            "[[0.01 0.01 0.01 0.01 0.01]\n",
            " [0.01 0.01 0.01 0.01 0.01]]\n"
          ]
        }
      ]
    },
    {
      "cell_type": "code",
      "source": [
        "# empty() function\n",
        "\n",
        "b = np.empty(2,dtype = int)\n",
        "print(b)\n",
        "print(\"\\n\")\n",
        "\n",
        "a = np.empty([2,2])\n",
        "print(a)\n",
        "print(\"\\n\")\n",
        "\n",
        "c = np.empty([3,3])\n",
        "print(c)"
      ],
      "metadata": {
        "colab": {
          "base_uri": "https://localhost:8080/"
        },
        "id": "G31uA_9YE0yP",
        "outputId": "9d93136c-e334-4c8e-89cb-c8b22e80fe77"
      },
      "execution_count": null,
      "outputs": [
        {
          "output_type": "stream",
          "name": "stdout",
          "text": [
            "[0 0]\n",
            "\n",
            "\n",
            "[[0. 0.]\n",
            " [0. 0.]]\n",
            "\n",
            "\n",
            "[[1. 2. 3.]\n",
            " [4. 5. 6.]\n",
            " [7. 8. 9.]]\n"
          ]
        }
      ]
    },
    {
      "cell_type": "code",
      "source": [
        "# empty_like() function\n",
        "\n",
        "x = np.arange(10).reshape(2,5)\n",
        "print(x)\n",
        "print(\"\\n\")\n",
        "\n",
        "b = np.empty_like(x)\n",
        "print(b)"
      ],
      "metadata": {
        "colab": {
          "base_uri": "https://localhost:8080/"
        },
        "id": "NpegeghsFhqB",
        "outputId": "632e63e2-7ea3-4774-edfc-1b5d43710515"
      },
      "execution_count": null,
      "outputs": [
        {
          "output_type": "stream",
          "name": "stdout",
          "text": [
            "[[0 1 2 3 4]\n",
            " [5 6 7 8 9]]\n",
            "\n",
            "\n",
            "[[4576918229304087675 4576918229304087675 4576918229304087675\n",
            "  4576918229304087675 4576918229304087675]\n",
            " [4576918229304087675 4576918229304087675 4576918229304087675\n",
            "  4576918229304087675 4576918229304087675]]\n"
          ]
        }
      ]
    },
    {
      "cell_type": "code",
      "source": [
        "# eye() function\n",
        "\n",
        "#2x2 matrix with 1's on main diagonal\n",
        "b = np.eye(2)\n",
        "print(b)\n",
        "print(\"\\n\")\n",
        "\n",
        "# matrix with R = 4,C= 5 and 1 on diagonal below main diagonal\n",
        "a = np.eye(4,5,k=+2)\n",
        "print(a)"
      ],
      "metadata": {
        "colab": {
          "base_uri": "https://localhost:8080/"
        },
        "id": "l1UsZ802GDJg",
        "outputId": "48bc7fea-f68a-4713-b2c2-2a1a37de73f4"
      },
      "execution_count": null,
      "outputs": [
        {
          "output_type": "stream",
          "name": "stdout",
          "text": [
            "[[1. 0.]\n",
            " [0. 1.]]\n",
            "\n",
            "\n",
            "[[0. 0. 1. 0. 0.]\n",
            " [0. 0. 0. 1. 0.]\n",
            " [0. 0. 0. 0. 1.]\n",
            " [0. 0. 0. 0. 0.]]\n"
          ]
        }
      ]
    },
    {
      "cell_type": "code",
      "source": [
        "# identity() function\n",
        "\n",
        "#2x2 matrix with 1's on diagonal\n",
        "b = np.identity(2,dtype = float)\n",
        "print(b)\n",
        "print(\"\\n\")\n",
        "\n",
        "a = np.identity(4)\n",
        "print(a)"
      ],
      "metadata": {
        "colab": {
          "base_uri": "https://localhost:8080/"
        },
        "id": "qaw6p3HCG6Au",
        "outputId": "950814dc-2b98-4839-eb12-dfdefcc9f9c4"
      },
      "execution_count": null,
      "outputs": [
        {
          "output_type": "stream",
          "name": "stdout",
          "text": [
            "[[1. 0.]\n",
            " [0. 1.]]\n",
            "\n",
            "\n",
            "[[1. 0. 0. 0.]\n",
            " [0. 1. 0. 0.]\n",
            " [0. 0. 1. 0.]\n",
            " [0. 0. 0. 1.]]\n"
          ]
        }
      ]
    },
    {
      "cell_type": "code",
      "source": [
        "# rand() function\n",
        "\n",
        "array = np.random.rand(5)\n",
        "print(array)\n",
        "print(\"\\n\")\n",
        "\n",
        "array = np.random.rand(2,2,2)\n",
        "print(array)"
      ],
      "metadata": {
        "colab": {
          "base_uri": "https://localhost:8080/"
        },
        "id": "TjV2UNArHdYB",
        "outputId": "be43ae28-3f30-4697-eea2-faf23e13217d"
      },
      "execution_count": null,
      "outputs": [
        {
          "output_type": "stream",
          "name": "stdout",
          "text": [
            "[0.21944951 0.36229969 0.63651992 0.54398769 0.25911053]\n",
            "\n",
            "\n",
            "[[[0.91256648 0.15519384]\n",
            "  [0.33802687 0.96523914]]\n",
            "\n",
            " [[0.8489191  0.74663101]\n",
            "  [0.46480918 0.9730496 ]]]\n"
          ]
        }
      ]
    },
    {
      "cell_type": "markdown",
      "source": [
        "**checking data type of array**"
      ],
      "metadata": {
        "id": "5j7RlzCkI6Om"
      }
    },
    {
      "cell_type": "code",
      "source": [
        "# get the data type of an array object:\n",
        "import numpy as np\n",
        "arr = np.array([1,2,3,4])\n",
        "print(arr.dtype)"
      ],
      "metadata": {
        "colab": {
          "base_uri": "https://localhost:8080/"
        },
        "id": "6trRj834I5ii",
        "outputId": "7a34a229-0a08-428a-f3d1-5c94908510ff"
      },
      "execution_count": null,
      "outputs": [
        {
          "output_type": "stream",
          "name": "stdout",
          "text": [
            "int64\n"
          ]
        }
      ]
    },
    {
      "cell_type": "code",
      "source": [
        "# get the data type of an array containing string:\n",
        "arr = np.array(['apple','banana','cherry'])\n",
        "print(arr.dtype)\n",
        "new_array = np.array(['michaeal','john','george'])\n",
        "print(new_array.dtype)"
      ],
      "metadata": {
        "colab": {
          "base_uri": "https://localhost:8080/"
        },
        "id": "31pSQTewJo8r",
        "outputId": "199ae15e-7430-446a-d662-76f7d49a4f5b"
      },
      "execution_count": null,
      "outputs": [
        {
          "output_type": "stream",
          "name": "stdout",
          "text": [
            "<U6\n",
            "<U8\n"
          ]
        }
      ]
    },
    {
      "cell_type": "code",
      "source": [
        "new_array = np.array([89.9,17.9,45.1])\n",
        "print(new_array.dtype)"
      ],
      "metadata": {
        "colab": {
          "base_uri": "https://localhost:8080/"
        },
        "id": "3USexT-vKSFl",
        "outputId": "d3969cb6-b6b3-4dd0-fad7-28d2ac633219"
      },
      "execution_count": null,
      "outputs": [
        {
          "output_type": "stream",
          "name": "stdout",
          "text": [
            "float64\n"
          ]
        }
      ]
    },
    {
      "cell_type": "markdown",
      "source": [
        "**creating arrays with a defined data type**"
      ],
      "metadata": {
        "id": "Y0EaTZ2_LOHm"
      }
    },
    {
      "cell_type": "code",
      "source": [
        "# creating ana array with data type 4 bytes integer:\n",
        "arr = np.array([1,2,3,4],dtype = 'i4')\n",
        "print(arr)\n",
        "print(arr.dtype)"
      ],
      "metadata": {
        "colab": {
          "base_uri": "https://localhost:8080/"
        },
        "id": "-te6i4tMK8Cn",
        "outputId": "4f3dee70-82cf-4635-b646-bb0821640a98"
      },
      "execution_count": null,
      "outputs": [
        {
          "output_type": "stream",
          "name": "stdout",
          "text": [
            "[1 2 3 4]\n",
            "int32\n"
          ]
        }
      ]
    },
    {
      "cell_type": "code",
      "source": [
        "# a non integer string like 'a' can't be converted to integer (will raise an error):\n",
        "arr = np.array(['a','2','3'],dtype='i4')"
      ],
      "metadata": {
        "colab": {
          "base_uri": "https://localhost:8080/",
          "height": 183
        },
        "id": "Lri0VAV8L1J9",
        "outputId": "c5d08cdd-7ce1-4c55-c98e-af25348e732e"
      },
      "execution_count": null,
      "outputs": [
        {
          "output_type": "error",
          "ename": "ValueError",
          "evalue": "ignored",
          "traceback": [
            "\u001b[0;31m---------------------------------------------------------------------------\u001b[0m",
            "\u001b[0;31mValueError\u001b[0m                                Traceback (most recent call last)",
            "\u001b[0;32m<ipython-input-6-301f086cc24f>\u001b[0m in \u001b[0;36m<module>\u001b[0;34m()\u001b[0m\n\u001b[1;32m      1\u001b[0m \u001b[0;31m# a non integer string like 'a' can't be converted to integer (will raise an error):\u001b[0m\u001b[0;34m\u001b[0m\u001b[0;34m\u001b[0m\u001b[0;34m\u001b[0m\u001b[0m\n\u001b[0;32m----> 2\u001b[0;31m \u001b[0marr\u001b[0m \u001b[0;34m=\u001b[0m \u001b[0mnp\u001b[0m\u001b[0;34m.\u001b[0m\u001b[0marray\u001b[0m\u001b[0;34m(\u001b[0m\u001b[0;34m[\u001b[0m\u001b[0;34m'a'\u001b[0m\u001b[0;34m,\u001b[0m\u001b[0;34m'2'\u001b[0m\u001b[0;34m,\u001b[0m\u001b[0;34m'3'\u001b[0m\u001b[0;34m]\u001b[0m\u001b[0;34m,\u001b[0m\u001b[0mdtype\u001b[0m\u001b[0;34m=\u001b[0m\u001b[0;34m'i4'\u001b[0m\u001b[0;34m)\u001b[0m\u001b[0;34m\u001b[0m\u001b[0;34m\u001b[0m\u001b[0m\n\u001b[0m",
            "\u001b[0;31mValueError\u001b[0m: invalid literal for int() with base 10: 'a'"
          ]
        }
      ]
    },
    {
      "cell_type": "markdown",
      "source": [
        "**changing the data type of an existing array**"
      ],
      "metadata": {
        "id": "Vr94PrnyMzsy"
      }
    },
    {
      "cell_type": "code",
      "source": [
        "x = np.array([12,24,36,48])\n",
        "print(x)\n",
        "print(f\"data type of a : {x.dtype}\")\n",
        "\n",
        "x = x.astype('float64')\n",
        "print(f\"the data type of a after calling the astype function: {x.dtype}\")\n",
        "print(f\"array a: {x}\")\n"
      ],
      "metadata": {
        "colab": {
          "base_uri": "https://localhost:8080/"
        },
        "id": "dleXP0AhMfo9",
        "outputId": "f8dcf4f2-69ad-4fac-984c-8c827a782289"
      },
      "execution_count": null,
      "outputs": [
        {
          "output_type": "stream",
          "name": "stdout",
          "text": [
            "[12 24 36 48]\n",
            "data type of a : int64\n",
            "the data type of a after calling the astype function: float64\n",
            "array a: [12. 24. 36. 48.]\n"
          ]
        }
      ]
    },
    {
      "cell_type": "code",
      "source": [
        "a = np.array([78.3,17.5,17.1,19.2])\n",
        "a = a.astype('i')\n",
        "print(a)"
      ],
      "metadata": {
        "colab": {
          "base_uri": "https://localhost:8080/"
        },
        "id": "taV-bnw_OIJJ",
        "outputId": "86fb50db-645c-436d-ba11-33e12f7ef81e"
      },
      "execution_count": null,
      "outputs": [
        {
          "output_type": "stream",
          "name": "stdout",
          "text": [
            "[78 17 17 19]\n"
          ]
        }
      ]
    },
    {
      "cell_type": "code",
      "source": [
        "#changing the type from float to integer by using character code 'i' as parameter value:\n",
        "a = np.array([1.1,2.1,3.1])\n",
        "b = a.astype('i')\n",
        "print(b)\n",
        "print(b.dtype)"
      ],
      "metadata": {
        "colab": {
          "base_uri": "https://localhost:8080/"
        },
        "id": "wMiQw0ydOgPk",
        "outputId": "bb553b01-e5a3-4a73-f36c-d4f294254889"
      },
      "execution_count": null,
      "outputs": [
        {
          "output_type": "stream",
          "name": "stdout",
          "text": [
            "[1 2 3]\n",
            "int32\n"
          ]
        }
      ]
    },
    {
      "cell_type": "code",
      "source": [
        "#changing the type from float to integer by using character code 'int' as parameter value:\n",
        "a = np.array([1.1,2.1,3.1])\n",
        "b = a.astype(int)\n",
        "print(b)\n",
        "print(b.dtype)"
      ],
      "metadata": {
        "colab": {
          "base_uri": "https://localhost:8080/"
        },
        "id": "01D3TTHcPTEo",
        "outputId": "622b153a-9fd0-4e0f-921e-391d982114e5"
      },
      "execution_count": null,
      "outputs": [
        {
          "output_type": "stream",
          "name": "stdout",
          "text": [
            "[1 2 3]\n",
            "int64\n"
          ]
        }
      ]
    },
    {
      "cell_type": "code",
      "source": [
        "# change data type from integer to boolean:\n",
        "arr = np.array([1,0,3])\n",
        "b = arr.astype(bool)\n",
        "print(b)\n",
        "print(b.dtype)\n"
      ],
      "metadata": {
        "colab": {
          "base_uri": "https://localhost:8080/"
        },
        "id": "47FmPjSRPaJ4",
        "outputId": "37552140-204c-4178-b74c-bf82d72d2a6e"
      },
      "execution_count": null,
      "outputs": [
        {
          "output_type": "stream",
          "name": "stdout",
          "text": [
            "[ True False  True]\n",
            "bool\n"
          ]
        }
      ]
    },
    {
      "cell_type": "code",
      "source": [
        "a = np.array([1,2,3,4,5])\n",
        "print(a.dtype)\n",
        "b = a.astype(np.float64)\n",
        "print(b.dtype)"
      ],
      "metadata": {
        "colab": {
          "base_uri": "https://localhost:8080/"
        },
        "id": "LxokPMDyQbsJ",
        "outputId": "e79ff680-55ac-4154-ebaa-7187b5df2d4e"
      },
      "execution_count": null,
      "outputs": [
        {
          "output_type": "stream",
          "name": "stdout",
          "text": [
            "int64\n",
            "float64\n"
          ]
        }
      ]
    },
    {
      "cell_type": "markdown",
      "source": [
        "**Numpy array with mixed data types**"
      ],
      "metadata": {
        "id": "ILsXfgJvQ5tP"
      }
    },
    {
      "cell_type": "code",
      "source": [
        "res  = np.array([(\"john\",15,14),(\"george\",13,21)],dtype='|S4,i4,i4')\n",
        "print(res)"
      ],
      "metadata": {
        "colab": {
          "base_uri": "https://localhost:8080/"
        },
        "id": "to4jegvYQz2R",
        "outputId": "5f7d3416-645c-4926-e931-3d64d087f2b1"
      },
      "execution_count": null,
      "outputs": [
        {
          "output_type": "stream",
          "name": "stdout",
          "text": [
            "[(b'john', 15, 14) (b'geor', 13, 21)]\n"
          ]
        }
      ]
    },
    {
      "cell_type": "code",
      "source": [
        "a = np.array([('pos',(78,15,28)),('sop',(10,26,87))],dtype = '3a,3i')\n",
        "print(a)"
      ],
      "metadata": {
        "colab": {
          "base_uri": "https://localhost:8080/"
        },
        "id": "YoxkgTCZRku2",
        "outputId": "af9eec01-8234-4802-9fb3-aa90eb1cf1f9"
      },
      "execution_count": null,
      "outputs": [
        {
          "output_type": "stream",
          "name": "stdout",
          "text": [
            "[(b'pos', [78, 15, 28]) (b'sop', [10, 26, 87])]\n"
          ]
        }
      ]
    },
    {
      "cell_type": "code",
      "source": [
        "a = np.array([89,45,21,98],dtype='S')\n",
        "b = np.array([91,22,87,65],dtype='i4')\n",
        "print(a.dtype)\n",
        "print(b.dtype)"
      ],
      "metadata": {
        "colab": {
          "base_uri": "https://localhost:8080/"
        },
        "id": "9xDKuPjASHWa",
        "outputId": "0d00395d-953e-4ced-a98d-c8d6604c979b"
      },
      "execution_count": null,
      "outputs": [
        {
          "output_type": "stream",
          "name": "stdout",
          "text": [
            "|S2\n",
            "int32\n"
          ]
        }
      ]
    },
    {
      "cell_type": "code",
      "source": [
        "a = np.dtype('uint8')\n",
        "print(a)\n",
        "b = np.array([87,45,12,98],dtype='uint8')\n",
        "print(b.dtype)"
      ],
      "metadata": {
        "colab": {
          "base_uri": "https://localhost:8080/"
        },
        "id": "rcWmnP7qSihb",
        "outputId": "a05addd9-3ff0-4dcd-b406-2ff733ad35bd"
      },
      "execution_count": null,
      "outputs": [
        {
          "output_type": "stream",
          "name": "stdout",
          "text": [
            "uint8\n",
            "uint8\n"
          ]
        }
      ]
    },
    {
      "cell_type": "markdown",
      "source": [
        "**Arithmetic operations with NumPy Array**"
      ],
      "metadata": {
        "id": "Uw0NpzK1a5Yl"
      }
    },
    {
      "cell_type": "markdown",
      "source": [
        "add operation"
      ],
      "metadata": {
        "id": "KcHsoE-gbKrt"
      }
    },
    {
      "cell_type": "code",
      "source": [
        "import numpy as np\n",
        "arr1=np.array([11,12,13,14,15,16])\n",
        "arr2=np.array([11,12,13,14,15,16])\n",
        "newarr = np.add(arr1,arr2)\n",
        "print(newarr)"
      ],
      "metadata": {
        "colab": {
          "base_uri": "https://localhost:8080/"
        },
        "id": "Vuyp5Xj7bEoh",
        "outputId": "c03c2645-a9d8-482e-f02c-06a833dd94f4"
      },
      "execution_count": null,
      "outputs": [
        {
          "output_type": "stream",
          "name": "stdout",
          "text": [
            "[22 24 26 28 30 32]\n"
          ]
        }
      ]
    },
    {
      "cell_type": "markdown",
      "source": [
        "subtract operation"
      ],
      "metadata": {
        "id": "cgjv3jtdbwNL"
      }
    },
    {
      "cell_type": "code",
      "source": [
        "arr1=np.array([11,12,13,14,15,16])\n",
        "arr2=np.array([11,12,13,14,15,16])\n",
        "newarr = np.subtract(arr1,arr2)\n",
        "print(newarr)"
      ],
      "metadata": {
        "colab": {
          "base_uri": "https://localhost:8080/"
        },
        "id": "nnqPvclGb0KT",
        "outputId": "7a4da211-9811-494a-ca69-48bc2bc88396"
      },
      "execution_count": null,
      "outputs": [
        {
          "output_type": "stream",
          "name": "stdout",
          "text": [
            "[0 0 0 0 0 0]\n"
          ]
        }
      ]
    },
    {
      "cell_type": "markdown",
      "source": [
        "multiplication operation"
      ],
      "metadata": {
        "id": "GijJxAHCcCBT"
      }
    },
    {
      "cell_type": "code",
      "source": [
        "arr1=np.array([11,12,13,14,15,16])\n",
        "arr2=np.array([11,12,13,14,15,16])\n",
        "newarr = np.multiply(arr1,arr2)\n",
        "print(newarr)"
      ],
      "metadata": {
        "colab": {
          "base_uri": "https://localhost:8080/"
        },
        "id": "Q61JK0x0cFu3",
        "outputId": "09bd7cd4-fe05-44e5-88a2-9508015552f2"
      },
      "execution_count": null,
      "outputs": [
        {
          "output_type": "stream",
          "name": "stdout",
          "text": [
            "[121 144 169 196 225 256]\n"
          ]
        }
      ]
    },
    {
      "cell_type": "markdown",
      "source": [
        "division operation"
      ],
      "metadata": {
        "id": "v3Jp9074cQUs"
      }
    },
    {
      "cell_type": "code",
      "source": [
        "arr1=np.array([11,12,13,14,15,16])\n",
        "arr2=np.array([11,12,13,14,15,16])\n",
        "newarr = np.divide(arr1,arr2)\n",
        "print(newarr)"
      ],
      "metadata": {
        "colab": {
          "base_uri": "https://localhost:8080/"
        },
        "id": "XgIFwPa0cTRK",
        "outputId": "897ed12d-010f-4171-9123-16aec579d3f9"
      },
      "execution_count": null,
      "outputs": [
        {
          "output_type": "stream",
          "name": "stdout",
          "text": [
            "[1. 1. 1. 1. 1. 1.]\n"
          ]
        }
      ]
    },
    {
      "cell_type": "markdown",
      "source": [
        "remainder operation"
      ],
      "metadata": {
        "id": "DJ5KFS3IccSK"
      }
    },
    {
      "cell_type": "code",
      "source": [
        "arr1=np.array([11,12,13,14,15,16])\n",
        "arr2=np.array([11,12,13,14,15,16])\n",
        "newarr = np.mod(arr1,arr2)\n",
        "print(newarr)"
      ],
      "metadata": {
        "colab": {
          "base_uri": "https://localhost:8080/"
        },
        "id": "mjUNIYFFcbAu",
        "outputId": "f26215a0-75a8-4bf7-c1e4-4b8555261d48"
      },
      "execution_count": null,
      "outputs": [
        {
          "output_type": "stream",
          "name": "stdout",
          "text": [
            "[0 0 0 0 0 0]\n"
          ]
        }
      ]
    },
    {
      "cell_type": "code",
      "source": [
        "arr1=np.array([11,12,13,14,15,16])\n",
        "arr2=np.array([11,12,13,14,15,16])\n",
        "newarr = np.remainder(arr1,arr2)\n",
        "print(newarr)"
      ],
      "metadata": {
        "colab": {
          "base_uri": "https://localhost:8080/"
        },
        "id": "dLfUQCh-cqeJ",
        "outputId": "c8308897-f361-4c6c-8ae4-982150bee0ad"
      },
      "execution_count": null,
      "outputs": [
        {
          "output_type": "stream",
          "name": "stdout",
          "text": [
            "[0 0 0 0 0 0]\n"
          ]
        }
      ]
    },
    {
      "cell_type": "markdown",
      "source": [
        "using +,-,*,/ operator"
      ],
      "metadata": {
        "id": "JuQgvnSsczyp"
      }
    },
    {
      "cell_type": "code",
      "source": [
        "arr1=np.array([11,12,13,14,15,16])\n",
        "arr2=np.array([11,12,13,14,15,16])\n",
        "newarr = arr1+arr2\n",
        "print(newarr)"
      ],
      "metadata": {
        "colab": {
          "base_uri": "https://localhost:8080/"
        },
        "id": "6PViEtJKc6AL",
        "outputId": "c34e720e-c6d0-4692-93d9-0b87c7132b99"
      },
      "execution_count": null,
      "outputs": [
        {
          "output_type": "stream",
          "name": "stdout",
          "text": [
            "[22 24 26 28 30 32]\n"
          ]
        }
      ]
    },
    {
      "cell_type": "code",
      "source": [
        "arr1=np.array([11,12,13,14,15,16])\n",
        "arr2=np.array([11,12,13,14,15,16])\n",
        "newarr = arr1-arr2\n",
        "print(newarr)"
      ],
      "metadata": {
        "colab": {
          "base_uri": "https://localhost:8080/"
        },
        "id": "e-PeCwOFdGm5",
        "outputId": "da57a7a0-1408-4c54-e8b8-2062ea07faf1"
      },
      "execution_count": null,
      "outputs": [
        {
          "output_type": "stream",
          "name": "stdout",
          "text": [
            "[0 0 0 0 0 0]\n"
          ]
        }
      ]
    },
    {
      "cell_type": "code",
      "source": [
        "arr1=np.array([11,12,13,14,15,16])\n",
        "arr2=np.array([11,12,13,14,15,16])\n",
        "newarr = arr1*arr2\n",
        "print(newarr)"
      ],
      "metadata": {
        "colab": {
          "base_uri": "https://localhost:8080/"
        },
        "id": "KDzLspFrdP3H",
        "outputId": "e25c190a-c0cc-454a-aedc-ee29e20373eb"
      },
      "execution_count": null,
      "outputs": [
        {
          "output_type": "stream",
          "name": "stdout",
          "text": [
            "[121 144 169 196 225 256]\n"
          ]
        }
      ]
    },
    {
      "cell_type": "code",
      "source": [
        "arr1=np.array([11,12,13,14,15,16])\n",
        "arr2=np.array([11,12,13,14,15,16])\n",
        "newarr = arr1/arr2\n",
        "print(newarr)"
      ],
      "metadata": {
        "colab": {
          "base_uri": "https://localhost:8080/"
        },
        "id": "NSPapgB3dWbc",
        "outputId": "ee20c9c0-755c-4287-fba2-2e7b6e04bf90"
      },
      "execution_count": null,
      "outputs": [
        {
          "output_type": "stream",
          "name": "stdout",
          "text": [
            "[1. 1. 1. 1. 1. 1.]\n"
          ]
        }
      ]
    },
    {
      "cell_type": "code",
      "source": [
        "arr1=np.array([11,12,13,14,15,16])\n",
        "arr2=np.array([11,12,13,14,15,16])\n",
        "newarr = arr1%arr2\n",
        "print(newarr)"
      ],
      "metadata": {
        "colab": {
          "base_uri": "https://localhost:8080/"
        },
        "id": "FwTCUTJfdaku",
        "outputId": "8312544b-7791-46b4-8e98-f7ae13af1ba0"
      },
      "execution_count": null,
      "outputs": [
        {
          "output_type": "stream",
          "name": "stdout",
          "text": [
            "[0 0 0 0 0 0]\n"
          ]
        }
      ]
    },
    {
      "cell_type": "markdown",
      "source": [
        "**indexing in Numpy**"
      ],
      "metadata": {
        "id": "4V3grTMVg0qW"
      }
    },
    {
      "cell_type": "markdown",
      "source": [
        "indexing in one dimensional array"
      ],
      "metadata": {
        "id": "ZAn_V3s3g8o7"
      }
    },
    {
      "cell_type": "code",
      "source": [
        "import numpy as np\n",
        "arr =np.array([4,7,2])\n",
        "print(arr)\n",
        "print(\"\\n\")\n",
        "print(arr[1])"
      ],
      "metadata": {
        "colab": {
          "base_uri": "https://localhost:8080/"
        },
        "id": "6ZCOTONChGct",
        "outputId": "e18e67a6-0fc2-40a7-9ec7-42ff36177060"
      },
      "execution_count": null,
      "outputs": [
        {
          "output_type": "stream",
          "name": "stdout",
          "text": [
            "[4 7 2]\n",
            "\n",
            "\n",
            "7\n"
          ]
        }
      ]
    },
    {
      "cell_type": "code",
      "source": [
        "array1 = np.arange(0,10)\n",
        "print(array1)\n",
        "print(\"\\n\")\n",
        "print(array1[2])"
      ],
      "metadata": {
        "colab": {
          "base_uri": "https://localhost:8080/"
        },
        "id": "J-zGCpkahg-V",
        "outputId": "c7925b45-74c7-48c6-d072-c9cdf4be70dc"
      },
      "execution_count": null,
      "outputs": [
        {
          "output_type": "stream",
          "name": "stdout",
          "text": [
            "[0 1 2 3 4 5 6 7 8 9]\n",
            "\n",
            "\n",
            "2\n"
          ]
        }
      ]
    },
    {
      "cell_type": "markdown",
      "source": [
        "indexing in two dimensional array"
      ],
      "metadata": {
        "id": "IyYOCpkZh4VU"
      }
    },
    {
      "cell_type": "code",
      "source": [
        "arr = np.array([[2,3,4],[1,2,5],[3,4,3]])\n",
        "print(arr)\n",
        "print(arr[1,2])"
      ],
      "metadata": {
        "colab": {
          "base_uri": "https://localhost:8080/"
        },
        "id": "Oth7Egp4h-Nv",
        "outputId": "8216b0eb-814c-4eb4-ad2d-adfa57bee30a"
      },
      "execution_count": null,
      "outputs": [
        {
          "output_type": "stream",
          "name": "stdout",
          "text": [
            "[[2 3 4]\n",
            " [1 2 5]\n",
            " [3 4 3]]\n",
            "5\n"
          ]
        }
      ]
    },
    {
      "cell_type": "code",
      "source": [
        "array1 = np.arange(12).reshape(4,3)\n",
        "print(array1)\n",
        "print(array1[3][1])"
      ],
      "metadata": {
        "colab": {
          "base_uri": "https://localhost:8080/"
        },
        "id": "psmSr5fEi6Wq",
        "outputId": "c49607f3-d06b-43a7-d00b-1333e66fda99"
      },
      "execution_count": null,
      "outputs": [
        {
          "output_type": "stream",
          "name": "stdout",
          "text": [
            "[[ 0  1  2]\n",
            " [ 3  4  5]\n",
            " [ 6  7  8]\n",
            " [ 9 10 11]]\n",
            "10\n"
          ]
        }
      ]
    },
    {
      "cell_type": "markdown",
      "source": [
        "indexing a three dimensional array"
      ],
      "metadata": {
        "id": "k9Nyi4O-jdwN"
      }
    },
    {
      "cell_type": "code",
      "source": [
        "array1 = np.arange(18).reshape(3,2,3)\n",
        "print(array1)\n",
        "print(array1[2][0][1])"
      ],
      "metadata": {
        "colab": {
          "base_uri": "https://localhost:8080/"
        },
        "id": "IiuCXVMojmsx",
        "outputId": "54938147-f295-4b66-ac88-007fac9d1529"
      },
      "execution_count": null,
      "outputs": [
        {
          "output_type": "stream",
          "name": "stdout",
          "text": [
            "[[[ 0  1  2]\n",
            "  [ 3  4  5]]\n",
            "\n",
            " [[ 6  7  8]\n",
            "  [ 9 10 11]]\n",
            "\n",
            " [[12 13 14]\n",
            "  [15 16 17]]]\n",
            "13\n"
          ]
        }
      ]
    },
    {
      "cell_type": "code",
      "source": [
        "arr = np.array([[[1,2,3],[4,5,6]],[[7,8,9],[10,11,12]]])\n",
        "print(arr)\n",
        "print(\"\\n\")\n",
        "print(arr[0])\n",
        "print(\"\\n\")\n",
        "print(arr[1,0])\n",
        "print(\"\\n\")\n",
        "print(arr[1][0])\n",
        "print(\"\\n\")\n",
        "print(arr[1])"
      ],
      "metadata": {
        "colab": {
          "base_uri": "https://localhost:8080/"
        },
        "id": "sHRWdDFekNsC",
        "outputId": "d77bba97-4938-4505-9b06-6b28ebd9bbec"
      },
      "execution_count": null,
      "outputs": [
        {
          "output_type": "stream",
          "name": "stdout",
          "text": [
            "[[[ 1  2  3]\n",
            "  [ 4  5  6]]\n",
            "\n",
            " [[ 7  8  9]\n",
            "  [10 11 12]]]\n",
            "\n",
            "\n",
            "[[1 2 3]\n",
            " [4 5 6]]\n",
            "\n",
            "\n",
            "[7 8 9]\n",
            "\n",
            "\n",
            "[7 8 9]\n",
            "\n",
            "\n",
            "[[ 7  8  9]\n",
            " [10 11 12]]\n"
          ]
        }
      ]
    },
    {
      "cell_type": "markdown",
      "source": [
        "Boolean indexing"
      ],
      "metadata": {
        "id": "SaVcUktSlUQP"
      }
    },
    {
      "cell_type": "code",
      "source": [
        "x = np.array([[0,1,2],[3,4,5],[6,7,8],[9,10,11]])\n",
        "print(x)\n",
        "print(\"\\n\")\n",
        "print(x[x>5])\n",
        "print(x[x<5])\n",
        "print(x[x==5])"
      ],
      "metadata": {
        "colab": {
          "base_uri": "https://localhost:8080/"
        },
        "id": "SPApFM5clk-p",
        "outputId": "13cc7c51-0ffe-4eab-86f8-803944fff32d"
      },
      "execution_count": null,
      "outputs": [
        {
          "output_type": "stream",
          "name": "stdout",
          "text": [
            "[[ 0  1  2]\n",
            " [ 3  4  5]\n",
            " [ 6  7  8]\n",
            " [ 9 10 11]]\n",
            "\n",
            "\n",
            "[ 6  7  8  9 10 11]\n",
            "[0 1 2 3 4]\n",
            "[5]\n"
          ]
        }
      ]
    },
    {
      "cell_type": "code",
      "source": [
        "# using >= or <= operator\n",
        "x = np.array([[42,56,89,65],[99,88,42,12],[55,42,17,18]])\n",
        "print(x[x<=42])\n",
        "print(x[x>=42])"
      ],
      "metadata": {
        "colab": {
          "base_uri": "https://localhost:8080/"
        },
        "id": "A9t4oXghmZk9",
        "outputId": "0525f6b3-d4d3-4814-ca37-28a285176903"
      },
      "execution_count": null,
      "outputs": [
        {
          "output_type": "stream",
          "name": "stdout",
          "text": [
            "[42 42 12 42 17 18]\n",
            "[42 56 89 65 99 88 42 55 42]\n"
          ]
        }
      ]
    },
    {
      "cell_type": "code",
      "source": [
        "# using % or power (**) operator\n",
        "\n",
        "x  = np.array([10,40,80,50,100])\n",
        "print(x[x%40==0]**2)"
      ],
      "metadata": {
        "colab": {
          "base_uri": "https://localhost:8080/"
        },
        "id": "Pf7aD_pWnBlZ",
        "outputId": "5b63e892-a6b3-49ed-8439-229ca13a719b"
      },
      "execution_count": null,
      "outputs": [
        {
          "output_type": "stream",
          "name": "stdout",
          "text": [
            "[1600 6400]\n"
          ]
        }
      ]
    },
    {
      "cell_type": "code",
      "source": [
        "# using two condition with logical or '|'\n",
        "\n",
        "x = np.array([[5,5],[4,5],[16,4]])\n",
        "print(x[(x%2==0) | (x%3==0)])"
      ],
      "metadata": {
        "colab": {
          "base_uri": "https://localhost:8080/"
        },
        "id": "nNJuB_hFnr_9",
        "outputId": "e2793e7d-6b1d-4b12-a491-68137f0dacb7"
      },
      "execution_count": null,
      "outputs": [
        {
          "output_type": "stream",
          "name": "stdout",
          "text": [
            "[ 4 16  4]\n"
          ]
        }
      ]
    },
    {
      "cell_type": "markdown",
      "source": [
        "Question:- Extract from the array np.array([3,4,6,10,24,89,45,43,46,99,100]) with Boolean indexing all the numbers. which are not divisible by 3\n",
        ",which are divisible by 5\n",
        ",which are divisible by 3 and 5\n",
        ",which are divisible by 3 and set them to 42"
      ],
      "metadata": {
        "id": "bRoqOyhJobe0"
      }
    },
    {
      "cell_type": "code",
      "source": [
        "a = np.array([3,4,6,10,24,89,45,43,46,99,100])\n",
        "\n",
        "div3 = a[a%3!=0]\n",
        "print(div3)\n",
        "print(\"\\n\")\n",
        "div5 = a[a%5==0]\n",
        "print(div5)\n",
        "print(\"\\n\")\n",
        "print(a[(a%3==0) & (a%5==0)])\n",
        "print(\"\\n\")\n",
        "a[a%3==0] = 42\n",
        "print(a)"
      ],
      "metadata": {
        "colab": {
          "base_uri": "https://localhost:8080/"
        },
        "id": "mLvco5vVpRSu",
        "outputId": "82213c15-ad94-4ddc-ed34-9e97eb09dc62"
      },
      "execution_count": null,
      "outputs": [
        {
          "output_type": "stream",
          "name": "stdout",
          "text": [
            "[  4  10  89  43  46 100]\n",
            "\n",
            "\n",
            "[ 10  45 100]\n",
            "\n",
            "\n",
            "[45]\n",
            "\n",
            "\n",
            "[ 42   4  42  10  42  89  42  43  46  42 100]\n"
          ]
        }
      ]
    },
    {
      "cell_type": "markdown",
      "source": [
        "one dimensional negative indexing"
      ],
      "metadata": {
        "id": "9QubVezLrMyv"
      }
    },
    {
      "cell_type": "code",
      "source": [
        "arr = np.array([4,7,2])\n",
        "print(arr)\n",
        "print(\"\\n\")\n",
        "print(arr[-3])"
      ],
      "metadata": {
        "colab": {
          "base_uri": "https://localhost:8080/"
        },
        "id": "k63Q_3X2rT0h",
        "outputId": "8d129a28-eb64-4a0a-d38d-0d3c3c736414"
      },
      "execution_count": null,
      "outputs": [
        {
          "output_type": "stream",
          "name": "stdout",
          "text": [
            "[4 7 2]\n",
            "\n",
            "\n",
            "4\n"
          ]
        }
      ]
    },
    {
      "cell_type": "markdown",
      "source": [
        "two dimensional negative indexing"
      ],
      "metadata": {
        "id": "UhgqgGrTrk4a"
      }
    },
    {
      "cell_type": "code",
      "source": [
        "arr = np.array([[2,3,4],[1,2,5],[3,4,3]])\n",
        "print(arr)\n",
        "print(\"\\n\")\n",
        "print(arr[-1,-2])"
      ],
      "metadata": {
        "colab": {
          "base_uri": "https://localhost:8080/"
        },
        "id": "4hb09i32rqq6",
        "outputId": "2932b6c1-c73c-4739-b670-02d0206d6a41"
      },
      "execution_count": null,
      "outputs": [
        {
          "output_type": "stream",
          "name": "stdout",
          "text": [
            "[[2 3 4]\n",
            " [1 2 5]\n",
            " [3 4 3]]\n",
            "\n",
            "\n",
            "4\n"
          ]
        }
      ]
    },
    {
      "cell_type": "markdown",
      "source": [
        "three dimensional negative indexing"
      ],
      "metadata": {
        "id": "LyJ_oo3FsAhW"
      }
    },
    {
      "cell_type": "code",
      "source": [
        "arr = np.array([[[2,1],[4,5],[6,2]],[[3,4],[7,6],[10,2]]])\n",
        "print(arr)\n",
        "print(\"\\n\")\n",
        "print(arr[-1,-2,-1])"
      ],
      "metadata": {
        "colab": {
          "base_uri": "https://localhost:8080/"
        },
        "id": "ote5sHDOr_PC",
        "outputId": "ef5b7ef3-5ab7-4c38-be03-51ef6935bb33"
      },
      "execution_count": null,
      "outputs": [
        {
          "output_type": "stream",
          "name": "stdout",
          "text": [
            "[[[ 2  1]\n",
            "  [ 4  5]\n",
            "  [ 6  2]]\n",
            "\n",
            " [[ 3  4]\n",
            "  [ 7  6]\n",
            "  [10  2]]]\n",
            "\n",
            "\n",
            "6\n"
          ]
        }
      ]
    },
    {
      "cell_type": "markdown",
      "source": [
        "combining positive and negative indexes"
      ],
      "metadata": {
        "id": "YXAtjDFKsoOo"
      }
    },
    {
      "cell_type": "code",
      "source": [
        "arr = np.array([[2,3,4],[1,2,5],[3,4,3]])\n",
        "print(arr)\n",
        "print(\"\\n\")\n",
        "print(arr[-2,2])"
      ],
      "metadata": {
        "colab": {
          "base_uri": "https://localhost:8080/"
        },
        "id": "mYTycr_SsxzQ",
        "outputId": "85969dcf-341e-4c57-be72-7b2a15fd05f7"
      },
      "execution_count": null,
      "outputs": [
        {
          "output_type": "stream",
          "name": "stdout",
          "text": [
            "[[2 3 4]\n",
            " [1 2 5]\n",
            " [3 4 3]]\n",
            "\n",
            "\n",
            "5\n"
          ]
        }
      ]
    },
    {
      "cell_type": "markdown",
      "source": [
        "calculate the prime number between 0 and 100 by using a boolean array"
      ],
      "metadata": {
        "id": "rvzjm-jMtP9P"
      }
    },
    {
      "cell_type": "code",
      "source": [
        "is_prime = np.ones((100,),dtype=bool)\n",
        "is_prime[:2] = 0\n",
        "nmax = int(np.sqrt(len(is_prime)))\n",
        "for i in range(2, nmax):\n",
        "  is_prime[2*i::i] = False\n",
        "print(np.nonzero(is_prime)) "
      ],
      "metadata": {
        "colab": {
          "base_uri": "https://localhost:8080/"
        },
        "id": "mRmV6Y7gtap4",
        "outputId": "28ac66ae-1924-489e-9cb3-11b40ed2f4c7"
      },
      "execution_count": null,
      "outputs": [
        {
          "output_type": "stream",
          "name": "stdout",
          "text": [
            "(array([ 2,  3,  5,  7, 11, 13, 17, 19, 23, 29, 31, 37, 41, 43, 47, 53, 59,\n",
            "       61, 67, 71, 73, 79, 83, 89, 97]),)\n"
          ]
        }
      ]
    },
    {
      "cell_type": "markdown",
      "source": [
        "**Slicing in NumPy**"
      ],
      "metadata": {
        "id": "e1W5nIjhbvKO"
      }
    },
    {
      "cell_type": "markdown",
      "source": [
        "slicing in one dimensional array"
      ],
      "metadata": {
        "id": "drbEg6ercFWw"
      }
    },
    {
      "cell_type": "code",
      "source": [
        "import numpy as np\n",
        "arr = np.arange(9)\n",
        "print(arr)\n",
        "print(arr[3:6])\n",
        "print(arr[:])\n",
        "print(arr[4:])\n",
        "print(arr[:7])"
      ],
      "metadata": {
        "colab": {
          "base_uri": "https://localhost:8080/"
        },
        "id": "R4_1bA2qb1bn",
        "outputId": "7c6af49c-8412-48a2-dfd3-c9882ade5e57"
      },
      "execution_count": null,
      "outputs": [
        {
          "output_type": "stream",
          "name": "stdout",
          "text": [
            "[0 1 2 3 4 5 6 7 8]\n",
            "[3 4 5]\n",
            "[0 1 2 3 4 5 6 7 8]\n",
            "[4 5 6 7 8]\n",
            "[0 1 2 3 4 5 6]\n"
          ]
        }
      ]
    },
    {
      "cell_type": "code",
      "source": [
        "# to modify the item in array\n",
        "arr = np.array([1,2,3,4,5])\n",
        "print(arr)\n",
        "a = arr[1:4]\n",
        "print(a)\n",
        "a[1] = 10\n",
        "print(a)\n",
        "print(arr)"
      ],
      "metadata": {
        "colab": {
          "base_uri": "https://localhost:8080/"
        },
        "id": "k90CvWQscwBi",
        "outputId": "9c5b8af5-4505-4bae-8153-1cdb19010bb5"
      },
      "execution_count": null,
      "outputs": [
        {
          "output_type": "stream",
          "name": "stdout",
          "text": [
            "[1 2 3 4 5]\n",
            "[2 3 4]\n",
            "[ 2 10  4]\n",
            "[ 1  2 10  4  5]\n"
          ]
        }
      ]
    },
    {
      "cell_type": "code",
      "source": [
        "# for jump the elements\n",
        "arr = [0,1,2,3,4,5,6,7,8,9,10]\n",
        "print(arr[2:10:2])"
      ],
      "metadata": {
        "colab": {
          "base_uri": "https://localhost:8080/"
        },
        "id": "NKF1MJgSddRg",
        "outputId": "76f2f46f-b64e-4ea0-a642-4b0221457e06"
      },
      "execution_count": null,
      "outputs": [
        {
          "output_type": "stream",
          "name": "stdout",
          "text": [
            "[2, 4, 6, 8]\n"
          ]
        }
      ]
    },
    {
      "cell_type": "markdown",
      "source": [
        "slicing a two dimensional array"
      ],
      "metadata": {
        "id": "sncnzQjLeAn9"
      }
    },
    {
      "cell_type": "code",
      "source": [
        "arr = np.arange(16).reshape(4,4)\n",
        "print(arr)\n",
        "print(\"\\n\")\n",
        "print(arr[0:2,1:3])"
      ],
      "metadata": {
        "id": "mGIdAcm4eFqB"
      },
      "execution_count": null,
      "outputs": []
    },
    {
      "cell_type": "code",
      "source": [
        "arr = np.arange(20).reshape(4,5)\n",
        "print(arr)\n",
        "print(\"\\n\")\n",
        "print(arr[1:,2:4])"
      ],
      "metadata": {
        "colab": {
          "base_uri": "https://localhost:8080/"
        },
        "id": "y9pfzVBXe-V5",
        "outputId": "12c28641-df78-47cc-e7fe-b577ceef5366"
      },
      "execution_count": null,
      "outputs": [
        {
          "output_type": "stream",
          "name": "stdout",
          "text": [
            "[[ 0  1  2  3  4]\n",
            " [ 5  6  7  8  9]\n",
            " [10 11 12 13 14]\n",
            " [15 16 17 18 19]]\n",
            "\n",
            "\n",
            "[[ 7  8]\n",
            " [12 13]\n",
            " [17 18]]\n"
          ]
        }
      ]
    },
    {
      "cell_type": "markdown",
      "source": [
        "slicing in three dimensional array"
      ],
      "metadata": {
        "id": "sdTsqIQjfmM0"
      }
    },
    {
      "cell_type": "code",
      "source": [
        "arr = np.array([[[10,11,12],[13,14,15],[16,17,18]],\n",
        "                [[10,11,12],[13,14,15],[16,17,18]],\n",
        "                [[10,11,12],[13,14,15],[16,17,18]]])\n",
        "print(arr)"
      ],
      "metadata": {
        "colab": {
          "base_uri": "https://localhost:8080/"
        },
        "id": "SWW8rT9wfrxf",
        "outputId": "d7d8ace1-df86-496c-b630-8a9b8d6b37e0"
      },
      "execution_count": null,
      "outputs": [
        {
          "output_type": "stream",
          "name": "stdout",
          "text": [
            "[[[10 11 12]\n",
            "  [13 14 15]\n",
            "  [16 17 18]]\n",
            "\n",
            " [[10 11 12]\n",
            "  [13 14 15]\n",
            "  [16 17 18]]\n",
            "\n",
            " [[10 11 12]\n",
            "  [13 14 15]\n",
            "  [16 17 18]]]\n"
          ]
        }
      ]
    },
    {
      "cell_type": "code",
      "source": [
        "arr = np.array([[[10,11,12],[13,14,15],[16,17,18]],\n",
        "                [[10,11,12],[13,14,15],[16,17,18]],\n",
        "                [[10,11,12],[13,14,15],[16,17,18]]])\n",
        "print(arr[:2,1:,:2])"
      ],
      "metadata": {
        "colab": {
          "base_uri": "https://localhost:8080/"
        },
        "id": "SFTv4JbIhIMS",
        "outputId": "ed4c07ec-5366-4b2e-bc15-507ebd1cad38"
      },
      "execution_count": null,
      "outputs": [
        {
          "output_type": "stream",
          "name": "stdout",
          "text": [
            "[[[13 14]\n",
            "  [16 17]]\n",
            "\n",
            " [[13 14]\n",
            "  [16 17]]]\n"
          ]
        }
      ]
    },
    {
      "cell_type": "code",
      "source": [
        "arr = np.array([[[10,11,12],[13,14,15],[16,17,18]],\n",
        "                [[10,11,12],[13,14,15],[16,17,18]],\n",
        "                [[10,11,12],[13,14,15],[16,17,18]]])\n",
        "print(arr[:,:,:])"
      ],
      "metadata": {
        "colab": {
          "base_uri": "https://localhost:8080/"
        },
        "id": "eu9JusUVhPFO",
        "outputId": "b388efb6-1915-44a0-decc-7de775f65f1f"
      },
      "execution_count": null,
      "outputs": [
        {
          "output_type": "stream",
          "name": "stdout",
          "text": [
            "[[[10 11 12]\n",
            "  [13 14 15]\n",
            "  [16 17 18]]\n",
            "\n",
            " [[10 11 12]\n",
            "  [13 14 15]\n",
            "  [16 17 18]]\n",
            "\n",
            " [[10 11 12]\n",
            "  [13 14 15]\n",
            "  [16 17 18]]]\n"
          ]
        }
      ]
    },
    {
      "cell_type": "code",
      "source": [
        "arr = np.array([[[10,11,12],[13,14,15],[16,17,18]],\n",
        "                [[10,11,12],[13,14,15],[16,17,18]],\n",
        "                [[10,11,12],[13,14,15],[16,17,18]]])\n",
        "print(arr[1:,:,:])\n",
        "print(\"\\n\")\n",
        "print(arr[1:,:])\n",
        "print(\"\\n\")\n",
        "print(arr[1:])"
      ],
      "metadata": {
        "colab": {
          "base_uri": "https://localhost:8080/"
        },
        "id": "ERzdX_b8hl_n",
        "outputId": "d4a92f87-2c9b-469f-8e44-bb72f37f8f0d"
      },
      "execution_count": null,
      "outputs": [
        {
          "output_type": "stream",
          "name": "stdout",
          "text": [
            "[[[10 11 12]\n",
            "  [13 14 15]\n",
            "  [16 17 18]]\n",
            "\n",
            " [[10 11 12]\n",
            "  [13 14 15]\n",
            "  [16 17 18]]]\n",
            "\n",
            "\n",
            "[[[10 11 12]\n",
            "  [13 14 15]\n",
            "  [16 17 18]]\n",
            "\n",
            " [[10 11 12]\n",
            "  [13 14 15]\n",
            "  [16 17 18]]]\n",
            "\n",
            "\n",
            "[[[10 11 12]\n",
            "  [13 14 15]\n",
            "  [16 17 18]]\n",
            "\n",
            " [[10 11 12]\n",
            "  [13 14 15]\n",
            "  [16 17 18]]]\n"
          ]
        }
      ]
    },
    {
      "cell_type": "code",
      "source": [
        "arr = np.array([[[10,11,12],[13,14,15],[16,17,18]],\n",
        "                [[10,11,12],[13,14,15],[16,17,18]],\n",
        "                [[10,11,12],[13,14,15],[16,17,18]]])\n",
        "print(arr[1:3,:])\n",
        "print(\"\\n\")\n",
        "print(arr[1:3])"
      ],
      "metadata": {
        "colab": {
          "base_uri": "https://localhost:8080/"
        },
        "id": "C43dYtWoif2h",
        "outputId": "29942b53-e113-4be5-c66d-afe51f4d07c4"
      },
      "execution_count": null,
      "outputs": [
        {
          "output_type": "stream",
          "name": "stdout",
          "text": [
            "[[[10 11 12]\n",
            "  [13 14 15]\n",
            "  [16 17 18]]\n",
            "\n",
            " [[10 11 12]\n",
            "  [13 14 15]\n",
            "  [16 17 18]]]\n",
            "\n",
            "\n",
            "[[[10 11 12]\n",
            "  [13 14 15]\n",
            "  [16 17 18]]\n",
            "\n",
            " [[10 11 12]\n",
            "  [13 14 15]\n",
            "  [16 17 18]]]\n"
          ]
        }
      ]
    },
    {
      "cell_type": "markdown",
      "source": [
        "slicing using negative indexing"
      ],
      "metadata": {
        "id": "yZHu295OjAZF"
      }
    },
    {
      "cell_type": "code",
      "source": [
        "arr = np.array([10,20,30,40,50,60,70,80,90])\n",
        "print(arr)\n",
        "print(arr[-6])"
      ],
      "metadata": {
        "colab": {
          "base_uri": "https://localhost:8080/"
        },
        "id": "5zTgn8SFjFbN",
        "outputId": "41db5c80-e839-4fd8-cca6-7f095ca297a8"
      },
      "execution_count": null,
      "outputs": [
        {
          "output_type": "stream",
          "name": "stdout",
          "text": [
            "[10 20 30 40 50 60 70 80 90]\n",
            "40\n"
          ]
        }
      ]
    },
    {
      "cell_type": "code",
      "source": [
        "# using negative values for both the indices\n",
        "arr = np.array([10,20,30,40,50,60,70,80,90])\n",
        "print(arr)\n",
        "print(arr[-3:-1])"
      ],
      "metadata": {
        "colab": {
          "base_uri": "https://localhost:8080/"
        },
        "id": "KOwWLIcEjbZx",
        "outputId": "ff6e98c9-2402-4e84-ecfb-ce8707702eb6"
      },
      "execution_count": null,
      "outputs": [
        {
          "output_type": "stream",
          "name": "stdout",
          "text": [
            "[10 20 30 40 50 60 70 80 90]\n",
            "[70 80]\n"
          ]
        }
      ]
    },
    {
      "cell_type": "code",
      "source": [
        "arr = np.array([10,20,30,40,50,60,70,80,90])\n",
        "print(arr)\n",
        "print(arr[-1:-3])"
      ],
      "metadata": {
        "colab": {
          "base_uri": "https://localhost:8080/"
        },
        "id": "rkXDevIijuvX",
        "outputId": "fcd2b912-556e-42c4-9641-841952b8559b"
      },
      "execution_count": null,
      "outputs": [
        {
          "output_type": "stream",
          "name": "stdout",
          "text": [
            "[10 20 30 40 50 60 70 80 90]\n",
            "[]\n"
          ]
        }
      ]
    },
    {
      "cell_type": "markdown",
      "source": [
        "**Transposing NumPy Arrays**"
      ],
      "metadata": {
        "id": "uXonz8Y1zfeP"
      }
    },
    {
      "cell_type": "markdown",
      "source": [
        "NumPy Transpose 1-D array"
      ],
      "metadata": {
        "id": "Mz1Pv0ISz6gv"
      }
    },
    {
      "cell_type": "code",
      "source": [
        "import numpy as np\n",
        "arr1 = np.array([1,2,3,4])\n",
        "print(arr1)\n",
        "print(\"\\n\")\n",
        "arr2 = arr1.transpose()\n",
        "print(arr2)\n",
        "print(\"\\n\")\n",
        "arr3 = arr1.T\n",
        "print(arr3)\n",
        "\n",
        "#print the shape of the two arrays\n",
        "print(\"Original array shape:\",arr1.shape)\n",
        "print(\"shape after transpose:\",arr2.shape)\n",
        "print(\"shape after transpose:\",arr3.shape)"
      ],
      "metadata": {
        "colab": {
          "base_uri": "https://localhost:8080/"
        },
        "id": "gKBnt05oztx3",
        "outputId": "b69b3de4-bca0-42ce-c2af-83913220ce44"
      },
      "execution_count": null,
      "outputs": [
        {
          "output_type": "stream",
          "name": "stdout",
          "text": [
            "[1 2 3 4]\n",
            "\n",
            "\n",
            "[1 2 3 4]\n",
            "\n",
            "\n",
            "[1 2 3 4]\n",
            "Original array shape: (4,)\n",
            "shape after transpose: (4,)\n",
            "shape after transpose: (4,)\n"
          ]
        }
      ]
    },
    {
      "cell_type": "code",
      "source": [
        "# array transpose by arange function\n",
        "arr1 = np.arange(3)\n",
        "print(arr1)\n",
        "print(\"\\n\")\n",
        "print(arr1.transpose())\n",
        "print(\"\\n\")\n",
        "# or \n",
        "# print(arr1.T)\n",
        "#or\n",
        "# print(np.transpose(arr1))"
      ],
      "metadata": {
        "colab": {
          "base_uri": "https://localhost:8080/"
        },
        "id": "vSoVPLKX2J4w",
        "outputId": "485f349e-178f-4d8f-ee85-bf81b247cd11"
      },
      "execution_count": null,
      "outputs": [
        {
          "output_type": "stream",
          "name": "stdout",
          "text": [
            "[0 1 2]\n",
            "\n",
            "\n",
            "[0 1 2]\n",
            "\n",
            "\n"
          ]
        }
      ]
    },
    {
      "cell_type": "markdown",
      "source": [
        "NumPy Transpose 2-D array"
      ],
      "metadata": {
        "id": "sg-xcQcn3HbA"
      }
    },
    {
      "cell_type": "code",
      "source": [
        "arr1 = np.array([[1,2,3],[4,5,6]])\n",
        "print(arr1)\n",
        "print(\"\\n\")\n",
        "arr2 = arr1.transpose()\n",
        "print(arr2)\n",
        "print(\"\\n\")\n",
        "#or\n",
        "# arr1 = arr2.T\n",
        "# print(arr2)\n",
        "\n",
        "#print the shape of two arrays\n",
        "print(\"Original array shape:\",arr1.shape)\n",
        "print(\"Original array shape:\",arr2.shape)"
      ],
      "metadata": {
        "colab": {
          "base_uri": "https://localhost:8080/"
        },
        "id": "6qblltzW3OAF",
        "outputId": "9a18f711-29c8-4298-e918-a16521c2f6e4"
      },
      "execution_count": null,
      "outputs": [
        {
          "output_type": "stream",
          "name": "stdout",
          "text": [
            "[[1 2 3]\n",
            " [4 5 6]]\n",
            "\n",
            "\n",
            "[[1 4]\n",
            " [2 5]\n",
            " [3 6]]\n",
            "\n",
            "\n",
            "Original array shape: (2, 3)\n",
            "Original array shape: (3, 2)\n"
          ]
        }
      ]
    },
    {
      "cell_type": "code",
      "source": [
        "# array transposing using arange function\n",
        "arr1 = np.arange(15).reshape((3,5))\n",
        "print(arr1)\n",
        "print(\"\\n\")\n",
        "arr2 = arr1.transpose()\n",
        "print(arr2)\n",
        "print(\"\\n\")\n",
        "#or \n",
        " #   arr2 = arr1.T()\n",
        "  #  print(arr2) \n"
      ],
      "metadata": {
        "colab": {
          "base_uri": "https://localhost:8080/"
        },
        "id": "Rd4iuM983xiH",
        "outputId": "3bab130b-029a-4c9d-c53f-223de49222ea"
      },
      "execution_count": null,
      "outputs": [
        {
          "output_type": "stream",
          "name": "stdout",
          "text": [
            "[[ 0  1  2  3  4]\n",
            " [ 5  6  7  8  9]\n",
            " [10 11 12 13 14]]\n",
            "\n",
            "\n",
            "[[ 0  5 10]\n",
            " [ 1  6 11]\n",
            " [ 2  7 12]\n",
            " [ 3  8 13]\n",
            " [ 4  9 14]]\n",
            "\n",
            "\n"
          ]
        }
      ]
    },
    {
      "cell_type": "markdown",
      "source": [
        "NumPy Transposing in 3-D array"
      ],
      "metadata": {
        "id": "FxoGT1165c9p"
      }
    },
    {
      "cell_type": "code",
      "source": [
        "arr1 = np.arange(16).reshape((2,2,4))\n",
        "print(arr1)\n",
        "print(\"\\n\")\n",
        "arr2 = arr1.transpose()\n",
        "print(arr2)\n",
        "print(\"\\n\")\n",
        "print(\"Original array shape:\",arr1.shape)\n",
        "print(\"Shape after transpose:\",arr2.shape)"
      ],
      "metadata": {
        "colab": {
          "base_uri": "https://localhost:8080/"
        },
        "id": "dfD6QrMM5lKJ",
        "outputId": "7573142f-163a-48d7-9b0f-1c10eb0d1c78"
      },
      "execution_count": null,
      "outputs": [
        {
          "output_type": "stream",
          "name": "stdout",
          "text": [
            "[[[ 0  1  2  3]\n",
            "  [ 4  5  6  7]]\n",
            "\n",
            " [[ 8  9 10 11]\n",
            "  [12 13 14 15]]]\n",
            "\n",
            "\n",
            "[[[ 0  8]\n",
            "  [ 4 12]]\n",
            "\n",
            " [[ 1  9]\n",
            "  [ 5 13]]\n",
            "\n",
            " [[ 2 10]\n",
            "  [ 6 14]]\n",
            "\n",
            " [[ 3 11]\n",
            "  [ 7 15]]]\n",
            "\n",
            "\n",
            "Original array shape: (2, 2, 4)\n",
            "Shape after transpose: (4, 2, 2)\n"
          ]
        }
      ]
    },
    {
      "cell_type": "markdown",
      "source": [
        "NumPy transposing in 4-D array"
      ],
      "metadata": {
        "id": "Fhu6nvuB6QPD"
      }
    },
    {
      "cell_type": "code",
      "source": [
        "arr1 = np.full((2,3,4,5),8)\n",
        "print(arr1)\n",
        "print(arr1.ndim)\n",
        "print(arr1.shape)\n",
        "print(\"\\n\")\n",
        "arr2 = arr1.transpose()\n",
        "print(arr2)\n",
        "print(arr2.ndim)\n",
        "print(arr2.shape)"
      ],
      "metadata": {
        "colab": {
          "base_uri": "https://localhost:8080/"
        },
        "id": "p_Mw5H4C6VE7",
        "outputId": "3fe1e8ee-daf2-4981-c020-d39dbca4fd56"
      },
      "execution_count": null,
      "outputs": [
        {
          "output_type": "stream",
          "name": "stdout",
          "text": [
            "[[[[8 8 8 8 8]\n",
            "   [8 8 8 8 8]\n",
            "   [8 8 8 8 8]\n",
            "   [8 8 8 8 8]]\n",
            "\n",
            "  [[8 8 8 8 8]\n",
            "   [8 8 8 8 8]\n",
            "   [8 8 8 8 8]\n",
            "   [8 8 8 8 8]]\n",
            "\n",
            "  [[8 8 8 8 8]\n",
            "   [8 8 8 8 8]\n",
            "   [8 8 8 8 8]\n",
            "   [8 8 8 8 8]]]\n",
            "\n",
            "\n",
            " [[[8 8 8 8 8]\n",
            "   [8 8 8 8 8]\n",
            "   [8 8 8 8 8]\n",
            "   [8 8 8 8 8]]\n",
            "\n",
            "  [[8 8 8 8 8]\n",
            "   [8 8 8 8 8]\n",
            "   [8 8 8 8 8]\n",
            "   [8 8 8 8 8]]\n",
            "\n",
            "  [[8 8 8 8 8]\n",
            "   [8 8 8 8 8]\n",
            "   [8 8 8 8 8]\n",
            "   [8 8 8 8 8]]]]\n",
            "4\n",
            "(2, 3, 4, 5)\n",
            "\n",
            "\n",
            "[[[[8 8]\n",
            "   [8 8]\n",
            "   [8 8]]\n",
            "\n",
            "  [[8 8]\n",
            "   [8 8]\n",
            "   [8 8]]\n",
            "\n",
            "  [[8 8]\n",
            "   [8 8]\n",
            "   [8 8]]\n",
            "\n",
            "  [[8 8]\n",
            "   [8 8]\n",
            "   [8 8]]]\n",
            "\n",
            "\n",
            " [[[8 8]\n",
            "   [8 8]\n",
            "   [8 8]]\n",
            "\n",
            "  [[8 8]\n",
            "   [8 8]\n",
            "   [8 8]]\n",
            "\n",
            "  [[8 8]\n",
            "   [8 8]\n",
            "   [8 8]]\n",
            "\n",
            "  [[8 8]\n",
            "   [8 8]\n",
            "   [8 8]]]\n",
            "\n",
            "\n",
            " [[[8 8]\n",
            "   [8 8]\n",
            "   [8 8]]\n",
            "\n",
            "  [[8 8]\n",
            "   [8 8]\n",
            "   [8 8]]\n",
            "\n",
            "  [[8 8]\n",
            "   [8 8]\n",
            "   [8 8]]\n",
            "\n",
            "  [[8 8]\n",
            "   [8 8]\n",
            "   [8 8]]]\n",
            "\n",
            "\n",
            " [[[8 8]\n",
            "   [8 8]\n",
            "   [8 8]]\n",
            "\n",
            "  [[8 8]\n",
            "   [8 8]\n",
            "   [8 8]]\n",
            "\n",
            "  [[8 8]\n",
            "   [8 8]\n",
            "   [8 8]]\n",
            "\n",
            "  [[8 8]\n",
            "   [8 8]\n",
            "   [8 8]]]\n",
            "\n",
            "\n",
            " [[[8 8]\n",
            "   [8 8]\n",
            "   [8 8]]\n",
            "\n",
            "  [[8 8]\n",
            "   [8 8]\n",
            "   [8 8]]\n",
            "\n",
            "  [[8 8]\n",
            "   [8 8]\n",
            "   [8 8]]\n",
            "\n",
            "  [[8 8]\n",
            "   [8 8]\n",
            "   [8 8]]]]\n",
            "4\n",
            "(5, 4, 3, 2)\n"
          ]
        }
      ]
    },
    {
      "cell_type": "markdown",
      "source": [
        "**Swapping NumPy Arrays**"
      ],
      "metadata": {
        "id": "c9k5Ql-8Lp1g"
      }
    },
    {
      "cell_type": "markdown",
      "source": [
        "using index position"
      ],
      "metadata": {
        "id": "xYQU6w6nL0YO"
      }
    },
    {
      "cell_type": "code",
      "source": [
        "import numpy as np\n",
        "my_array= np.arange(12).reshape(4,3)\n",
        "print(\"original array :\")\n",
        "print(my_array)\n",
        "\n",
        "#swappimg the column with index of original array\n",
        "my_array[:,[0,2]]=my_array[:,[2,0]]\n",
        "print(\"After swapping arrays the last column and first column:\")\n",
        "print(my_array)"
      ],
      "metadata": {
        "colab": {
          "base_uri": "https://localhost:8080/"
        },
        "id": "D3nDluIvLw2g",
        "outputId": "3170111b-bf21-42ca-f140-345be4608597"
      },
      "execution_count": null,
      "outputs": [
        {
          "output_type": "stream",
          "name": "stdout",
          "text": [
            "original array :\n",
            "[[ 0  1  2]\n",
            " [ 3  4  5]\n",
            " [ 6  7  8]\n",
            " [ 9 10 11]]\n",
            "After swapping arrays the last column and first column:\n",
            "[[ 2  1  0]\n",
            " [ 5  4  3]\n",
            " [ 8  7  6]\n",
            " [11 10  9]]\n"
          ]
        }
      ]
    },
    {
      "cell_type": "markdown",
      "source": [
        "using swapaxes"
      ],
      "metadata": {
        "id": "g_sQ2iFDScHt"
      }
    },
    {
      "cell_type": "code",
      "source": [
        "a = np.array([[2,3,4]])\n",
        "print(a)\n",
        "print(\"\\n\")\n",
        "print(np.swapaxes(a,0,1)) # same as transpose"
      ],
      "metadata": {
        "colab": {
          "base_uri": "https://localhost:8080/"
        },
        "id": "kgfP7v8rShrb",
        "outputId": "1d32c25b-2448-4110-9d47-4e10ebfbcabb"
      },
      "execution_count": null,
      "outputs": [
        {
          "output_type": "stream",
          "name": "stdout",
          "text": [
            "[[2 3 4]]\n",
            "\n",
            "\n",
            "[[2]\n",
            " [3]\n",
            " [4]]\n"
          ]
        }
      ]
    },
    {
      "cell_type": "code",
      "source": [
        "x = np.array([[1,2,3],[20,30,40],[100,200,300]])\n",
        "print(x)\n",
        "print(\"\\n\")\n",
        "y=np.swapaxes(x,0,1)\n",
        "print(y)"
      ],
      "metadata": {
        "colab": {
          "base_uri": "https://localhost:8080/"
        },
        "id": "9MTloYjMTGl-",
        "outputId": "a7bf43c5-27d6-4336-c785-a15a647db890"
      },
      "execution_count": null,
      "outputs": [
        {
          "output_type": "stream",
          "name": "stdout",
          "text": [
            "[[  1   2   3]\n",
            " [ 20  30  40]\n",
            " [100 200 300]]\n",
            "\n",
            "\n",
            "[[  1  20 100]\n",
            " [  2  30 200]\n",
            " [  3  40 300]]\n"
          ]
        }
      ]
    },
    {
      "cell_type": "code",
      "source": [
        "x = np.array([[[1,2,3],[20,30,40]],[[5,55,555],[9,9,9]]])\n",
        "print(x)\n",
        "print(\"\\n\")\n",
        "z = np.swapaxes(x,0,2)\n",
        "print(z)"
      ],
      "metadata": {
        "colab": {
          "base_uri": "https://localhost:8080/"
        },
        "id": "aw3ozGMZTy1D",
        "outputId": "166e77c6-cbe1-43c5-e48a-d5d1ba4a7d1f"
      },
      "execution_count": null,
      "outputs": [
        {
          "output_type": "stream",
          "name": "stdout",
          "text": [
            "[[[  1   2   3]\n",
            "  [ 20  30  40]]\n",
            "\n",
            " [[  5  55 555]\n",
            "  [  9   9   9]]]\n",
            "\n",
            "\n",
            "[[[  1   5]\n",
            "  [ 20   9]]\n",
            "\n",
            " [[  2  55]\n",
            "  [ 30   9]]\n",
            "\n",
            " [[  3 555]\n",
            "  [ 40   9]]]\n"
          ]
        }
      ]
    },
    {
      "cell_type": "code",
      "source": [
        "# create a three dimensional array\n",
        "import numpy as np\n",
        "a = np.arange(16).reshape(2,2,2,2)\n",
        "print(a)\n",
        "print(\"\\n\")\n",
        "print(\"\\n\")\n",
        "# now swap numbers between axis 0 (along depth) and axis 2 (along width)\n",
        "print(np.swapaxes(a,0,0))\n",
        "print(\"\\n\")\n",
        "print(\"\\n\")\n",
        "print(np.swapaxes(a,0,1))\n",
        "print(\"\\n\")\n",
        "print(\"\\n\")\n",
        "print(np.swapaxes(a,0,2))\n",
        "print(\"\\n\")\n",
        "print(\"\\n\")\n",
        "print(np.swapaxes(a,0,3))\n",
        "print(\"\\n\")\n",
        "print(\"\\n\")"
      ],
      "metadata": {
        "colab": {
          "base_uri": "https://localhost:8080/"
        },
        "id": "8U2TsCNIUlk4",
        "outputId": "0c671d5e-24bc-4b4e-d6d8-c6f5f9c44ba5"
      },
      "execution_count": null,
      "outputs": [
        {
          "output_type": "stream",
          "name": "stdout",
          "text": [
            "[[[[ 0  1]\n",
            "   [ 2  3]]\n",
            "\n",
            "  [[ 4  5]\n",
            "   [ 6  7]]]\n",
            "\n",
            "\n",
            " [[[ 8  9]\n",
            "   [10 11]]\n",
            "\n",
            "  [[12 13]\n",
            "   [14 15]]]]\n",
            "\n",
            "\n",
            "\n",
            "\n",
            "[[[[ 0  1]\n",
            "   [ 2  3]]\n",
            "\n",
            "  [[ 4  5]\n",
            "   [ 6  7]]]\n",
            "\n",
            "\n",
            " [[[ 8  9]\n",
            "   [10 11]]\n",
            "\n",
            "  [[12 13]\n",
            "   [14 15]]]]\n",
            "\n",
            "\n",
            "\n",
            "\n",
            "[[[[ 0  1]\n",
            "   [ 2  3]]\n",
            "\n",
            "  [[ 8  9]\n",
            "   [10 11]]]\n",
            "\n",
            "\n",
            " [[[ 4  5]\n",
            "   [ 6  7]]\n",
            "\n",
            "  [[12 13]\n",
            "   [14 15]]]]\n",
            "\n",
            "\n",
            "\n",
            "\n",
            "[[[[ 0  1]\n",
            "   [ 8  9]]\n",
            "\n",
            "  [[ 4  5]\n",
            "   [12 13]]]\n",
            "\n",
            "\n",
            " [[[ 2  3]\n",
            "   [10 11]]\n",
            "\n",
            "  [[ 6  7]\n",
            "   [14 15]]]]\n",
            "\n",
            "\n",
            "\n",
            "\n",
            "[[[[ 0  8]\n",
            "   [ 2 10]]\n",
            "\n",
            "  [[ 4 12]\n",
            "   [ 6 14]]]\n",
            "\n",
            "\n",
            " [[[ 1  9]\n",
            "   [ 3 11]]\n",
            "\n",
            "  [[ 5 13]\n",
            "   [ 7 15]]]]\n",
            "\n",
            "\n",
            "\n",
            "\n"
          ]
        }
      ]
    },
    {
      "cell_type": "code",
      "source": [
        "a = np.array([[[1,2],[3,4]],[[5,6],[7,8]]])\n",
        "print(a)\n",
        "print(\"\\n\")\n",
        "print(np.swapaxes(a,0,1))\n",
        "print(\"\\n\")\n",
        "print(np.swapaxes(a,1,2))"
      ],
      "metadata": {
        "colab": {
          "base_uri": "https://localhost:8080/"
        },
        "id": "_sADXQTsWLnf",
        "outputId": "64b61831-64fd-4f65-b592-8943cddf9f56"
      },
      "execution_count": null,
      "outputs": [
        {
          "output_type": "stream",
          "name": "stdout",
          "text": [
            "[[[1 2]\n",
            "  [3 4]]\n",
            "\n",
            " [[5 6]\n",
            "  [7 8]]]\n",
            "\n",
            "\n",
            "[[[1 2]\n",
            "  [5 6]]\n",
            "\n",
            " [[3 4]\n",
            "  [7 8]]]\n",
            "\n",
            "\n",
            "[[[1 3]\n",
            "  [2 4]]\n",
            "\n",
            " [[5 7]\n",
            "  [6 8]]]\n"
          ]
        }
      ]
    },
    {
      "cell_type": "markdown",
      "source": [
        "**Universal Function\n",
        "  1- Arithematic function\n",
        "  2- Mathematical function\n",
        "  3- Statistical function\n",
        "  4- Set function\n",
        "  5- Fast element wise Array function**"
      ],
      "metadata": {
        "id": "kPqgqhxztI3t"
      }
    },
    {
      "cell_type": "markdown",
      "source": [
        "**1-Mathematical function**"
      ],
      "metadata": {
        "id": "QrRc0t4Vt5a8"
      }
    },
    {
      "cell_type": "markdown",
      "source": [
        "floor() function"
      ],
      "metadata": {
        "id": "itoORrW6uOA0"
      }
    },
    {
      "cell_type": "code",
      "source": [
        "import numpy as np\n",
        "arr = np.floor([-3.1666,3.6667])\n",
        "print(arr)"
      ],
      "metadata": {
        "colab": {
          "base_uri": "https://localhost:8080/"
        },
        "id": "W7cYkx3utyuz",
        "outputId": "33b8e8d1-451a-420a-e5e7-f9eb37d3e7c4"
      },
      "execution_count": null,
      "outputs": [
        {
          "output_type": "stream",
          "name": "stdout",
          "text": [
            "[-4.  3.]\n"
          ]
        }
      ]
    },
    {
      "cell_type": "markdown",
      "source": [
        "ceil() function"
      ],
      "metadata": {
        "id": "DtzPojrwuxV_"
      }
    },
    {
      "cell_type": "code",
      "source": [
        "import numpy as np\n",
        "arr = np.ceil([-3.1666,3.6667])\n",
        "print(arr)"
      ],
      "metadata": {
        "colab": {
          "base_uri": "https://localhost:8080/"
        },
        "id": "-gaJfBplulT-",
        "outputId": "392abe75-0ab2-436a-dfc2-47ff2dbc8435"
      },
      "execution_count": null,
      "outputs": [
        {
          "output_type": "stream",
          "name": "stdout",
          "text": [
            "[-3.  4.]\n"
          ]
        }
      ]
    },
    {
      "cell_type": "markdown",
      "source": [
        "log() function"
      ],
      "metadata": {
        "id": "8NmUVzuIu2Ue"
      }
    },
    {
      "cell_type": "code",
      "source": [
        "import numpy as np\n",
        "arr = np.arange(1,10)\n",
        "print(np.log(arr ))"
      ],
      "metadata": {
        "colab": {
          "base_uri": "https://localhost:8080/"
        },
        "id": "p0BlfSGyut_3",
        "outputId": "cdd97df1-d7a4-400a-da55-d841590c5717"
      },
      "execution_count": null,
      "outputs": [
        {
          "output_type": "stream",
          "name": "stdout",
          "text": [
            "[0.         0.69314718 1.09861229 1.38629436 1.60943791 1.79175947\n",
            " 1.94591015 2.07944154 2.19722458]\n"
          ]
        }
      ]
    },
    {
      "cell_type": "markdown",
      "source": [
        "cumsum() function"
      ],
      "metadata": {
        "id": "IM81FKKlvLKP"
      }
    },
    {
      "cell_type": "code",
      "source": [
        "import numpy as np\n",
        "arr = np.array([1,2,3])\n",
        "newarr = np.cumsum(arr)\n",
        "print(newarr)"
      ],
      "metadata": {
        "colab": {
          "base_uri": "https://localhost:8080/"
        },
        "id": "PXkIavP2vWR_",
        "outputId": "63a063b3-502f-49f2-9c82-a41cbfbb2ca8"
      },
      "execution_count": null,
      "outputs": [
        {
          "output_type": "stream",
          "name": "stdout",
          "text": [
            "[1 3 6]\n"
          ]
        }
      ]
    },
    {
      "cell_type": "markdown",
      "source": [
        "cumprod() function"
      ],
      "metadata": {
        "id": "mhpohmv0vkxU"
      }
    },
    {
      "cell_type": "code",
      "source": [
        "import numpy as np\n",
        "arr = np.array([5,6,7,8])\n",
        "newarr = np.cumprod(arr)\n",
        "print(newarr)"
      ],
      "metadata": {
        "colab": {
          "base_uri": "https://localhost:8080/"
        },
        "id": "WEKE5TxxvpDU",
        "outputId": "7db5b529-b625-43d6-bb15-bb84018f2a62"
      },
      "execution_count": null,
      "outputs": [
        {
          "output_type": "stream",
          "name": "stdout",
          "text": [
            "[   5   30  210 1680]\n"
          ]
        }
      ]
    },
    {
      "cell_type": "markdown",
      "source": [
        "lcm() function"
      ],
      "metadata": {
        "id": "ARk6TNWKv79k"
      }
    },
    {
      "cell_type": "code",
      "source": [
        "import numpy as np\n",
        "num1 = 4\n",
        "num2 = 6\n",
        "x = np.lcm(num1,num2)\n",
        "print(x)"
      ],
      "metadata": {
        "colab": {
          "base_uri": "https://localhost:8080/"
        },
        "id": "v7CR2Xflv_Si",
        "outputId": "b0b632a4-f8f3-445c-c577-546ee1dbe6d2"
      },
      "execution_count": null,
      "outputs": [
        {
          "output_type": "stream",
          "name": "stdout",
          "text": [
            "12\n"
          ]
        }
      ]
    },
    {
      "cell_type": "markdown",
      "source": [
        "gcd() function"
      ],
      "metadata": {
        "id": "1qOOqg2ZwNk_"
      }
    },
    {
      "cell_type": "code",
      "source": [
        "import numpy as np\n",
        "num1 = 6\n",
        "num2 = 9\n",
        "x = np.gcd(num1,num2)\n",
        "print(x)"
      ],
      "metadata": {
        "colab": {
          "base_uri": "https://localhost:8080/"
        },
        "id": "LneAOpzqwRHq",
        "outputId": "6df52720-9bac-4e4d-ccba-536cea3f543d"
      },
      "execution_count": null,
      "outputs": [
        {
          "output_type": "stream",
          "name": "stdout",
          "text": [
            "3\n"
          ]
        }
      ]
    },
    {
      "cell_type": "markdown",
      "source": [
        "reciprocal() function"
      ],
      "metadata": {
        "id": "Q0hO8mlywbjX"
      }
    },
    {
      "cell_type": "code",
      "source": [
        "import numpy as np\n",
        "print(np.reciprocal([1,2.,3.33]))"
      ],
      "metadata": {
        "colab": {
          "base_uri": "https://localhost:8080/"
        },
        "id": "eAaOuC3NwfS8",
        "outputId": "44f645fa-47a6-4d48-82d6-847fb81d303b"
      },
      "execution_count": null,
      "outputs": [
        {
          "output_type": "stream",
          "name": "stdout",
          "text": [
            "[1.        0.5       0.3003003]\n"
          ]
        }
      ]
    },
    {
      "cell_type": "markdown",
      "source": [
        "**2-Statistical function**"
      ],
      "metadata": {
        "id": "z0TAOouawxAF"
      }
    },
    {
      "cell_type": "markdown",
      "source": [
        "The statistical function is amin , amax , mean , std , var , average , percentile(a,p,axis)"
      ],
      "metadata": {
        "id": "nXbNg2jCxCN5"
      }
    },
    {
      "cell_type": "code",
      "source": [
        "import numpy as np\n",
        "weight = np.array([50.7,52.5,50,58,55.63,73.25,49.5,45])\n",
        "\n",
        "# minimum and maximum\n",
        "print('minimum and maximum weight of students:')\n",
        "print(np.amin(weight),np.amax(weight))\n",
        "\n",
        "# percentile\n",
        "print('weight below which 70% students fall:')\n",
        "print(np.percentile(weight,70))\n",
        "\n",
        "# mean\n",
        "print('mean weight of the students:')\n",
        "print(np.mean(weight))\n",
        "\n",
        "# median\n",
        "print('median weight of the students:')\n",
        "print(np.median(weight))\n",
        "\n",
        "# standard deviation\n",
        "print('standart deviation weight of the students:')\n",
        "print(np.std(weight))\n",
        "\n",
        "# variance\n",
        "print('variance weight of the students:')\n",
        "print(np.var(weight))\n",
        "\n",
        "# average\n",
        "print('average weight of the students:')\n",
        "print(np.average(weight))"
      ],
      "metadata": {
        "colab": {
          "base_uri": "https://localhost:8080/"
        },
        "id": "XdKJBv3Xw2W6",
        "outputId": "682870fa-5ba0-494e-9a10-ffc422cf7c87"
      },
      "execution_count": null,
      "outputs": [
        {
          "output_type": "stream",
          "name": "stdout",
          "text": [
            "minimum and maximum weight of students:\n",
            "45.0 73.25\n",
            "weight below which 70% students fall:\n",
            "55.317\n",
            "mean weight of the students:\n",
            "54.3225\n",
            "median weight of the students:\n",
            "51.6\n",
            "standart deviation weight of the students:\n",
            "8.052773978574091\n",
            "variance weight of the students:\n",
            "64.84716875\n",
            "average weight of the students:\n",
            "54.3225\n"
          ]
        }
      ]
    },
    {
      "cell_type": "markdown",
      "source": [
        "**3-Set function**"
      ],
      "metadata": {
        "id": "y9-zAD_Ez-hZ"
      }
    },
    {
      "cell_type": "markdown",
      "source": [
        "unique() function"
      ],
      "metadata": {
        "id": "1LrqyiN70R91"
      }
    },
    {
      "cell_type": "code",
      "source": [
        "arr = np.array([1,1,1,2,3,4,5,5,6,7])\n",
        "x=np.unique(arr)\n",
        "print(x)"
      ],
      "metadata": {
        "colab": {
          "base_uri": "https://localhost:8080/"
        },
        "id": "Hf9kL0vf0DEw",
        "outputId": "8c23736d-94cd-4723-be58-2d9345b0b205"
      },
      "execution_count": null,
      "outputs": [
        {
          "output_type": "stream",
          "name": "stdout",
          "text": [
            "[1 2 3 4 5 6 7]\n"
          ]
        }
      ]
    },
    {
      "cell_type": "markdown",
      "source": [
        "union1d() function"
      ],
      "metadata": {
        "id": "BmOyxcjm0j8x"
      }
    },
    {
      "cell_type": "code",
      "source": [
        "arr1 = np.array([[1,2,3,4],[11,22,23,44]])\n",
        "arr2 = np.array([[11,22,23,4],[1,2,3,44]])\n",
        "print(arr1)\n",
        "newarr = np.union1d(arr1,arr2)\n",
        "print(newarr)"
      ],
      "metadata": {
        "colab": {
          "base_uri": "https://localhost:8080/"
        },
        "id": "ZRWqSAyb0nTo",
        "outputId": "488911a6-6b12-4c26-9e98-f2364fb72505"
      },
      "execution_count": null,
      "outputs": [
        {
          "output_type": "stream",
          "name": "stdout",
          "text": [
            "[[ 1  2  3  4]\n",
            " [11 22 23 44]]\n",
            "[ 1  2  3  4 11 22 23 44]\n"
          ]
        }
      ]
    },
    {
      "cell_type": "markdown",
      "source": [
        "intersect1d() function"
      ],
      "metadata": {
        "id": "dXultm-b1F8A"
      }
    },
    {
      "cell_type": "code",
      "source": [
        "arr1 = np.array([1,2,3,4])\n",
        "arr2 = np.array([3,4,5,6])\n",
        "print(arr1)\n",
        "newarr = np.intersect1d(arr1,arr2,assume_unique=True)\n",
        "print(newarr)"
      ],
      "metadata": {
        "colab": {
          "base_uri": "https://localhost:8080/"
        },
        "id": "wfjCefk71Jxl",
        "outputId": "39f76567-ff70-4b5c-97fa-825ba4035bd0"
      },
      "execution_count": null,
      "outputs": [
        {
          "output_type": "stream",
          "name": "stdout",
          "text": [
            "[1 2 3 4]\n",
            "[3 4]\n"
          ]
        }
      ]
    },
    {
      "cell_type": "markdown",
      "source": [
        "setdiff1d() function"
      ],
      "metadata": {
        "id": "F6UH5FG51lHi"
      }
    },
    {
      "cell_type": "code",
      "source": [
        "arr1 = np.array([[1,2,3,4],[11,22,23,44]])\n",
        "arr2 = np.array([[11,22,23,4],[1,2,3,44]])\n",
        "print(arr1)\n",
        "newarr = np.setdiff1d(arr1,arr2,assume_unique=True)\n",
        "print(newarr)"
      ],
      "metadata": {
        "colab": {
          "base_uri": "https://localhost:8080/"
        },
        "id": "cbAkpUJE1pRY",
        "outputId": "b9ef738f-f612-4cd2-a925-a56e72c470bf"
      },
      "execution_count": null,
      "outputs": [
        {
          "output_type": "stream",
          "name": "stdout",
          "text": [
            "[[ 1  2  3  4]\n",
            " [11 22 23 44]]\n",
            "[]\n"
          ]
        }
      ]
    },
    {
      "cell_type": "markdown",
      "source": [
        "setxor1d() function"
      ],
      "metadata": {
        "id": "LZ3zSMBn17fc"
      }
    },
    {
      "cell_type": "code",
      "source": [
        "set1 = np.array([1,2,3,4])\n",
        "set2 = np.array([3,4,5,6])\n",
        "print(arr1)\n",
        "newarr = np.setxor1d(set1,set2,assume_unique=True)\n",
        "print(newarr)"
      ],
      "metadata": {
        "colab": {
          "base_uri": "https://localhost:8080/"
        },
        "id": "9qDzwwSl16g9",
        "outputId": "49d9f36d-23fc-4ad6-d8d8-35b9fd75a3f3"
      },
      "execution_count": null,
      "outputs": [
        {
          "output_type": "stream",
          "name": "stdout",
          "text": [
            "[[ 1  2  3  4]\n",
            " [11 22 23 44]]\n",
            "[1 2 5 6]\n"
          ]
        }
      ]
    },
    {
      "cell_type": "markdown",
      "source": [
        "**5-Fast element-wise Array Function**"
      ],
      "metadata": {
        "id": "j7cq-qDb2UKD"
      }
    },
    {
      "cell_type": "markdown",
      "source": [
        "Bitwise function that is and , or , xor , invert , left shift , right shift "
      ],
      "metadata": {
        "id": "K0LHXA2c21SS"
      }
    },
    {
      "cell_type": "code",
      "source": [
        "import numpy as np\n",
        "even = np.array([0,2,4,6,8,16,32])\n",
        "odd = np.array([1,3,5,7,9,17,33])\n",
        "\n",
        "# bitwise_and\n",
        "print('bitwise_and of two arrays:')\n",
        "print(np.bitwise_and(even,odd))\n",
        "\n",
        "# bitwise_or\n",
        "print('bitwise_or of two arrays:')\n",
        "print(np.bitwise_or(even,odd))\n",
        "\n",
        "# bitwise_xor\n",
        "print('bitwise_xor of two arrays:')\n",
        "print(np.bitwise_xor(even,odd))\n",
        "\n",
        "# invert or not\n",
        "print('inversion pf even no. array:')\n",
        "print(np.invert(even))\n",
        "\n",
        "a = np.array([1])\n",
        "\n",
        "# left_shift\n",
        "print('left_shift of array:')\n",
        "print(np.left_shift(a,3))\n",
        "\n",
        "# right shift\n",
        "print('right_shift of array:')\n",
        "print(np.right_shift(a,0))"
      ],
      "metadata": {
        "id": "13cRhwJN2etj",
        "colab": {
          "base_uri": "https://localhost:8080/"
        },
        "outputId": "2fc3b17e-141b-4e1d-fe98-379a9e26d1ba"
      },
      "execution_count": null,
      "outputs": [
        {
          "output_type": "stream",
          "name": "stdout",
          "text": [
            "bitwise_and of two arrays:\n",
            "[ 0  2  4  6  8 16 32]\n",
            "bitwise_or of two arrays:\n",
            "[ 1  3  5  7  9 17 33]\n",
            "bitwise_xor of two arrays:\n",
            "[1 1 1 1 1 1 1]\n",
            "inversion pf even no. array:\n",
            "[ -1  -3  -5  -7  -9 -17 -33]\n",
            "left_shift of array:\n",
            "[8]\n",
            "right_shift of array:\n",
            "[1]\n"
          ]
        }
      ]
    },
    {
      "cell_type": "markdown",
      "source": [
        "Comparison Function that is '>' , '>=' , '<' , '<=' , '!=' , '=='"
      ],
      "metadata": {
        "id": "t5h2JYt7IgMI"
      }
    },
    {
      "cell_type": "code",
      "source": [
        "import numpy as np\n",
        "\n",
        "a = np.array([1,2,3,4,5,6,7,8,9,10])\n",
        "b= np.array([12,32,56,4,3,8,23,9,18,1])\n",
        "\n",
        "print(a>b)\n",
        "print(\"\\n\")\n",
        "print(a>=b)\n",
        "print(\"\\n\")\n",
        "print(a<b)\n",
        "print(\"\\n\")\n",
        "print(a<=b)\n",
        "print(\"\\n\")\n",
        "print(a!=b)\n",
        "print(\"\\n\")\n",
        "print(a==b)"
      ],
      "metadata": {
        "colab": {
          "base_uri": "https://localhost:8080/"
        },
        "id": "BqeIdQFfI8Dc",
        "outputId": "e03aac68-268a-4159-f2ee-144acd44b237"
      },
      "execution_count": null,
      "outputs": [
        {
          "output_type": "stream",
          "name": "stdout",
          "text": [
            "[False False False False  True False False False False  True]\n",
            "\n",
            "\n",
            "[False False False  True  True False False False False  True]\n",
            "\n",
            "\n",
            "[ True  True  True False False  True  True  True  True False]\n",
            "\n",
            "\n",
            "[ True  True  True  True False  True  True  True  True False]\n",
            "\n",
            "\n",
            "[ True  True  True False  True  True  True  True  True  True]\n",
            "\n",
            "\n",
            "[False False False  True False False False False False False]\n"
          ]
        }
      ]
    },
    {
      "cell_type": "markdown",
      "source": [
        "Logical Function that is logical_and , logical_or , logical_xor , logical_not"
      ],
      "metadata": {
        "id": "wx0Zycp2Juy2"
      }
    },
    {
      "cell_type": "code",
      "source": [
        "import numpy as np\n",
        "# logical_and\n",
        "x = np.arange(15)\n",
        "print(x)\n",
        "print(\"\\n\")\n",
        "\n",
        "np.logical_and(x>1,x<4)"
      ],
      "metadata": {
        "colab": {
          "base_uri": "https://localhost:8080/"
        },
        "id": "rr_vY_e7KBIZ",
        "outputId": "acfac8d6-72bd-4098-8145-6d2c5d74116e"
      },
      "execution_count": null,
      "outputs": [
        {
          "output_type": "stream",
          "name": "stdout",
          "text": [
            "[ 0  1  2  3  4  5  6  7  8  9 10 11 12 13 14]\n",
            "\n",
            "\n"
          ]
        },
        {
          "output_type": "execute_result",
          "data": {
            "text/plain": [
              "array([False, False,  True,  True, False, False, False, False, False,\n",
              "       False, False, False, False, False, False])"
            ]
          },
          "metadata": {},
          "execution_count": 4
        }
      ]
    },
    {
      "cell_type": "code",
      "source": [
        "import numpy as np\n",
        "# logical_or\n",
        "x = np.arange(15)\n",
        "print(x)\n",
        "print(\"\\n\")\n",
        "\n",
        "np.logical_or(x>1,x<4)"
      ],
      "metadata": {
        "colab": {
          "base_uri": "https://localhost:8080/"
        },
        "id": "N5epJd7sKz2P",
        "outputId": "57ce7173-f2e0-485b-eb72-5106e8fcb961"
      },
      "execution_count": null,
      "outputs": [
        {
          "output_type": "stream",
          "name": "stdout",
          "text": [
            "[ 0  1  2  3  4  5  6  7  8  9 10 11 12 13 14]\n",
            "\n",
            "\n"
          ]
        },
        {
          "output_type": "execute_result",
          "data": {
            "text/plain": [
              "array([ True,  True,  True,  True,  True,  True,  True,  True,  True,\n",
              "        True,  True,  True,  True,  True,  True])"
            ]
          },
          "metadata": {},
          "execution_count": 5
        }
      ]
    },
    {
      "cell_type": "code",
      "source": [
        "import numpy as np\n",
        "# logical_xor\n",
        "x = np.arange(15)\n",
        "print(x)\n",
        "print(\"\\n\")\n",
        "\n",
        "np.logical_xor(x>1,x<4)"
      ],
      "metadata": {
        "colab": {
          "base_uri": "https://localhost:8080/"
        },
        "id": "xs9YJKurK6jr",
        "outputId": "06284c5e-c47d-4b28-d784-b746ebec0c53"
      },
      "execution_count": null,
      "outputs": [
        {
          "output_type": "stream",
          "name": "stdout",
          "text": [
            "[ 0  1  2  3  4  5  6  7  8  9 10 11 12 13 14]\n",
            "\n",
            "\n"
          ]
        },
        {
          "output_type": "execute_result",
          "data": {
            "text/plain": [
              "array([ True,  True, False, False,  True,  True,  True,  True,  True,\n",
              "        True,  True,  True,  True,  True,  True])"
            ]
          },
          "metadata": {},
          "execution_count": 6
        }
      ]
    },
    {
      "cell_type": "code",
      "source": [
        "import numpy as np\n",
        "# logical_not\n",
        "x = np.arange(15)\n",
        "print(x)\n",
        "print(\"\\n\")\n",
        "\n",
        "np.logical_not(x>1,x<4)"
      ],
      "metadata": {
        "colab": {
          "base_uri": "https://localhost:8080/"
        },
        "id": "bQyNGO58LC8E",
        "outputId": "219436b9-960a-4d41-c368-bba3c726c66e"
      },
      "execution_count": null,
      "outputs": [
        {
          "output_type": "stream",
          "name": "stdout",
          "text": [
            "[ 0  1  2  3  4  5  6  7  8  9 10 11 12 13 14]\n",
            "\n",
            "\n"
          ]
        },
        {
          "output_type": "execute_result",
          "data": {
            "text/plain": [
              "array([ True,  True, False, False, False, False, False, False, False,\n",
              "       False, False, False, False, False, False])"
            ]
          },
          "metadata": {},
          "execution_count": 7
        }
      ]
    },
    {
      "cell_type": "markdown",
      "source": [
        "**NumPy Sorting**"
      ],
      "metadata": {
        "id": "7ry8-iI11CM0"
      }
    },
    {
      "cell_type": "markdown",
      "source": [
        "Sorting 1-D numpy array (Ascending Order)"
      ],
      "metadata": {
        "id": "DaKEf2N-1JUb"
      }
    },
    {
      "cell_type": "code",
      "source": [
        "import numpy as np\n",
        "a = np.array([32,4,8,12,20])\n",
        "print('Original array is',a)\n",
        "print('Sorted array is',np.sort(a))"
      ],
      "metadata": {
        "colab": {
          "base_uri": "https://localhost:8080/"
        },
        "id": "XfHq5R_a1Gyr",
        "outputId": "f1e59862-d0e5-4649-c828-bf26ad8b1c44"
      },
      "execution_count": null,
      "outputs": [
        {
          "output_type": "stream",
          "name": "stdout",
          "text": [
            "Original array is [32  4  8 12 20]\n",
            "Sorted array is [ 4  8 12 20 32]\n"
          ]
        }
      ]
    },
    {
      "cell_type": "code",
      "source": [
        "a = np.array(['b','a','h','e','k'])\n",
        "sorted_array = (np.sort(a))\n",
        "print(sorted_array)"
      ],
      "metadata": {
        "colab": {
          "base_uri": "https://localhost:8080/"
        },
        "id": "nJT6xaZH14Rf",
        "outputId": "2eaea5a1-68d7-4898-9aa1-e6d26f91489f"
      },
      "execution_count": null,
      "outputs": [
        {
          "output_type": "stream",
          "name": "stdout",
          "text": [
            "['a' 'b' 'e' 'h' 'k']\n"
          ]
        }
      ]
    },
    {
      "cell_type": "code",
      "source": [
        "a = np.array(['John','Micheal','George'])\n",
        "sorted_array = (np.sort(a))\n",
        "print(sorted_array)"
      ],
      "metadata": {
        "colab": {
          "base_uri": "https://localhost:8080/"
        },
        "id": "TkcufL432RbD",
        "outputId": "5e2f1ffa-5b55-4862-a92a-33e116bb346f"
      },
      "execution_count": null,
      "outputs": [
        {
          "output_type": "stream",
          "name": "stdout",
          "text": [
            "['George' 'John' 'Micheal']\n"
          ]
        }
      ]
    },
    {
      "cell_type": "markdown",
      "source": [
        "sort 1-D numpy array (Descending order)"
      ],
      "metadata": {
        "id": "en1Sgtpe2yNt"
      }
    },
    {
      "cell_type": "code",
      "source": [
        "array = np.array([5,8,6,12])\n",
        "array[::-1].sort()\n",
        "print(array)"
      ],
      "metadata": {
        "colab": {
          "base_uri": "https://localhost:8080/"
        },
        "id": "OIuFAh2927md",
        "outputId": "9145846d-93b6-40b2-fd4d-2bf22997ab50"
      },
      "execution_count": null,
      "outputs": [
        {
          "output_type": "stream",
          "name": "stdout",
          "text": [
            "[12  8  6  5]\n"
          ]
        }
      ]
    },
    {
      "cell_type": "markdown",
      "source": [
        "Sorting 2-D NumPy Array"
      ],
      "metadata": {
        "id": "IYovtTHk3PN2"
      }
    },
    {
      "cell_type": "code",
      "source": [
        "import numpy as np\n",
        "a = np.array([[32,4,8,12,30],[35,5,15,10,20]])\n",
        "print(\"Sorted array when axis is None\\n\",np.sort(a,axis=None))\n",
        "print(\"\\n\")\n",
        "print(\"Sorted array when axis is 0\\n\",np.sort(a,axis=0))\n",
        "print(\"\\n\")\n",
        "print(\"Sorted array when axis is 1\\n\",np.sort(a,axis=1))"
      ],
      "metadata": {
        "colab": {
          "base_uri": "https://localhost:8080/"
        },
        "id": "K1rsViWY3UAI",
        "outputId": "fd1ccdee-7c21-478f-903c-69c0b315cea0"
      },
      "execution_count": null,
      "outputs": [
        {
          "output_type": "stream",
          "name": "stdout",
          "text": [
            "Sorted array when axis is None\n",
            " [ 4  5  8 10 12 15 20 30 32 35]\n",
            "\n",
            "\n",
            "Sorted array when axis is 0\n",
            " [[32  4  8 10 20]\n",
            " [35  5 15 12 30]]\n",
            "\n",
            "\n",
            "Sorted array when axis is 1\n",
            " [[ 4  8 12 30 32]\n",
            " [ 5 10 15 20 35]]\n"
          ]
        }
      ]
    },
    {
      "cell_type": "markdown",
      "source": [
        "Sorting NumPy 3-D Array"
      ],
      "metadata": {
        "id": "jFjLJRas46C4"
      }
    },
    {
      "cell_type": "code",
      "source": [
        "import numpy as np\n",
        "\n",
        "arr = np.array([[[12,15,7],[13,5,11]],[[8,6,10],[45,54,70]]])\n",
        "print(\"array:\\n\",arr)\n",
        "\n",
        "arr2 = np.sort(arr)\n",
        "print(\"sorted array:\\n\",arr2)\n",
        "\n",
        "arr2 = np.sort(arr,axis=-1)\n",
        "print(\"Sorted array along axis=-1:\\n\",arr2)           "
      ],
      "metadata": {
        "colab": {
          "base_uri": "https://localhost:8080/"
        },
        "id": "7T-EO_wX5AzI",
        "outputId": "8b3d72ca-b308-4c91-8ebf-3041f947e92f"
      },
      "execution_count": null,
      "outputs": [
        {
          "output_type": "stream",
          "name": "stdout",
          "text": [
            "array:\n",
            " [[[12 15  7]\n",
            "  [13  5 11]]\n",
            "\n",
            " [[ 8  6 10]\n",
            "  [45 54 70]]]\n",
            "sorted array:\n",
            " [[[ 7 12 15]\n",
            "  [ 5 11 13]]\n",
            "\n",
            " [[ 6  8 10]\n",
            "  [45 54 70]]]\n",
            "Sorted array along axis=-1:\n",
            " [[[ 7 12 15]\n",
            "  [ 5 11 13]]\n",
            "\n",
            " [[ 6  8 10]\n",
            "  [45 54 70]]]\n"
          ]
        }
      ]
    },
    {
      "cell_type": "markdown",
      "source": [
        "Multidimensional numpy array sorting along specific axis"
      ],
      "metadata": {
        "id": "_VTLv7336Ghq"
      }
    },
    {
      "cell_type": "code",
      "source": [
        "# along axis None \n",
        "\n",
        "arr = np.array([[12,15,7],[13,5,11],[8,6,10],[45,54,70]])\n",
        "arr2 = np.sort(arr,axis=None)\n",
        "print(\"Sorted array:\\n\",arr2)"
      ],
      "metadata": {
        "colab": {
          "base_uri": "https://localhost:8080/"
        },
        "id": "Xpel_JxN6RFu",
        "outputId": "2fee81ab-7f20-4dab-ab62-954681a4a3e0"
      },
      "execution_count": null,
      "outputs": [
        {
          "output_type": "stream",
          "name": "stdout",
          "text": [
            "Sorted array:\n",
            " [ 5  6  7  8 10 11 12 13 15 45 54 70]\n"
          ]
        }
      ]
    },
    {
      "cell_type": "code",
      "source": [
        "# along axis=0\n",
        "\n",
        "arr2 = np.sort(arr,axis=0)\n",
        "print(\"Sorted array:\\n\",arr2)"
      ],
      "metadata": {
        "colab": {
          "base_uri": "https://localhost:8080/"
        },
        "id": "lJ_uux4I64fd",
        "outputId": "35b83aca-5251-495b-906e-05369951e55e"
      },
      "execution_count": null,
      "outputs": [
        {
          "output_type": "stream",
          "name": "stdout",
          "text": [
            "Sorted array:\n",
            " [[ 8  5  7]\n",
            " [12  6 10]\n",
            " [13 15 11]\n",
            " [45 54 70]]\n"
          ]
        }
      ]
    },
    {
      "cell_type": "code",
      "source": [
        "# along axis = 1\n",
        "\n",
        "arr = np.array([[12,15,7],[13,5,11],[8,6,10],[45,54,70]])\n",
        "arr2 = np.sort(arr,axis = 1)\n",
        "print(\"Sorted array:\\n\",arr2)"
      ],
      "metadata": {
        "colab": {
          "base_uri": "https://localhost:8080/"
        },
        "id": "hZ0sDKMc7c8q",
        "outputId": "9720d204-fd13-4e10-d3fb-3e9d94a22966"
      },
      "execution_count": null,
      "outputs": [
        {
          "output_type": "stream",
          "name": "stdout",
          "text": [
            "Sorted array:\n",
            " [[ 7 12 15]\n",
            " [ 5 11 13]\n",
            " [ 6  8 10]\n",
            " [45 54 70]]\n"
          ]
        }
      ]
    },
    {
      "cell_type": "markdown",
      "source": [
        "Apply Sorting Algorithms"
      ],
      "metadata": {
        "id": "Jv6X7cLQ8Gtx"
      }
    },
    {
      "cell_type": "code",
      "source": [
        "arr = np.array([2,1,4,3,5])\n",
        "\n",
        "# selection sort\n",
        "b = np.sort(arr,kind='selectionsort')\n",
        "print(b)\n",
        "print(\"\\n\")\n",
        "\n",
        "# quick sort\n",
        "e = np.sort(arr,kind='quicksort')\n",
        "print(e)\n",
        "print(\"\\n\")\n",
        "\n",
        "# heap sort\n",
        "f = np.sort(arr,kind='heapsort')\n",
        "print(f)\n",
        "print(\"\\n\")\n",
        "\n",
        "# merge sort\n",
        "g = np.sort(arr,kind='mergesort')\n",
        "print(g)\n",
        "print(\"\\n\")"
      ],
      "metadata": {
        "colab": {
          "base_uri": "https://localhost:8080/"
        },
        "id": "9TKGbJ668PYA",
        "outputId": "f9b34b64-80a9-4cde-a9b1-3f9602bd3bfe"
      },
      "execution_count": null,
      "outputs": [
        {
          "output_type": "stream",
          "name": "stdout",
          "text": [
            "[1 2 3 4 5]\n",
            "\n",
            "\n",
            "[1 2 3 4 5]\n",
            "\n",
            "\n",
            "[1 2 3 4 5]\n",
            "\n",
            "\n",
            "[1 2 3 4 5]\n",
            "\n",
            "\n"
          ]
        }
      ]
    }
  ],
  "metadata": {
    "colab": {
      "provenance": [],
      "authorship_tag": "ABX9TyO+/ISE/jhF43KU4vgPN9Fm",
      "include_colab_link": true
    },
    "kernelspec": {
      "display_name": "Python 3",
      "name": "python3"
    },
    "language_info": {
      "name": "python"
    }
  },
  "nbformat": 4,
  "nbformat_minor": 0
}